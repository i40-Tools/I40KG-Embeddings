{
 "cells": [
  {
   "cell_type": "code",
   "execution_count": 1,
   "metadata": {},
   "outputs": [],
   "source": [
    "from rdflib import Graph\n",
    "from SPARQLWrapper import SPARQLWrapper, JSON"
   ]
  },
  {
   "cell_type": "code",
   "execution_count": 2,
   "metadata": {},
   "outputs": [
    {
     "name": "stderr",
     "output_type": "stream",
     "text": [
      "/usr/local/lib/python3.6/dist-packages/rdflib/plugins/serializers/nt.py:29: UserWarning: NTSerializer does not use custom encoding.\n",
      "  warnings.warn(\"NTSerializer does not use custom encoding.\")\n"
     ]
    }
   ],
   "source": [
    "input_path = 'sto/transitive_closure/'\n",
    "g = Graph()\n",
    "g.parse(\"sto/sto-enriched-relatedTo.nt\", format=\"nt\")\n",
    "qsim = g.query(\n",
    "    \"\"\"PREFIX rdf: <http://www.w3.org/1999/02/22-rdf-syntax-ns#>\n",
    "       PREFIX sto: <https://w3id.org/i40/sto#>\n",
    "        CONSTRUCT { ?s sto:relatedTo ?o }\n",
    "            where {\n",
    "                ?s a sto:Standard .\n",
    "                ?s sto:relatedTo ?o\n",
    "            }\"\"\")\n",
    "qsim.serialize(destination=input_path + 'sto_enriched.nt', format='nt')"
   ]
  },
  {
   "cell_type": "code",
   "execution_count": null,
   "metadata": {},
   "outputs": [
    {
     "name": "stdout",
     "output_type": "stream",
     "text": [
      "1\n"
     ]
    }
   ],
   "source": [
    "input_path = 'sto/transitive_closure/'\n",
    "count=0\n",
    "while (True):\n",
    "    g1 = Graph()\n",
    "    g1.parse(input_path+\"sto_enriched.nt\", format=\"nt\")\n",
    "    qsim = g1.query(\n",
    "        \"\"\"PREFIX rdf: <http://www.w3.org/1999/02/22-rdf-syntax-ns#>\n",
    "           PREFIX sto: <https://w3id.org/i40/sto#>\n",
    "\n",
    "            CONSTRUCT { ?o sto:relatedTo ?s }\n",
    "                WHERE {\n",
    "                    ?s sto:relatedTo ?o \n",
    "                }\"\"\")\n",
    "    qsim.serialize(destination=input_path + 'simetry.nt', format='nt')\n",
    "    #=== Merging graphs g1 plus the new simetry computed ===\n",
    "    g2 = Graph()\n",
    "    g2.parse(input_path+\"simetry.nt\", format=\"nt\")\n",
    "    simetry = g1 + g2\n",
    "    simetry.serialize(destination=input_path + 'simetry.nt', format='nt')\n",
    "    \n",
    "    qtrans = simetry.query(\n",
    "        \"\"\"PREFIX rdf: <http://www.w3.org/1999/02/22-rdf-syntax-ns#>\n",
    "           PREFIX sto: <https://w3id.org/i40/sto#>\n",
    "\n",
    "            CONSTRUCT { ?s sto:relatedTo ?o }\n",
    "                WHERE {\n",
    "                    ?s sto:relatedTo+ ?o \n",
    "                }\"\"\")\n",
    "\n",
    "    qtrans.serialize(destination=input_path + 'transitive.nt', format='nt')\n",
    "    #=== Merging graphs simetry plus the new transitive computed ===\n",
    "    g3 = Graph()\n",
    "    g3.parse(input_path+\"transitive.nt\", format=\"nt\")\n",
    "    transitive = simetry + g3\n",
    "    transitive.serialize(destination=input_path + 'transitive.nt', format='nt')\n",
    "\n",
    "    if len(g1) == len(transitive):\n",
    "        break\n",
    "    transitive.serialize(destination=input_path + 'sto_enriched.nt', format='nt')\n",
    "    count+=1\n",
    "    print(count)"
   ]
  },
  {
   "cell_type": "code",
   "execution_count": null,
   "metadata": {},
   "outputs": [],
   "source": [
    "print(count)"
   ]
  }
 ],
 "metadata": {
  "kernelspec": {
   "display_name": "Python 3",
   "language": "python",
   "name": "python3"
  },
  "language_info": {
   "codemirror_mode": {
    "name": "ipython",
    "version": 3
   },
   "file_extension": ".py",
   "mimetype": "text/x-python",
   "name": "python",
   "nbconvert_exporter": "python",
   "pygments_lexer": "ipython3",
   "version": "3.6.8"
  }
 },
 "nbformat": 4,
 "nbformat_minor": 2
}
