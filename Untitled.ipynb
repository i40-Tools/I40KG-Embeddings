{
 "cells": [
  {
   "cell_type": "code",
   "execution_count": 1,
   "metadata": {},
   "outputs": [],
   "source": [
    "import numpy as np\n",
    "import pandas as pd"
   ]
  },
  {
   "cell_type": "code",
   "execution_count": 172,
   "metadata": {},
   "outputs": [
    {
     "data": {
      "text/plain": [
       "\"\\ncluster_2.columns = ['o']\\ncluster_3.columns = ['o']\\ncluster_4.columns = ['o']\\ncluster_5.columns = ['o']\\ncluster_6.columns = ['o']\\n\""
      ]
     },
     "execution_count": 172,
     "metadata": {},
     "output_type": "execute_result"
    }
   ],
   "source": [
    "input_path = 'result/TransD/metis/th:0.85/'\n",
    "\n",
    "#input_path = 'result/TransD/semep/th:0.85/'\n",
    "#input_path = 'result/TransD/Kmeans/th:0.85/'\n",
    "\n",
    "\n",
    "cls_0 = input_path + \"standards-part0.txt\"\n",
    "cls_1 = input_path + \"standards-part1.txt\"\n",
    "\"\"\"\n",
    "cls_2 = input_path + \"standards-part2.txt\"\n",
    "cls_3 = input_path + \"standards-part3.txt\"\n",
    "cls_4 = input_path + \"standards-part4.txt\"\n",
    "cls_5 = input_path + \"standards-part5.txt\"\n",
    "cls_6 = input_path + \"standards-part6.txt\"\n",
    "\n",
    "\n",
    "cls_0 = input_path + \"cluster-0.txt\"\n",
    "cls_1 = input_path + \"cluster-1.txt\"\n",
    "cls_2 = input_path + \"cluster-2.txt\"\n",
    "cls_3 = input_path + \"cluster-3.txt\"\n",
    "cls_4 = input_path + \"cluster-4.txt\"\n",
    "cls_5 = input_path + \"cluster-5.txt\"\n",
    "cls_6 = input_path + \"cluster-6.txt\"\n",
    "\"\"\"\n",
    "cluster_0 = pd.read_csv(cls_0, delimiter=\",\", header=None)\n",
    "cluster_1 =pd.read_csv(cls_1, delimiter=\",\", header=None)\n",
    "\"\"\"\n",
    "cluster_2 =pd.read_csv(cls_2, delimiter=\",\", header=None)\n",
    "cluster_3 =pd.read_csv(cls_3, delimiter=\",\", header=None)\n",
    "cluster_4 =pd.read_csv(cls_4, delimiter=\",\", header=None)\n",
    "cluster_5 =pd.read_csv(cls_5, delimiter=\",\", header=None)\n",
    "cluster_6 =pd.read_csv(cls_6, delimiter=\",\", header=None)\n",
    "\"\"\"\n",
    "cluster_0.columns = ['o']\n",
    "cluster_1.columns = ['o']\n",
    "\"\"\"\n",
    "cluster_2.columns = ['o']\n",
    "cluster_3.columns = ['o']\n",
    "cluster_4.columns = ['o']\n",
    "cluster_5.columns = ['o']\n",
    "cluster_6.columns = ['o']\n",
    "\"\"\""
   ]
  },
  {
   "cell_type": "code",
   "execution_count": 173,
   "metadata": {},
   "outputs": [
    {
     "data": {
      "text/plain": [
       "157"
      ]
     },
     "execution_count": 173,
     "metadata": {},
     "output_type": "execute_result"
    }
   ],
   "source": [
    "cluster_0.shape[0]"
   ]
  },
  {
   "cell_type": "code",
   "execution_count": 183,
   "metadata": {},
   "outputs": [
    {
     "name": "stdout",
     "output_type": "stream",
     "text": [
      "61\n"
     ]
    }
   ],
   "source": [
    "from rdflib import Graph,URIRef, tools\n",
    "from gastrodon import LocalEndpoint,one,QName\n",
    "g = Graph()\n",
    "g.parse(\"sto/sto-enriched.nt\", format=\"nt\")\n",
    "sto_endpoint=LocalEndpoint(g)\n",
    "\n",
    "#data = [cluster_0,cluster_1,cluster_2,cluster_3,cluster_4,cluster_5,cluster_6]\n",
    "data = [cluster_0,cluster_1]\n",
    "list_pd = {}\n",
    "\n",
    "for i in range(len(data)):\n",
    "    list_pd[i] = pd.DataFrame(columns=['o'])\n",
    "i=0\n",
    "count = 0\n",
    "for cls in data:\n",
    "    for standard in cls['o']:\n",
    "        qres_tc = sto_endpoint.select(\n",
    "            \"\"\"PREFIX owl: <http://www.w3.org/2002/07/owl#>\n",
    "                   PREFIX rdf: <http://www.w3.org/1999/02/22-rdf-syntax-ns#>\n",
    "                   PREFIX tc: <https://w3id.org/i40/sto/iot#>\n",
    "\n",
    "                select distinct ?o where {\n",
    "                        <\"\"\" +standard+ \"\"\"> tc:hasTargetConcern ?o .\n",
    "                }\"\"\")\n",
    "        qres = sto_endpoint.select(\n",
    "            \"\"\"PREFIX owl: <http://www.w3.org/2002/07/owl#>\n",
    "                   PREFIX rdf: <http://www.w3.org/1999/02/22-rdf-syntax-ns#>\n",
    "                   PREFIX dom: <https://w3id.org/i40/sto#>\n",
    "\n",
    "                select distinct ?o where {\n",
    "                        <\"\"\" +standard+ \"\"\"> dom:hasDomain ?o .\n",
    "                }\"\"\")\n",
    "        if len(qres_tc)>0:\n",
    "            list_pd[i] = pd.concat([list_pd[i], qres_tc], ignore_index=True)\n",
    "        if len(qres)>0:\n",
    "            list_pd[i] = pd.concat([list_pd[i], qres], ignore_index=True)\n",
    "        count+=(len(qres_tc) + len(qres))\n",
    "    i+=1\n",
    "print(count)"
   ]
  },
  {
   "cell_type": "code",
   "execution_count": 150,
   "metadata": {},
   "outputs": [
    {
     "data": {
      "text/plain": [
       "61"
      ]
     },
     "execution_count": 150,
     "metadata": {},
     "output_type": "execute_result"
    }
   ],
   "source": [
    "#15+2+1+32+3+3+5\n",
    "#sum(domain_sto.number_standard)"
   ]
  },
  {
   "cell_type": "code",
   "execution_count": 177,
   "metadata": {},
   "outputs": [
    {
     "data": {
      "text/html": [
       "<div>\n",
       "<style scoped>\n",
       "    .dataframe tbody tr th:only-of-type {\n",
       "        vertical-align: middle;\n",
       "    }\n",
       "\n",
       "    .dataframe tbody tr th {\n",
       "        vertical-align: top;\n",
       "    }\n",
       "\n",
       "    .dataframe thead th {\n",
       "        text-align: right;\n",
       "    }\n",
       "</style>\n",
       "<table border=\"1\" class=\"dataframe\">\n",
       "  <thead>\n",
       "    <tr style=\"text-align: right;\">\n",
       "      <th></th>\n",
       "      <th>domain</th>\n",
       "      <th>number_standard</th>\n",
       "    </tr>\n",
       "  </thead>\n",
       "  <tbody>\n",
       "    <tr>\n",
       "      <th>7</th>\n",
       "      <td>https://w3id.org/i40/sto#IndustrialAutomation</td>\n",
       "      <td>5</td>\n",
       "    </tr>\n",
       "    <tr>\n",
       "      <th>8</th>\n",
       "      <td>https://w3id.org/i40/sto#ITSecurity</td>\n",
       "      <td>5</td>\n",
       "    </tr>\n",
       "    <tr>\n",
       "      <th>0</th>\n",
       "      <td>https://w3id.org/i40/sto#Safety</td>\n",
       "      <td>3</td>\n",
       "    </tr>\n",
       "    <tr>\n",
       "      <th>1</th>\n",
       "      <td>https://w3id.org/i40/sto#CloudComputing</td>\n",
       "      <td>2</td>\n",
       "    </tr>\n",
       "    <tr>\n",
       "      <th>2</th>\n",
       "      <td>https://w3id.org/i40/sto#IdentityManagement</td>\n",
       "      <td>2</td>\n",
       "    </tr>\n",
       "    <tr>\n",
       "      <th>4</th>\n",
       "      <td>https://w3id.org/i40/sto#QualityOfService</td>\n",
       "      <td>2</td>\n",
       "    </tr>\n",
       "    <tr>\n",
       "      <th>9</th>\n",
       "      <td>https://w3id.org/i40/sto#CAD</td>\n",
       "      <td>2</td>\n",
       "    </tr>\n",
       "    <tr>\n",
       "      <th>11</th>\n",
       "      <td>https://w3id.org/i40/sto#IndustrialProcessMeas...</td>\n",
       "      <td>2</td>\n",
       "    </tr>\n",
       "    <tr>\n",
       "      <th>3</th>\n",
       "      <td>https://w3id.org/i40/sto#Safety_Machinery</td>\n",
       "      <td>1</td>\n",
       "    </tr>\n",
       "    <tr>\n",
       "      <th>5</th>\n",
       "      <td>https://w3id.org/i40/sto#EnterpriseIntegration</td>\n",
       "      <td>1</td>\n",
       "    </tr>\n",
       "    <tr>\n",
       "      <th>6</th>\n",
       "      <td>https://w3id.org/i40/sto#Automatic_Id_Data_Cap...</td>\n",
       "      <td>1</td>\n",
       "    </tr>\n",
       "    <tr>\n",
       "      <th>10</th>\n",
       "      <td>https://w3id.org/i40/sto#Energy_management</td>\n",
       "      <td>1</td>\n",
       "    </tr>\n",
       "  </tbody>\n",
       "</table>\n",
       "</div>"
      ],
      "text/plain": [
       "                                               domain  number_standard\n",
       "7       https://w3id.org/i40/sto#IndustrialAutomation                5\n",
       "8                 https://w3id.org/i40/sto#ITSecurity                5\n",
       "0                     https://w3id.org/i40/sto#Safety                3\n",
       "1             https://w3id.org/i40/sto#CloudComputing                2\n",
       "2         https://w3id.org/i40/sto#IdentityManagement                2\n",
       "4           https://w3id.org/i40/sto#QualityOfService                2\n",
       "9                        https://w3id.org/i40/sto#CAD                2\n",
       "11  https://w3id.org/i40/sto#IndustrialProcessMeas...                2\n",
       "3           https://w3id.org/i40/sto#Safety_Machinery                1\n",
       "5      https://w3id.org/i40/sto#EnterpriseIntegration                1\n",
       "6   https://w3id.org/i40/sto#Automatic_Id_Data_Cap...                1\n",
       "10         https://w3id.org/i40/sto#Energy_management                1"
      ]
     },
     "execution_count": 177,
     "metadata": {},
     "output_type": "execute_result"
    }
   ],
   "source": [
    "j=1\n",
    "domain_sto = pd.DataFrame(columns=['domain',  'number_standard'])\n",
    "domain_sto.domain=list(pd.value_counts(list_pd[j]['o'].values, 0).index)\n",
    "domain_sto.number_standard = list(pd.value_counts(list_pd[j]['o'].values, 0))\n",
    "domain_sto = domain_sto.sort_values(by='number_standard', ascending=False)\n",
    "\n",
    "domain_sto"
   ]
  },
  {
   "cell_type": "code",
   "execution_count": 178,
   "metadata": {},
   "outputs": [
    {
     "data": {
      "image/png": "[encoded data removed]",
      "text/plain": [
       "<Figure size 864x864 with 1 Axes>"
      ]
     },
     "metadata": {
      "needs_background": "light"
     },
     "output_type": "display_data"
    }
   ],
   "source": [
    "fig = domain_sto.plot.bar(x='domain', y='number_standard',figsize=(12, 12),title='Cluster#2 Metis. Number standrards by Domain.').get_figure()\n",
    "fig.savefig('Th:0.85(Cls#2.Metis).pdf')"
   ]
  },
  {
   "cell_type": "code",
   "execution_count": null,
   "metadata": {},
   "outputs": [],
   "source": []
  },
  {
   "cell_type": "code",
   "execution_count": 6,
   "metadata": {},
   "outputs": [
    {
     "name": "stdout",
     "output_type": "stream",
     "text": [
      "44\n",
      "n_link_pred 1892\n",
      "-------------------------------------------------\n",
      "46\n",
      "n_link_pred 2070\n",
      "-------------------------------------------------\n",
      "47\n",
      "n_link_pred 2162\n",
      "-------------------------------------------------\n",
      "47\n",
      "n_link_pred 2162\n",
      "-------------------------------------------------\n",
      "44\n",
      "n_link_pred 1892\n",
      "-------------------------------------------------\n",
      "47\n",
      "n_link_pred 2162\n",
      "-------------------------------------------------\n",
      "47\n",
      "n_link_pred 2162\n",
      "-------------------------------------------------\n"
     ]
    }
   ],
   "source": [
    "from rdflib import Graph,URIRef, tools\n",
    "from gastrodon import LocalEndpoint,one,QName\n",
    "g = Graph()\n",
    "g.parse(\"sto/sto-enriched.nt\", format=\"nt\")\n",
    "sto_endpoint=LocalEndpoint(g)\n",
    "i=0\n",
    "link_analysis = pd.DataFrame(columns=['link_prediction', 'link_found'])\n",
    "data = [cluster_0,cluster_1,cluster_2,cluster_3,cluster_4,cluster_5,cluster_6]\n",
    "#relation = pd.DataFrame(columns=['o'])\n",
    "for cls in data:\n",
    "    relation = pd.DataFrame(columns=['o'])\n",
    "    for standard in cls['o']:\n",
    "        qres = sto_endpoint.select(\n",
    "            \"\"\"PREFIX owl: <http://www.w3.org/2002/07/owl#>\n",
    "                   PREFIX rdf: <http://www.w3.org/1999/02/22-rdf-syntax-ns#>\n",
    "                   PREFIX sto: <https://w3id.org/i40/sto#>\n",
    "\n",
    "                select distinct ?o where {\n",
    "                        <\"\"\" +standard+ \"\"\"> sto:relatedTo ?o .\n",
    "                }\"\"\")\n",
    "        if len(qres)>0:\n",
    "            relation = pd.concat([relation, qres], ignore_index=True)\n",
    "            #print(standard)\n",
    "            i+=1\n",
    "    relation = relation.drop_duplicates()\n",
    "    intersected_df = pd.merge(cls, relation, how='inner')\n",
    "    print(cls.shape[0])\n",
    "    if intersected_df.shape[0]>0:\n",
    "        print('standard:', standard)\n",
    "        #print('link_found', intersected_df)\n",
    "    n_link_pred = ((cls.shape[0]*cls.shape[0])-cls.shape[0])-intersected_df.shape[0]\n",
    "    n_link_found = intersected_df.shape[0]\n",
    "    print('n_link_pred', n_link_pred)\n",
    "    new_row = {'link_prediction':n_link_pred, 'link_found':n_link_found}\n",
    "    link_analysis = link_analysis.append(new_row, ignore_index=True)\n",
    "    print('-------------------------------------------------')"
   ]
  },
  {
   "cell_type": "code",
   "execution_count": 7,
   "metadata": {},
   "outputs": [
    {
     "data": {
      "text/html": [
       "<div>\n",
       "<style scoped>\n",
       "    .dataframe tbody tr th:only-of-type {\n",
       "        vertical-align: middle;\n",
       "    }\n",
       "\n",
       "    .dataframe tbody tr th {\n",
       "        vertical-align: top;\n",
       "    }\n",
       "\n",
       "    .dataframe thead th {\n",
       "        text-align: right;\n",
       "    }\n",
       "</style>\n",
       "<table border=\"1\" class=\"dataframe\">\n",
       "  <thead>\n",
       "    <tr style=\"text-align: right;\">\n",
       "      <th></th>\n",
       "      <th>link_prediction</th>\n",
       "      <th>link_found</th>\n",
       "    </tr>\n",
       "  </thead>\n",
       "  <tbody>\n",
       "    <tr>\n",
       "      <th>0</th>\n",
       "      <td>1892</td>\n",
       "      <td>0</td>\n",
       "    </tr>\n",
       "    <tr>\n",
       "      <th>1</th>\n",
       "      <td>2070</td>\n",
       "      <td>0</td>\n",
       "    </tr>\n",
       "    <tr>\n",
       "      <th>2</th>\n",
       "      <td>2162</td>\n",
       "      <td>0</td>\n",
       "    </tr>\n",
       "    <tr>\n",
       "      <th>3</th>\n",
       "      <td>2162</td>\n",
       "      <td>0</td>\n",
       "    </tr>\n",
       "    <tr>\n",
       "      <th>4</th>\n",
       "      <td>1892</td>\n",
       "      <td>0</td>\n",
       "    </tr>\n",
       "    <tr>\n",
       "      <th>5</th>\n",
       "      <td>2162</td>\n",
       "      <td>0</td>\n",
       "    </tr>\n",
       "    <tr>\n",
       "      <th>6</th>\n",
       "      <td>2162</td>\n",
       "      <td>0</td>\n",
       "    </tr>\n",
       "  </tbody>\n",
       "</table>\n",
       "</div>"
      ],
      "text/plain": [
       "  link_prediction link_found\n",
       "0            1892          0\n",
       "1            2070          0\n",
       "2            2162          0\n",
       "3            2162          0\n",
       "4            1892          0\n",
       "5            2162          0\n",
       "6            2162          0"
      ]
     },
     "execution_count": 7,
     "metadata": {},
     "output_type": "execute_result"
    }
   ],
   "source": [
    "link_analysis"
   ]
  },
  {
   "cell_type": "code",
   "execution_count": 8,
   "metadata": {},
   "outputs": [
    {
     "data": {
      "text/html": [
       "<div>\n",
       "<style scoped>\n",
       "    .dataframe tbody tr th:only-of-type {\n",
       "        vertical-align: middle;\n",
       "    }\n",
       "\n",
       "    .dataframe tbody tr th {\n",
       "        vertical-align: top;\n",
       "    }\n",
       "\n",
       "    .dataframe thead th {\n",
       "        text-align: right;\n",
       "    }\n",
       "</style>\n",
       "<table border=\"1\" class=\"dataframe\">\n",
       "  <thead>\n",
       "    <tr style=\"text-align: right;\">\n",
       "      <th></th>\n",
       "      <th>link_prediction</th>\n",
       "      <th>link_found</th>\n",
       "    </tr>\n",
       "  </thead>\n",
       "  <tbody>\n",
       "    <tr>\n",
       "      <th>0</th>\n",
       "      <td>12</td>\n",
       "      <td>23</td>\n",
       "    </tr>\n",
       "    <tr>\n",
       "      <th>1</th>\n",
       "      <td>56</td>\n",
       "      <td>283</td>\n",
       "    </tr>\n",
       "    <tr>\n",
       "      <th>2</th>\n",
       "      <td>78</td>\n",
       "      <td>56785</td>\n",
       "    </tr>\n",
       "  </tbody>\n",
       "</table>\n",
       "</div>"
      ],
      "text/plain": [
       "  link_prediction link_found\n",
       "0              12         23\n",
       "1              56        283\n",
       "2              78      56785"
      ]
     },
     "execution_count": 8,
     "metadata": {},
     "output_type": "execute_result"
    }
   ],
   "source": [
    "link_analysis = pd.DataFrame(columns=['link_prediction', 'link_found'])\n",
    "new_row = {'link_prediction':12, 'link_found':23}\n",
    "link_analysis = link_analysis.append(new_row, ignore_index=True)\n",
    "new_row = {'link_prediction':56, 'link_found':283}\n",
    "link_analysis = link_analysis.append(new_row, ignore_index=True)\n",
    "new_row = {'link_prediction':78, 'link_found':56785}\n",
    "link_analysis = link_analysis.append(new_row, ignore_index=True)\n",
    "link_analysis"
   ]
  },
  {
   "cell_type": "code",
   "execution_count": 9,
   "metadata": {},
   "outputs": [
    {
     "data": {
      "text/html": [
       "<div>\n",
       "<style scoped>\n",
       "    .dataframe tbody tr th:only-of-type {\n",
       "        vertical-align: middle;\n",
       "    }\n",
       "\n",
       "    .dataframe tbody tr th {\n",
       "        vertical-align: top;\n",
       "    }\n",
       "\n",
       "    .dataframe thead th {\n",
       "        text-align: right;\n",
       "    }\n",
       "</style>\n",
       "<table border=\"1\" class=\"dataframe\">\n",
       "  <thead>\n",
       "    <tr style=\"text-align: right;\">\n",
       "      <th></th>\n",
       "      <th>link_prediction</th>\n",
       "      <th>link_found</th>\n",
       "    </tr>\n",
       "  </thead>\n",
       "  <tbody>\n",
       "    <tr>\n",
       "      <th>0</th>\n",
       "      <td>78</td>\n",
       "      <td>56785</td>\n",
       "    </tr>\n",
       "    <tr>\n",
       "      <th>1</th>\n",
       "      <td>56</td>\n",
       "      <td>283</td>\n",
       "    </tr>\n",
       "    <tr>\n",
       "      <th>2</th>\n",
       "      <td>9</td>\n",
       "      <td>13</td>\n",
       "    </tr>\n",
       "    <tr>\n",
       "      <th>3</th>\n",
       "      <td>56</td>\n",
       "      <td>283</td>\n",
       "    </tr>\n",
       "    <tr>\n",
       "      <th>4</th>\n",
       "      <td>9</td>\n",
       "      <td>13</td>\n",
       "    </tr>\n",
       "  </tbody>\n",
       "</table>\n",
       "</div>"
      ],
      "text/plain": [
       "  link_prediction link_found\n",
       "0              78      56785\n",
       "1              56        283\n",
       "2               9         13\n",
       "3              56        283\n",
       "4               9         13"
      ]
     },
     "execution_count": 9,
     "metadata": {},
     "output_type": "execute_result"
    }
   ],
   "source": [
    "link = pd.DataFrame(columns=['link_prediction', 'link_found'])\n",
    "new_row = {'link_prediction':78, 'link_found':56785}\n",
    "link = link.append(new_row, ignore_index=True)\n",
    "new_row = {'link_prediction':56, 'link_found':283}\n",
    "link = link.append(new_row, ignore_index=True)\n",
    "new_row = {'link_prediction':9, 'link_found':13}\n",
    "link = link.append(new_row, ignore_index=True)\n",
    "new_row = {'link_prediction':56, 'link_found':283}\n",
    "link = link.append(new_row, ignore_index=True)\n",
    "new_row = {'link_prediction':9, 'link_found':13}\n",
    "link = link.append(new_row, ignore_index=True)\n",
    "link"
   ]
  },
  {
   "cell_type": "code",
   "execution_count": 10,
   "metadata": {},
   "outputs": [
    {
     "data": {
      "text/html": [
       "<div>\n",
       "<style scoped>\n",
       "    .dataframe tbody tr th:only-of-type {\n",
       "        vertical-align: middle;\n",
       "    }\n",
       "\n",
       "    .dataframe tbody tr th {\n",
       "        vertical-align: top;\n",
       "    }\n",
       "\n",
       "    .dataframe thead th {\n",
       "        text-align: right;\n",
       "    }\n",
       "</style>\n",
       "<table border=\"1\" class=\"dataframe\">\n",
       "  <thead>\n",
       "    <tr style=\"text-align: right;\">\n",
       "      <th></th>\n",
       "      <th>link_prediction</th>\n",
       "      <th>link_found</th>\n",
       "    </tr>\n",
       "  </thead>\n",
       "  <tbody>\n",
       "    <tr>\n",
       "      <th>0</th>\n",
       "      <td>78</td>\n",
       "      <td>56785</td>\n",
       "    </tr>\n",
       "    <tr>\n",
       "      <th>1</th>\n",
       "      <td>56</td>\n",
       "      <td>283</td>\n",
       "    </tr>\n",
       "    <tr>\n",
       "      <th>2</th>\n",
       "      <td>9</td>\n",
       "      <td>13</td>\n",
       "    </tr>\n",
       "  </tbody>\n",
       "</table>\n",
       "</div>"
      ],
      "text/plain": [
       "  link_prediction link_found\n",
       "0              78      56785\n",
       "1              56        283\n",
       "2               9         13"
      ]
     },
     "execution_count": 10,
     "metadata": {},
     "output_type": "execute_result"
    }
   ],
   "source": [
    "link = link.drop_duplicates()\n",
    "link"
   ]
  },
  {
   "cell_type": "code",
   "execution_count": 11,
   "metadata": {},
   "outputs": [
    {
     "data": {
      "text/html": [
       "<div>\n",
       "<style scoped>\n",
       "    .dataframe tbody tr th:only-of-type {\n",
       "        vertical-align: middle;\n",
       "    }\n",
       "\n",
       "    .dataframe tbody tr th {\n",
       "        vertical-align: top;\n",
       "    }\n",
       "\n",
       "    .dataframe thead th {\n",
       "        text-align: right;\n",
       "    }\n",
       "</style>\n",
       "<table border=\"1\" class=\"dataframe\">\n",
       "  <thead>\n",
       "    <tr style=\"text-align: right;\">\n",
       "      <th></th>\n",
       "      <th>link_prediction</th>\n",
       "      <th>link_found</th>\n",
       "    </tr>\n",
       "  </thead>\n",
       "  <tbody>\n",
       "    <tr>\n",
       "      <th>0</th>\n",
       "      <td>56</td>\n",
       "      <td>283</td>\n",
       "    </tr>\n",
       "    <tr>\n",
       "      <th>1</th>\n",
       "      <td>78</td>\n",
       "      <td>56785</td>\n",
       "    </tr>\n",
       "  </tbody>\n",
       "</table>\n",
       "</div>"
      ],
      "text/plain": [
       "  link_prediction link_found\n",
       "0              56        283\n",
       "1              78      56785"
      ]
     },
     "execution_count": 11,
     "metadata": {},
     "output_type": "execute_result"
    }
   ],
   "source": [
    "intersected = pd.merge(link_analysis, link, how='inner')\n",
    "intersected"
   ]
  },
  {
   "cell_type": "code",
   "execution_count": 13,
   "metadata": {},
   "outputs": [
    {
     "data": {
      "image/png": "[encoded data removed]",
      "text/plain": [
       "<Figure size 432x288 with 1 Axes>"
      ]
     },
     "metadata": {
      "needs_background": "light"
     },
     "output_type": "display_data"
    }
   ],
   "source": [
    "# libraries\n",
    "import numpy as np\n",
    "import matplotlib.pyplot as plt\n",
    " \n",
    "# set width of bar\n",
    "barWidth = 0.15\n",
    " \n",
    "# set height of bar\n",
    "bars1 = [1722, 1406, 2162]\n",
    "bars2 = [1482, 1482, 1892]\n",
    "bars3 = [1980, 3192, 2162]\n",
    "bars4 = [1122, 2550, 1892]\n",
    "bars5 = [1722, 2162, 2162]\n",
    "bars6= [2450, 2162, 2162]\n",
    "bars7 = [4830, 1806, 2070]\n",
    "\n",
    "# Set position of bar on X axis\n",
    "#r1 = np.arange(len(bars1))\n",
    "r1 = [0,1.5,3]\n",
    "r2 = [x + barWidth for x in r1]\n",
    "r3 = [x + barWidth for x in r2]\n",
    "r4 = [x + barWidth for x in r3]\n",
    "r5 = [x + barWidth for x in r4]\n",
    "r6 = [x + barWidth for x in r5]\n",
    "r7 = [x + barWidth for x in r6]\n",
    " \n",
    "# Make the plot\n",
    "plt.bar(r1, bars1, color='#13505b', width=barWidth, edgecolor='white', label='cluster1')\n",
    "plt.bar(r2, bars2, color='#557f2d', width=barWidth, edgecolor='white', label='cluster2')\n",
    "plt.bar(r3, bars3, color='#2d7f5e', width=barWidth, edgecolor='white', label='cluster3')\n",
    "plt.bar(r4, bars4, color='#7f6d5f', width=barWidth, edgecolor='white', label='cluster4')\n",
    "plt.bar(r5, bars5, color='#10424b', width=barWidth, edgecolor='white', label='cluster5')\n",
    "plt.bar(r6, bars6, color='#0c3137', width=barWidth, edgecolor='white', label='cluster6')\n",
    "plt.bar(r7, bars7, color='#90bfc9', width=barWidth, edgecolor='white', label='cluster7')\n",
    " \n",
    "# Add xticks on the middle of the group bars\n",
    "plt.xlabel('Cluster Algorithms', fontweight='bold')\n",
    "plt.xticks([0.5,2,3.5], ['semEP', 'Kmeans', 'Metis'])\n",
    "plt.title('Cluster algorithm link prediction')\n",
    "plt.ylabel('Number of link prediction')\n",
    "# Create legend & Show graphic\n",
    "plt.legend()\n",
    "plt.savefig(\"Cluster_algorithm_link_prediction.pdf\", format='pdf', bbox_inches = 'tight')\n",
    "#plt.show()"
   ]
  },
  {
   "cell_type": "code",
   "execution_count": 139,
   "metadata": {},
   "outputs": [
    {
     "data": {
      "text/plain": [
       "array([0, 1, 2])"
      ]
     },
     "execution_count": 139,
     "metadata": {},
     "output_type": "execute_result"
    }
   ],
   "source": [
    "r1"
   ]
  },
  {
   "cell_type": "code",
   "execution_count": 130,
   "metadata": {},
   "outputs": [
    {
     "data": {
      "text/plain": [
       "(67, 1)"
      ]
     },
     "execution_count": 130,
     "metadata": {},
     "output_type": "execute_result"
    }
   ],
   "source": [
    "relation.shape"
   ]
  },
  {
   "cell_type": "code",
   "execution_count": 131,
   "metadata": {},
   "outputs": [
    {
     "data": {
      "text/plain": [
       "58"
      ]
     },
     "execution_count": 131,
     "metadata": {},
     "output_type": "execute_result"
    }
   ],
   "source": [
    "i"
   ]
  },
  {
   "cell_type": "code",
   "execution_count": null,
   "metadata": {},
   "outputs": [],
   "source": []
  }
 ],
 "metadata": {
  "kernelspec": {
   "display_name": "Python 3",
   "language": "python",
   "name": "python3"
  },
  "language_info": {
   "codemirror_mode": {
    "name": "ipython",
    "version": 3
   },
   "file_extension": ".py",
   "mimetype": "text/x-python",
   "name": "python",
   "nbconvert_exporter": "python",
   "pygments_lexer": "ipython3",
   "version": "3.6.8"
  }
 },
 "nbformat": 4,
 "nbformat_minor": 2
}
