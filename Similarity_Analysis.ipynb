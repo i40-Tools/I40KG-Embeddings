{
  "nbformat": 4,
  "nbformat_minor": 0,
  "metadata": {
    "colab": {
      "name": "Similarity-Analysis.ipynb",
      "version": "0.3.2",
      "provenance": [],
      "collapsed_sections": [],
      "include_colab_link": true
    },
    "kernelspec": {
      "name": "python3",
      "display_name": "Python 3"
    }
  },
  "cells": [
    {
      "cell_type": "markdown",
      "metadata": {
        "id": "view-in-github",
        "colab_type": "text"
      },
      "source": [
        "<a href=\"https://colab.research.google.com/github/i40-Tools/I40KG-Embeddings/blob/master/Similarity_Analysis.ipynb\" target=\"_parent\"><img src=\"https://colab.research.google.com/assets/colab-badge.svg\" alt=\"Open In Colab\"/></a>"
      ]
    },
    {
      "cell_type": "markdown",
      "metadata": {
        "id": "hQCOAl5s4Wyv",
        "colab_type": "text"
      },
      "source": [
        "# I40 standards landscape similarity analysis using embeddings\n",
        "\n",
        "## Overview\n",
        "\n",
        "In this notebook, we show the similarity analysis between Industry 4.0 Standards. \n",
        "To do so, we create embeddings about the Industry 4.0 Standards Knowledge Graph (I40KG) developed by [Grangel-Gonzales et. al.](https://www.researchgate.net/publication/318208930_The_Industry_40_Standards_Landscape_from_a_Semantic_Integration_Perspective)\n",
        "\n",
        "The embeddings are located here: [I40 Embeddings](https://github.com/i40-Tools/I40KG-Embeddings/tree/master/logs_sto)"
      ]
    },
    {
      "cell_type": "markdown",
      "metadata": {
        "id": "kFDNGNBI6EvO",
        "colab_type": "text"
      },
      "source": [
        "## Initial Configurations\n",
        "First, let's import the required libraries to perform the similarity analysis"
      ]
    },
    {
      "cell_type": "code",
      "metadata": {
        "id": "7aEjqqkYutsz",
        "colab_type": "code",
        "colab": {}
      },
      "source": [
        "import scipy\n",
        "from scipy import spatial\n",
        "import numpy as np\n",
        "import math\n",
        "import json\n",
        "from scipy.spatial.distance import cdist"
      ],
      "execution_count": 0,
      "outputs": []
    },
    {
      "cell_type": "markdown",
      "metadata": {
        "id": "oV0m0qjp74TW",
        "colab_type": "text"
      },
      "source": [
        "### Define similarity function\n",
        "We are going to us cosine distance to measure the similarity between two embeddings"
      ]
    },
    {
      "cell_type": "code",
      "metadata": {
        "id": "JVadkVny8ENA",
        "colab_type": "code",
        "colab": {}
      },
      "source": [
        ""
      ],
      "execution_count": 0,
      "outputs": []
    }
  ]
}