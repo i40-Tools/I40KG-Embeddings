{
  "nbformat": 4,
  "nbformat_minor": 0,
  "metadata": {
    "colab": {
      "name": "Similarity-Analysis.ipynb",
      "version": "0.3.2",
      "provenance": [],
      "collapsed_sections": [],
      "include_colab_link": true
    },
    "kernelspec": {
      "name": "python3",
      "display_name": "Python 3"
    }
  },
  "cells": [
    {
      "cell_type": "markdown",
      "metadata": {
        "id": "view-in-github",
        "colab_type": "text"
      },
      "source": [
        "<a href=\"https://colab.research.google.com/github/i40-Tools/I40KG-Embeddings/blob/master/Similarity_Analysis.ipynb\" target=\"_parent\"><img src=\"https://colab.research.google.com/assets/colab-badge.svg\" alt=\"Open In Colab\"/></a>"
      ]
    },
    {
      "cell_type": "markdown",
      "metadata": {
        "id": "hQCOAl5s4Wyv",
        "colab_type": "text"
      },
      "source": [
        "# I40 standards landscape similarity analysis using embeddings\n",
        "\n",
        "## Overview\n",
        "\n",
        "In this notebook, we show the similarity analysis between Industry 4.0 Standards. \n",
        "To do so, we create embeddings about the Industry 4.0 Standards Knowledge Graph (I40KG) developed by [Grangel-Gonzales et. al.](https://www.researchgate.net/publication/318208930_The_Industry_40_Standards_Landscape_from_a_Semantic_Integration_Perspective)\n",
        "\n",
        "The embeddings are located here: [I40 Embeddings](https://github.com/i40-Tools/I40KG-Embeddings/tree/master/logs_sto)"
      ]
    },
    {
      "cell_type": "markdown",
      "metadata": {
        "id": "kFDNGNBI6EvO",
        "colab_type": "text"
      },
      "source": [
        "## Initial Configurations\n",
        "First, let's import the required libraries to perform the similarity analysis."
      ]
    },
    {
      "cell_type": "code",
      "metadata": {
        "id": "sEm90RF-MtcV",
        "colab_type": "code",
        "outputId": "8848e319-50f3-48b9-faac-8f07bd0b84a7",
        "colab": {
          "base_uri": "https://localhost:8080/",
          "height": 34
        }
      },
      "source": [
        "# %ls"
      ],
      "execution_count": 0,
      "outputs": [
        {
          "output_type": "stream",
          "text": [
            "\u001b[0m\u001b[01;34mI40KG-Embeddings\u001b[0m/  \u001b[01;34msample_data\u001b[0m/\n"
          ],
          "name": "stdout"
        }
      ]
    },
    {
      "cell_type": "code",
      "metadata": {
        "id": "hyThPWuINg6u",
        "colab_type": "code",
        "outputId": "0f9a3155-434d-4498-ba8a-d1334e49e676",
        "colab": {
          "base_uri": "https://localhost:8080/",
          "height": 119
        }
      },
      "source": [
        "# !git clone https://github.com/i40-Tools/I40KG-Embeddings.git"
      ],
      "execution_count": 0,
      "outputs": [
        {
          "output_type": "stream",
          "text": [
            "Cloning into 'I40KG-Embeddings'...\n",
            "remote: Enumerating objects: 85, done.\u001b[K\n",
            "remote: Counting objects: 100% (85/85), done.\u001b[K\n",
            "remote: Compressing objects: 100% (69/69), done.\u001b[K\n",
            "remote: Total 85 (delta 36), reused 37 (delta 9), pack-reused 0\u001b[K\n",
            "Unpacking objects: 100% (85/85), done.\n"
          ],
          "name": "stdout"
        }
      ]
    },
    {
      "cell_type": "code",
      "metadata": {
        "id": "7aEjqqkYutsz",
        "colab_type": "code",
        "colab": {}
      },
      "source": [
        "import scipy\n",
        "from scipy import spatial\n",
        "import numpy as np\n",
        "import math\n",
        "import json\n",
        "from scipy.spatial.distance import cdist"
      ],
      "execution_count": 0,
      "outputs": []
    },
    {
      "cell_type": "markdown",
      "metadata": {
        "id": "WVb3ydnAovrN",
        "colab_type": "text"
      },
      "source": [
        "### Define function to print the result in tabular format "
      ]
    },
    {
      "cell_type": "code",
      "metadata": {
        "id": "P8oZcY7volad",
        "colab_type": "code",
        "colab": {}
      },
      "source": [
        "#function to print result in table\n",
        "def print_result(result):\n",
        "    print (\"{:<8}                                            {:<15}                         {:<10}\".format('Framework A','Framework B','Score'))\n",
        "    print (\"----------------------------------------------------------------------------------------------------------------------\")\n",
        "    for key,value in result.items():\n",
        "        val = str(value)\n",
        "        val = val.strip(\"{}\")\n",
        "        val = val.strip(\"''\")\n",
        "        val = val.replace(\"':\",\"     \")\n",
        "        print(\"{:<8}       {:<15}\".format(key +\"      \", val))\n",
        "\n"
      ],
      "execution_count": 0,
      "outputs": []
    },
    {
      "cell_type": "markdown",
      "metadata": {
        "id": "oV0m0qjp74TW",
        "colab_type": "text"
      },
      "source": [
        "### Define similarity function\n",
        "We are going to us cosine distance to measure the similarity between two embeddings"
      ]
    },
    {
      "cell_type": "code",
      "metadata": {
        "id": "JVadkVny8ENA",
        "colab_type": "code",
        "colab": {}
      },
      "source": [
        "#function to calculate cosine distance \n",
        "def cosine_similarity(vec1,vec2):\n",
        "    sum11, sum12, sum22 = 0, 0, 0\n",
        "    for i in range(len(vec1)):\n",
        "        x = vec1[i]; y = vec2[i]\n",
        "        sum11 += x*x\n",
        "        sum22 += y*y\n",
        "        sum12 += x*y\n",
        "    return sum12/math.sqrt(sum11*sum22)"
      ],
      "execution_count": 0,
      "outputs": []
    },
    {
      "cell_type": "markdown",
      "metadata": {
        "id": "faYXX_Tx8sVp",
        "colab_type": "text"
      },
      "source": [
        "## Similarity among I40 Standarization Frameworks\n",
        "In this section we show the analysis of similarity among standarization frameworks"
      ]
    },
    {
      "cell_type": "code",
      "metadata": {
        "id": "y3clg69O9-39",
        "colab_type": "code",
        "outputId": "e757b411-34b8-49c9-b5db-36fa3aab690d",
        "colab": {
          "base_uri": "https://localhost:8080/",
          "height": 207
        }
      },
      "source": [
        "!pip3 install rdflib"
      ],
      "execution_count": 0,
      "outputs": [
        {
          "output_type": "stream",
          "text": [
            "Collecting rdflib\n",
            "\u001b[?25l  Downloading https://files.pythonhosted.org/packages/3c/fe/630bacb652680f6d481b9febbb3e2c3869194a1a5fc3401a4a41195a2f8f/rdflib-4.2.2-py3-none-any.whl (344kB)\n",
            "\u001b[K     |████████████████████████████████| 348kB 2.9MB/s \n",
            "\u001b[?25hRequirement already satisfied: pyparsing in /usr/local/lib/python3.6/dist-packages (from rdflib) (2.4.0)\n",
            "Collecting isodate (from rdflib)\n",
            "\u001b[?25l  Downloading https://files.pythonhosted.org/packages/9b/9f/b36f7774ff5ea8e428fdcfc4bb332c39ee5b9362ddd3d40d9516a55221b2/isodate-0.6.0-py2.py3-none-any.whl (45kB)\n",
            "\u001b[K     |████████████████████████████████| 51kB 19.1MB/s \n",
            "\u001b[?25hRequirement already satisfied: six in /usr/local/lib/python3.6/dist-packages (from isodate->rdflib) (1.12.0)\n",
            "Installing collected packages: isodate, rdflib\n",
            "Successfully installed isodate-0.6.0 rdflib-4.2.2\n"
          ],
          "name": "stdout"
        }
      ]
    },
    {
      "cell_type": "code",
      "metadata": {
        "id": "IYw3XfUX8pGJ",
        "colab_type": "code",
        "colab": {}
      },
      "source": [
        "import json\n",
        "from rdflib import Graph\n",
        "import pprint"
      ],
      "execution_count": 0,
      "outputs": []
    },
    {
      "cell_type": "markdown",
      "metadata": {
        "id": "AMwPTYlFcRh3",
        "colab_type": "text"
      },
      "source": [
        "###Similarity among Frameworks\n",
        "In this section we analyze the similarity of I4.0 frameworks at the high level, i.e., StandardizationFramework.\n"
      ]
    },
    {
      "cell_type": "code",
      "metadata": {
        "id": "EGoiqCkM-JVE",
        "colab_type": "code",
        "outputId": "ef06e59b-6d38-449f-ea18-fe3cfd590417",
        "colab": {
          "base_uri": "https://localhost:8080/",
          "height": 374
        }
      },
      "source": [
        "g = Graph()\n",
        "g.parse(\"/content/I40KG-Embeddings/sto/sto.nt\", format=\"nt\")\n",
        "    \n",
        "len(g) # prints 2\n",
        " #check printing of the graph    \n",
        "'''for stmt in g:\n",
        "    pprint.pprint(stmt)'''\n",
        "\n",
        "#query to get the framework/standard from the sto.nt file\n",
        "#to get standards we have to replace sto:StandardizationFramework by sto:Standard in the query\n",
        "#we can get standards of the frameworks as well by just changing the query\n",
        "\n",
        "qres = g.query(\n",
        "    \"\"\"PREFIX owl: <http://www.w3.org/2002/07/owl#>\n",
        "       PREFIX rdf: <http://www.w3.org/1999/02/22-rdf-syntax-ns#>\n",
        "       PREFIX sto: <https://w3id.org/i40/sto#>\n",
        "    \n",
        "    select ?s where {\n",
        "            ?s rdf:type sto:StandardizationFramework .\n",
        "            } limit 1000\"\"\")\n",
        "    \n",
        "       \n",
        "#to get the corresponding embeddings of the frameworks/standards from the json file \n",
        "with open(\"/content/I40KG-Embeddings/logs_sto/entities_to_embeddings.json\",'rb') as f:\n",
        "    array = json.load(f)\n",
        "new_dict = {}\n",
        "for row in qres:\n",
        "    for key,value in array.items():\n",
        "        if key == \"%s\" % row:\n",
        "            tem = key\n",
        "            new_dict[tem] = array[key] \n",
        "            print(new_dict)\n",
        "\n",
        "#to put the frameworks/standards with their corresponding embeddings in a file            \n",
        "with open('/content/I40KG-Embeddings/output_framework.json','w') as f:\n",
        "    # this would place the entire output on one line\n",
        "    # use json.dump(new_dict, f, indent=4) to \"pretty-print\" with four spaces per indent\n",
        "    json.dump(new_dict, f)\n",
        "    \n",
        "    \n",
        "#to read the file containing standards/frameworks along with their embeddings   \n",
        "with open('/content/I40KG-Embeddings/output_framework.json', 'r') as f:\n",
        "    array = json.load(f)\n",
        "    \n",
        "#compare each standard/framework with all the other standards/frameworks to find cosine similarity\n",
        "result = {}\n",
        "for key,value in array.items():\n",
        "    temp,tempDict= 0,{}\n",
        "    for keyC,valueC in array.items():\n",
        "        if keyC == key:\n",
        "            continue\n",
        "        temp = scipy.spatial.distance.cosine(value,valueC) #send the values of the standards/frameworks to cosine similarity function\n",
        "        tempDict[keyC] = temp\n",
        "        val1 = min(tempDict, key=tempDict.get)\n",
        "    res = {}\n",
        "    res[val1] = tempDict[val1]\n",
        "    #print (res)\n",
        "    result[key]= res\n",
        "    #result[key]= tempDict\n",
        "        \n",
        "#print the standards/frameworks along with their similar standards/frameworks and their similarity distance\n",
        "print_result(result)"
      ],
      "execution_count": 0,
      "outputs": [
        {
          "output_type": "error",
          "ename": "FileNotFoundError",
          "evalue": "ignored",
          "traceback": [
            "\u001b[0;31m---------------------------------------------------------------------------\u001b[0m",
            "\u001b[0;31mFileNotFoundError\u001b[0m                         Traceback (most recent call last)",
            "\u001b[0;32m<ipython-input-9-3196b6b09cec>\u001b[0m in \u001b[0;36m<module>\u001b[0;34m()\u001b[0m\n\u001b[1;32m      1\u001b[0m \u001b[0mg\u001b[0m \u001b[0;34m=\u001b[0m \u001b[0mGraph\u001b[0m\u001b[0;34m(\u001b[0m\u001b[0;34m)\u001b[0m\u001b[0;34m\u001b[0m\u001b[0;34m\u001b[0m\u001b[0m\n\u001b[0;32m----> 2\u001b[0;31m \u001b[0mg\u001b[0m\u001b[0;34m.\u001b[0m\u001b[0mparse\u001b[0m\u001b[0;34m(\u001b[0m\u001b[0;34m\"/content/I40KG-Embeddings/sto/sto.nt\"\u001b[0m\u001b[0;34m,\u001b[0m \u001b[0mformat\u001b[0m\u001b[0;34m=\u001b[0m\u001b[0;34m\"nt\"\u001b[0m\u001b[0;34m)\u001b[0m\u001b[0;34m\u001b[0m\u001b[0;34m\u001b[0m\u001b[0m\n\u001b[0m\u001b[1;32m      3\u001b[0m \u001b[0;34m\u001b[0m\u001b[0m\n\u001b[1;32m      4\u001b[0m \u001b[0mlen\u001b[0m\u001b[0;34m(\u001b[0m\u001b[0mg\u001b[0m\u001b[0;34m)\u001b[0m \u001b[0;31m# prints 2\u001b[0m\u001b[0;34m\u001b[0m\u001b[0;34m\u001b[0m\u001b[0m\n\u001b[1;32m      5\u001b[0m  \u001b[0;31m#check printing of the graph\u001b[0m\u001b[0;34m\u001b[0m\u001b[0;34m\u001b[0m\u001b[0;34m\u001b[0m\u001b[0m\n",
            "\u001b[0;32m/usr/local/lib/python3.6/dist-packages/rdflib/graph.py\u001b[0m in \u001b[0;36mparse\u001b[0;34m(self, source, publicID, format, location, file, data, **args)\u001b[0m\n\u001b[1;32m   1032\u001b[0m         source = create_input_source(source=source, publicID=publicID,\n\u001b[1;32m   1033\u001b[0m                                      \u001b[0mlocation\u001b[0m\u001b[0;34m=\u001b[0m\u001b[0mlocation\u001b[0m\u001b[0;34m,\u001b[0m \u001b[0mfile\u001b[0m\u001b[0;34m=\u001b[0m\u001b[0mfile\u001b[0m\u001b[0;34m,\u001b[0m\u001b[0;34m\u001b[0m\u001b[0;34m\u001b[0m\u001b[0m\n\u001b[0;32m-> 1034\u001b[0;31m                                      data=data, format=format)\n\u001b[0m\u001b[1;32m   1035\u001b[0m         \u001b[0;32mif\u001b[0m \u001b[0mformat\u001b[0m \u001b[0;32mis\u001b[0m \u001b[0;32mNone\u001b[0m\u001b[0;34m:\u001b[0m\u001b[0;34m\u001b[0m\u001b[0;34m\u001b[0m\u001b[0m\n\u001b[1;32m   1036\u001b[0m             \u001b[0mformat\u001b[0m \u001b[0;34m=\u001b[0m \u001b[0msource\u001b[0m\u001b[0;34m.\u001b[0m\u001b[0mcontent_type\u001b[0m\u001b[0;34m\u001b[0m\u001b[0;34m\u001b[0m\u001b[0m\n",
            "\u001b[0;32m/usr/local/lib/python3.6/dist-packages/rdflib/parser.py\u001b[0m in \u001b[0;36mcreate_input_source\u001b[0;34m(source, publicID, location, file, data, format)\u001b[0m\n\u001b[1;32m    182\u001b[0m         \u001b[0;32mif\u001b[0m \u001b[0mabsolute_location\u001b[0m\u001b[0;34m.\u001b[0m\u001b[0mstartswith\u001b[0m\u001b[0;34m(\u001b[0m\u001b[0;34m\"file:///\"\u001b[0m\u001b[0;34m)\u001b[0m\u001b[0;34m:\u001b[0m\u001b[0;34m\u001b[0m\u001b[0;34m\u001b[0m\u001b[0m\n\u001b[1;32m    183\u001b[0m             \u001b[0mfilename\u001b[0m \u001b[0;34m=\u001b[0m \u001b[0murl2pathname\u001b[0m\u001b[0;34m(\u001b[0m\u001b[0mabsolute_location\u001b[0m\u001b[0;34m.\u001b[0m\u001b[0mreplace\u001b[0m\u001b[0;34m(\u001b[0m\u001b[0;34m\"file:///\"\u001b[0m\u001b[0;34m,\u001b[0m \u001b[0;34m\"/\"\u001b[0m\u001b[0;34m)\u001b[0m\u001b[0;34m)\u001b[0m\u001b[0;34m\u001b[0m\u001b[0;34m\u001b[0m\u001b[0m\n\u001b[0;32m--> 184\u001b[0;31m             \u001b[0mfile\u001b[0m \u001b[0;34m=\u001b[0m \u001b[0mopen\u001b[0m\u001b[0;34m(\u001b[0m\u001b[0mfilename\u001b[0m\u001b[0;34m,\u001b[0m \u001b[0;34m\"rb\"\u001b[0m\u001b[0;34m)\u001b[0m\u001b[0;34m\u001b[0m\u001b[0;34m\u001b[0m\u001b[0m\n\u001b[0m\u001b[1;32m    185\u001b[0m         \u001b[0;32melse\u001b[0m\u001b[0;34m:\u001b[0m\u001b[0;34m\u001b[0m\u001b[0;34m\u001b[0m\u001b[0m\n\u001b[1;32m    186\u001b[0m             \u001b[0minput_source\u001b[0m \u001b[0;34m=\u001b[0m \u001b[0mURLInputSource\u001b[0m\u001b[0;34m(\u001b[0m\u001b[0mabsolute_location\u001b[0m\u001b[0;34m,\u001b[0m \u001b[0mformat\u001b[0m\u001b[0;34m)\u001b[0m\u001b[0;34m\u001b[0m\u001b[0;34m\u001b[0m\u001b[0m\n",
            "\u001b[0;31mFileNotFoundError\u001b[0m: [Errno 2] No such file or directory: '/content/I40KG-Embeddings/sto/sto.nt'"
          ]
        }
      ]
    },
    {
      "cell_type": "markdown",
      "metadata": {
        "id": "dhr_lZjLqIKD",
        "colab_type": "text"
      },
      "source": [
        "### Similarity among Standards\n",
        "\n",
        "In this section we analyze the similarity of I4.0 standards at the high level, i.e., Standard."
      ]
    },
    {
      "cell_type": "code",
      "metadata": {
        "id": "BCdr2dUgpGuz",
        "colab_type": "code",
        "outputId": "0277a6f4-9f1e-4bbe-b52b-db6e60134f37",
        "colab": {
          "base_uri": "https://localhost:8080/",
          "height": 374
        }
      },
      "source": [
        "g = Graph()\n",
        "g.parse(\"/content/I40KG-Embeddings/sto/sto.nt\", format=\"nt\")\n",
        "    \n",
        "len(g) # prints 2\n",
        " #check printing of the graph    \n",
        "'''for stmt in g:\n",
        "    pprint.pprint(stmt)'''\n",
        "\n",
        "#query to get the framework/standard from the sto.nt file\n",
        "#to get standards we have to replace sto:StandardizationFramework by sto:Standard in the query\n",
        "#we can get standards of the frameworks as well by just changing the query\n",
        "\n",
        "qres = g.query(\n",
        "    \"\"\"PREFIX owl: <http://www.w3.org/2002/07/owl#>\n",
        "       PREFIX rdf: <http://www.w3.org/1999/02/22-rdf-syntax-ns#>\n",
        "       PREFIX sto: <https://w3id.org/i40/sto#>\n",
        "    \n",
        "    select ?s where {\n",
        "            ?s rdf:type sto:Standard .\n",
        "            } limit 1000\"\"\")\n",
        "    \n",
        "       \n",
        "#to get the corresponding embeddings of the frameworks/standards from the json file \n",
        "with open(\"/content/I40KG-Embeddings/logs_sto/entities_to_embeddings.json\",'rb') as f:\n",
        "    array = json.load(f)\n",
        "new_dict = {}\n",
        "for row in qres:\n",
        "    for key,value in array.items():\n",
        "        if key == \"%s\" % row:\n",
        "            tem = key\n",
        "            new_dict[tem] = array[key] \n",
        "    print(new_dict)\n",
        "\n",
        "#to put the frameworks/standards with their corresponding embeddings in a file            \n",
        "with open('/content/I40KG-Embeddings/output_standard.json','w') as f:\n",
        "    # this would place the entire output on one line\n",
        "    # use json.dump(new_dict, f, indent=4) to \"pretty-print\" with four spaces per indent\n",
        "    json.dump(new_dict, f)\n",
        "    \n",
        "    \n",
        "#to read the file containing standards/frameworks along with their embeddings   \n",
        "with open('/content/I40KG-Embeddings/output_standard.json', 'r') as f:\n",
        "    array = json.load(f)\n",
        "    \n",
        "#compare each standard/framework with all the other standards/frameworks to find cosine similarity\n",
        "result = {}\n",
        "for key,value in array.items():\n",
        "    temp,tempDict= 0,{}\n",
        "    for keyC,valueC in array.items():\n",
        "        if keyC == key:\n",
        "            continue\n",
        "        temp = scipy.spatial.distance.cosine(value,valueC) #send the values of the standards/frameworks to cosine similarity function\n",
        "        tempDict[keyC] = temp\n",
        "        val1 = min(tempDict, key=tempDict.get)\n",
        "    res = {}\n",
        "    res[val1] = tempDict[val1]\n",
        "    #print (res)\n",
        "    result[key]= res\n",
        "    #result[key]= tempDict\n",
        "        \n",
        "#print the standards/frameworks along with their similar standards/frameworks and their similarity distance\n",
        "print_result(result)"
      ],
      "execution_count": 0,
      "outputs": [
        {
          "output_type": "error",
          "ename": "FileNotFoundError",
          "evalue": "ignored",
          "traceback": [
            "\u001b[0;31m---------------------------------------------------------------------------\u001b[0m",
            "\u001b[0;31mFileNotFoundError\u001b[0m                         Traceback (most recent call last)",
            "\u001b[0;32m<ipython-input-6-5bcd1406fba0>\u001b[0m in \u001b[0;36m<module>\u001b[0;34m()\u001b[0m\n\u001b[1;32m      1\u001b[0m \u001b[0mg\u001b[0m \u001b[0;34m=\u001b[0m \u001b[0mGraph\u001b[0m\u001b[0;34m(\u001b[0m\u001b[0;34m)\u001b[0m\u001b[0;34m\u001b[0m\u001b[0;34m\u001b[0m\u001b[0m\n\u001b[0;32m----> 2\u001b[0;31m \u001b[0mg\u001b[0m\u001b[0;34m.\u001b[0m\u001b[0mparse\u001b[0m\u001b[0;34m(\u001b[0m\u001b[0;34m\"/content/I40KG-Embeddings/sto/sto.nt\"\u001b[0m\u001b[0;34m,\u001b[0m \u001b[0mformat\u001b[0m\u001b[0;34m=\u001b[0m\u001b[0;34m\"nt\"\u001b[0m\u001b[0;34m)\u001b[0m\u001b[0;34m\u001b[0m\u001b[0;34m\u001b[0m\u001b[0m\n\u001b[0m\u001b[1;32m      3\u001b[0m \u001b[0;34m\u001b[0m\u001b[0m\n\u001b[1;32m      4\u001b[0m \u001b[0mlen\u001b[0m\u001b[0;34m(\u001b[0m\u001b[0mg\u001b[0m\u001b[0;34m)\u001b[0m \u001b[0;31m# prints 2\u001b[0m\u001b[0;34m\u001b[0m\u001b[0;34m\u001b[0m\u001b[0m\n\u001b[1;32m      5\u001b[0m  \u001b[0;31m#check printing of the graph\u001b[0m\u001b[0;34m\u001b[0m\u001b[0;34m\u001b[0m\u001b[0;34m\u001b[0m\u001b[0m\n",
            "\u001b[0;32m/usr/local/lib/python3.6/dist-packages/rdflib/graph.py\u001b[0m in \u001b[0;36mparse\u001b[0;34m(self, source, publicID, format, location, file, data, **args)\u001b[0m\n\u001b[1;32m   1032\u001b[0m         source = create_input_source(source=source, publicID=publicID,\n\u001b[1;32m   1033\u001b[0m                                      \u001b[0mlocation\u001b[0m\u001b[0;34m=\u001b[0m\u001b[0mlocation\u001b[0m\u001b[0;34m,\u001b[0m \u001b[0mfile\u001b[0m\u001b[0;34m=\u001b[0m\u001b[0mfile\u001b[0m\u001b[0;34m,\u001b[0m\u001b[0;34m\u001b[0m\u001b[0;34m\u001b[0m\u001b[0m\n\u001b[0;32m-> 1034\u001b[0;31m                                      data=data, format=format)\n\u001b[0m\u001b[1;32m   1035\u001b[0m         \u001b[0;32mif\u001b[0m \u001b[0mformat\u001b[0m \u001b[0;32mis\u001b[0m \u001b[0;32mNone\u001b[0m\u001b[0;34m:\u001b[0m\u001b[0;34m\u001b[0m\u001b[0;34m\u001b[0m\u001b[0m\n\u001b[1;32m   1036\u001b[0m             \u001b[0mformat\u001b[0m \u001b[0;34m=\u001b[0m \u001b[0msource\u001b[0m\u001b[0;34m.\u001b[0m\u001b[0mcontent_type\u001b[0m\u001b[0;34m\u001b[0m\u001b[0;34m\u001b[0m\u001b[0m\n",
            "\u001b[0;32m/usr/local/lib/python3.6/dist-packages/rdflib/parser.py\u001b[0m in \u001b[0;36mcreate_input_source\u001b[0;34m(source, publicID, location, file, data, format)\u001b[0m\n\u001b[1;32m    182\u001b[0m         \u001b[0;32mif\u001b[0m \u001b[0mabsolute_location\u001b[0m\u001b[0;34m.\u001b[0m\u001b[0mstartswith\u001b[0m\u001b[0;34m(\u001b[0m\u001b[0;34m\"file:///\"\u001b[0m\u001b[0;34m)\u001b[0m\u001b[0;34m:\u001b[0m\u001b[0;34m\u001b[0m\u001b[0;34m\u001b[0m\u001b[0m\n\u001b[1;32m    183\u001b[0m             \u001b[0mfilename\u001b[0m \u001b[0;34m=\u001b[0m \u001b[0murl2pathname\u001b[0m\u001b[0;34m(\u001b[0m\u001b[0mabsolute_location\u001b[0m\u001b[0;34m.\u001b[0m\u001b[0mreplace\u001b[0m\u001b[0;34m(\u001b[0m\u001b[0;34m\"file:///\"\u001b[0m\u001b[0;34m,\u001b[0m \u001b[0;34m\"/\"\u001b[0m\u001b[0;34m)\u001b[0m\u001b[0;34m)\u001b[0m\u001b[0;34m\u001b[0m\u001b[0;34m\u001b[0m\u001b[0m\n\u001b[0;32m--> 184\u001b[0;31m             \u001b[0mfile\u001b[0m \u001b[0;34m=\u001b[0m \u001b[0mopen\u001b[0m\u001b[0;34m(\u001b[0m\u001b[0mfilename\u001b[0m\u001b[0;34m,\u001b[0m \u001b[0;34m\"rb\"\u001b[0m\u001b[0;34m)\u001b[0m\u001b[0;34m\u001b[0m\u001b[0;34m\u001b[0m\u001b[0m\n\u001b[0m\u001b[1;32m    185\u001b[0m         \u001b[0;32melse\u001b[0m\u001b[0;34m:\u001b[0m\u001b[0;34m\u001b[0m\u001b[0;34m\u001b[0m\u001b[0m\n\u001b[1;32m    186\u001b[0m             \u001b[0minput_source\u001b[0m \u001b[0;34m=\u001b[0m \u001b[0mURLInputSource\u001b[0m\u001b[0;34m(\u001b[0m\u001b[0mabsolute_location\u001b[0m\u001b[0;34m,\u001b[0m \u001b[0mformat\u001b[0m\u001b[0;34m)\u001b[0m\u001b[0;34m\u001b[0m\u001b[0;34m\u001b[0m\u001b[0m\n",
            "\u001b[0;31mFileNotFoundError\u001b[0m: [Errno 2] No such file or directory: '/content/I40KG-Embeddings/sto/sto.nt'"
          ]
        }
      ]
    },
    {
      "cell_type": "markdown",
      "metadata": {
        "id": "CpC43qoTcusI",
        "colab_type": "text"
      },
      "source": [
        "####Results\n",
        "The following table shows the frameworks with high degree of similarites.\n",
        "\n",
        "| Framework A | Framework B | Score |\n",
        "| ----------------------|:---------------------:| ----------:|\n",
        "| RAMI 4.0 |  IIRA  | 0.75 |\n"
      ]
    },
    {
      "cell_type": "code",
      "metadata": {
        "id": "JqKx82Hydq8W",
        "colab_type": "code",
        "colab": {}
      },
      "source": [
        "# TODO implement a fuction to print a table as the one above"
      ],
      "execution_count": 0,
      "outputs": []
    },
    {
      "cell_type": "markdown",
      "metadata": {
        "id": "3wNXAXHCeavo",
        "colab_type": "text"
      },
      "source": [
        "###Similarity among different layers of the Standards\n",
        "In this section we analyze the similarity among layers of different standards, e.g., RAMI 4.0 -> Layer A vs IIRA -> Layer X"
      ]
    },
    {
      "cell_type": "code",
      "metadata": {
        "id": "HLxQyT6ugE39",
        "colab_type": "code",
        "colab": {}
      },
      "source": [
        "# TODO implement a fuction that receives two frameworks e.g., RAMI4.0 , IIRA and as a result print a table as below"
      ],
      "execution_count": 0,
      "outputs": []
    },
    {
      "cell_type": "markdown",
      "metadata": {
        "id": "4itDLL1Eglu6",
        "colab_type": "text"
      },
      "source": [
        "####Results\n",
        "The following table shows the similarity among different layers of two frameworks.\n",
        "\n",
        "| RAMI4.0 | IIRA | Score |\n",
        "| --------------|:-------:| ----------:|\n",
        "| Layer A |  Layer X  | 0.85 |\n",
        "| Layer B |  Layer Y  | 0.75 |\n",
        "| Layer C |  Layer Z  | 0.85 |\n"
      ]
    },
    {
      "cell_type": "code",
      "metadata": {
        "id": "pj0WrTtEg_U5",
        "colab_type": "code",
        "colab": {}
      },
      "source": [
        "# TODO print a table like the above"
      ],
      "execution_count": 0,
      "outputs": []
    },
    {
      "cell_type": "markdown",
      "metadata": {
        "id": "-pc4XzZYhSu-",
        "colab_type": "text"
      },
      "source": [
        "##Similarity among Standards of the same Framework\n",
        "In this section we show the analysis of similarity among standards belonging to the same framework."
      ]
    },
    {
      "cell_type": "code",
      "metadata": {
        "id": "ou9fwdGVpN9F",
        "colab_type": "code",
        "colab": {}
      },
      "source": [
        "import json\n",
        "from rdflib import Graph\n",
        "import pprint\n",
        "\n",
        "\n",
        "\n",
        "g = Graph()\n",
        "g.parse(\"/content/I40KG-Embeddings/sto/sto.nt\", format=\"nt\")\n",
        "    \n",
        "len(g) # prints 2\n",
        "    \n",
        "'''for stmt in g:\n",
        "    pprint.pprint(stmt)'''\n",
        "    \n",
        "qres = g.query(\n",
        "    \"\"\"PREFIX owl: <http://www.w3.org/2002/07/owl#>\n",
        "       PREFIX rdf: <http://www.w3.org/1999/02/22-rdf-syntax-ns#>\n",
        "       PREFIX sto: <https://w3id.org/i40/sto#>\n",
        "    \n",
        "    select ?s where {\n",
        "            ?s rdf:type sto:Standard .\n",
        "            ?s sto:hasClassification ?c .\n",
        "            ?c sto:isDescribedin <https://w3id.org/i40/sto#RAMI> .\n",
        "            } limit 1000\"\"\")\n",
        "\n",
        "'''    \n",
        "with open(\"framework_entity.nt\", \"w\") as fd:\n",
        "    for row in qres:\n",
        "        fd.write(\"%s\" % row + \"\\n\")\n",
        "        #print(\"%s\" % row)'''\n",
        "        \n",
        "#oldfile = open(\"framework_entity.nt\", \"r\")\n",
        "with open(\"/content/I40KG-Embeddings/logs_sto/entities_to_embeddings.json\",'rb') as f:\n",
        "    array = json.load(f)\n",
        "new_dict = {}\n",
        "for row in qres:\n",
        "#for line in oldfile:\n",
        "    #line1 = line.strip(\"\\n\")\n",
        "    for key,value in array.items():\n",
        "        if key == \"%s\" % row:\n",
        "            tem = key\n",
        "            new_dict[tem] = array[key] \n",
        "    print(new_dict)\n",
        "\n",
        "with open('/content/I40KG-Embeddings/output_standard_same_framework.json','w') as f:\n",
        "    # this would place the entire output on one line\n",
        "    # use json.dump(lista_items, f, indent=4) to \"pretty-print\" with four spaces per indent\n",
        "    json.dump(new_dict, f) \n",
        "\n",
        "    \n",
        "#to read the file containing standards/frameworks along with their embeddings   \n",
        "with open('/content/I40KG-Embeddings/output_standard_same_framework.json', 'r') as f:\n",
        "    array = json.load(f)\n",
        "    \n",
        "#compare each standard/framework with all the other standards/frameworks to find cosine similarity\n",
        "result = {}\n",
        "for key,value in array.items():\n",
        "    temp,tempDict= 0,{}\n",
        "    for keyC,valueC in array.items():\n",
        "        if keyC == key:\n",
        "            continue\n",
        "        temp = scipy.spatial.distance.cosine(value,valueC) #send the values of the standards/frameworks to cosine similarity function\n",
        "        tempDict[keyC] = temp\n",
        "        val1 = min(tempDict, key=tempDict.get)\n",
        "    res = {}\n",
        "    res[val1] = tempDict[val1]\n",
        "    #print (res)\n",
        "    result[key]= res\n",
        "    #result[key]= tempDict\n",
        "        \n",
        "#print the standards/frameworks along with their similar standards/frameworks and their similarity distance\n",
        "print_result(result)"
      ],
      "execution_count": 0,
      "outputs": []
    },
    {
      "cell_type": "markdown",
      "metadata": {
        "id": "Q64-8qaXhsMo",
        "colab_type": "text"
      },
      "source": [
        "##Similarity among Standards of different Framework\n",
        "In this section we show the analysis of similarity among standards belonging to different frameworks."
      ]
    },
    {
      "cell_type": "code",
      "metadata": {
        "id": "7x3yZavkkZ37",
        "colab_type": "code",
        "colab": {}
      },
      "source": [
        "import json\n",
        "from rdflib import Graph\n",
        "import pprint\n",
        "\n",
        "\n",
        "\n",
        "g = Graph()\n",
        "g.parse(\"C:/Users/Kaushikee/.spyder-py3/I40KG-Embeddings-master/sto/sto.nt\", format=\"nt\")\n",
        "    \n",
        "len(g) # prints 2\n",
        "    \n",
        "'''for stmt in g:\n",
        "    pprint.pprint(stmt)'''\n",
        "    \n",
        "qres1 = g.query(\n",
        "    \"\"\"PREFIX owl: <http://www.w3.org/2002/07/owl#>\n",
        "       PREFIX rdf: <http://www.w3.org/1999/02/22-rdf-syntax-ns#>\n",
        "       PREFIX sto: <https://w3id.org/i40/sto#>\n",
        "    \n",
        "    select ?s where {\n",
        "            ?s rdf:type sto:Standard .\n",
        "            ?s sto:hasClassification ?c .\n",
        "            ?c sto:isDescribedin <https://w3id.org/i40/sto#RAMI> .\n",
        "            } limit 1000\"\"\")\n",
        "\n",
        "qres2 = g.query(\n",
        "    \"\"\"PREFIX owl: <http://www.w3.org/2002/07/owl#>\n",
        "       PREFIX rdf: <http://www.w3.org/1999/02/22-rdf-syntax-ns#>\n",
        "       PREFIX sto: <https://w3id.org/i40/sto#>\n",
        "    \n",
        "    select ?s where {\n",
        "            ?s rdf:type sto:Standard .\n",
        "            ?s sto:hasClassification ?c .\n",
        "            ?c sto:isDescribedin <https://w3id.org/i40/sto#ISA95> .\n",
        "            } limit 1000\"\"\") \n",
        "\n",
        "'''    \n",
        "with open(\"framework_entity.nt\", \"w\") as fd:\n",
        "    for row in qres:\n",
        "        fd.write(\"%s\" % row + \"\\n\")\n",
        "        #print(\"%s\" % row)'''\n",
        "        \n",
        "#oldfile = open(\"framework_entity.nt\", \"r\")\n",
        "with open(\"C:/Users/Kaushikee/.spyder-py3/I40KG-Embeddings-master/logs_sto/entities_to_embeddings.json\",'rb') as f:\n",
        "    array = json.load(f)\n",
        "new_dict = {}\n",
        "for row in qres1:\n",
        "#for line in oldfile:\n",
        "    #line1 = line.strip(\"\\n\")\n",
        "    for key,value in array.items():\n",
        "        if key == \"%s\" % row:\n",
        "            tem = key\n",
        "            new_dict[tem] = array[key] \n",
        "    print(new_dict)\n",
        "for row in qres2:\n",
        "#for line in oldfile:\n",
        "    #line1 = line.strip(\"\\n\")\n",
        "    for key,value in array.items():\n",
        "        if key == \"%s\" % row:\n",
        "            tem = key\n",
        "            new_dict[tem] = array[key] \n",
        "    print(new_dict)\n",
        "\n",
        "\n",
        "\n",
        "with open('/content/I40KG-Embeddings/output_standard_different_framework.json','w') as f:\n",
        "    # this would place the entire output on one line\n",
        "    # use json.dump(lista_items, f, indent=4) to \"pretty-print\" with four spaces per indent\n",
        "    json.dump(new_dict, f)\n",
        "    \n",
        "    \n",
        "#to read the file containing standards/frameworks along with their embeddings   \n",
        "with open('/content/I40KG-Embeddings/output_standard_different_framework.json', 'r') as f:\n",
        "    array = json.load(f)\n",
        "    \n",
        "#compare each standard/framework with all the other standards/frameworks to find cosine similarity\n",
        "result = {}\n",
        "for key,value in array.items():\n",
        "    temp,tempDict= 0,{}\n",
        "    for keyC,valueC in array.items():\n",
        "        if keyC == key:\n",
        "            continue\n",
        "        temp = scipy.spatial.distance.cosine(value,valueC) #send the values of the standards/frameworks to cosine similarity function\n",
        "        tempDict[keyC] = temp\n",
        "        val1 = min(tempDict, key=tempDict.get)\n",
        "    res = {}\n",
        "    res[val1] = tempDict[val1]\n",
        "    #print (res)\n",
        "    result[key]= res\n",
        "    #result[key]= tempDict\n",
        "        \n",
        "#print the standards/frameworks along with their similar standards/frameworks and their similarity distance\n",
        "print_result(result)\n"
      ],
      "execution_count": 0,
      "outputs": []
    },
    {
      "cell_type": "markdown",
      "metadata": {
        "id": "3jfCwQl5ksNr",
        "colab_type": "text"
      },
      "source": [
        "####Results\n",
        "The following table shows the similarity among different layers of two frameworks.\n",
        "\n",
        "| RAMI4.0 | IIRA | Score |\n",
        "| --------------|:-------:| ----------:|\n",
        "| Standard A |  Standard X  | 0.85 |\n",
        "| Standard B |  Standard Y  | 0.75 |\n",
        "| Standard C |  Standard Z  | 0.85 |\n"
      ]
    }
  ]
}