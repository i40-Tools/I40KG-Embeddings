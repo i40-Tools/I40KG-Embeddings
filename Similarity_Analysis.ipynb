{
  "nbformat": 4,
  "nbformat_minor": 0,
  "metadata": {
    "colab": {
      "name": "Similarity-Analysis.ipynb",
      "version": "0.3.2",
      "provenance": [],
      "collapsed_sections": [],
      "include_colab_link": true
    },
    "language_info": {
      "codemirror_mode": {
        "name": "ipython",
        "version": 3
      },
      "file_extension": ".py",
      "mimetype": "text/x-python",
      "name": "python",
      "nbconvert_exporter": "python",
      "pygments_lexer": "ipython3",
      "version": "3.6.7"
    },
    "kernelspec": {
      "display_name": "Python 3",
      "language": "python",
      "name": "python3"
    }
  },
  "cells": [
    {
      "cell_type": "markdown",
      "metadata": {
        "id": "view-in-github",
        "colab_type": "text"
      },
      "source": [
        "<a href=\"https://colab.research.google.com/github/i40-Tools/I40KG-Embeddings/blob/master/Similarity_Analysis.ipynb\" target=\"_parent\"><img src=\"https://colab.research.google.com/assets/colab-badge.svg\" alt=\"Open In Colab\"/></a>"
      ]
    },
    {
      "cell_type": "markdown",
      "metadata": {
        "colab_type": "text",
        "id": "hQCOAl5s4Wyv"
      },
      "source": [
        "# I40 standards landscape similarity analysis using embeddings\n",
        "\n",
        "## Overview\n",
        "\n",
        "In this notebook, we show the similarity analysis between Industry 4.0 Standards. \n",
        "To do so, we create embeddings about the Industry 4.0 Standards Knowledge Graph (I40KG) developed by [Grangel-Gonzales et. al.](https://www.researchgate.net/publication/318208930_The_Industry_40_Standards_Landscape_from_a_Semantic_Integration_Perspective)\n",
        "\n",
        "The embeddings are located here: [I40 Embeddings](https://github.com/i40-Tools/I40KG-Embeddings/tree/master/logs_sto)"
      ]
    },
    {
      "cell_type": "markdown",
      "metadata": {
        "colab_type": "text",
        "id": "kFDNGNBI6EvO"
      },
      "source": [
        "## Initial Configurations\n",
        "First, let's import the required libraries to perform the similarity analysis."
      ]
    },
    {
      "cell_type": "code",
      "metadata": {
        "colab_type": "code",
        "id": "hyThPWuINg6u",
        "outputId": "384f3d98-0486-47a3-eda8-b9d68af63bef",
        "colab": {
          "base_uri": "https://localhost:8080/",
          "height": 136
        }
      },
      "source": [
        "!git clone https://github.com/i40-Tools/I40KG-Embeddings.git"
      ],
      "execution_count": 1,
      "outputs": [
        {
          "output_type": "stream",
          "text": [
            "Cloning into 'I40KG-Embeddings'...\n",
            "remote: Enumerating objects: 35, done.\u001b[K\n",
            "remote: Counting objects:   2% (1/35)   \u001b[K\rremote: Counting objects:   5% (2/35)   \u001b[K\rremote: Counting objects:   8% (3/35)   \u001b[K\rremote: Counting objects:  11% (4/35)   \u001b[K\rremote: Counting objects:  14% (5/35)   \u001b[K\rremote: Counting objects:  17% (6/35)   \u001b[K\rremote: Counting objects:  20% (7/35)   \u001b[K\rremote: Counting objects:  22% (8/35)   \u001b[K\rremote: Counting objects:  25% (9/35)   \u001b[K\rremote: Counting objects:  28% (10/35)   \u001b[K\rremote: Counting objects:  31% (11/35)   \u001b[K\rremote: Counting objects:  34% (12/35)   \u001b[K\rremote: Counting objects:  37% (13/35)   \u001b[K\rremote: Counting objects:  40% (14/35)   \u001b[K\rremote: Counting objects:  42% (15/35)   \u001b[K\rremote: Counting objects:  45% (16/35)   \u001b[K\rremote: Counting objects:  48% (17/35)   \u001b[K\rremote: Counting objects:  51% (18/35)   \u001b[K\rremote: Counting objects:  54% (19/35)   \u001b[K\rremote: Counting objects:  57% (20/35)   \u001b[K\rremote: Counting objects:  60% (21/35)   \u001b[K\rremote: Counting objects:  62% (22/35)   \u001b[K\rremote: Counting objects:  65% (23/35)   \u001b[K\rremote: Counting objects:  68% (24/35)   \u001b[K\rremote: Counting objects:  71% (25/35)   \u001b[K\rremote: Counting objects:  74% (26/35)   \u001b[K\rremote: Counting objects:  77% (27/35)   \u001b[K\rremote: Counting objects:  80% (28/35)   \u001b[K\rremote: Counting objects:  82% (29/35)   \u001b[K\rremote: Counting objects:  85% (30/35)   \u001b[K\rremote: Counting objects:  88% (31/35)   \u001b[K\rremote: Counting objects:  91% (32/35)   \u001b[K\rremote: Counting objects:  94% (33/35)   \u001b[K\rremote: Counting objects:  97% (34/35)   \u001b[K\rremote: Counting objects: 100% (35/35)   \u001b[K\rremote: Counting objects: 100% (35/35), done.\u001b[K\n",
            "remote: Compressing objects: 100% (28/28), done.\u001b[K\n",
            "remote: Total 334 (delta 12), reused 20 (delta 4), pack-reused 299\n",
            "Receiving objects: 100% (334/334), 75.98 MiB | 23.41 MiB/s, done.\n",
            "Resolving deltas: 100% (157/157), done.\n"
          ],
          "name": "stdout"
        }
      ]
    },
    {
      "cell_type": "code",
      "metadata": {
        "colab_type": "code",
        "id": "sEm90RF-MtcV",
        "outputId": "92e39ee1-562f-438c-84de-1798b37b9be6",
        "colab": {
          "base_uri": "https://localhost:8080/",
          "height": 34
        }
      },
      "source": [
        "%ls"
      ],
      "execution_count": 2,
      "outputs": [
        {
          "output_type": "stream",
          "text": [
            "\u001b[0m\u001b[01;34mI40KG-Embeddings\u001b[0m/  \u001b[01;34msample_data\u001b[0m/\n"
          ],
          "name": "stdout"
        }
      ]
    },
    {
      "cell_type": "code",
      "metadata": {
        "colab_type": "code",
        "id": "7aEjqqkYutsz",
        "colab": {}
      },
      "source": [
        "import scipy\n",
        "from scipy import spatial\n",
        "import numpy as np\n",
        "import math\n",
        "import json\n",
        "from scipy.spatial.distance import cdist"
      ],
      "execution_count": 0,
      "outputs": []
    },
    {
      "cell_type": "markdown",
      "metadata": {
        "colab_type": "text",
        "id": "WVb3ydnAovrN"
      },
      "source": [
        "### Define function to print the result in tabular format \n",
        "The format of tables for Similarity of Frameworks, Standards and Layers are different. Hence, different functions for each type to clear the confusions."
      ]
    },
    {
      "cell_type": "code",
      "metadata": {
        "colab_type": "code",
        "id": "P8oZcY7volad",
        "colab": {}
      },
      "source": [
        "#function to print result in table for similarity of frameworks\n",
        "def print_result_framework(result):\n",
        "    print (\"{:<8}                                            {:<15}                         {:<10}\".format('Framework A','Framework B','Score'))\n",
        "    print (\"----------------------------------------------------------------------------------------------------------------------\")\n",
        "    for key,value in result.items():\n",
        "        val = str(value)\n",
        "        val = val.strip(\"{}\")\n",
        "        val = val.strip(\"''\")\n",
        "        val = val.replace(\"':\",\"     \")\n",
        "        print(\"{:<8}       {:<15}\".format(key +\"      \", val))\n",
        "\n"
      ],
      "execution_count": 0,
      "outputs": []
    },
    {
      "cell_type": "code",
      "metadata": {
        "colab_type": "code",
        "id": "u6SGSexAtoFg",
        "colab": {}
      },
      "source": [
        "#function to print result in table for similarity of standards, similarity of standards for same framework and different framework\n",
        "def print_result_standard(result):\n",
        "    print (\"{:<8}                                            {:<15}                         {:<10}\".format('Standard A','Standard B','Score'))\n",
        "    print (\"----------------------------------------------------------------------------------------------------------------------\")\n",
        "    for key,value in result.items():\n",
        "        val = str(value)\n",
        "        val = val.strip(\"{}\")\n",
        "        val = val.strip(\"''\")\n",
        "        val = val.replace(\"':\",\"     \")\n",
        "        print(\"{:<8}       {:<15}\".format(key +\"      \", val))\n",
        "\n"
      ],
      "execution_count": 0,
      "outputs": []
    },
    {
      "cell_type": "code",
      "metadata": {
        "colab_type": "code",
        "id": "VHyEOITUWQ32",
        "colab": {}
      },
      "source": [
        "#function to print result in table for similarity for layers\n",
        "def print_layers(result,framework1,framework2):\n",
        "    print (\"{:<8}                     {:<15}                         {:<10}\".format(framework1,framework2,'Score'))\n",
        "    print (\"----------------------------------------------------------------------------------------------------------------------\")\n",
        "    for key,value in result.items():\n",
        "        val = str(value)\n",
        "        val = val.strip(\"{}\")\n",
        "        val = val.strip(\"''\")\n",
        "        val = val.replace(\"':\",\"     \")\n",
        "        print(\"{:<8}       {:<15}\".format(key +\"      \", val))\n"
      ],
      "execution_count": 0,
      "outputs": []
    },
    {
      "cell_type": "markdown",
      "metadata": {
        "colab_type": "text",
        "id": "oV0m0qjp74TW"
      },
      "source": [
        "### Define similarity function\n",
        "We are going to us cosine distance to measure the similarity between two embeddings"
      ]
    },
    {
      "cell_type": "code",
      "metadata": {
        "colab_type": "code",
        "id": "JVadkVny8ENA",
        "colab": {}
      },
      "source": [
        "#function to calculate cosine distance \n",
        "def cosine_similarity(vec1,vec2):\n",
        "    sum11, sum12, sum22 = 0, 0, 0\n",
        "    for i in range(len(vec1)):\n",
        "        x = vec1[i]; y = vec2[i]\n",
        "        sum11 += x*x\n",
        "        sum22 += y*y\n",
        "        sum12 += x*y\n",
        "    return sum12/math.sqrt(sum11*sum22)"
      ],
      "execution_count": 0,
      "outputs": []
    },
    {
      "cell_type": "markdown",
      "metadata": {
        "colab_type": "text",
        "id": "faYXX_Tx8sVp"
      },
      "source": [
        "## Similarity among I40 Standarization Frameworks\n",
        "In this section we show the analysis of similarity among standarization frameworks"
      ]
    },
    {
      "cell_type": "code",
      "metadata": {
        "colab_type": "code",
        "id": "y3clg69O9-39",
        "outputId": "109aa582-e044-4430-a79a-240e73c63fc0",
        "colab": {
          "base_uri": "https://localhost:8080/",
          "height": 207
        }
      },
      "source": [
        "!pip3 install rdflib"
      ],
      "execution_count": 8,
      "outputs": [
        {
          "output_type": "stream",
          "text": [
            "Collecting rdflib\n",
            "\u001b[?25l  Downloading https://files.pythonhosted.org/packages/3c/fe/630bacb652680f6d481b9febbb3e2c3869194a1a5fc3401a4a41195a2f8f/rdflib-4.2.2-py3-none-any.whl (344kB)\n",
            "\u001b[K     |████████████████████████████████| 348kB 2.8MB/s \n",
            "\u001b[?25hCollecting isodate (from rdflib)\n",
            "\u001b[?25l  Downloading https://files.pythonhosted.org/packages/9b/9f/b36f7774ff5ea8e428fdcfc4bb332c39ee5b9362ddd3d40d9516a55221b2/isodate-0.6.0-py2.py3-none-any.whl (45kB)\n",
            "\u001b[K     |████████████████████████████████| 51kB 18.4MB/s \n",
            "\u001b[?25hRequirement already satisfied: pyparsing in /usr/local/lib/python3.6/dist-packages (from rdflib) (2.4.0)\n",
            "Requirement already satisfied: six in /usr/local/lib/python3.6/dist-packages (from isodate->rdflib) (1.12.0)\n",
            "Installing collected packages: isodate, rdflib\n",
            "Successfully installed isodate-0.6.0 rdflib-4.2.2\n"
          ],
          "name": "stdout"
        }
      ]
    },
    {
      "cell_type": "code",
      "metadata": {
        "colab_type": "code",
        "id": "IYw3XfUX8pGJ",
        "colab": {}
      },
      "source": [
        "import json\n",
        "from rdflib import Graph\n",
        "import pprint"
      ],
      "execution_count": 0,
      "outputs": []
    },
    {
      "cell_type": "code",
      "metadata": {
        "id": "33C5sAoLdarC",
        "colab_type": "code",
        "colab": {}
      },
      "source": [
        "embeddings_type = \"TransR\" #Values are TransE, TransD, TransH, TransR\n",
        "embeddings_path = \"/content/I40KG-Embeddings/embeddings/\"+embeddings_type+\"/sto-enriched\""
      ],
      "execution_count": 0,
      "outputs": []
    },
    {
      "cell_type": "markdown",
      "metadata": {
        "colab_type": "text",
        "id": "AMwPTYlFcRh3"
      },
      "source": [
        "###Similarity among Frameworks\n",
        "In this section we analyze the similarity of I4.0 frameworks at the high level, i.e., StandardizationFramework.\n"
      ]
    },
    {
      "cell_type": "code",
      "metadata": {
        "colab_type": "code",
        "id": "EGoiqCkM-JVE",
        "colab": {}
      },
      "source": [
        "g = Graph()\n",
        "g.parse(\"/content/I40KG-Embeddings/sto/sto.nt\", format=\"nt\")\n",
        "    \n",
        "len(g) # prints 2\n",
        " #check printing of the graph    \n",
        "'''for stmt in g:\n",
        "    pprint.pprint(stmt)'''\n",
        "\n",
        "#query to get the framework/standard from the sto.nt file\n",
        "#to get standards we have to replace sto:StandardizationFramework by sto:Standard in the query\n",
        "#we can get standards of the frameworks as well by just changing the query\n",
        "\n",
        "qres = g.query(\n",
        "    \"\"\"PREFIX owl: <http://www.w3.org/2002/07/owl#>\n",
        "       PREFIX rdf: <http://www.w3.org/1999/02/22-rdf-syntax-ns#>\n",
        "       PREFIX sto: <https://w3id.org/i40/sto#>\n",
        "    \n",
        "    select ?s where {\n",
        "            ?s rdf:type sto:StandardizationFramework .\n",
        "            } limit 1000\"\"\")\n",
        "    \n",
        "       \n",
        "#to get the corresponding embeddings of the frameworks/standards from the json file \n",
        "with open(embeddings_path+\"/entities_to_embeddings.json\",'rb') as f:\n",
        "    array = json.load(f)\n",
        "new_dict = {}\n",
        "for row in qres:\n",
        "    for key,value in array.items():\n",
        "        if key == \"%s\" % row:\n",
        "            tem = key\n",
        "            new_dict[tem] = array[key] \n",
        "            #print(new_dict)\n",
        "\n",
        "#to put the frameworks/standards with their corresponding embeddings in a file            \n",
        "with open('/content/I40KG-Embeddings/output_framework.json','w') as f:\n",
        "    # this would place the entire output on one line\n",
        "    # use json.dump(new_dict, f, indent=4) to \"pretty-print\" with four spaces per indent\n",
        "    json.dump(new_dict, f)\n",
        "    \n",
        "    \n",
        "#to read the file containing standards/frameworks along with their embeddings   \n",
        "with open('/content/I40KG-Embeddings/output_framework.json', 'r') as f:\n",
        "    array = json.load(f)\n",
        "    \n",
        "#compare each standard/framework with all the other standards/frameworks to find cosine similarity\n",
        "result = {}\n",
        "for key,value in array.items():\n",
        "    temp,tempDict= 0,{}\n",
        "    for keyC,valueC in array.items():\n",
        "        if keyC == key:\n",
        "            continue\n",
        "        temp = scipy.spatial.distance.cosine(value,valueC) #send the values of the standards/frameworks to cosine similarity function\n",
        "        tempDict[keyC] = temp\n",
        "        val1 = min(tempDict, key=tempDict.get)\n",
        "    res = {}\n",
        "    res[val1] = tempDict[val1]\n",
        "    #print (res)\n",
        "    result[key]= res\n",
        "    #result[key]= tempDict\n",
        "        \n",
        "#print the standards/frameworks along with their similar standards/frameworks and their similarity distance\n",
        "print_result_framework(result)"
      ],
      "execution_count": 0,
      "outputs": []
    },
    {
      "cell_type": "markdown",
      "metadata": {
        "colab_type": "text",
        "id": "dhr_lZjLqIKD"
      },
      "source": [
        "### Similarity among Standards\n",
        "\n",
        "In this section we analyze the similarity of I4.0 standards at the high level, i.e., Standard."
      ]
    },
    {
      "cell_type": "code",
      "metadata": {
        "colab_type": "code",
        "id": "BCdr2dUgpGuz",
        "colab": {
          "base_uri": "https://localhost:8080/",
          "height": 1000
        },
        "outputId": "3791ac1f-79e2-4e63-d61d-bb86e0afc54d"
      },
      "source": [
        "g = Graph()\n",
        "g.parse(\"/content/I40KG-Embeddings/sto/sto.nt\", format=\"nt\")\n",
        "    \n",
        "len(g) # prints 2\n",
        " #check printing of the graph    \n",
        "'''for stmt in g:\n",
        "    pprint.pprint(stmt)'''\n",
        "\n",
        "#query to get the framework/standard from the sto.nt file\n",
        "#to get standards we have to replace sto:StandardizationFramework by sto:Standard in the query\n",
        "#we can get standards of the frameworks as well by just changing the query\n",
        "\n",
        "qres = g.query(\n",
        "    \"\"\"PREFIX owl: <http://www.w3.org/2002/07/owl#>\n",
        "       PREFIX rdf: <http://www.w3.org/1999/02/22-rdf-syntax-ns#>\n",
        "       PREFIX sto: <https://w3id.org/i40/sto#>\n",
        "    \n",
        "    select ?s where {\n",
        "            ?s rdf:type sto:Standard .\n",
        "            } limit 1000\"\"\")\n",
        "    \n",
        "       \n",
        "#to get the corresponding embeddings of the frameworks/standards from the json file \n",
        "with open(embeddings_path+\"/entities_to_embeddings.json\",'rb') as f:\n",
        "    array = json.load(f)\n",
        "new_dict = {}\n",
        "for row in qres:\n",
        "    for key,value in array.items():\n",
        "        if key == \"%s\" % row:\n",
        "            tem = key\n",
        "            new_dict[tem] = array[key] \n",
        "    #print(new_dict)\n",
        "\n",
        "#to put the frameworks/standards with their corresponding embeddings in a file            \n",
        "with open('/content/I40KG-Embeddings/output_standard.json','w') as f:\n",
        "    # this would place the entire output on one line\n",
        "    # use json.dump(new_dict, f, indent=4) to \"pretty-print\" with four spaces per indent\n",
        "    json.dump(new_dict, f)\n",
        "    \n",
        "    \n",
        "#to read the file containing standards/frameworks along with their embeddings   \n",
        "with open('/content/I40KG-Embeddings/output_standard.json', 'r') as f:\n",
        "    array = json.load(f)\n",
        "    \n",
        "#compare each standard/framework with all the other standards/frameworks to find cosine similarity\n",
        "result = {}\n",
        "for key,value in array.items():\n",
        "    temp,tempDict= 0,{}\n",
        "    for keyC,valueC in array.items():\n",
        "        if keyC == key:\n",
        "            continue\n",
        "        temp = scipy.spatial.distance.cosine(value,valueC) #send the values of the standards/frameworks to cosine similarity function\n",
        "        tempDict[keyC] = temp\n",
        "        val1 = min(tempDict, key=tempDict.get)\n",
        "    res = {}\n",
        "    res[val1] = tempDict[val1]\n",
        "    #print (res)\n",
        "    result[key]= res\n",
        "    #result[key]= tempDict\n",
        "        \n",
        "#print the standards/frameworks along with their similar standards/frameworks and their similarity distance\n",
        "print_result_standard(result)"
      ],
      "execution_count": 16,
      "outputs": [
        {
          "output_type": "stream",
          "text": [
            "Standard A                                            Standard B                              Score     \n",
            "----------------------------------------------------------------------------------------------------------------------\n",
            "https://w3id.org/i40/sto#ISO_15704             https://w3id.org/i40/sto#RFC_2616      0.6384405441390385\n",
            "https://w3id.org/i40/sto#IEC_62453             https://w3id.org/i40/sto#ISO_15746      0.5538523811680831\n",
            "https://w3id.org/i40/sto#ISO_42010             https://w3id.org/i40/sto#ISO_10303      0.6701395014782172\n",
            "https://w3id.org/i40/sto#ISO_29161             https://w3id.org/i40/sto#ISO_27036      0.5600076483278114\n",
            "https://w3id.org/i40/sto#IEC_60864_P1             https://w3id.org/i40/sto#IEC_60870_P5_S3_1992      0.5898771504521403\n",
            "https://w3id.org/i40/sto#IEC_61334_P3_S22_2001             https://w3id.org/i40/sto#IEC_61334_P4_S61_1998      0.5658253104221139\n",
            "https://w3id.org/i40/sto#ISO_18629             https://w3id.org/i40/sto#IEC_61158      0.5995400714840141\n",
            "https://w3id.org/i40/sto#IEC_60255_149_2013             https://w3id.org/i40/sto#IEC_60255_2013      0.5316654032880734\n",
            "https://w3id.org/i40/sto#IEC_60870_P6_S501_1995             https://w3id.org/i40/sto#IEC_60255_2010      0.5522921652859739\n",
            "https://w3id.org/i40/sto#IEC_62061             https://w3id.org/i40/sto#IEC_60870      0.5364583708936763\n",
            "https://w3id.org/i40/sto#IEC_60870_P5_S103_1997             https://w3id.org/i40/sto#ISO_14739-1      0.5710330654994052\n",
            "https://w3id.org/i40/sto#DIN_SPEC_27070             https://w3id.org/i40/sto#ISO_22745-11      0.5432730137621091\n",
            "https://w3id.org/i40/sto#RFC_6750             https://w3id.org/i40/sto#IEC_60839_P7_6      0.6282783158563283\n",
            "https://w3id.org/i40/sto#IEC_62714             https://w3id.org/i40/sto#ISO_20922      0.49803228686441525\n",
            "https://w3id.org/i40/sto#IEC_60870_P2_S2_1996             https://w3id.org/i40/sto#IEC_61690_P2_2000      0.5735536556839759\n",
            "https://w3id.org/i40/sto#MTConnect             https://w3id.org/i40/sto#IEC_61850      0.6171143246617676\n",
            "https://w3id.org/i40/sto#ISO_5459             https://w3id.org/i40/sto#IEC_61506      0.43627103633356046\n",
            "https://w3id.org/i40/sto#IEC_61400_P25_5             https://w3id.org/i40/sto#IEC_60255_149_2013      0.565383365943473\n",
            "https://w3id.org/i40/sto#RFC_793             https://w3id.org/i40/sto#IEC_61810_P7      0.6177879217396232\n",
            "https://w3id.org/i40/sto#RFC_7644             https://w3id.org/i40/sto#IEC_61160      0.4544789985623904\n",
            "https://w3id.org/i40/sto#IEC_61511             https://w3id.org/i40/sto#IEC_60848      0.507543929855468\n",
            "https://w3id.org/i40/sto#ISA-95             https://w3id.org/i40/sto#BPMN      0.5863142172994692\n",
            "https://w3id.org/i40/sto#ISO_TS_14649-201             https://w3id.org/i40/sto#ISO_29161      0.6111304461550744\n",
            "https://w3id.org/i40/sto#MathML             https://w3id.org/i40/sto#IEC_61850      0.6324929956117968\n",
            "https://w3id.org/i40/sto#IEC_60870_P5_S4_1993             https://w3id.org/i40/sto#IEC_61400_P25_6      0.6358703397443853\n",
            "https://w3id.org/i40/sto#IEC_61010_P2_S202_2016             https://w3id.org/i40/sto#IEC_61334_P6_2000      0.6141568202313719\n",
            "https://w3id.org/i40/sto#IEC_60255_2013             https://w3id.org/i40/sto#IEC_60255_149_2013      0.5316654032880734\n",
            "https://w3id.org/i40/sto#ISO_9000             https://w3id.org/i40/sto#ISO_16792      0.6398225833056368\n",
            "https://w3id.org/i40/sto#IEC_29115             https://w3id.org/i40/sto#IEC_60073_2002      0.6134197902741803\n",
            "https://w3id.org/i40/sto#IEC_60870_P5_S5_1995             https://w3id.org/i40/sto#IEC_60204_2000      0.6122862309302592\n",
            "https://w3id.org/i40/sto#IEC_61810_P2             https://w3id.org/i40/sto#RFC_2818      0.6290033589457931\n",
            "https://w3id.org/i40/sto#ISO_19770             https://w3id.org/i40/sto#IEC_61784      0.5964836756719575\n",
            "https://w3id.org/i40/sto#IEC_62264             https://w3id.org/i40/sto#IEC_61804      0.6080726977935902\n",
            "https://w3id.org/i40/sto#VDI_VDE_2182             https://w3id.org/i40/sto#IEC_61334_P4_S32_1996      0.565097974158722\n",
            "https://w3id.org/i40/sto#ISO_15459             https://w3id.org/i40/sto#IEC_61334_P4_S1_1996      0.5334716976294516\n",
            "https://w3id.org/i40/sto#IEC_60870_P5_S1_1990             https://w3id.org/i40/sto#IEC_61334_P3_S1_1998      0.6086957733109447\n",
            "https://w3id.org/i40/sto#ISO_9594-8             https://w3id.org/i40/sto#IEC_60870_P6_S2_1995      0.569564838464657\n",
            "https://w3id.org/i40/sto#ISO_20547-3             https://w3id.org/i40/sto#ISO_13849      0.49794935679999\n",
            "https://w3id.org/i40/sto#ISO_27036             https://w3id.org/i40/sto#ISO_29161      0.5600076483278114\n",
            "https://w3id.org/i40/sto#ISO_27019             https://w3id.org/i40/sto#IEC_60255_2010      0.6727245324752601\n",
            "https://w3id.org/i40/sto#ISO_14306             https://w3id.org/i40/sto#IEC_62424      0.54611895577097\n",
            "https://w3id.org/i40/sto#IEC_61512             https://w3id.org/i40/sto#OMG_DDS      0.6428429075814994\n",
            "https://w3id.org/i40/sto#IEC_60204_2000             https://w3id.org/i40/sto#IEC_60870_P5_S5_1995      0.6122862309302592\n",
            "https://w3id.org/i40/sto#BPEL             https://w3id.org/i40/sto#ISO_27036      0.5858360031119039\n",
            "https://w3id.org/i40/sto#ISO_14739-1             https://w3id.org/i40/sto#IEC_60870_P5_S103_1997      0.5710330654994052\n",
            "https://w3id.org/i40/sto#W3C_SPARQL             https://w3id.org/i40/sto#W3C_OWL      0.4658039718662913\n",
            "https://w3id.org/i40/sto#ISO_15408             https://w3id.org/i40/sto#IEC_61400      0.6526494376233446\n",
            "https://w3id.org/i40/sto#RFC_7252             https://w3id.org/i40/sto#ISO_PAS_17506      0.6367481552365112\n",
            "https://w3id.org/i40/sto#ISO_24760             https://w3id.org/i40/sto#NIST_800-146      0.5027913658021442\n",
            "https://w3id.org/i40/sto#IEC_60382             https://w3id.org/i40/sto#ISO_15531      0.5748415446765711\n",
            "https://w3id.org/i40/sto#IEC_61010_P2_S201_2017             https://w3id.org/i40/sto#RFC_768      0.6411109819864983\n",
            "https://w3id.org/i40/sto#NIST_500-293             https://w3id.org/i40/sto#W3C_OWL      0.5525095228677909\n",
            "https://w3id.org/i40/sto#B2MML             https://w3id.org/i40/sto#IEC_62656      0.523751500162847\n",
            "https://w3id.org/i40/sto#IEC_81714             https://w3id.org/i40/sto#ISO_20140_5      0.7034072859145322\n",
            "https://w3id.org/i40/sto#IEC_60870_P5_S104_2016             https://w3id.org/i40/sto#IEC_60839_P7_7      0.6057699257902014\n",
            "https://w3id.org/i40/sto#RFC_7642             https://w3id.org/i40/sto#ISO_27018      0.6268090449383216\n",
            "https://w3id.org/i40/sto#ISO_14443             https://w3id.org/i40/sto#IEC_60839-5-2      0.5656473711953459\n",
            "https://w3id.org/i40/sto#ISO_29100             https://w3id.org/i40/sto#RFC_6750      0.6897296369112275\n",
            "https://w3id.org/i40/sto#IEC_11404             https://w3id.org/i40/sto#IEC_60946      0.6170997474723913\n",
            "https://w3id.org/i40/sto#ISO_13485             https://w3id.org/i40/sto#IEC_60050      0.6275991008002398\n",
            "https://w3id.org/i40/sto#IEC_60382_1991             https://w3id.org/i40/sto#IEC_61400_P25_1      0.6922081577320975\n",
            "https://w3id.org/i40/sto#RFC_768             https://w3id.org/i40/sto#IEC_61010_P2_S201_2017      0.6411109819864983\n",
            "https://w3id.org/i40/sto#ISO_27001             https://w3id.org/i40/sto#DIN_EN_ISO_13849      0.6316320611828998\n",
            "https://w3id.org/i40/sto#IEC_61334_P4_S1_1996             https://w3id.org/i40/sto#ISO_15459      0.5334716976294516\n",
            "https://w3id.org/i40/sto#RFC_7519             https://w3id.org/i40/sto#IEC_60839_P7_3      0.6141627669132318\n",
            "https://w3id.org/i40/sto#ISO_19439             https://w3id.org/i40/sto#ISO_9000      0.6848726901643905\n",
            "https://w3id.org/i40/sto#ISO_27000             https://w3id.org/i40/sto#OMG_DDS      0.6862441705291676\n",
            "https://w3id.org/i40/sto#IEC_62890             https://w3id.org/i40/sto#IEC_60027_2006      0.6477694877251767\n",
            "https://w3id.org/i40/sto#RFC_1122             https://w3id.org/i40/sto#ISO_16792      0.6396273868627534\n",
            "https://w3id.org/i40/sto#DIN_EN_50159             https://w3id.org/i40/sto#IEC_62714      0.546809796799361\n",
            "https://w3id.org/i40/sto#ISO_27018             https://w3id.org/i40/sto#ISO_26262      0.4978022192813639\n",
            "https://w3id.org/i40/sto#IEC_61334_P3_S21_1996             https://w3id.org/i40/sto#RFC_7540      0.6262165538481046\n",
            "https://w3id.org/i40/sto#IEC_61690_P1_2000             https://w3id.org/i40/sto#DIN_EN_50159      0.610287176168657\n",
            "https://w3id.org/i40/sto#IEC_61690_P2_2000             https://w3id.org/i40/sto#IEC_60870_P2_S2_1996      0.5735536556839759\n",
            "https://w3id.org/i40/sto#ISO_26262             https://w3id.org/i40/sto#ISO_27018      0.4978022192813639\n",
            "https://w3id.org/i40/sto#IEC_61691_P6             https://w3id.org/i40/sto#IEC_61334_P3_S21_1996      0.6340671117980505\n",
            "https://w3id.org/i40/sto#IEC_15459             https://w3id.org/i40/sto#IEC_61690_P1_2000      0.6211097579847324\n",
            "https://w3id.org/i40/sto#IEC_27031             https://w3id.org/i40/sto#ISO_1101      0.5673057945029536\n",
            "https://w3id.org/i40/sto#IEC_61334_P4_S61_1998             https://w3id.org/i40/sto#IEC_61334_P3_S22_2001      0.5658253104221139\n",
            "https://w3id.org/i40/sto#ISO_22400             https://w3id.org/i40/sto#ISO_15746      0.506151327401404\n",
            "https://w3id.org/i40/sto#IEC_60839_P7_3             https://w3id.org/i40/sto#IEC_60839_P7_5      0.5111256813592785\n",
            "https://w3id.org/i40/sto#NISTIR_8062             https://w3id.org/i40/sto#IEC_61334_P4_S42_1996      0.5609074030050398\n",
            "https://w3id.org/i40/sto#IEC_29182-1             https://w3id.org/i40/sto#ISO_27036      0.6715542862723287\n",
            "https://w3id.org/i40/sto#IEC_15408             https://w3id.org/i40/sto#ISO_11898-1      0.5365261717012617\n",
            "https://w3id.org/i40/sto#IEC_61010_P2_S012_2016             https://w3id.org/i40/sto#IEC_61690_P2_2000      0.6711883832603268\n",
            "https://w3id.org/i40/sto#ISO_10303             https://w3id.org/i40/sto#BPMN      0.6053304142574134\n",
            "https://w3id.org/i40/sto#OAGIS             https://w3id.org/i40/sto#IEC_60255_2013      0.6062419972770994\n",
            "https://w3id.org/i40/sto#ISO_ASTM_52915             https://w3id.org/i40/sto#IEC_24760      0.5902944657574194\n",
            "https://w3id.org/i40/sto#IEC_61334_P4_S41_1996             https://w3id.org/i40/sto#IEC_60870_P5_S104_2016      0.6091553918730566\n",
            "https://w3id.org/i40/sto#ISO_13849             https://w3id.org/i40/sto#ISO_20547-3      0.49794935679999\n",
            "https://w3id.org/i40/sto#ISO_20546             https://w3id.org/i40/sto#IEC_27036      0.5730771347891344\n",
            "https://w3id.org/i40/sto#NIST_800-146             https://w3id.org/i40/sto#ISO_24760      0.5027913658021442\n",
            "https://w3id.org/i40/sto#QIF             https://w3id.org/i40/sto#ISO_15408      0.6682615954104849\n",
            "https://w3id.org/i40/sto#IEC_14443             https://w3id.org/i40/sto#IEC_29100      0.623094568837614\n",
            "https://w3id.org/i40/sto#IEC_61160             https://w3id.org/i40/sto#RFC_7644      0.4544789985623904\n",
            "https://w3id.org/i40/sto#IEC_61310_P2             https://w3id.org/i40/sto#IEC_62656      0.6639770955400459\n",
            "https://w3id.org/i40/sto#IEC_29161             https://w3id.org/i40/sto#IEC_61987_X      0.5855862209755471\n",
            "https://w3id.org/i40/sto#ISO_1101             https://w3id.org/i40/sto#IEC_60839_P7_5      0.53097535176335\n",
            "https://w3id.org/i40/sto#IEC_61400_P25_2             https://w3id.org/i40/sto#ISO_20547-4      0.45348518109285085\n",
            "https://w3id.org/i40/sto#IEC_61400_P25_6             https://w3id.org/i40/sto#IEC_60870_P5_S4_1993      0.6358703397443853\n",
            "https://w3id.org/i40/sto#IEC_60864_P2             https://w3id.org/i40/sto#IEC_61010_P2_S202_2016      0.6243008900628253\n",
            "https://w3id.org/i40/sto#ENISA_CloudComputing             https://w3id.org/i40/sto#ETSI_ULE      0.674393283031366\n",
            "https://w3id.org/i40/sto#IEC_61508             https://w3id.org/i40/sto#IEC_61334_P4_S32_1996      0.5396490278467908\n",
            "https://w3id.org/i40/sto#IEC_60904             https://w3id.org/i40/sto#IEC_60286_5_2018      0.6795024185933933\n",
            "https://w3id.org/i40/sto#IEC_42010             https://w3id.org/i40/sto#RFC_7540      0.5768895596681657\n",
            "https://w3id.org/i40/sto#BPMN             https://w3id.org/i40/sto#ISA-95      0.5863142172994692\n",
            "https://w3id.org/i40/sto#IEC_60870             https://w3id.org/i40/sto#IEC_62061      0.5364583708936763\n",
            "https://w3id.org/i40/sto#ebXML             https://w3id.org/i40/sto#IEC_61334      0.653497071791105\n",
            "https://w3id.org/i40/sto#IEC_60870_P6_S702_2014             https://w3id.org/i40/sto#W3C_DCAT      0.5565165317604617\n",
            "https://w3id.org/i40/sto#ISO_11898-1             https://w3id.org/i40/sto#IEC_15408      0.5365261717012617\n",
            "https://w3id.org/i40/sto#IEC_62279             https://w3id.org/i40/sto#IEC_60848      0.6577260106087202\n",
            "https://w3id.org/i40/sto#ISA_62443             https://w3id.org/i40/sto#IEC_61400      0.6389141695406098\n",
            "https://w3id.org/i40/sto#W3C_RDF             https://w3id.org/i40/sto#ISO_9594-8      0.5875277471857612\n",
            "https://w3id.org/i40/sto#IEC_61334_P4_S511_2000             https://w3id.org/i40/sto#ISO_15926      0.5638677042332682\n",
            "https://w3id.org/i40/sto#ETSI_ULE             https://w3id.org/i40/sto#IEC_61784      0.5857859534157932\n",
            "https://w3id.org/i40/sto#IEC_61334_P5_S1_2001             https://w3id.org/i40/sto#IEC_61334_P4_S32_1996      0.6071090810335362\n",
            "https://w3id.org/i40/sto#IEC_61499             https://w3id.org/i40/sto#ISO_ASTM_52915      0.6213233292781881\n",
            "https://w3id.org/i40/sto#IEC_60870_P6_S502_1995             https://w3id.org/i40/sto#IEC_60870_P5_S102_1996      0.5779285981862694\n",
            "https://w3id.org/i40/sto#IEC_61131             https://w3id.org/i40/sto#IEC_61334_P4_S1_1996      0.6081427434391087\n",
            "https://w3id.org/i40/sto#IEC_60073_2002             https://w3id.org/i40/sto#IEC_29115      0.6134197902741803\n",
            "https://w3id.org/i40/sto#IEC_61334_P4_S42_1996             https://w3id.org/i40/sto#NISTIR_8062      0.5609074030050398\n",
            "https://w3id.org/i40/sto#IEC_60870_P5_S6_2006             https://w3id.org/i40/sto#IEC_61334_P4_S511_2000      0.6461259397010553\n",
            "https://w3id.org/i40/sto#ISO_PAS_17506             https://w3id.org/i40/sto#OMG_DDS      0.6123392114333798\n",
            "https://w3id.org/i40/sto#IEC_62837             https://w3id.org/i40/sto#ISO_15926      0.5568885062068525\n",
            "https://w3id.org/i40/sto#IEC_29100             https://w3id.org/i40/sto#IEC_14443      0.623094568837614\n",
            "https://w3id.org/i40/sto#IEC_60848             https://w3id.org/i40/sto#IEC_61511      0.507543929855468\n",
            "https://w3id.org/i40/sto#IEC_60870_P5_S3_1992             https://w3id.org/i40/sto#IEC_60864_P1      0.5898771504521403\n",
            "https://w3id.org/i40/sto#ISO_29190             https://w3id.org/i40/sto#IEC_60255_2010      0.6479700312998424\n",
            "https://w3id.org/i40/sto#IEC_60050             https://w3id.org/i40/sto#ISO_13485      0.6275991008002398\n",
            "https://w3id.org/i40/sto#IEC_29190             https://w3id.org/i40/sto#IEC_62337      0.6448371333401308\n",
            "https://w3id.org/i40/sto#IEC_PAS_63088             https://w3id.org/i40/sto#ISO_20546      0.588331776664959\n",
            "https://w3id.org/i40/sto#IEC_61310_P1             https://w3id.org/i40/sto#IEC_60286_4_2013      0.6540206729628434\n",
            "https://w3id.org/i40/sto#IEC_60286_4_2013             https://w3id.org/i40/sto#ISO_1101      0.5556305078703088\n",
            "https://w3id.org/i40/sto#VDMA_24582             https://w3id.org/i40/sto#IEC_61160      0.547299979812554\n",
            "https://w3id.org/i40/sto#RFC_7643             https://w3id.org/i40/sto#ISO_20547-4      0.6077283371015199\n",
            "https://w3id.org/i40/sto#TS-0009             https://w3id.org/i40/sto#IEC_61784      0.590306307179195\n",
            "https://w3id.org/i40/sto#IEC_24760             https://w3id.org/i40/sto#ISO_ASTM_52915      0.5902944657574194\n",
            "https://w3id.org/i40/sto#IEC_61334_P4_S32_1996             https://w3id.org/i40/sto#IEC_61508      0.5396490278467908\n",
            "https://w3id.org/i40/sto#IEC_61987_X             https://w3id.org/i40/sto#IEC_29161      0.5855862209755471\n",
            "https://w3id.org/i40/sto#DIN_EN_50129             https://w3id.org/i40/sto#IEC_62337      0.5385086683998561\n",
            "https://w3id.org/i40/sto#ASAM_ODS             https://w3id.org/i40/sto#IEC_62591      0.5537962252234501\n",
            "https://w3id.org/i40/sto#IEC_61400_P25_3             https://w3id.org/i40/sto#IEC_60839_P7_7      0.5615128134842805\n",
            "https://w3id.org/i40/sto#IEC_61513             https://w3id.org/i40/sto#IEC_61334_P3_S21_1996      0.6546882729649903\n",
            "https://w3id.org/i40/sto#IEC_60839_P7_1             https://w3id.org/i40/sto#IEC_60286_4_2013      0.6654089713117255\n",
            "https://w3id.org/i40/sto#IEC_27036             https://w3id.org/i40/sto#ISO_20140_5      0.5586301062287455\n",
            "https://w3id.org/i40/sto#IEC_60870_P5_S101_2003             https://w3id.org/i40/sto#BPMN      0.593805650827514\n",
            "https://w3id.org/i40/sto#DIN_EN_50128             https://w3id.org/i40/sto#BPMN      0.6558817812098423\n",
            "https://w3id.org/i40/sto#IEC_62424             https://w3id.org/i40/sto#ISO_27018      0.5411700549675584\n",
            "https://w3id.org/i40/sto#ISO_27031             https://w3id.org/i40/sto#RFC_7540      0.5954063064170991\n",
            "https://w3id.org/i40/sto#ISO_29115             https://w3id.org/i40/sto#NIST_500-292      0.6390637985368515\n",
            "https://w3id.org/i40/sto#IEC_60027_2006             https://w3id.org/i40/sto#SysML      0.5923007776490921\n",
            "https://w3id.org/i40/sto#IEC_61804             https://w3id.org/i40/sto#IEC_62264      0.6080726977935902\n",
            "https://w3id.org/i40/sto#NISTIR_8107             https://w3id.org/i40/sto#ISO_11404      0.663950338139885\n",
            "https://w3id.org/i40/sto#DIN_SPEC_92222             https://w3id.org/i40/sto#IEC_61334_P4_S32_1996      0.6968153820915828\n",
            "https://w3id.org/i40/sto#ISO_16792             https://w3id.org/i40/sto#RFC_1122      0.6396273868627534\n",
            "https://w3id.org/i40/sto#IEC_60946             https://w3id.org/i40/sto#IEC_60086      0.5646470355714717\n",
            "https://w3id.org/i40/sto#IEC_61000_P6_S2_2016             https://w3id.org/i40/sto#IEC_60848      0.5730608382794258\n",
            "https://w3id.org/i40/sto#DIN_EN_ISO_13849             https://w3id.org/i40/sto#IEC_61400      0.536827383684643\n",
            "https://w3id.org/i40/sto#ISO_20547-4             https://w3id.org/i40/sto#IEC_61400_P25_2      0.45348518109285085\n",
            "https://w3id.org/i40/sto#IEC_60870_P6_S2_1995             https://w3id.org/i40/sto#ISO_9594-8      0.569564838464657\n",
            "https://w3id.org/i40/sto#ISO_29134             https://w3id.org/i40/sto#ASAM_ODS      0.566960559723319\n",
            "https://w3id.org/i40/sto#DIN_EN_50155             https://w3id.org/i40/sto#ISO_19440      0.5981382462558825\n",
            "https://w3id.org/i40/sto#IEC_60038_2009             https://w3id.org/i40/sto#DIN_EN_ISO_13849      0.6106889394591434\n",
            "https://w3id.org/i40/sto#IEC_60870_P6_S802_2014             https://w3id.org/i40/sto#IEC_60381_1978      0.6587490756539289\n",
            "https://w3id.org/i40/sto#IEC_61850             https://w3id.org/i40/sto#ISO_19440      0.5974452980452569\n",
            "https://w3id.org/i40/sto#ISO_1302             https://w3id.org/i40/sto#IEC_61334_P3_S1_1998      0.6355305487464245\n",
            "https://w3id.org/i40/sto#IEC_61158             https://w3id.org/i40/sto#ISO_18629      0.5995400714840141\n",
            "https://w3id.org/i40/sto#ISO_8062-4             https://w3id.org/i40/sto#RFC_7642      0.6306758351602724\n",
            "https://w3id.org/i40/sto#IEC_60870_P6_S601_1994             https://w3id.org/i40/sto#IEC_60255_2013      0.6057812840703037\n",
            "https://w3id.org/i40/sto#IEEE_1686             https://w3id.org/i40/sto#IEC_60870_P5_S101_2003      0.6093702354969608\n",
            "https://w3id.org/i40/sto#ISO_27017             https://w3id.org/i40/sto#IEC_61334      0.5890317206536888\n",
            "https://w3id.org/i40/sto#ISO_18828-2             https://w3id.org/i40/sto#IEC_62453      0.629863896163457\n",
            "https://w3id.org/i40/sto#NIST_500-292             https://w3id.org/i40/sto#IEC_60870_P2_S1_1995      0.5781099263389746\n",
            "https://w3id.org/i40/sto#IEC_60870_P5_S2_1992             https://w3id.org/i40/sto#IEC_61334_P3_S22_2001      0.5833494028184212\n",
            "https://w3id.org/i40/sto#ISO_29002             https://w3id.org/i40/sto#IEC_60839_P7_1      0.6694449230732358\n",
            "https://w3id.org/i40/sto#IEC_60870_P6_S701_1998             https://w3id.org/i40/sto#IEC_60381_1982      0.6323480775792547\n",
            "https://w3id.org/i40/sto#ETSI_LTN             https://w3id.org/i40/sto#BPMN      0.609230088112364\n",
            "https://w3id.org/i40/sto#IEC_60381_1978             https://w3id.org/i40/sto#ISO_20546      0.6001898525646486\n",
            "https://w3id.org/i40/sto#ISO_15746             https://w3id.org/i40/sto#ISO_22400      0.506151327401404\n",
            "https://w3id.org/i40/sto#ISO_19440             https://w3id.org/i40/sto#IEC_61850      0.5974452980452569\n",
            "https://w3id.org/i40/sto#IEC_61334             https://w3id.org/i40/sto#ISO_27017      0.5890317206536888\n",
            "https://w3id.org/i40/sto#RFC_2818             https://w3id.org/i40/sto#IEC_61810_P2      0.6290033589457931\n",
            "https://w3id.org/i40/sto#IEC_60364             https://w3id.org/i40/sto#IEC_60038_2009      0.6409426493294266\n",
            "https://w3id.org/i40/sto#RFC_5246             https://w3id.org/i40/sto#NIST_500-293      0.6120688695801916\n",
            "https://w3id.org/i40/sto#IEC_61360             https://w3id.org/i40/sto#IEC_61400_P25_4      0.6214817644509001\n",
            "https://w3id.org/i40/sto#IEC_62656             https://w3id.org/i40/sto#B2MML      0.523751500162847\n",
            "https://w3id.org/i40/sto#IEC_60839_P7_5             https://w3id.org/i40/sto#IEC_60839_P7_3      0.5111256813592785\n",
            "https://w3id.org/i40/sto#ISO_16739             https://w3id.org/i40/sto#OAGIS      0.6767781770884302\n",
            "https://w3id.org/i40/sto#IEC_60381_1982             https://w3id.org/i40/sto#IEC_60870_P6_S701_1998      0.6323480775792547\n",
            "https://w3id.org/i40/sto#ISO_15926             https://w3id.org/i40/sto#IEC_62837      0.5568885062068525\n",
            "https://w3id.org/i40/sto#RFC_7540             https://w3id.org/i40/sto#IEC_42010      0.5768895596681657\n",
            "https://w3id.org/i40/sto#W3C_OWL             https://w3id.org/i40/sto#W3C_SPARQL      0.4658039718662913\n",
            "https://w3id.org/i40/sto#OMG_DDS             https://w3id.org/i40/sto#ISO_PAS_17506      0.6123392114333798\n",
            "https://w3id.org/i40/sto#IEC_60255_151_2009             https://w3id.org/i40/sto#IEC_60870      0.5680135635508201\n",
            "https://w3id.org/i40/sto#SCOR             https://w3id.org/i40/sto#NIST_800-144      0.5081444893890976\n",
            "https://w3id.org/i40/sto#IEC_60286_3_2013             https://w3id.org/i40/sto#IEC_60382      0.630868835673789\n",
            "https://w3id.org/i40/sto#IEC_60839_P7_7             https://w3id.org/i40/sto#IEC_61400_P25_3      0.5615128134842805\n",
            "https://w3id.org/i40/sto#IEC_60870_P2_S1_1995             https://w3id.org/i40/sto#NIST_500-292      0.5781099263389746\n",
            "https://w3id.org/i40/sto#ODRL             https://w3id.org/i40/sto#IEC_60870_P5_S103_1997      0.6777583958544058\n",
            "https://w3id.org/i40/sto#eClass             https://w3id.org/i40/sto#ISO_29134      0.6221212650385965\n",
            "https://w3id.org/i40/sto#IEC_60839_P7_2             https://w3id.org/i40/sto#ISO_18828-2      0.6316605534363708\n",
            "https://w3id.org/i40/sto#DIN_EN_61511             https://w3id.org/i40/sto#ISO_27018      0.5864400779058221\n",
            "https://w3id.org/i40/sto#IEC_61310_P3             https://w3id.org/i40/sto#IEEE_1686      0.6406740885277267\n",
            "https://w3id.org/i40/sto#ISO_20140_5             https://w3id.org/i40/sto#IEC_27036      0.5586301062287455\n",
            "https://w3id.org/i40/sto#NIST_500-291             https://w3id.org/i40/sto#ISO_27019      0.6778424107277929\n",
            "https://w3id.org/i40/sto#IEC_60286_5_2018             https://w3id.org/i40/sto#IEC_61690_P2_2000      0.5958989429241186\n",
            "https://w3id.org/i40/sto#IEC_60839-5-2             https://w3id.org/i40/sto#ISO_14443      0.5656473711953459\n",
            "https://w3id.org/i40/sto#W3C_DCAT             https://w3id.org/i40/sto#IEC_60870_P6_S702_2014      0.5565165317604617\n",
            "https://w3id.org/i40/sto#IEC_61400_P25_1             https://w3id.org/i40/sto#ISO_20547-4      0.5857472359516847\n",
            "https://w3id.org/i40/sto#IEC_62541             https://w3id.org/i40/sto#ETSI_ULE      0.624086008095434\n",
            "https://w3id.org/i40/sto#ISO_22745-11             https://w3id.org/i40/sto#DIN_SPEC_27070      0.5432730137621091\n",
            "https://w3id.org/i40/sto#IEC_61784             https://w3id.org/i40/sto#ETSI_ULE      0.5857859534157932\n",
            "https://w3id.org/i40/sto#ISO_11783             https://w3id.org/i40/sto#IEC_60870_P5_S102_1996      0.5697000667573286\n",
            "https://w3id.org/i40/sto#IEC_62337             https://w3id.org/i40/sto#DIN_EN_50129      0.5385086683998561\n",
            "https://w3id.org/i40/sto#IEC_60086             https://w3id.org/i40/sto#IEC_60946      0.5646470355714717\n",
            "https://w3id.org/i40/sto#ISO_29101             https://w3id.org/i40/sto#IEC_60870_P5_S4_1993      0.6599406621612915\n",
            "https://w3id.org/i40/sto#IEC_61506             https://w3id.org/i40/sto#ISO_5459      0.43627103633356046\n",
            "https://w3id.org/i40/sto#ISO_9594             https://w3id.org/i40/sto#IEC_61334_P4_S512_2001      0.6710335403984848\n",
            "https://w3id.org/i40/sto#ISO_20922             https://w3id.org/i40/sto#IEC_62714      0.49803228686441525\n",
            "https://w3id.org/i40/sto#ISO_13584             https://w3id.org/i40/sto#IEC_61334_P4_S511_2000      0.5847856912939252\n",
            "https://w3id.org/i40/sto#IEC_60870_P6_S503_2014             https://w3id.org/i40/sto#ISO_29161      0.624886954934102\n",
            "https://w3id.org/i40/sto#IEC_60255_2010             https://w3id.org/i40/sto#IEC_60870_P6_S501_1995      0.5522921652859739\n",
            "https://w3id.org/i40/sto#IEC_61334_P4_S512_2001             https://w3id.org/i40/sto#ISO_19770      0.6363614202175508\n",
            "https://w3id.org/i40/sto#IEC_61810_P7             https://w3id.org/i40/sto#RFC_793      0.6177879217396232\n",
            "https://w3id.org/i40/sto#IEC_61334_P3_S1_1998             https://w3id.org/i40/sto#IEC_60870_P5_S1_1990      0.6086957733109447\n",
            "https://w3id.org/i40/sto#IEC_62443             https://w3id.org/i40/sto#RFC_2616      0.6519195724390084\n",
            "https://w3id.org/i40/sto#IEC_61400_P25_4             https://w3id.org/i40/sto#IEC_61360      0.6214817644509001\n",
            "https://w3id.org/i40/sto#SysML             https://w3id.org/i40/sto#IEC_60027_2006      0.5923007776490921\n",
            "https://w3id.org/i40/sto#ISO_50001             https://w3id.org/i40/sto#IEC_61000_P6_S2_2016      0.5736289622329591\n",
            "https://w3id.org/i40/sto#IEC_61400             https://w3id.org/i40/sto#DIN_EN_ISO_13849      0.536827383684643\n",
            "https://w3id.org/i40/sto#ASME_Y1441             https://w3id.org/i40/sto#IEC_61334_P4_S511_2000      0.6285926775561371\n",
            "https://w3id.org/i40/sto#DIN_EN_ISO_IEC_17025             https://w3id.org/i40/sto#DIN_SPEC_16592      0.5535291235100681\n",
            "https://w3id.org/i40/sto#ISO_11404             https://w3id.org/i40/sto#IEC_29115      0.6396992695661748\n",
            "https://w3id.org/i40/sto#RFC_2616             https://w3id.org/i40/sto#ISO_15704      0.6384405441390385\n",
            "https://w3id.org/i40/sto#ISO_13374             https://w3id.org/i40/sto#ISO_29134      0.629717422820173\n",
            "https://w3id.org/i40/sto#BBF_TR-069             https://w3id.org/i40/sto#IEC_61400_P25_6      0.7201646626706963\n",
            "https://w3id.org/i40/sto#IEC_62591             https://w3id.org/i40/sto#ASAM_ODS      0.5537962252234501\n",
            "https://w3id.org/i40/sto#IEC_60255_2009             https://w3id.org/i40/sto#ISO_27036      0.6566117063820934\n",
            "https://w3id.org/i40/sto#IEC_60839_P7_4             https://w3id.org/i40/sto#IEC_61690_P1_2000      0.6235424323001484\n",
            "https://w3id.org/i40/sto#IEC_61334_P4_S33_1998             https://w3id.org/i40/sto#TS-0009      0.6242611596359008\n",
            "https://w3id.org/i40/sto#ETSI_DECT             https://w3id.org/i40/sto#W3C_RDF      0.641629517655915\n",
            "https://w3id.org/i40/sto#ISO_15531             https://w3id.org/i40/sto#IEC_60382      0.5748415446765711\n",
            "https://w3id.org/i40/sto#IEC_60839_P7_6             https://w3id.org/i40/sto#ISO_20546      0.6195649289743397\n",
            "https://w3id.org/i40/sto#IEC_60870_P5_S102_1996             https://w3id.org/i40/sto#ISO_11783      0.5697000667573286\n",
            "https://w3id.org/i40/sto#DIN_SPEC_16592             https://w3id.org/i40/sto#DIN_EN_ISO_IEC_17025      0.5535291235100681\n",
            "https://w3id.org/i40/sto#ModBus             https://w3id.org/i40/sto#IEC_61000_P6_S2_2016      0.6270219954606886\n",
            "https://w3id.org/i40/sto#W3C_RIF             https://w3id.org/i40/sto#IEC_60870_P5_S101_2003      0.6535940704206642\n",
            "https://w3id.org/i40/sto#IEC_27018             https://w3id.org/i40/sto#IEC_61690_P2_2000      0.6165114932806803\n",
            "https://w3id.org/i40/sto#NIST_800-144             https://w3id.org/i40/sto#SCOR      0.5081444893890976\n",
            "https://w3id.org/i40/sto#IEC_61334_P6_2000             https://w3id.org/i40/sto#W3C_DCAT      0.58788238810986\n"
          ],
          "name": "stdout"
        }
      ]
    },
    {
      "cell_type": "markdown",
      "metadata": {
        "colab_type": "text",
        "id": "CpC43qoTcusI"
      },
      "source": [
        "####Results\n",
        "The following table shows the frameworks with high degree of similarites.\n",
        "\n",
        "| Framework A | Framework B | Score |\n",
        "| ----------------------|:---------------------:| ----------:|\n",
        "| RAMI 4.0 |  IIRA  | 0.75 |\n"
      ]
    },
    {
      "cell_type": "code",
      "metadata": {
        "colab_type": "code",
        "id": "JqKx82Hydq8W",
        "colab": {}
      },
      "source": [
        "# TODO implement a fuction to print a table as the one above"
      ],
      "execution_count": 0,
      "outputs": []
    },
    {
      "cell_type": "markdown",
      "metadata": {
        "colab_type": "text",
        "id": "3wNXAXHCeavo"
      },
      "source": [
        "###Similarity among different layers of the Standards\n",
        "In this section we analyze the similarity among layers of different standards, e.g., RAMI 4.0 -> Layer A vs IIRA -> Layer X"
      ]
    },
    {
      "cell_type": "code",
      "metadata": {
        "colab_type": "code",
        "id": "HLxQyT6ugE39",
        "colab": {
          "base_uri": "https://localhost:8080/",
          "height": 272
        },
        "outputId": "67d36748-3c0b-456c-e26a-543b19ee0a41"
      },
      "source": [
        "\n",
        "g = Graph()\n",
        "g.parse(\"/content/I40KG-Embeddings/sto/sto.nt\", format=\"nt\")\n",
        "    \n",
        "len(g) # prints 2\n",
        "#check the printing of the graph\n",
        "'''for stmt in g:\n",
        "    pprint.pprint(stmt)'''\n",
        "\n",
        "\n",
        "#queries to get the layers from the sto.nt file for the corresponding Frameworks   \n",
        "qres1 = g.query(\n",
        "    \"\"\"PREFIX owl: <http://www.w3.org/2002/07/owl#>\n",
        "       PREFIX rdf: <http://www.w3.org/1999/02/22-rdf-syntax-ns#>\n",
        "       PREFIX sto: <https://w3id.org/i40/sto#>\n",
        "    \n",
        "    select DISTINCT ?c where {\n",
        "            ?s sto:hasClassification ?c .\n",
        "            ?c sto:isDescribedin <https://w3id.org/i40/sto#RAMI> .\n",
        "            } limit 1000\"\"\")\n",
        "\n",
        "qres2 = g.query(\n",
        "    \"\"\"PREFIX owl: <http://www.w3.org/2002/07/owl#>\n",
        "       PREFIX rdf: <http://www.w3.org/1999/02/22-rdf-syntax-ns#>\n",
        "       PREFIX sto: <https://w3id.org/i40/sto#>\n",
        "    \n",
        "     select DISTINCT ?c where {\n",
        "            ?s sto:hasClassification ?c .\n",
        "            ?c sto:isDescribedin <https://w3id.org/i40/sto#IIRA> .\n",
        "            } limit 1000\"\"\") \n",
        "\n",
        "\n",
        "#to get the corresponding embeddings of the layers of two Frameworks from the json file and put it in two different dictionaries\n",
        "with open(embeddings_path+\"/entities_to_embeddings.json\",'rb') as f:\n",
        "    array = json.load(f)\n",
        "new_dict1 = {}\n",
        "new_dict2 = {}\n",
        "for row in qres1:\n",
        "    for key,value in array.items():\n",
        "        if key == \"%s\" % row:\n",
        "            tem = key\n",
        "            new_dict1[tem] = array[key] \n",
        "#print(new_dict1)\n",
        "for row in qres2:\n",
        "    for key,value in array.items():\n",
        "        if key == \"%s\" % row:\n",
        "            tem = key\n",
        "            new_dict2[tem] = array[key] \n",
        "#print(new_dict2)\n",
        "\n",
        "#the frameworks of which the similarity of their layers will be compared    \n",
        "framework1 = 'https://w3id.org/i40/sto#RAMI'    \n",
        "framework2 = 'https://w3id.org/i40/sto#IIRA'\n",
        "\n",
        "#compare each layers of one Framework  with all the layers of the other Framework to find cosine similarity\n",
        "result = {}\n",
        "for key,value in new_dict1.items():\n",
        "    temp,tempDict= 0,{}\n",
        "    for keyC,valueC in new_dict2.items():\n",
        "        if keyC == key:\n",
        "            continue\n",
        "        temp = scipy.spatial.distance.cosine(value,valueC)  #pass the vales to find cosine similarity\n",
        "        tempDict[keyC] = temp\n",
        "        val1 = min(tempDict, key=tempDict.get)\n",
        "    res = {}\n",
        "    res[val1] = tempDict[val1]\n",
        "    #print (res)\n",
        "    result[key]= res\n",
        "\n",
        "#print the similarity of layers of the two Frameworks in tabular format along with their similarity distance\n",
        "print_layers(result,framework1,framework2)"
      ],
      "execution_count": 27,
      "outputs": [
        {
          "output_type": "stream",
          "text": [
            "https://w3id.org/i40/sto#RAMI                     https://w3id.org/i40/sto#IIRA                         Score     \n",
            "----------------------------------------------------------------------------------------------------------------------\n",
            "https://w3id.org/i40/rami#Business             http://example.org/iira#OperationDomain      0.8130079553856098\n",
            "https://w3id.org/i40/rami#ControlDevice             http://example.org/iira#InformationDomain      0.9072049567060696\n",
            "https://w3id.org/i40/rami#Asset             http://example.org/iira#OperationDomain      0.8986200841693729\n",
            "https://w3id.org/i40/rami#ConnectedWorld             http://example.org/iira#ApplicationDomain      0.7500549284013839\n",
            "https://w3id.org/i40/rami#WorkCenter             http://example.org/iira#ApplicationDomain      0.8860832512930966\n",
            "https://w3id.org/i40/rami#Information             http://example.org/iira#InformationDomain      0.718631778367032\n",
            "https://w3id.org/i40/rami#Integration             http://example.org/iira#ApplicationDomain      0.759782065315572\n",
            "https://w3id.org/i40/rami#FieldDevice             http://example.org/iira#FunctionalViewpoint      0.7317017202829819\n",
            "https://w3id.org/i40/rami#Enterprise             http://example.org/iira#InformationDomain      0.8036173932228178\n",
            "https://w3id.org/i40/rami#Communication             http://example.org/iira#FunctionalViewpoint      0.9193334486652986\n",
            "https://w3id.org/i40/rami#Station             http://example.org/iira#OperationDomain      0.9294129675163662\n",
            "https://w3id.org/i40/rami#Functional             http://example.org/iira#ApplicationDomain      0.848221374786026\n",
            "https://w3id.org/i40/rami#Product             http://example.org/iira#FunctionalViewpoint      0.8027981906259066\n"
          ],
          "name": "stdout"
        }
      ]
    },
    {
      "cell_type": "markdown",
      "metadata": {
        "colab_type": "text",
        "id": "4itDLL1Eglu6"
      },
      "source": [
        "####Results\n",
        "The following table shows the similarity among different layers of two frameworks.\n",
        "\n",
        "| RAMI4.0 | IIRA | Score |\n",
        "| --------------|:-------:| ----------:|\n",
        "| Layer A |  Layer X  | 0.85 |\n",
        "| Layer B |  Layer Y  | 0.75 |\n",
        "| Layer C |  Layer Z  | 0.85 |\n"
      ]
    },
    {
      "cell_type": "code",
      "metadata": {
        "colab_type": "code",
        "id": "pj0WrTtEg_U5",
        "colab": {}
      },
      "source": [
        "# TODO print a table like the above"
      ],
      "execution_count": 0,
      "outputs": []
    },
    {
      "cell_type": "markdown",
      "metadata": {
        "colab_type": "text",
        "id": "-pc4XzZYhSu-"
      },
      "source": [
        "##Similarity among Standards of the same Framework\n",
        "In this section we show the analysis of similarity among standards belonging to the same framework."
      ]
    },
    {
      "cell_type": "code",
      "metadata": {
        "colab_type": "code",
        "id": "ou9fwdGVpN9F",
        "colab": {
          "base_uri": "https://localhost:8080/",
          "height": 731
        },
        "outputId": "124e3982-1e3f-4d29-c8e6-4de496b84572"
      },
      "source": [
        "\n",
        "g = Graph()\n",
        "g.parse(\"/content/I40KG-Embeddings/sto/sto.nt\", format=\"nt\")\n",
        "    \n",
        "len(g) # prints 2\n",
        "#check for printing of the graph    \n",
        "'''for stmt in g:\n",
        "    pprint.pprint(stmt)'''\n",
        "\n",
        "#query to get the standards of a Framework from the sto.nt file\n",
        "qres = g.query(\n",
        "    \"\"\"PREFIX owl: <http://www.w3.org/2002/07/owl#>\n",
        "       PREFIX rdf: <http://www.w3.org/1999/02/22-rdf-syntax-ns#>\n",
        "       PREFIX sto: <https://w3id.org/i40/sto#>\n",
        "    \n",
        "    select ?s where {\n",
        "            ?s rdf:type sto:Standard .\n",
        "            ?s sto:hasClassification ?c .\n",
        "            ?c sto:isDescribedin <https://w3id.org/i40/sto#RAMI> .\n",
        "            } limit 1000\"\"\")\n",
        "        \n",
        "#get the corresponding embeddings of the standards of the given Framework\n",
        "with open(embeddings_path+\"/entities_to_embeddings.json\",'rb') as f:\n",
        "    array = json.load(f)\n",
        "new_dict = {}\n",
        "for row in qres:\n",
        "#for line in oldfile:\n",
        "    #line1 = line.strip(\"\\n\")\n",
        "    for key,value in array.items():\n",
        "        if key == \"%s\" % row:\n",
        "            tem = key\n",
        "            new_dict[tem] = array[key] \n",
        "    #print(new_dict)\n",
        "\n",
        "#to put the standards with their corresponding embeddings in a file\n",
        "with open('/content/I40KG-Embeddings/output_standard_same_framework.json','w') as f:\n",
        "    # this would place the entire output on one line\n",
        "    # use json.dump(lista_items, f, indent=4) to \"pretty-print\" with four spaces per indent\n",
        "    json.dump(new_dict, f) \n",
        "\n",
        "    \n",
        "#to read the file containing standards along with their embeddings   \n",
        "with open('/content/I40KG-Embeddings/output_standard_same_framework.json', 'r') as f:\n",
        "    array = json.load(f)\n",
        "    \n",
        "#compare each standard with all the other standards of that Framework to find cosine similarity\n",
        "result = {}\n",
        "for key,value in array.items():\n",
        "    temp,tempDict= 0,{}\n",
        "    for keyC,valueC in array.items():\n",
        "        if keyC == key:\n",
        "            continue\n",
        "        temp = scipy.spatial.distance.cosine(value,valueC) #send the values of the standards to cosine similarity function\n",
        "        tempDict[keyC] = temp\n",
        "        val1 = min(tempDict, key=tempDict.get)\n",
        "    res = {}\n",
        "    res[val1] = tempDict[val1]\n",
        "    #print (res)\n",
        "    result[key]= res\n",
        "    #result[key]= tempDict\n",
        "        \n",
        "#print the standards along with their similar standards and their similarity distance\n",
        "print_result_standard(result)"
      ],
      "execution_count": 37,
      "outputs": [
        {
          "output_type": "stream",
          "text": [
            "Standard A                                            Standard B                              Score     \n",
            "----------------------------------------------------------------------------------------------------------------------\n",
            "https://w3id.org/i40/sto#IEC_24760             https://w3id.org/i40/sto#ISO_ASTM_52915      0.5902944657574194\n",
            "https://w3id.org/i40/sto#IEC_62714             https://w3id.org/i40/sto#ISO_19440      0.7401316694639362\n",
            "https://w3id.org/i40/sto#ISO_18629             https://w3id.org/i40/sto#ISO_15746      0.6003692813615262\n",
            "https://w3id.org/i40/sto#ISO_15746             https://w3id.org/i40/sto#ISO_22400      0.506151327401404\n",
            "https://w3id.org/i40/sto#ISO_15926             https://w3id.org/i40/sto#ISO_19440      0.6162975106747943\n",
            "https://w3id.org/i40/sto#ISO_19440             https://w3id.org/i40/sto#ISO_15926      0.6162975106747943\n",
            "https://w3id.org/i40/sto#ISO_TS_14649-201             https://w3id.org/i40/sto#IEC_29182-1      0.7077727583403226\n",
            "https://w3id.org/i40/sto#ModBus             https://w3id.org/i40/sto#ISO_19440      0.7957407909800891\n",
            "https://w3id.org/i40/sto#ISO_22400             https://w3id.org/i40/sto#ISO_15746      0.506151327401404\n",
            "https://w3id.org/i40/sto#ISO_15704             https://w3id.org/i40/sto#RFC_2616      0.6384405441390385\n",
            "https://w3id.org/i40/sto#ISO_19439             https://w3id.org/i40/sto#ISO_15704      0.7413401298480193\n",
            "https://w3id.org/i40/sto#ISO_13374             https://w3id.org/i40/sto#eClass      0.6475636207332085\n",
            "https://w3id.org/i40/sto#ISO_22745-11             https://w3id.org/i40/sto#ISO_18828-2      0.7746375191990775\n",
            "https://w3id.org/i40/sto#eClass             https://w3id.org/i40/sto#ISO_13374      0.6475636207332085\n",
            "https://w3id.org/i40/sto#ISO_16792             https://w3id.org/i40/sto#ISO_5459      0.7320915688495033\n",
            "https://w3id.org/i40/sto#ISO_14306             https://w3id.org/i40/sto#ISO_13374      0.7017670902199796\n",
            "https://w3id.org/i40/sto#IEC_81714             https://w3id.org/i40/sto#IEC_60839-5-2      0.7522489947454657\n",
            "https://w3id.org/i40/sto#ISO_5459             https://w3id.org/i40/sto#ISO_19440      0.7010490502457527\n",
            "https://w3id.org/i40/sto#ISO_8062-4             https://w3id.org/i40/sto#IEC_62714      0.7500333881871871\n",
            "https://w3id.org/i40/sto#ISO_ASTM_52915             https://w3id.org/i40/sto#IEC_24760      0.5902944657574194\n",
            "https://w3id.org/i40/sto#ISO_18828-2             https://w3id.org/i40/sto#IEC_62453      0.629863896163457\n",
            "https://w3id.org/i40/sto#IEC_61987_X             https://w3id.org/i40/sto#IEC_60839-5-2      0.726532366687813\n",
            "https://w3id.org/i40/sto#ISO_1101             https://w3id.org/i40/sto#ISO_15704      0.7825959910625204\n",
            "https://w3id.org/i40/sto#IEC_61512             https://w3id.org/i40/sto#ISO_13374      0.6566483392604203\n",
            "https://w3id.org/i40/sto#IEC_61131             https://w3id.org/i40/sto#IEC_61804      0.7213257717236562\n",
            "https://w3id.org/i40/sto#IEC_62453             https://w3id.org/i40/sto#ISO_15746      0.5538523811680831\n",
            "https://w3id.org/i40/sto#IEC_62541             https://w3id.org/i40/sto#ISO_13374      0.6503992496761845\n",
            "https://w3id.org/i40/sto#IEC_62890             https://w3id.org/i40/sto#IEC_29182-1      0.7292336139863171\n",
            "https://w3id.org/i40/sto#ISO_16739             https://w3id.org/i40/sto#IEC_61499      0.7172866274475748\n",
            "https://w3id.org/i40/sto#IEC_62264             https://w3id.org/i40/sto#IEC_61804      0.6080726977935902\n",
            "https://w3id.org/i40/sto#IEC_62337             https://w3id.org/i40/sto#ISO_ASTM_52915      0.7114576583787187\n",
            "https://w3id.org/i40/sto#IEC_60839-5-2             https://w3id.org/i40/sto#IEC_61987_X      0.726532366687813\n",
            "https://w3id.org/i40/sto#ISO_11898-1             https://w3id.org/i40/sto#RFC_7540      0.7894029297248398\n",
            "https://w3id.org/i40/sto#RFC_2616             https://w3id.org/i40/sto#ISO_15704      0.6384405441390385\n",
            "https://w3id.org/i40/sto#RFC_7540             https://w3id.org/i40/sto#IEC_62264      0.7194213527927635\n",
            "https://w3id.org/i40/sto#IEC_61784             https://w3id.org/i40/sto#IEC_24760      0.733596040670729\n",
            "https://w3id.org/i40/sto#IEC_29182-1             https://w3id.org/i40/sto#ISO_TS_14649-201      0.7077727583403226\n",
            "https://w3id.org/i40/sto#IEC_61499             https://w3id.org/i40/sto#ISO_ASTM_52915      0.6213233292781881\n",
            "https://w3id.org/i40/sto#IEC_61804             https://w3id.org/i40/sto#IEC_62264      0.6080726977935902\n",
            "https://w3id.org/i40/sto#IEC_61360             https://w3id.org/i40/sto#IEC_24760      0.6262297787395639\n"
          ],
          "name": "stdout"
        }
      ]
    },
    {
      "cell_type": "markdown",
      "metadata": {
        "colab_type": "text",
        "id": "Q64-8qaXhsMo"
      },
      "source": [
        "##Similarity among Standards of different Framework\n",
        "In this section we show the analysis of similarity among standards belonging to different frameworks."
      ]
    },
    {
      "cell_type": "code",
      "metadata": {
        "colab_type": "code",
        "id": "7x3yZavkkZ37",
        "colab": {
          "base_uri": "https://localhost:8080/",
          "height": 255
        },
        "outputId": "ce041424-f723-45ff-e9f3-27936211b08b"
      },
      "source": [
        "\n",
        "g = Graph()\n",
        "g.parse(\"/content/I40KG-Embeddings/sto/sto.nt\", format=\"nt\")\n",
        "    \n",
        "len(g) # prints 2\n",
        "#check for printing of the graph    \n",
        "'''for stmt in g:\n",
        "    pprint.pprint(stmt)'''\n",
        "\n",
        "#query to get the standards of two different Frameworks from the sto.nt file    \n",
        "qres1 = g.query(\n",
        "    \"\"\"PREFIX owl: <http://www.w3.org/2002/07/owl#>\n",
        "       PREFIX rdf: <http://www.w3.org/1999/02/22-rdf-syntax-ns#>\n",
        "       PREFIX sto: <https://w3id.org/i40/sto#>\n",
        "    \n",
        "    select ?s where {\n",
        "            ?s rdf:type sto:Standard .\n",
        "            ?s sto:hasClassification ?c .\n",
        "            ?c sto:isDescribedin <https://w3id.org/i40/sto#RAMI> .\n",
        "            } limit 10\"\"\")\n",
        "\n",
        "qres2 = g.query(\n",
        "    \"\"\"PREFIX owl: <http://www.w3.org/2002/07/owl#>\n",
        "       PREFIX rdf: <http://www.w3.org/1999/02/22-rdf-syntax-ns#>\n",
        "       PREFIX sto: <https://w3id.org/i40/sto#>\n",
        "    \n",
        "    select ?s where {\n",
        "            ?s rdf:type sto:Standard .\n",
        "            ?s sto:hasClassification ?c .\n",
        "            ?c sto:isDescribedin <https://w3id.org/i40/sto#IIRA> .\n",
        "            } limit 10\"\"\") \n",
        "\n",
        "#get the corresponding embeddings of the standards of the given Framework        \n",
        "with open(embeddings_path+\"/entities_to_embeddings.json\",'rb') as f:\n",
        "    array = json.load(f)\n",
        "new_dict = {}\n",
        "for row in qres1:\n",
        "#for line in oldfile:\n",
        "    #line1 = line.strip(\"\\n\")\n",
        "    for key,value in array.items():\n",
        "        if key == \"%s\" % row:\n",
        "            tem = key\n",
        "            new_dict[tem] = array[key] \n",
        "    #print(new_dict)\n",
        "for row in qres2:\n",
        "#for line in oldfile:\n",
        "    #line1 = line.strip(\"\\n\")\n",
        "    for key,value in array.items():\n",
        "        if key == \"%s\" % row:\n",
        "            tem = key\n",
        "            new_dict[tem] = array[key] \n",
        "    #print(new_dict)\n",
        "\n",
        "\n",
        "#to put the standards with their corresponding embeddings in a file\n",
        "with open('/content/I40KG-Embeddings/output_standard_different_framework.json','w') as f:\n",
        "    # this would place the entire output on one line\n",
        "    # use json.dump(lista_items, f, indent=4) to \"pretty-print\" with four spaces per indent\n",
        "    json.dump(new_dict, f)\n",
        "    \n",
        "    \n",
        "#to read the file containing standards along with their embeddings   \n",
        "with open('/content/I40KG-Embeddings/output_standard_different_framework.json', 'r') as f:\n",
        "    array = json.load(f)\n",
        "    \n",
        "#compare each standard with all the other standards to find cosine similarity\n",
        "result = {}\n",
        "for key,value in array.items():\n",
        "    temp,tempDict= 0,{}\n",
        "    for keyC,valueC in array.items():\n",
        "        if keyC == key:\n",
        "            continue\n",
        "        temp = scipy.spatial.distance.cosine(value,valueC) #send the values of the standards to cosine similarity function\n",
        "        tempDict[keyC] = temp\n",
        "        val1 = min(tempDict, key=tempDict.get)\n",
        "    res = {}\n",
        "    res[val1] = tempDict[val1]\n",
        "    #print (res)\n",
        "    result[key]= res\n",
        "    #result[key]= tempDict\n",
        "        \n",
        "#print the standards of along with their similar standards and their similarity distance\n",
        "print_result_standard(result)\n"
      ],
      "execution_count": 46,
      "outputs": [
        {
          "output_type": "stream",
          "text": [
            "Standard A                                            Standard B                              Score     \n",
            "----------------------------------------------------------------------------------------------------------------------\n",
            "https://w3id.org/i40/sto#ISO_18629             https://w3id.org/i40/sto#ISO_15746      0.6003692813615262\n",
            "https://w3id.org/i40/sto#RFC_7540             https://w3id.org/i40/sto#IEC_61784      0.779614016283357\n",
            "https://w3id.org/i40/sto#IEC_61784             https://w3id.org/i40/sto#IEC_29182-1      0.7639491832379116\n",
            "https://w3id.org/i40/sto#RFC_2616             https://w3id.org/i40/sto#ISO_15746      0.7250563927719291\n",
            "https://w3id.org/i40/sto#ISO_11898-1             https://w3id.org/i40/sto#RFC_7540      0.7894029297248398\n",
            "https://w3id.org/i40/sto#ISO_15746             https://w3id.org/i40/sto#ISO_18629      0.6003692813615262\n",
            "https://w3id.org/i40/sto#IEC_29182-1             https://w3id.org/i40/sto#RFC_7252      0.763049723451992\n",
            "https://w3id.org/i40/sto#IEC_60839-5-2             https://w3id.org/i40/sto#RFC_7540      0.8272227269151762\n",
            "https://w3id.org/i40/sto#IEC_62541             https://w3id.org/i40/sto#IEC_61784      0.829658722389623\n",
            "https://w3id.org/i40/sto#IEC_61360             https://w3id.org/i40/sto#RFC_2616      0.7671235928581652\n",
            "https://w3id.org/i40/sto#RFC_7252             https://w3id.org/i40/sto#RFC_2616      0.75467793202468\n",
            "https://w3id.org/i40/sto#ISO_20922             https://w3id.org/i40/sto#ISO_18629      0.7833325687294519\n"
          ],
          "name": "stdout"
        }
      ]
    },
    {
      "cell_type": "markdown",
      "metadata": {
        "colab_type": "text",
        "id": "3jfCwQl5ksNr"
      },
      "source": [
        "####Results\n",
        "The following table shows the similarity among different layers of two frameworks.\n",
        "\n",
        "| RAMI4.0 | IIRA | Score |\n",
        "| --------------|:-------:| ----------:|\n",
        "| Standard A |  Standard X  | 0.85 |\n",
        "| Standard B |  Standard Y  | 0.75 |\n",
        "| Standard C |  Standard Z  | 0.85 |\n"
      ]
    }
  ]
}