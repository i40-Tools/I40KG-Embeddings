{
  "nbformat": 4,
  "nbformat_minor": 0,
  "metadata": {
    "colab": {
      "name": "Similarity-Analysis.ipynb",
      "version": "0.3.2",
      "provenance": [],
      "collapsed_sections": [],
      "include_colab_link": true
    },
    "language_info": {
      "codemirror_mode": {
        "name": "ipython",
        "version": 3
      },
      "file_extension": ".py",
      "mimetype": "text/x-python",
      "name": "python",
      "nbconvert_exporter": "python",
      "pygments_lexer": "ipython3",
      "version": "3.6.7"
    },
    "kernelspec": {
      "display_name": "Python 3",
      "language": "python",
      "name": "python3"
    }
  },
  "cells": [
    {
      "cell_type": "markdown",
      "metadata": {
        "id": "view-in-github",
        "colab_type": "text"
      },
      "source": [
        "<a href=\"https://colab.research.google.com/github/i40-Tools/I40KG-Embeddings/blob/master/Similarity_Analysis.ipynb\" target=\"_parent\"><img src=\"https://colab.research.google.com/assets/colab-badge.svg\" alt=\"Open In Colab\"/></a>"
      ]
    },
    {
      "cell_type": "markdown",
      "metadata": {
        "colab_type": "text",
        "id": "hQCOAl5s4Wyv"
      },
      "source": [
        "# I40 standards landscape similarity analysis using embeddings\n",
        "\n",
        "## Overview\n",
        "\n",
        "In this notebook, we show the similarity analysis between Industry 4.0 Standards. \n",
        "To do so, we create embeddings about the Industry 4.0 Standards Knowledge Graph (I40KG) developed by [Grangel-Gonzales et. al.](https://www.researchgate.net/publication/318208930_The_Industry_40_Standards_Landscape_from_a_Semantic_Integration_Perspective)\n",
        "\n",
        "The embeddings are located here: [I40 Embeddings](https://github.com/i40-Tools/I40KG-Embeddings/tree/master/logs_sto)"
      ]
    },
    {
      "cell_type": "markdown",
      "metadata": {
        "colab_type": "text",
        "id": "kFDNGNBI6EvO"
      },
      "source": [
        "## Initial Configurations\n",
        "First, let's import the required libraries to perform the similarity analysis."
      ]
    },
    {
      "cell_type": "code",
      "metadata": {
        "colab_type": "code",
        "id": "hyThPWuINg6u",
        "outputId": "2e2b66da-64b8-4ecf-f1b7-888509745257",
        "colab": {
          "base_uri": "https://localhost:8080/",
          "height": 136
        }
      },
      "source": [
        "!git clone https://github.com/i40-Tools/I40KG-Embeddings.git"
      ],
      "execution_count": 1,
      "outputs": [
        {
          "output_type": "stream",
          "text": [
            "Cloning into 'I40KG-Embeddings'...\n",
            "remote: Enumerating objects: 23, done.\u001b[K\n",
            "remote: Counting objects: 100% (23/23), done.\u001b[K\n",
            "remote: Compressing objects: 100% (18/18), done.\u001b[K\n",
            "remote: Total 322 (delta 5), reused 16 (delta 2), pack-reused 299\u001b[K\n",
            "Receiving objects: 100% (322/322), 75.97 MiB | 24.79 MiB/s, done.\n",
            "Resolving deltas: 100% (150/150), done.\n"
          ],
          "name": "stdout"
        }
      ]
    },
    {
      "cell_type": "code",
      "metadata": {
        "colab_type": "code",
        "id": "sEm90RF-MtcV",
        "outputId": "613c0448-e4f7-40c4-9eb8-66bac4a10573",
        "colab": {
          "base_uri": "https://localhost:8080/",
          "height": 34
        }
      },
      "source": [
        "%ls"
      ],
      "execution_count": 1,
      "outputs": [
        {
          "output_type": "stream",
          "text": [
            "\u001b[0m\u001b[01;34mI40KG-Embeddings\u001b[0m/  \u001b[01;34msample_data\u001b[0m/\n"
          ],
          "name": "stdout"
        }
      ]
    },
    {
      "cell_type": "code",
      "metadata": {
        "colab_type": "code",
        "id": "7aEjqqkYutsz",
        "colab": {}
      },
      "source": [
        "import scipy\n",
        "from scipy import spatial\n",
        "import numpy as np\n",
        "import math\n",
        "import json\n",
        "from scipy.spatial.distance import cdist"
      ],
      "execution_count": 0,
      "outputs": []
    },
    {
      "cell_type": "markdown",
      "metadata": {
        "colab_type": "text",
        "id": "WVb3ydnAovrN"
      },
      "source": [
        "### Define function to print the result in tabular format \n",
        "The format of tables for Similarity of Frameworks, Standards and Layers are different. Hence, different functions for each type to clear the confusions."
      ]
    },
    {
      "cell_type": "code",
      "metadata": {
        "colab_type": "code",
        "id": "P8oZcY7volad",
        "colab": {}
      },
      "source": [
        "#function to print result in table for similarity of frameworks\n",
        "def print_result_framework(result):\n",
        "    print (\"{:<8}                                            {:<15}                         {:<10}\".format('Framework A','Framework B','Score'))\n",
        "    print (\"----------------------------------------------------------------------------------------------------------------------\")\n",
        "    for key,value in result.items():\n",
        "        val = str(value)\n",
        "        val = val.strip(\"{}\")\n",
        "        val = val.strip(\"''\")\n",
        "        val = val.replace(\"':\",\"     \")\n",
        "        print(\"{:<8}       {:<15}\".format(key +\"      \", val))\n",
        "\n"
      ],
      "execution_count": 0,
      "outputs": []
    },
    {
      "cell_type": "code",
      "metadata": {
        "colab_type": "code",
        "id": "u6SGSexAtoFg",
        "colab": {}
      },
      "source": [
        "#function to print result in table for similarity of standards, similarity of standards for same framework and different framework\n",
        "def print_result_standard(result):\n",
        "    print (\"{:<8}                                            {:<15}                         {:<10}\".format('Standard A','Standard B','Score'))\n",
        "    print (\"----------------------------------------------------------------------------------------------------------------------\")\n",
        "    for key,value in result.items():\n",
        "        val = str(value)\n",
        "        val = val.strip(\"{}\")\n",
        "        val = val.strip(\"''\")\n",
        "        val = val.replace(\"':\",\"     \")\n",
        "        print(\"{:<8}       {:<15}\".format(key +\"      \", val))\n",
        "\n"
      ],
      "execution_count": 0,
      "outputs": []
    },
    {
      "cell_type": "code",
      "metadata": {
        "colab_type": "code",
        "id": "VHyEOITUWQ32",
        "colab": {}
      },
      "source": [
        "#function to print result in table for similarity for layers\n",
        "def print_layers(result,framework1,framework2):\n",
        "    print (\"{:<8}                     {:<15}                         {:<10}\".format(framework1,framework2,'Score'))\n",
        "    print (\"----------------------------------------------------------------------------------------------------------------------\")\n",
        "    for key,value in result.items():\n",
        "        val = str(value)\n",
        "        val = val.strip(\"{}\")\n",
        "        val = val.strip(\"''\")\n",
        "        val = val.replace(\"':\",\"     \")\n",
        "        print(\"{:<8}       {:<15}\".format(key +\"      \", val))\n"
      ],
      "execution_count": 0,
      "outputs": []
    },
    {
      "cell_type": "markdown",
      "metadata": {
        "colab_type": "text",
        "id": "oV0m0qjp74TW"
      },
      "source": [
        "### Define similarity function\n",
        "We are going to us cosine distance to measure the similarity between two embeddings"
      ]
    },
    {
      "cell_type": "code",
      "metadata": {
        "colab_type": "code",
        "id": "JVadkVny8ENA",
        "colab": {}
      },
      "source": [
        "#function to calculate cosine distance \n",
        "def cosine_similarity(vec1,vec2):\n",
        "    sum11, sum12, sum22 = 0, 0, 0\n",
        "    for i in range(len(vec1)):\n",
        "        x = vec1[i]; y = vec2[i]\n",
        "        sum11 += x*x\n",
        "        sum22 += y*y\n",
        "        sum12 += x*y\n",
        "    return sum12/math.sqrt(sum11*sum22)"
      ],
      "execution_count": 0,
      "outputs": []
    },
    {
      "cell_type": "markdown",
      "metadata": {
        "colab_type": "text",
        "id": "faYXX_Tx8sVp"
      },
      "source": [
        "## Similarity among I40 Standarization Frameworks\n",
        "In this section we show the analysis of similarity among standarization frameworks"
      ]
    },
    {
      "cell_type": "code",
      "metadata": {
        "colab_type": "code",
        "id": "y3clg69O9-39",
        "outputId": "d6b7756a-9df7-4a53-c449-eb08d8d23955",
        "colab": {
          "base_uri": "https://localhost:8080/",
          "height": 85
        }
      },
      "source": [
        "!pip3 install rdflib"
      ],
      "execution_count": 7,
      "outputs": [
        {
          "output_type": "stream",
          "text": [
            "Requirement already satisfied: rdflib in /usr/local/lib/python3.6/dist-packages (4.2.2)\n",
            "Requirement already satisfied: isodate in /usr/local/lib/python3.6/dist-packages (from rdflib) (0.6.0)\n",
            "Requirement already satisfied: pyparsing in /usr/local/lib/python3.6/dist-packages (from rdflib) (2.4.0)\n",
            "Requirement already satisfied: six in /usr/local/lib/python3.6/dist-packages (from isodate->rdflib) (1.12.0)\n"
          ],
          "name": "stdout"
        }
      ]
    },
    {
      "cell_type": "code",
      "metadata": {
        "colab_type": "code",
        "id": "IYw3XfUX8pGJ",
        "colab": {}
      },
      "source": [
        "import json\n",
        "from rdflib import Graph\n",
        "import pprint"
      ],
      "execution_count": 0,
      "outputs": []
    },
    {
      "cell_type": "code",
      "metadata": {
        "id": "33C5sAoLdarC",
        "colab_type": "code",
        "colab": {}
      },
      "source": [
        "embeddings_type = \"TransR\" #Values are TransE, TransD, TransH, TransR\n",
        "embeddings_path = \"/content/I40KG-Embeddings/embeddings/\"+embeddings_type+\"/sto-enriched\""
      ],
      "execution_count": 0,
      "outputs": []
    },
    {
      "cell_type": "markdown",
      "metadata": {
        "colab_type": "text",
        "id": "AMwPTYlFcRh3"
      },
      "source": [
        "###Similarity among Frameworks\n",
        "In this section we analyze the similarity of I4.0 frameworks at the high level, i.e., StandardizationFramework.\n"
      ]
    },
    {
      "cell_type": "code",
      "metadata": {
        "colab_type": "code",
        "id": "EGoiqCkM-JVE",
        "outputId": "8037e460-9cc3-4eaa-828f-a50da5767135",
        "colab": {
          "base_uri": "https://localhost:8080/",
          "height": 238
        }
      },
      "source": [
        "g = Graph()\n",
        "g.parse(\"/content/I40KG-Embeddings/sto/sto.nt\", format=\"nt\")\n",
        "    \n",
        "len(g) # prints 2\n",
        " #check printing of the graph    \n",
        "'''for stmt in g:\n",
        "    pprint.pprint(stmt)'''\n",
        "\n",
        "#query to get the framework/standard from the sto.nt file\n",
        "#to get standards we have to replace sto:StandardizationFramework by sto:Standard in the query\n",
        "#we can get standards of the frameworks as well by just changing the query\n",
        "\n",
        "qres = g.query(\n",
        "    \"\"\"PREFIX owl: <http://www.w3.org/2002/07/owl#>\n",
        "       PREFIX rdf: <http://www.w3.org/1999/02/22-rdf-syntax-ns#>\n",
        "       PREFIX sto: <https://w3id.org/i40/sto#>\n",
        "    \n",
        "    select ?s where {\n",
        "            ?s rdf:type sto:StandardizationFramework .\n",
        "            } limit 1000\"\"\")\n",
        "    \n",
        "       \n",
        "#to get the corresponding embeddings of the frameworks/standards from the json file \n",
        "with open(embeddings_path+\"/entities_to_embeddings.json\",'rb') as f:\n",
        "    array = json.load(f)\n",
        "new_dict = {}\n",
        "for row in qres:\n",
        "    for key,value in array.items():\n",
        "        if key == \"%s\" % row:\n",
        "            tem = key\n",
        "            new_dict[tem] = array[key] \n",
        "            #print(new_dict)\n",
        "\n",
        "#to put the frameworks/standards with their corresponding embeddings in a file            \n",
        "with open('/content/I40KG-Embeddings/output_framework.json','w') as f:\n",
        "    # this would place the entire output on one line\n",
        "    # use json.dump(new_dict, f, indent=4) to \"pretty-print\" with four spaces per indent\n",
        "    json.dump(new_dict, f)\n",
        "    \n",
        "    \n",
        "#to read the file containing standards/frameworks along with their embeddings   \n",
        "with open('/content/I40KG-Embeddings/output_framework.json', 'r') as f:\n",
        "    array = json.load(f)\n",
        "    \n",
        "#compare each standard/framework with all the other standards/frameworks to find cosine similarity\n",
        "result = {}\n",
        "for key,value in array.items():\n",
        "    temp,tempDict= 0,{}\n",
        "    for keyC,valueC in array.items():\n",
        "        if keyC == key:\n",
        "            continue\n",
        "        temp = scipy.spatial.distance.cosine(value,valueC) #send the values of the standards/frameworks to cosine similarity function\n",
        "        tempDict[keyC] = temp\n",
        "        val1 = min(tempDict, key=tempDict.get)\n",
        "    res = {}\n",
        "    res[val1] = tempDict[val1]\n",
        "    #print (res)\n",
        "    result[key]= res\n",
        "    #result[key]= tempDict\n",
        "        \n",
        "#print the standards/frameworks along with their similar standards/frameworks and their similarity distance\n",
        "print_result_framework(result)"
      ],
      "execution_count": 19,
      "outputs": [
        {
          "output_type": "stream",
          "text": [
            "Framework A                                            Framework B                             Score     \n",
            "----------------------------------------------------------------------------------------------------------------------\n",
            "https://w3id.org/i40/sto#IIRC             https://w3id.org/i40/sto#IndustrialDataSpace      0.760237478482966\n",
            "https://w3id.org/i40/sto#AdministrationShell             https://w3id.org/ids/core/TrustedConnector      0.7235714309395047\n",
            "https://w3id.org/i40/rami#Body             https://w3id.org/i40/sto#NISTInitiative      0.8186195359479508\n",
            "https://w3id.org/i40/sto#RAMI             https://w3id.org/i40/sto#ISA95      0.7320519245390924\n",
            "https://w3id.org/i40/sto#ISA95             https://w3id.org/ids/core/TrustedConnector      0.5309462912895939\n",
            "https://w3id.org/i40/rami#Header             https://w3id.org/i40/sto#IndustrialDataSpace      0.7687442933625579\n",
            "https://w3id.org/i40/sto#BdvaSira             https://w3id.org/i40/sto#IndustrialDataSpace      0.7793944095987735\n",
            "https://w3id.org/ids/core/TrustedConnector             https://w3id.org/i40/sto#ISA95      0.5309462912895939\n",
            "https://w3id.org/i40/sto#TrustedConnector             https://w3id.org/i40/sto#IndustrialDataSpace      0.950017626624593\n",
            "https://w3id.org/i40/sto#NISTInitiative             https://w3id.org/i40/rami#Body      0.8186195359479508\n",
            "https://w3id.org/i40/sto#IndustrialDataSpace             https://w3id.org/i40/sto#IIRC      0.760237478482966\n"
          ],
          "name": "stdout"
        }
      ]
    },
    {
      "cell_type": "markdown",
      "metadata": {
        "colab_type": "text",
        "id": "dhr_lZjLqIKD"
      },
      "source": [
        "### Similarity among Standards\n",
        "\n",
        "In this section we analyze the similarity of I4.0 standards at the high level, i.e., Standard."
      ]
    },
    {
      "cell_type": "code",
      "metadata": {
        "colab_type": "code",
        "id": "BCdr2dUgpGuz",
        "colab": {}
      },
      "source": [
        "g = Graph()\n",
        "g.parse(\"/content/I40KG-Embeddings/sto/sto.nt\", format=\"nt\")\n",
        "    \n",
        "len(g) # prints 2\n",
        " #check printing of the graph    \n",
        "'''for stmt in g:\n",
        "    pprint.pprint(stmt)'''\n",
        "\n",
        "#query to get the framework/standard from the sto.nt file\n",
        "#to get standards we have to replace sto:StandardizationFramework by sto:Standard in the query\n",
        "#we can get standards of the frameworks as well by just changing the query\n",
        "\n",
        "qres = g.query(\n",
        "    \"\"\"PREFIX owl: <http://www.w3.org/2002/07/owl#>\n",
        "       PREFIX rdf: <http://www.w3.org/1999/02/22-rdf-syntax-ns#>\n",
        "       PREFIX sto: <https://w3id.org/i40/sto#>\n",
        "    \n",
        "    select ?s where {\n",
        "            ?s rdf:type sto:Standard .\n",
        "            } limit 1000\"\"\")\n",
        "    \n",
        "       \n",
        "#to get the corresponding embeddings of the frameworks/standards from the json file \n",
        "with open(embeddings_path+\"/entities_to_embeddings.json\",'rb') as f:\n",
        "    array = json.load(f)\n",
        "new_dict = {}\n",
        "for row in qres:\n",
        "    for key,value in array.items():\n",
        "        if key == \"%s\" % row:\n",
        "            tem = key\n",
        "            new_dict[tem] = array[key] \n",
        "    print(new_dict)\n",
        "\n",
        "#to put the frameworks/standards with their corresponding embeddings in a file            \n",
        "with open('/content/I40KG-Embeddings/output_standard.json','w') as f:\n",
        "    # this would place the entire output on one line\n",
        "    # use json.dump(new_dict, f, indent=4) to \"pretty-print\" with four spaces per indent\n",
        "    json.dump(new_dict, f)\n",
        "    \n",
        "    \n",
        "#to read the file containing standards/frameworks along with their embeddings   \n",
        "with open('/content/I40KG-Embeddings/output_standard.json', 'r') as f:\n",
        "    array = json.load(f)\n",
        "    \n",
        "#compare each standard/framework with all the other standards/frameworks to find cosine similarity\n",
        "result = {}\n",
        "for key,value in array.items():\n",
        "    temp,tempDict= 0,{}\n",
        "    for keyC,valueC in array.items():\n",
        "        if keyC == key:\n",
        "            continue\n",
        "        temp = scipy.spatial.distance.cosine(value,valueC) #send the values of the standards/frameworks to cosine similarity function\n",
        "        tempDict[keyC] = temp\n",
        "        val1 = min(tempDict, key=tempDict.get)\n",
        "    res = {}\n",
        "    res[val1] = tempDict[val1]\n",
        "    #print (res)\n",
        "    result[key]= res\n",
        "    #result[key]= tempDict\n",
        "        \n",
        "#print the standards/frameworks along with their similar standards/frameworks and their similarity distance\n",
        "print_result_standard(result)"
      ],
      "execution_count": 0,
      "outputs": []
    },
    {
      "cell_type": "markdown",
      "metadata": {
        "colab_type": "text",
        "id": "CpC43qoTcusI"
      },
      "source": [
        "####Results\n",
        "The following table shows the frameworks with high degree of similarites.\n",
        "\n",
        "| Framework A | Framework B | Score |\n",
        "| ----------------------|:---------------------:| ----------:|\n",
        "| RAMI 4.0 |  IIRA  | 0.75 |\n"
      ]
    },
    {
      "cell_type": "code",
      "metadata": {
        "colab_type": "code",
        "id": "JqKx82Hydq8W",
        "colab": {}
      },
      "source": [
        "# TODO implement a fuction to print a table as the one above"
      ],
      "execution_count": 0,
      "outputs": []
    },
    {
      "cell_type": "markdown",
      "metadata": {
        "colab_type": "text",
        "id": "3wNXAXHCeavo"
      },
      "source": [
        "###Similarity among different layers of the Standards\n",
        "In this section we analyze the similarity among layers of different standards, e.g., RAMI 4.0 -> Layer A vs IIRA -> Layer X"
      ]
    },
    {
      "cell_type": "code",
      "metadata": {
        "colab_type": "code",
        "id": "HLxQyT6ugE39",
        "colab": {}
      },
      "source": [
        "\n",
        "g = Graph()\n",
        "g.parse(\"/content/I40KG-Embeddings/sto/sto.nt\", format=\"nt\")\n",
        "    \n",
        "len(g) # prints 2\n",
        "#check the printing of the graph\n",
        "'''for stmt in g:\n",
        "    pprint.pprint(stmt)'''\n",
        "\n",
        "\n",
        "#queries to get the layers from the sto.nt file for the corresponding Frameworks   \n",
        "qres1 = g.query(\n",
        "    \"\"\"PREFIX owl: <http://www.w3.org/2002/07/owl#>\n",
        "       PREFIX rdf: <http://www.w3.org/1999/02/22-rdf-syntax-ns#>\n",
        "       PREFIX sto: <https://w3id.org/i40/sto#>\n",
        "    \n",
        "    select DISTINCT ?c where {\n",
        "            ?s sto:hasClassification ?c .\n",
        "            ?c sto:isDescribedin <https://w3id.org/i40/sto#RAMI> .\n",
        "            } limit 1000\"\"\")\n",
        "\n",
        "qres2 = g.query(\n",
        "    \"\"\"PREFIX owl: <http://www.w3.org/2002/07/owl#>\n",
        "       PREFIX rdf: <http://www.w3.org/1999/02/22-rdf-syntax-ns#>\n",
        "       PREFIX sto: <https://w3id.org/i40/sto#>\n",
        "    \n",
        "     select DISTINCT ?c where {\n",
        "            ?s sto:hasClassification ?c .\n",
        "            ?c sto:isDescribedin <https://w3id.org/i40/sto#ISA95> .\n",
        "            } limit 1000\"\"\") \n",
        "\n",
        "\n",
        "#to get the corresponding embeddings of the layers of two Frameworks from the json file and put it in two different dictionaries\n",
        "with open(embeddings_path+\"/entities_to_embeddings.json\",'rb') as f:\n",
        "    array = json.load(f)\n",
        "new_dict1 = {}\n",
        "new_dict2 = {}\n",
        "for row in qres1:\n",
        "    for key,value in array.items():\n",
        "        if key == \"%s\" % row:\n",
        "            tem = key\n",
        "            new_dict1[tem] = array[key] \n",
        "print(new_dict1)\n",
        "for row in qres2:\n",
        "    for key,value in array.items():\n",
        "        if key == \"%s\" % row:\n",
        "            tem = key\n",
        "            new_dict2[tem] = array[key] \n",
        "print(new_dict2)\n",
        "\n",
        "#the frameworks of which the similarity of their layers will be compared    \n",
        "framework1 = 'https://w3id.org/i40/sto#RAMI'    \n",
        "framework2 = 'https://w3id.org/i40/sto#ISA95'\n",
        "\n",
        "#compare each layers of one Framework  with all the layers of the other Framework to find cosine similarity\n",
        "result = {}\n",
        "for key,value in new_dict1.items():\n",
        "    temp,tempDict= 0,{}\n",
        "    for keyC,valueC in new_dict2.items():\n",
        "        if keyC == key:\n",
        "            continue\n",
        "        temp = scipy.spatial.distance.cosine(value,valueC)  #pass the vales to find cosine similarity\n",
        "        tempDict[keyC] = temp\n",
        "        val1 = min(tempDict, key=tempDict.get)\n",
        "    res = {}\n",
        "    res[val1] = tempDict[val1]\n",
        "    #print (res)\n",
        "    result[key]= res\n",
        "\n",
        "#print the similarity of layers of the two Frameworks in tabular format along with their similarity distance\n",
        "print_layers(result,framework1,framework2)"
      ],
      "execution_count": 0,
      "outputs": []
    },
    {
      "cell_type": "markdown",
      "metadata": {
        "colab_type": "text",
        "id": "4itDLL1Eglu6"
      },
      "source": [
        "####Results\n",
        "The following table shows the similarity among different layers of two frameworks.\n",
        "\n",
        "| RAMI4.0 | IIRA | Score |\n",
        "| --------------|:-------:| ----------:|\n",
        "| Layer A |  Layer X  | 0.85 |\n",
        "| Layer B |  Layer Y  | 0.75 |\n",
        "| Layer C |  Layer Z  | 0.85 |\n"
      ]
    },
    {
      "cell_type": "code",
      "metadata": {
        "colab_type": "code",
        "id": "pj0WrTtEg_U5",
        "colab": {}
      },
      "source": [
        "# TODO print a table like the above"
      ],
      "execution_count": 0,
      "outputs": []
    },
    {
      "cell_type": "markdown",
      "metadata": {
        "colab_type": "text",
        "id": "-pc4XzZYhSu-"
      },
      "source": [
        "##Similarity among Standards of the same Framework\n",
        "In this section we show the analysis of similarity among standards belonging to the same framework."
      ]
    },
    {
      "cell_type": "code",
      "metadata": {
        "colab_type": "code",
        "id": "ou9fwdGVpN9F",
        "colab": {}
      },
      "source": [
        "\n",
        "g = Graph()\n",
        "g.parse(\"/content/I40KG-Embeddings/sto/sto.nt\", format=\"nt\")\n",
        "    \n",
        "len(g) # prints 2\n",
        "#check for printing of the graph    \n",
        "'''for stmt in g:\n",
        "    pprint.pprint(stmt)'''\n",
        "\n",
        "#query to get the standards of a Framework from the sto.nt file\n",
        "qres = g.query(\n",
        "    \"\"\"PREFIX owl: <http://www.w3.org/2002/07/owl#>\n",
        "       PREFIX rdf: <http://www.w3.org/1999/02/22-rdf-syntax-ns#>\n",
        "       PREFIX sto: <https://w3id.org/i40/sto#>\n",
        "    \n",
        "    select ?s where {\n",
        "            ?s rdf:type sto:Standard .\n",
        "            ?s sto:hasClassification ?c .\n",
        "            ?c sto:isDescribedin <https://w3id.org/i40/sto#RAMI> .\n",
        "            } limit 1000\"\"\")\n",
        "        \n",
        "#get the corresponding embeddings of the standards of the given Framework\n",
        "with open(embeddings_path+\"/entities_to_embeddings.json\",'rb') as f:\n",
        "    array = json.load(f)\n",
        "new_dict = {}\n",
        "for row in qres:\n",
        "#for line in oldfile:\n",
        "    #line1 = line.strip(\"\\n\")\n",
        "    for key,value in array.items():\n",
        "        if key == \"%s\" % row:\n",
        "            tem = key\n",
        "            new_dict[tem] = array[key] \n",
        "    print(new_dict)\n",
        "\n",
        "#to put the standards with their corresponding embeddings in a file\n",
        "with open('/content/I40KG-Embeddings/output_standard_same_framework.json','w') as f:\n",
        "    # this would place the entire output on one line\n",
        "    # use json.dump(lista_items, f, indent=4) to \"pretty-print\" with four spaces per indent\n",
        "    json.dump(new_dict, f) \n",
        "\n",
        "    \n",
        "#to read the file containing standards along with their embeddings   \n",
        "with open('/content/I40KG-Embeddings/output_standard_same_framework.json', 'r') as f:\n",
        "    array = json.load(f)\n",
        "    \n",
        "#compare each standard with all the other standards of that Framework to find cosine similarity\n",
        "result = {}\n",
        "for key,value in array.items():\n",
        "    temp,tempDict= 0,{}\n",
        "    for keyC,valueC in array.items():\n",
        "        if keyC == key:\n",
        "            continue\n",
        "        temp = scipy.spatial.distance.cosine(value,valueC) #send the values of the standards to cosine similarity function\n",
        "        tempDict[keyC] = temp\n",
        "        val1 = min(tempDict, key=tempDict.get)\n",
        "    res = {}\n",
        "    res[val1] = tempDict[val1]\n",
        "    #print (res)\n",
        "    result[key]= res\n",
        "    #result[key]= tempDict\n",
        "        \n",
        "#print the standards along with their similar standards and their similarity distance\n",
        "print_result_standard(result)"
      ],
      "execution_count": 0,
      "outputs": []
    },
    {
      "cell_type": "markdown",
      "metadata": {
        "colab_type": "text",
        "id": "Q64-8qaXhsMo"
      },
      "source": [
        "##Similarity among Standards of different Framework\n",
        "In this section we show the analysis of similarity among standards belonging to different frameworks."
      ]
    },
    {
      "cell_type": "code",
      "metadata": {
        "colab_type": "code",
        "id": "7x3yZavkkZ37",
        "colab": {}
      },
      "source": [
        "\n",
        "g = Graph()\n",
        "g.parse(\"/content/I40KG-Embeddings/sto/sto.nt\", format=\"nt\")\n",
        "    \n",
        "len(g) # prints 2\n",
        "#check for printing of the graph    \n",
        "'''for stmt in g:\n",
        "    pprint.pprint(stmt)'''\n",
        "\n",
        "#query to get the standards of two different Frameworks from the sto.nt file    \n",
        "qres1 = g.query(\n",
        "    \"\"\"PREFIX owl: <http://www.w3.org/2002/07/owl#>\n",
        "       PREFIX rdf: <http://www.w3.org/1999/02/22-rdf-syntax-ns#>\n",
        "       PREFIX sto: <https://w3id.org/i40/sto#>\n",
        "    \n",
        "    select ?s where {\n",
        "            ?s rdf:type sto:Standard .\n",
        "            ?s sto:hasClassification ?c .\n",
        "            ?c sto:isDescribedin <https://w3id.org/i40/sto#RAMI> .\n",
        "            } limit 10\"\"\")\n",
        "\n",
        "qres2 = g.query(\n",
        "    \"\"\"PREFIX owl: <http://www.w3.org/2002/07/owl#>\n",
        "       PREFIX rdf: <http://www.w3.org/1999/02/22-rdf-syntax-ns#>\n",
        "       PREFIX sto: <https://w3id.org/i40/sto#>\n",
        "    \n",
        "    select ?s where {\n",
        "            ?s rdf:type sto:Standard .\n",
        "            ?s sto:hasClassification ?c .\n",
        "            ?c sto:isDescribedin <https://w3id.org/i40/sto#ISA95> .\n",
        "            } limit 10\"\"\") \n",
        "\n",
        "#get the corresponding embeddings of the standards of the given Framework        \n",
        "with open(embeddings_path+\"/entities_to_embeddings.json\",'rb') as f:\n",
        "    array = json.load(f)\n",
        "new_dict = {}\n",
        "for row in qres1:\n",
        "#for line in oldfile:\n",
        "    #line1 = line.strip(\"\\n\")\n",
        "    for key,value in array.items():\n",
        "        if key == \"%s\" % row:\n",
        "            tem = key\n",
        "            new_dict[tem] = array[key] \n",
        "    print(new_dict)\n",
        "for row in qres2:\n",
        "#for line in oldfile:\n",
        "    #line1 = line.strip(\"\\n\")\n",
        "    for key,value in array.items():\n",
        "        if key == \"%s\" % row:\n",
        "            tem = key\n",
        "            new_dict[tem] = array[key] \n",
        "    print(new_dict)\n",
        "\n",
        "\n",
        "#to put the standards with their corresponding embeddings in a file\n",
        "with open('/content/I40KG-Embeddings/output_standard_different_framework.json','w') as f:\n",
        "    # this would place the entire output on one line\n",
        "    # use json.dump(lista_items, f, indent=4) to \"pretty-print\" with four spaces per indent\n",
        "    json.dump(new_dict, f)\n",
        "    \n",
        "    \n",
        "#to read the file containing standards along with their embeddings   \n",
        "with open('/content/I40KG-Embeddings/output_standard_different_framework.json', 'r') as f:\n",
        "    array = json.load(f)\n",
        "    \n",
        "#compare each standard with all the other standards to find cosine similarity\n",
        "result = {}\n",
        "for key,value in array.items():\n",
        "    temp,tempDict= 0,{}\n",
        "    for keyC,valueC in array.items():\n",
        "        if keyC == key:\n",
        "            continue\n",
        "        temp = scipy.spatial.distance.cosine(value,valueC) #send the values of the standards to cosine similarity function\n",
        "        tempDict[keyC] = temp\n",
        "        val1 = min(tempDict, key=tempDict.get)\n",
        "    res = {}\n",
        "    res[val1] = tempDict[val1]\n",
        "    #print (res)\n",
        "    result[key]= res\n",
        "    #result[key]= tempDict\n",
        "        \n",
        "#print the standards of along with their similar standards and their similarity distance\n",
        "print_result_standard(result)\n"
      ],
      "execution_count": 0,
      "outputs": []
    },
    {
      "cell_type": "markdown",
      "metadata": {
        "colab_type": "text",
        "id": "3jfCwQl5ksNr"
      },
      "source": [
        "####Results\n",
        "The following table shows the similarity among different layers of two frameworks.\n",
        "\n",
        "| RAMI4.0 | IIRA | Score |\n",
        "| --------------|:-------:| ----------:|\n",
        "| Standard A |  Standard X  | 0.85 |\n",
        "| Standard B |  Standard Y  | 0.75 |\n",
        "| Standard C |  Standard Z  | 0.85 |\n"
      ]
    }
  ]
}