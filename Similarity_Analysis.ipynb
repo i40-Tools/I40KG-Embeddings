{
  "nbformat": 4,
  "nbformat_minor": 0,
  "metadata": {
    "colab": {
      "name": "Similarity-Analysis.ipynb",
      "version": "0.3.2",
      "provenance": [],
      "collapsed_sections": [],
      "include_colab_link": true
    },
    "language_info": {
      "codemirror_mode": {
        "name": "ipython",
        "version": 3
      },
      "file_extension": ".py",
      "mimetype": "text/x-python",
      "name": "python",
      "nbconvert_exporter": "python",
      "pygments_lexer": "ipython3",
      "version": "3.6.7"
    },
    "kernelspec": {
      "display_name": "Python 3",
      "language": "python",
      "name": "python3"
    }
  },
  "cells": [
    {
      "cell_type": "markdown",
      "metadata": {
        "id": "view-in-github",
        "colab_type": "text"
      },
      "source": [
        "<a href=\"https://colab.research.google.com/github/i40-Tools/I40KG-Embeddings/blob/master/Similarity_Analysis.ipynb\" target=\"_parent\"><img src=\"https://colab.research.google.com/assets/colab-badge.svg\" alt=\"Open In Colab\"/></a>"
      ]
    },
    {
      "cell_type": "markdown",
      "metadata": {
        "colab_type": "text",
        "id": "hQCOAl5s4Wyv"
      },
      "source": [
        "# I40 standards landscape similarity analysis using embeddings\n",
        "\n",
        "## Overview\n",
        "\n",
        "In this notebook, we show the similarity analysis between Industry 4.0 Standards. \n",
        "To do so, we create embeddings about the Industry 4.0 Standards Knowledge Graph (I40KG) developed by [Grangel-Gonzales et. al.](https://www.researchgate.net/publication/318208930_The_Industry_40_Standards_Landscape_from_a_Semantic_Integration_Perspective)\n",
        "\n",
        "The embeddings are located here: [I40 Embeddings](https://github.com/i40-Tools/I40KG-Embeddings/tree/master/logs_sto)"
      ]
    },
    {
      "cell_type": "markdown",
      "metadata": {
        "colab_type": "text",
        "id": "kFDNGNBI6EvO"
      },
      "source": [
        "## Initial Configurations\n",
        "First, let's import the required libraries to perform the similarity analysis."
      ]
    },
    {
      "cell_type": "code",
      "metadata": {
        "colab_type": "code",
        "id": "hyThPWuINg6u",
        "outputId": "7e6d2ca2-6da4-40de-e051-2804ee81a6c7",
        "colab": {
          "base_uri": "https://localhost:8080/",
          "height": 136
        }
      },
      "source": [
        "!git clone https://github.com/i40-Tools/I40KG-Embeddings.git"
      ],
      "execution_count": 1,
      "outputs": [
        {
          "output_type": "stream",
          "text": [
            "Cloning into 'I40KG-Embeddings'...\n",
            "remote: Enumerating objects: 38, done.\u001b[K\n",
            "remote: Counting objects: 100% (38/38), done.\u001b[K\n",
            "remote: Compressing objects: 100% (31/31), done.\u001b[K\n",
            "remote: Total 337 (delta 15), reused 19 (delta 4), pack-reused 299\u001b[K\n",
            "Receiving objects: 100% (337/337), 75.99 MiB | 24.10 MiB/s, done.\n",
            "Resolving deltas: 100% (160/160), done.\n"
          ],
          "name": "stdout"
        }
      ]
    },
    {
      "cell_type": "code",
      "metadata": {
        "colab_type": "code",
        "id": "sEm90RF-MtcV",
        "outputId": "a54cfdc7-fdd8-41db-abb0-a2ecdd21552b",
        "colab": {
          "base_uri": "https://localhost:8080/",
          "height": 34
        }
      },
      "source": [
        "%ls"
      ],
      "execution_count": 2,
      "outputs": [
        {
          "output_type": "stream",
          "text": [
            "\u001b[0m\u001b[01;34mI40KG-Embeddings\u001b[0m/  \u001b[01;34msample_data\u001b[0m/\n"
          ],
          "name": "stdout"
        }
      ]
    },
    {
      "cell_type": "code",
      "metadata": {
        "colab_type": "code",
        "id": "7aEjqqkYutsz",
        "colab": {}
      },
      "source": [
        "import scipy\n",
        "from scipy import spatial\n",
        "import numpy as np\n",
        "import math\n",
        "import json\n",
        "from scipy.spatial.distance import cdist"
      ],
      "execution_count": 0,
      "outputs": []
    },
    {
      "cell_type": "markdown",
      "metadata": {
        "colab_type": "text",
        "id": "WVb3ydnAovrN"
      },
      "source": [
        "### Define function to print the result in tabular format \n",
        "The format of tables for Similarity of Frameworks, Standards and Layers are different. Hence, different functions for each type to clear the confusions."
      ]
    },
    {
      "cell_type": "code",
      "metadata": {
        "colab_type": "code",
        "id": "P8oZcY7volad",
        "colab": {}
      },
      "source": [
        "#function to print result in table for similarity of frameworks\n",
        "def print_result_framework(result):\n",
        "    print (\"{:<8}                                            {:<15}                         {:<10}\".format('Framework A','Framework B','Score'))\n",
        "    print (\"----------------------------------------------------------------------------------------------------------------------\")\n",
        "    for key,value in result.items():\n",
        "        val = str(value)\n",
        "        val = val.strip(\"{}\")\n",
        "        val = val.strip(\"''\")\n",
        "        val = val.replace(\"':\",\"     \")\n",
        "        print(\"{:<8}       {:<15}\".format(key +\"      \", val))\n",
        "\n"
      ],
      "execution_count": 0,
      "outputs": []
    },
    {
      "cell_type": "code",
      "metadata": {
        "colab_type": "code",
        "id": "u6SGSexAtoFg",
        "colab": {}
      },
      "source": [
        "#function to print result in table for similarity of standards, similarity of standards for same framework and different framework\n",
        "def print_result_standard(result):\n",
        "    print (\"{:<8}                                            {:<15}                         {:<10}\".format('Standard A','Standard B','Score'))\n",
        "    print (\"----------------------------------------------------------------------------------------------------------------------\")\n",
        "    for key,value in result.items():\n",
        "        val = str(value)\n",
        "        val = val.strip(\"{}\")\n",
        "        val = val.strip(\"''\")\n",
        "        val = val.replace(\"':\",\"     \")\n",
        "        print(\"{:<8}       {:<15}\".format(key +\"      \", val))\n",
        "\n"
      ],
      "execution_count": 0,
      "outputs": []
    },
    {
      "cell_type": "code",
      "metadata": {
        "colab_type": "code",
        "id": "VHyEOITUWQ32",
        "colab": {}
      },
      "source": [
        "#function to print result in table for similarity for layers\n",
        "def print_layers(result,framework1,framework2):\n",
        "    print (\"{:<8}                     {:<15}                         {:<10}\".format(framework1,framework2,'Score'))\n",
        "    print (\"----------------------------------------------------------------------------------------------------------------------\")\n",
        "    for key,value in result.items():\n",
        "        val = str(value)\n",
        "        val = val.strip(\"{}\")\n",
        "        val = val.strip(\"''\")\n",
        "        val = val.replace(\"':\",\"     \")\n",
        "        print(\"{:<8}       {:<15}\".format(key +\"      \", val))\n"
      ],
      "execution_count": 0,
      "outputs": []
    },
    {
      "cell_type": "markdown",
      "metadata": {
        "colab_type": "text",
        "id": "oV0m0qjp74TW"
      },
      "source": [
        "### Define similarity function\n",
        "We are going to us cosine distance to measure the similarity between two embeddings"
      ]
    },
    {
      "cell_type": "code",
      "metadata": {
        "colab_type": "code",
        "id": "JVadkVny8ENA",
        "colab": {}
      },
      "source": [
        "#function to calculate cosine distance \n",
        "def cosine_similarity(vec1,vec2):\n",
        "    sum11, sum12, sum22 = 0, 0, 0\n",
        "    for i in range(len(vec1)):\n",
        "        x = vec1[i]; y = vec2[i]\n",
        "        sum11 += x*x\n",
        "        sum22 += y*y\n",
        "        sum12 += x*y\n",
        "    return sum12/math.sqrt(sum11*sum22)"
      ],
      "execution_count": 0,
      "outputs": []
    },
    {
      "cell_type": "markdown",
      "metadata": {
        "colab_type": "text",
        "id": "faYXX_Tx8sVp"
      },
      "source": [
        "## Similarity among I40 Standarization Frameworks\n",
        "In this section we show the analysis of similarity among standarization frameworks"
      ]
    },
    {
      "cell_type": "code",
      "metadata": {
        "colab_type": "code",
        "id": "y3clg69O9-39",
        "outputId": "f83f7c70-c496-4164-f419-5362080ae3c7",
        "colab": {
          "base_uri": "https://localhost:8080/",
          "height": 207
        }
      },
      "source": [
        "!pip3 install rdflib"
      ],
      "execution_count": 8,
      "outputs": [
        {
          "output_type": "stream",
          "text": [
            "Collecting rdflib\n",
            "\u001b[?25l  Downloading https://files.pythonhosted.org/packages/3c/fe/630bacb652680f6d481b9febbb3e2c3869194a1a5fc3401a4a41195a2f8f/rdflib-4.2.2-py3-none-any.whl (344kB)\n",
            "\u001b[K     |████████████████████████████████| 348kB 5.2MB/s \n",
            "\u001b[?25hRequirement already satisfied: pyparsing in /usr/local/lib/python3.6/dist-packages (from rdflib) (2.4.0)\n",
            "Collecting isodate (from rdflib)\n",
            "\u001b[?25l  Downloading https://files.pythonhosted.org/packages/9b/9f/b36f7774ff5ea8e428fdcfc4bb332c39ee5b9362ddd3d40d9516a55221b2/isodate-0.6.0-py2.py3-none-any.whl (45kB)\n",
            "\u001b[K     |████████████████████████████████| 51kB 23.1MB/s \n",
            "\u001b[?25hRequirement already satisfied: six in /usr/local/lib/python3.6/dist-packages (from isodate->rdflib) (1.12.0)\n",
            "Installing collected packages: isodate, rdflib\n",
            "Successfully installed isodate-0.6.0 rdflib-4.2.2\n"
          ],
          "name": "stdout"
        }
      ]
    },
    {
      "cell_type": "code",
      "metadata": {
        "colab_type": "code",
        "id": "IYw3XfUX8pGJ",
        "colab": {}
      },
      "source": [
        "import json\n",
        "from rdflib import Graph\n",
        "import pprint"
      ],
      "execution_count": 0,
      "outputs": []
    },
    {
      "cell_type": "code",
      "metadata": {
        "id": "33C5sAoLdarC",
        "colab_type": "code",
        "colab": {}
      },
      "source": [
        "embeddings_type = \"TransR\" #Values are TransE, TransD, TransH, TransR\n",
        "embeddings_path = \"/content/I40KG-Embeddings/embeddings/\"+embeddings_type+\"/sto-enriched\""
      ],
      "execution_count": 0,
      "outputs": []
    },
    {
      "cell_type": "markdown",
      "metadata": {
        "colab_type": "text",
        "id": "AMwPTYlFcRh3"
      },
      "source": [
        "###Similarity among Frameworks\n",
        "In this section we analyze the similarity of I4.0 frameworks at the high level, i.e., StandardizationFramework.\n"
      ]
    },
    {
      "cell_type": "code",
      "metadata": {
        "colab_type": "code",
        "id": "EGoiqCkM-JVE",
        "colab": {
          "base_uri": "https://localhost:8080/",
          "height": 496
        },
        "outputId": "23da8ed0-f752-43d2-dcd3-0f3cda65a1c9"
      },
      "source": [
        "g = Graph()\n",
        "g.parse(\"/content/I40KG-Embeddings/sto/sto-enriched.nt\", format=\"nt\")\n",
        "    \n",
        "len(g) # prints 2\n",
        " #check printing of the graph    \n",
        "'''for stmt in g:\n",
        "    pprint.pprint(stmt)'''\n",
        "\n",
        "#query to get the framework/standard from the sto.nt file\n",
        "#to get standards we have to replace sto:StandardizationFramework by sto:Standard in the query\n",
        "#we can get standards of the frameworks as well by just changing the query\n",
        "\n",
        "qres = g.query(\n",
        "    \"\"\"PREFIX owl: <http://www.w3.org/2002/07/owl#>\n",
        "       PREFIX rdf: <http://www.w3.org/1999/02/22-rdf-syntax-ns#>\n",
        "       PREFIX sto: <https://w3id.org/i40/sto#>\n",
        "    \n",
        "    select ?s where {\n",
        "            ?s rdf:type sto:StandardizationFramework .\n",
        "            } limit 1000\"\"\")\n",
        "    \n",
        "       \n",
        "#to get the corresponding embeddings of the frameworks/standards from the json file \n",
        "with open(embeddings_path+\"/entities_to_embeddings.json\",'rb') as f:\n",
        "    array = json.load(f)\n",
        "new_dict = {}\n",
        "for row in qres:\n",
        "    for key,value in array.items():\n",
        "        if key == \"%s\" % row:\n",
        "            tem = key\n",
        "            new_dict[tem] = array[key] \n",
        "            #print(new_dict)\n",
        "\n",
        "#to put the frameworks/standards with their corresponding embeddings in a file            \n",
        "with open('/content/I40KG-Embeddings/output_framework.json','w') as f:\n",
        "    # this would place the entire output on one line\n",
        "    # use json.dump(new_dict, f, indent=4) to \"pretty-print\" with four spaces per indent\n",
        "    json.dump(new_dict, f)\n",
        "    \n",
        "    \n",
        "#to read the file containing standards/frameworks along with their embeddings   \n",
        "with open('/content/I40KG-Embeddings/output_framework.json', 'r') as f:\n",
        "    array = json.load(f)\n",
        "    \n",
        "#compare each standard/framework with all the other standards/frameworks to find cosine similarity\n",
        "result = {}\n",
        "for key,value in array.items():\n",
        "    temp,tempDict= 0,{}\n",
        "    for keyC,valueC in array.items():\n",
        "        if keyC == key:\n",
        "            continue\n",
        "        temp = scipy.spatial.distance.cosine(value,valueC) #send the values of the standards/frameworks to cosine similarity function\n",
        "        tempDict[keyC] = temp\n",
        "        val1 = min(tempDict, key=tempDict.get)\n",
        "    res = {}\n",
        "    res[val1] = tempDict[val1]\n",
        "    #print (res)\n",
        "    result[key]= res\n",
        "    #result[key]= tempDict\n",
        "        \n",
        "#print the standards/frameworks along with their similar standards/frameworks and their similarity distance\n",
        "print_result_framework(result)"
      ],
      "execution_count": 15,
      "outputs": [
        {
          "output_type": "stream",
          "text": [
            "Framework A                                            Framework B                             Score     \n",
            "----------------------------------------------------------------------------------------------------------------------\n",
            "https://w3id.org/i40/sto#FIWARE             https://w3id.org/i40/sto#IVRA      0.7234302640879957\n",
            "https://w3id.org/i40/sto#BdvaSira             https://w3id.org/i40/sto#RAMI      0.7056478244491019\n",
            "https://w3id.org/i40/sto#IDSRAMReferenceArchitectureModel             https://w3id.org/i40/sto#BdvaSira      0.7395477046141032\n",
            "https://w3id.org/i40/sto#RAMIHeader             https://w3id.org/i40/sto#OcfFramework      0.6682846618145544\n",
            "https://w3id.org/i40/sto#DmaServiceTechnologySpecificationAndDevelopmentRoadmap             https://w3id.org/i40/sto#EdgecrossArchitecture      0.7379107198120087\n",
            "https://w3id.org/i40/rami#Header             https://w3id.org/i40/sto#DmaArchitecture      0.7861956291718275\n",
            "https://w3id.org/i40/sto#IotaReferenceArchitecture             https://w3id.org/i40/sto#IVRA      0.7643312960972652\n",
            "https://w3id.org/i40/sto#EdgecrossArchitecture             https://w3id.org/i40/sto#RAMIBody      0.5763747719722745\n",
            "https://w3id.org/i40/sto#IndustrialDataSpace             https://w3id.org/i40/sto#OcfFramework      0.6365201551550029\n",
            "https://w3id.org/i40/sto#ArrowheadFramework             https://w3id.org/i40/sto#DtpArchitecture      0.74699791519378\n",
            "https://w3id.org/i40/sto#IVRA             https://w3id.org/i40/sto#FIWARE      0.7234302640879957\n",
            "https://w3id.org/i40/sto#RAMIBody             https://w3id.org/i40/sto#EdgecrossArchitecture      0.5763747719722745\n",
            "https://w3id.org/i40/sto#OcfFramework             https://w3id.org/i40/sto#IndustrialDataSpace      0.6365201551550029\n",
            "https://w3id.org/i40/sto#RAMI             https://w3id.org/i40/sto#BdvaSira      0.7056478244491019\n",
            "https://w3id.org/i40/sto#AdministrationShell             https://w3id.org/i40/rami#Body      0.7236753539388114\n",
            "https://w3id.org/i40/sto#DmaArchitecture             https://w3id.org/i40/sto#RAMIHeader      0.7668040368151358\n",
            "https://w3id.org/i40/sto#NISTInitiative             https://w3id.org/i40/sto#IotaReferenceArchitecture      0.7876437934589625\n",
            "https://w3id.org/i40/rami#Body             https://w3id.org/i40/sto#AdministrationShell      0.7236753539388114\n",
            "https://w3id.org/i40/sto#ISA95             https://w3id.org/i40/sto#BdvaSira      0.7940709365855434\n",
            "https://w3id.org/i40/sto#OceanProtocol             https://w3id.org/i40/sto#RAMIBody      0.6752649331892691\n",
            "https://w3id.org/i40/sto#IIRA             https://w3id.org/i40/sto#OpenFogReferenceArchitecture      0.7109126260363697\n",
            "https://w3id.org/i40/sto#IIRC             https://w3id.org/i40/sto#RAMIHeader      0.7429962668358698\n",
            "https://w3id.org/i40/sto#DtpArchitecture             https://w3id.org/i40/sto#ArrowheadFramework      0.74699791519378\n",
            "https://w3id.org/i40/sto#xTee             https://w3id.org/i40/sto#EdgecrossArchitecture      0.6469281023126169\n",
            "https://w3id.org/i40/sto#OpenFogReferenceArchitecture             https://w3id.org/i40/sto#IIRA      0.7109126260363697\n"
          ],
          "name": "stdout"
        }
      ]
    },
    {
      "cell_type": "markdown",
      "metadata": {
        "colab_type": "text",
        "id": "dhr_lZjLqIKD"
      },
      "source": [
        "### Similarity among Standards\n",
        "\n",
        "In this section we analyze the similarity of I4.0 standards at the high level, i.e., Standard."
      ]
    },
    {
      "cell_type": "code",
      "metadata": {
        "colab_type": "code",
        "id": "BCdr2dUgpGuz",
        "colab": {}
      },
      "source": [
        "g = Graph()\n",
        "g.parse(\"/content/I40KG-Embeddings/sto/sto-enriched.nt\", format=\"nt\")\n",
        "    \n",
        "len(g) # prints 2\n",
        " #check printing of the graph    \n",
        "'''for stmt in g:\n",
        "    pprint.pprint(stmt)'''\n",
        "\n",
        "#query to get the framework/standard from the sto.nt file\n",
        "#to get standards we have to replace sto:StandardizationFramework by sto:Standard in the query\n",
        "#we can get standards of the frameworks as well by just changing the query\n",
        "\n",
        "qres = g.query(\n",
        "    \"\"\"PREFIX owl: <http://www.w3.org/2002/07/owl#>\n",
        "       PREFIX rdf: <http://www.w3.org/1999/02/22-rdf-syntax-ns#>\n",
        "       PREFIX sto: <https://w3id.org/i40/sto#>\n",
        "    \n",
        "    select ?s where {\n",
        "            ?s rdf:type sto:Standard .\n",
        "            } limit 1000\"\"\")\n",
        "    \n",
        "       \n",
        "#to get the corresponding embeddings of the frameworks/standards from the json file \n",
        "with open(embeddings_path+\"/entities_to_embeddings.json\",'rb') as f:\n",
        "    array = json.load(f)\n",
        "new_dict = {}\n",
        "for row in qres:\n",
        "    for key,value in array.items():\n",
        "        if key == \"%s\" % row:\n",
        "            tem = key\n",
        "            new_dict[tem] = array[key] \n",
        "    #print(new_dict)\n",
        "\n",
        "#to put the frameworks/standards with their corresponding embeddings in a file            \n",
        "with open('/content/I40KG-Embeddings/output_standard.json','w') as f:\n",
        "    # this would place the entire output on one line\n",
        "    # use json.dump(new_dict, f, indent=4) to \"pretty-print\" with four spaces per indent\n",
        "    json.dump(new_dict, f)\n",
        "    \n",
        "    \n",
        "#to read the file containing standards/frameworks along with their embeddings   \n",
        "with open('/content/I40KG-Embeddings/output_standard.json', 'r') as f:\n",
        "    array = json.load(f)\n",
        "    \n",
        "#compare each standard/framework with all the other standards/frameworks to find cosine similarity\n",
        "result = {}\n",
        "for key,value in array.items():\n",
        "    temp,tempDict= 0,{}\n",
        "    for keyC,valueC in array.items():\n",
        "        if keyC == key:\n",
        "            continue\n",
        "        temp = scipy.spatial.distance.cosine(value,valueC) #send the values of the standards/frameworks to cosine similarity function\n",
        "        tempDict[keyC] = temp\n",
        "        val1 = min(tempDict, key=tempDict.get)\n",
        "    res = {}\n",
        "    res[val1] = tempDict[val1]\n",
        "    #print (res)\n",
        "    result[key]= res\n",
        "    #result[key]= tempDict\n",
        "        \n",
        "#print the standards/frameworks along with their similar standards/frameworks and their similarity distance\n",
        "print_result_standard(result)"
      ],
      "execution_count": 0,
      "outputs": []
    },
    {
      "cell_type": "markdown",
      "metadata": {
        "colab_type": "text",
        "id": "CpC43qoTcusI"
      },
      "source": [
        "####Results\n",
        "The following table shows the frameworks with high degree of similarites.\n",
        "\n",
        "| Framework A | Framework B | Score |\n",
        "| ----------------------|:---------------------:| ----------:|\n",
        "| RAMI 4.0 |  IIRA  | 0.75 |\n"
      ]
    },
    {
      "cell_type": "code",
      "metadata": {
        "colab_type": "code",
        "id": "JqKx82Hydq8W",
        "colab": {}
      },
      "source": [
        "# TODO implement a fuction to print a table as the one above"
      ],
      "execution_count": 0,
      "outputs": []
    },
    {
      "cell_type": "markdown",
      "metadata": {
        "colab_type": "text",
        "id": "3wNXAXHCeavo"
      },
      "source": [
        "###Similarity among different layers of the Standards\n",
        "In this section we analyze the similarity among layers of different standards, e.g., RAMI 4.0 -> Layer A vs IIRA -> Layer X"
      ]
    },
    {
      "cell_type": "code",
      "metadata": {
        "colab_type": "code",
        "id": "HLxQyT6ugE39",
        "colab": {}
      },
      "source": [
        "\n",
        "g = Graph()\n",
        "g.parse(\"/content/I40KG-Embeddings/sto/sto-enriched.nt\", format=\"nt\")\n",
        "    \n",
        "len(g) # prints 2\n",
        "#check the printing of the graph\n",
        "'''for stmt in g:\n",
        "    pprint.pprint(stmt)'''\n",
        "\n",
        "\n",
        "#queries to get the layers from the sto.nt file for the corresponding Frameworks   \n",
        "qres1 = g.query(\n",
        "    \"\"\"PREFIX owl: <http://www.w3.org/2002/07/owl#>\n",
        "       PREFIX rdf: <http://www.w3.org/1999/02/22-rdf-syntax-ns#>\n",
        "       PREFIX sto: <https://w3id.org/i40/sto#>\n",
        "    \n",
        "    select DISTINCT ?c where {\n",
        "            ?s sto:hasClassification ?c .\n",
        "            ?c sto:isDescribedin <https://w3id.org/i40/sto#RAMI> .\n",
        "            } limit 1000\"\"\")\n",
        "\n",
        "qres2 = g.query(\n",
        "    \"\"\"PREFIX owl: <http://www.w3.org/2002/07/owl#>\n",
        "       PREFIX rdf: <http://www.w3.org/1999/02/22-rdf-syntax-ns#>\n",
        "       PREFIX sto: <https://w3id.org/i40/sto#>\n",
        "    \n",
        "     select DISTINCT ?c where {\n",
        "            ?s sto:hasClassification ?c .\n",
        "            ?c sto:isDescribedin <https://w3id.org/i40/sto#IIRA> .\n",
        "            } limit 1000\"\"\") \n",
        "\n",
        "\n",
        "#to get the corresponding embeddings of the layers of two Frameworks from the json file and put it in two different dictionaries\n",
        "with open(embeddings_path+\"/entities_to_embeddings.json\",'rb') as f:\n",
        "    array = json.load(f)\n",
        "new_dict1 = {}\n",
        "new_dict2 = {}\n",
        "for row in qres1:\n",
        "    for key,value in array.items():\n",
        "        if key == \"%s\" % row:\n",
        "            tem = key\n",
        "            new_dict1[tem] = array[key] \n",
        "#print(new_dict1)\n",
        "for row in qres2:\n",
        "    for key,value in array.items():\n",
        "        if key == \"%s\" % row:\n",
        "            tem = key\n",
        "            new_dict2[tem] = array[key] \n",
        "#print(new_dict2)\n",
        "\n",
        "#the frameworks of which the similarity of their layers will be compared    \n",
        "framework1 = 'https://w3id.org/i40/sto#RAMI'    \n",
        "framework2 = 'https://w3id.org/i40/sto#IIRA'\n",
        "\n",
        "#compare each layers of one Framework  with all the layers of the other Framework to find cosine similarity\n",
        "result = {}\n",
        "for key,value in new_dict1.items():\n",
        "    temp,tempDict= 0,{}\n",
        "    for keyC,valueC in new_dict2.items():\n",
        "        if keyC == key:\n",
        "            continue\n",
        "        temp = scipy.spatial.distance.cosine(value,valueC)  #pass the vales to find cosine similarity\n",
        "        tempDict[keyC] = temp\n",
        "        val1 = min(tempDict, key=tempDict.get)\n",
        "    res = {}\n",
        "    res[val1] = tempDict[val1]\n",
        "    #print (res)\n",
        "    result[key]= res\n",
        "\n",
        "#print the similarity of layers of the two Frameworks in tabular format along with their similarity distance\n",
        "print_layers(result,framework1,framework2)"
      ],
      "execution_count": 0,
      "outputs": []
    },
    {
      "cell_type": "markdown",
      "metadata": {
        "colab_type": "text",
        "id": "4itDLL1Eglu6"
      },
      "source": [
        "####Results\n",
        "The following table shows the similarity among different layers of two frameworks.\n",
        "\n",
        "| RAMI4.0 | IIRA | Score |\n",
        "| --------------|:-------:| ----------:|\n",
        "| Layer A |  Layer X  | 0.85 |\n",
        "| Layer B |  Layer Y  | 0.75 |\n",
        "| Layer C |  Layer Z  | 0.85 |\n"
      ]
    },
    {
      "cell_type": "code",
      "metadata": {
        "colab_type": "code",
        "id": "pj0WrTtEg_U5",
        "colab": {}
      },
      "source": [
        "# TODO print a table like the above"
      ],
      "execution_count": 0,
      "outputs": []
    },
    {
      "cell_type": "markdown",
      "metadata": {
        "colab_type": "text",
        "id": "-pc4XzZYhSu-"
      },
      "source": [
        "##Similarity among Standards of the same Framework\n",
        "In this section we show the analysis of similarity among standards belonging to the same framework."
      ]
    },
    {
      "cell_type": "code",
      "metadata": {
        "colab_type": "code",
        "id": "ou9fwdGVpN9F",
        "colab": {}
      },
      "source": [
        "\n",
        "g = Graph()\n",
        "g.parse(\"/content/I40KG-Embeddings/sto/sto-enriched.nt\", format=\"nt\")\n",
        "    \n",
        "len(g) # prints 2\n",
        "#check for printing of the graph    \n",
        "'''for stmt in g:\n",
        "    pprint.pprint(stmt)'''\n",
        "\n",
        "#query to get the standards of a Framework from the sto.nt file\n",
        "qres = g.query(\n",
        "    \"\"\"PREFIX owl: <http://www.w3.org/2002/07/owl#>\n",
        "       PREFIX rdf: <http://www.w3.org/1999/02/22-rdf-syntax-ns#>\n",
        "       PREFIX sto: <https://w3id.org/i40/sto#>\n",
        "    \n",
        "    select ?s where {\n",
        "            ?s rdf:type sto:Standard .\n",
        "            ?s sto:hasClassification ?c .\n",
        "            ?c sto:isDescribedin <https://w3id.org/i40/sto#RAMI> .\n",
        "            } limit 1000\"\"\")\n",
        "        \n",
        "#get the corresponding embeddings of the standards of the given Framework\n",
        "with open(embeddings_path+\"/entities_to_embeddings.json\",'rb') as f:\n",
        "    array = json.load(f)\n",
        "new_dict = {}\n",
        "for row in qres:\n",
        "#for line in oldfile:\n",
        "    #line1 = line.strip(\"\\n\")\n",
        "    for key,value in array.items():\n",
        "        if key == \"%s\" % row:\n",
        "            tem = key\n",
        "            new_dict[tem] = array[key] \n",
        "    #print(new_dict)\n",
        "\n",
        "#to put the standards with their corresponding embeddings in a file\n",
        "with open('/content/I40KG-Embeddings/output_standard_same_framework.json','w') as f:\n",
        "    # this would place the entire output on one line\n",
        "    # use json.dump(lista_items, f, indent=4) to \"pretty-print\" with four spaces per indent\n",
        "    json.dump(new_dict, f) \n",
        "\n",
        "    \n",
        "#to read the file containing standards along with their embeddings   \n",
        "with open('/content/I40KG-Embeddings/output_standard_same_framework.json', 'r') as f:\n",
        "    array = json.load(f)\n",
        "    \n",
        "#compare each standard with all the other standards of that Framework to find cosine similarity\n",
        "result = {}\n",
        "for key,value in array.items():\n",
        "    temp,tempDict= 0,{}\n",
        "    for keyC,valueC in array.items():\n",
        "        if keyC == key:\n",
        "            continue\n",
        "        temp = scipy.spatial.distance.cosine(value,valueC) #send the values of the standards to cosine similarity function\n",
        "        tempDict[keyC] = temp\n",
        "        val1 = min(tempDict, key=tempDict.get)\n",
        "    res = {}\n",
        "    res[val1] = tempDict[val1]\n",
        "    #print (res)\n",
        "    result[key]= res\n",
        "    #result[key]= tempDict\n",
        "        \n",
        "#print the standards along with their similar standards and their similarity distance\n",
        "print_result_standard(result)"
      ],
      "execution_count": 0,
      "outputs": []
    },
    {
      "cell_type": "markdown",
      "metadata": {
        "colab_type": "text",
        "id": "Q64-8qaXhsMo"
      },
      "source": [
        "##Similarity among Standards of different Framework\n",
        "In this section we show the analysis of similarity among standards belonging to different frameworks."
      ]
    },
    {
      "cell_type": "code",
      "metadata": {
        "colab_type": "code",
        "id": "7x3yZavkkZ37",
        "outputId": "352696c6-97bb-456a-887f-1ec0b6ab2340",
        "colab": {
          "base_uri": "https://localhost:8080/",
          "height": 901
        }
      },
      "source": [
        "\n",
        "g = Graph()\n",
        "g.parse(\"/content/I40KG-Embeddings/sto/sto-enriched.nt\", format=\"nt\")\n",
        "    \n",
        "len(g) # prints 2\n",
        "#check for printing of the graph    \n",
        "'''for stmt in g:\n",
        "    pprint.pprint(stmt)'''\n",
        "\n",
        "#query to get the standards of two different Frameworks from the sto.nt file    \n",
        "qres1 = g.query(\n",
        "    \"\"\"PREFIX owl: <http://www.w3.org/2002/07/owl#>\n",
        "       PREFIX rdf: <http://www.w3.org/1999/02/22-rdf-syntax-ns#>\n",
        "       PREFIX sto: <https://w3id.org/i40/sto#>\n",
        "    \n",
        "    select ?s where {\n",
        "            ?s rdf:type sto:Standard .\n",
        "            ?s sto:hasClassification ?c .\n",
        "            ?c sto:isDescribedin <https://w3id.org/i40/sto#RAMI> .\n",
        "            } limit 1000\"\"\")\n",
        "\n",
        "qres2 = g.query(\n",
        "    \"\"\"PREFIX owl: <http://www.w3.org/2002/07/owl#>\n",
        "       PREFIX rdf: <http://www.w3.org/1999/02/22-rdf-syntax-ns#>\n",
        "       PREFIX sto: <https://w3id.org/i40/sto#>\n",
        "    \n",
        "    select ?s where {\n",
        "            ?s rdf:type sto:Standard .\n",
        "            ?s sto:hasClassification ?c .\n",
        "            ?c sto:isDescribedin <https://w3id.org/i40/sto#IIRA> .\n",
        "            } limit 1000\"\"\") \n",
        "\n",
        "#get the corresponding embeddings of the standards of the given Framework        \n",
        "with open(embeddings_path+\"/entities_to_embeddings.json\",'rb') as f:\n",
        "    array = json.load(f)\n",
        "    \n",
        "new_dict1 = {}\n",
        "new_dict2 = {}\n",
        "\n",
        "print(len(qres1))\n",
        "print(len(qres2))\n",
        "\n",
        "for row in qres1:\n",
        "#for line in oldfile:\n",
        "    #line1 = line.strip(\"\\n\")\n",
        "    for key,value in array.items():\n",
        "        if key == \"%s\" % row:\n",
        "            tem = key\n",
        "            new_dict1[tem] = array[key] \n",
        "    #print(new_dict)\n",
        "    \n",
        "for row in qres2:\n",
        "#for line in oldfile:\n",
        "    #line1 = line.strip(\"\\n\")\n",
        "    for key,value in array.items():\n",
        "        if key == \"%s\" % row:\n",
        "            tem = key\n",
        "            new_dict2[tem] = array[key] \n",
        "    #print(new_dict)\n",
        "\n",
        "print(len(new_dict1))\n",
        "print(len(new_dict2))\n",
        "    \n",
        "#compare each standard with all the other standards to find cosine similarity\n",
        "result = {}\n",
        "for key,value in new_dict1.items():\n",
        "    temp,tempDict= 0,{}\n",
        "    for keyC,valueC in new_dict2.items():\n",
        "        if keyC == key:\n",
        "            continue\n",
        "        temp = scipy.spatial.distance.cosine(value,valueC) #send the values of the standards to cosine similarity function\n",
        "        tempDict[keyC] = temp\n",
        "        val1 = min(tempDict, key=tempDict.get)\n",
        "    res = {}\n",
        "    res[val1] = tempDict[val1]\n",
        "    #print (res)\n",
        "    result[key]= res\n",
        "    #result[key]= tempDict\n",
        "        \n",
        "#print the standards of along with their similar standards and their similarity distance\n",
        "print_result_standard(result)\n"
      ],
      "execution_count": 25,
      "outputs": [
        {
          "output_type": "stream",
          "text": [
            "261\n",
            "50\n",
            "46\n",
            "37\n",
            "Standard A                                            Standard B                              Score     \n",
            "----------------------------------------------------------------------------------------------------------------------\n",
            "https://w3id.org/i40/sto#IEC_24760             https://w3id.org/i40/sto#ISO_27031      0.7197314626942564\n",
            "https://w3id.org/i40/sto#IEC_61804             https://w3id.org/i40/sto#IEC_29100      0.7206392281663105\n",
            "https://w3id.org/i40/sto#IEC_62237             https://w3id.org/i40/sto#ISO_20140_P1      0.6037708088847901\n",
            "https://w3id.org/i40/sto#IEC_62541             https://w3id.org/i40/sto#RFC_1122      0.7541030648671881\n",
            "https://w3id.org/i40/sto#IEC_62794             https://w3id.org/i40/sto#IEC_27031      0.6597624158534066\n",
            "https://w3id.org/i40/sto#IEC_62714             https://w3id.org/i40/sto#ISO_20922      0.49803228686441525\n",
            "https://w3id.org/i40/sto#ISO_22400             https://w3id.org/i40/sto#RFC_7252      0.6786887470421687\n",
            "https://w3id.org/i40/sto#IEC_62453             https://w3id.org/i40/sto#ENISA_CloudComputing      0.7623836541358084\n",
            "https://w3id.org/i40/sto#IEC_60839-5-2             https://w3id.org/i40/sto#ISO_20140_P1      0.7645230189627176\n",
            "https://w3id.org/i40/sto#IEC_29182-1             https://w3id.org/i40/sto#ISO_27036      0.6715542862723287\n",
            "https://w3id.org/i40/sto#IEC_61499             https://w3id.org/i40/sto#IEC_27031      0.7526940172743909\n",
            "https://w3id.org/i40/sto#IEC_61987_X             https://w3id.org/i40/sto#IEC_29100      0.7253003458354357\n",
            "https://w3id.org/i40/sto#ISO_15746             https://w3id.org/i40/sto#RFC_2616      0.7250563927719291\n",
            "https://w3id.org/i40/sto#IEC_61784             https://w3id.org/i40/sto#ISO_19770      0.5964836756719575\n",
            "https://w3id.org/i40/sto#IEC_62832             https://w3id.org/i40/sto#IEC_24760      0.556343148079943\n",
            "https://w3id.org/i40/sto#ISO_18828-2             https://w3id.org/i40/sto#ISO_29190      0.7896081954900801\n",
            "https://w3id.org/i40/sto#ISO_18629             https://w3id.org/i40/sto#ISO_13849      0.6344245105653645\n",
            "https://w3id.org/i40/sto#IEC_62337             https://w3id.org/i40/sto#ISO_20140_P1      0.6414347458969667\n",
            "https://w3id.org/i40/sto#IEC_62264             https://w3id.org/i40/sto#RFC_7540      0.7194213527927635\n",
            "https://w3id.org/i40/sto#ISO_19440             https://w3id.org/i40/sto#ISO_20922      0.6634991753993832\n",
            "https://w3id.org/i40/sto#ISO_15704             https://w3id.org/i40/sto#RFC_2616      0.6384405441390385\n",
            "https://w3id.org/i40/sto#ISO_13374             https://w3id.org/i40/sto#ISO_29134      0.629717422820173\n",
            "https://w3id.org/i40/sto#ISO_TS_14649-201             https://w3id.org/i40/sto#ISO_27001      0.6735745495162411\n",
            "https://w3id.org/i40/sto#ISO_22745-11             https://w3id.org/i40/sto#IEC_62443      0.7832485048746636\n",
            "https://w3id.org/i40/sto#ISO_8062-4             https://w3id.org/i40/sto#ISO_27036      0.7095537952391323\n",
            "https://w3id.org/i40/sto#IEC_81714             https://w3id.org/i40/sto#ISO_20140_P1      0.736328340676972\n",
            "https://w3id.org/i40/sto#ISO_5459             https://w3id.org/i40/sto#IEC_29115      0.7271904049681732\n",
            "https://w3id.org/i40/sto#ISO_ASTM_52915             https://w3id.org/i40/sto#IEC_24760      0.5902944657574194\n",
            "https://w3id.org/i40/sto#ISO_16792             https://w3id.org/i40/sto#RFC_1122      0.6396273868627534\n",
            "https://w3id.org/i40/sto#ISO_14306             https://w3id.org/i40/sto#ISO_27018      0.6414376361579881\n",
            "https://w3id.org/i40/sto#IEC_61360             https://w3id.org/i40/sto#IEC_24760      0.6262297787395639\n",
            "https://w3id.org/i40/sto#ISO_1101             https://w3id.org/i40/sto#IEC_27031      0.5673057945029536\n",
            "https://w3id.org/i40/sto#ISO_24760             https://w3id.org/i40/sto#NIST_800-146      0.5027913658021442\n",
            "https://w3id.org/i40/sto#eClass             https://w3id.org/i40/sto#ISO_29134      0.6221212650385965\n",
            "https://w3id.org/i40/sto#IEC_61512             https://w3id.org/i40/sto#OMG_DDS      0.6428429075814994\n",
            "https://w3id.org/i40/sto#ISO_15926             https://w3id.org/i40/sto#ISO_29190      0.708540490295474\n",
            "https://w3id.org/i40/sto#IEC_61131             https://w3id.org/i40/sto#RFC_7540      0.7458474153219468\n",
            "https://w3id.org/i40/sto#IEC_62890             https://w3id.org/i40/sto#ISO_20140_P1      0.6728878849014996\n",
            "https://w3id.org/i40/sto#ISO_16739             https://w3id.org/i40/sto#ISO_15408      0.7286486457089307\n",
            "https://w3id.org/i40/sto#ISO_11898-1             https://w3id.org/i40/sto#IEC_15408      0.5365261717012617\n",
            "https://w3id.org/i40/sto#RFC_2616             https://w3id.org/i40/sto#IEC_62443      0.6519195724390084\n",
            "https://w3id.org/i40/sto#RFC_7540             https://w3id.org/i40/sto#ISO_27031      0.5954063064170991\n",
            "https://w3id.org/i40/sto#IEC_29182_P1             https://w3id.org/i40/sto#ISO_20140_P1      0.638129767556773\n",
            "https://w3id.org/i40/sto#IEC_60839_P5_S2_E2             https://w3id.org/i40/sto#ISO_29190      0.6912161011492992\n",
            "https://w3id.org/i40/sto#ISO_19439             https://w3id.org/i40/sto#ISO_29115      0.69967039482562\n",
            "https://w3id.org/i40/sto#ModBus             https://w3id.org/i40/sto#ISO_27001      0.7052637279284121\n"
          ],
          "name": "stdout"
        }
      ]
    },
    {
      "cell_type": "markdown",
      "metadata": {
        "colab_type": "text",
        "id": "3jfCwQl5ksNr"
      },
      "source": [
        "####Results\n",
        "The following table shows the similarity among different layers of two frameworks.\n",
        "\n",
        "| RAMI4.0 | IIRA | Score |\n",
        "| --------------|:-------:| ----------:|\n",
        "| Standard A |  Standard X  | 0.85 |\n",
        "| Standard B |  Standard Y  | 0.75 |\n",
        "| Standard C |  Standard Z  | 0.85 |\n"
      ]
    }
<<<<<<< HEAD
   ],
   "source": [
    "import json\n",
    "from rdflib import Graph\n",
    "import pprint\n",
    "\n",
    "\n",
    "\n",
    "g = Graph()\n",
    "g.parse(\"/content/I40KG-Embeddings/sto/sto.nt\", format=\"nt\")\n",
    "    \n",
    "len(g) # prints 2\n",
    "    \n",
    "'''for stmt in g:\n",
    "    pprint.pprint(stmt)'''\n",
    "    \n",
    "qres1 = g.query(\n",
    "    \"\"\"PREFIX owl: <http://www.w3.org/2002/07/owl#>\n",
    "       PREFIX rdf: <http://www.w3.org/1999/02/22-rdf-syntax-ns#>\n",
    "       PREFIX sto: <https://w3id.org/i40/sto#>\n",
    "    \n",
    "    select ?s where {\n",
    "            ?s rdf:type sto:Standard .\n",
    "            ?s sto:hasClassification ?c .\n",
    "            ?c sto:isDescribedin <https://w3id.org/i40/sto#RAMI> .\n",
    "            } limit 10\"\"\")\n",
    "\n",
    "qres2 = g.query(\n",
    "    \"\"\"PREFIX owl: <http://www.w3.org/2002/07/owl#>\n",
    "       PREFIX rdf: <http://www.w3.org/1999/02/22-rdf-syntax-ns#>\n",
    "       PREFIX sto: <https://w3id.org/i40/sto#>\n",
    "    \n",
    "    select ?s where {\n",
    "            ?s rdf:type sto:Standard .\n",
    "            ?s sto:hasClassification ?c .\n",
    "            ?c sto:isDescribedin <https://w3id.org/i40/sto#ISA95> .\n",
    "            } limit 10\"\"\") \n",
    "\n",
    "'''    \n",
    "with open(\"framework_entity.nt\", \"w\") as fd:\n",
    "    for row in qres1:\n",
    "        fd.write(\"%s\" % row + \"\\n\")\n",
    "        #print(\"%s\" % row)\n",
    "    for row in qres2:\n",
    "        fd.write(\"%s\" % row + \"\\n\")\n",
    "        #print(\"%s\" % row)'''\n",
    "        \n",
    "#oldfile = open(\"framework_entity.nt\", \"r\")\n",
    "with open(\"/content/I40KG-Embeddings/logs_sto/entities_to_embeddings.json\",'rb') as f:\n",
    "    array = json.load(f)\n",
    "new_dict = {}\n",
    "for row in qres1:\n",
    "#for line in oldfile:\n",
    "    #line1 = line.strip(\"\\n\")\n",
    "    for key,value in array.items():\n",
    "        if key == \"%s\" % row:\n",
    "            tem = key\n",
    "            new_dict[tem] = array[key] \n",
    "    print(new_dict)\n",
    "for row in qres2:\n",
    "#for line in oldfile:\n",
    "    #line1 = line.strip(\"\\n\")\n",
    "    for key,value in array.items():\n",
    "        if key == \"%s\" % row:\n",
    "            tem = key\n",
    "            new_dict[tem] = array[key] \n",
    "    print(new_dict)\n",
    "\n",
    "\n",
    "\n",
    "with open('/content/I40KG-Embeddings/output_standard_different_framework.json','w') as f:\n",
    "    # this would place the entire output on one line\n",
    "    # use json.dump(lista_items, f, indent=4) to \"pretty-print\" with four spaces per indent\n",
    "    json.dump(new_dict, f)\n",
    "    \n",
    "    \n",
    "#to read the file containing standards/frameworks along with their embeddings   \n",
    "with open('/content/I40KG-Embeddings/output_standard_different_framework.json', 'r') as f:\n",
    "    array = json.load(f)\n",
    "    \n",
    "#compare each standard/framework with all the other standards/frameworks to find cosine similarity\n",
    "result = {}\n",
    "for key,value in array.items():\n",
    "    temp,tempDict= 0,{}\n",
    "    for keyC,valueC in array.items():\n",
    "        if keyC == key:\n",
    "            continue\n",
    "        temp = scipy.spatial.distance.cosine(value,valueC) #send the values of the standards/frameworks to cosine similarity function\n",
    "        tempDict[keyC] = temp\n",
    "        val1 = min(tempDict, key=tempDict.get)\n",
    "    res = {}\n",
    "    res[val1] = tempDict[val1]\n",
    "    #print (res)\n",
    "    result[key]= res\n",
    "    #result[key]= tempDict\n",
    "        \n",
    "#print the standards/frameworks along with their similar standards/frameworks and their similarity distance\n",
    "print_result_standard(result)\n"
   ]
  },
  {
   "cell_type": "markdown",
   "metadata": {
    "colab_type": "text",
    "id": "3jfCwQl5ksNr"
   },
   "source": [
    "####Results\n",
    "The following table shows the similarity among different layers of two frameworks.\n",
    "\n",
    "| RAMI4.0 | IIRA | Score |\n",
    "| --------------|:-------:| ----------:|\n",
    "| Standard A |  Standard X  | 0.85 |\n",
    "| Standard B |  Standard Y  | 0.75 |\n",
    "| Standard C |  Standard Z  | 0.85 |\n"
   ]
  }
 ],
 "metadata": {
  "colab": {
   "collapsed_sections": [],
   "include_colab_link": true,
   "name": "Similarity-Analysis.ipynb",
   "provenance": [],
   "version": "0.3.2"
  },
  "kernelspec": {
   "display_name": "Python 3",
   "language": "python",
   "name": "python3"
  },
  "language_info": {
   "codemirror_mode": {
    "name": "ipython",
    "version": 3
   },
   "file_extension": ".py",
   "mimetype": "text/x-python",
   "name": "python",
   "nbconvert_exporter": "python",
   "pygments_lexer": "ipython3",
   "version": "3.6.8"
  }
 },
 "nbformat": 4,
 "nbformat_minor": 1
}
=======
  ]
}
>>>>>>> 9b0d8cf18f151880a5dd55927f6eae458dc3acf7
