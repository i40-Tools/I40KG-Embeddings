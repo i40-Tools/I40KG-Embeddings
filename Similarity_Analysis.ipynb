{
  "nbformat": 4,
  "nbformat_minor": 0,
  "metadata": {
    "colab": {
      "name": "Similarity-Analysis.ipynb",
      "version": "0.3.2",
      "provenance": [],
      "collapsed_sections": [],
      "include_colab_link": true
    },
    "kernelspec": {
      "name": "python3",
      "display_name": "Python 3"
    }
  },
  "cells": [
    {
      "cell_type": "markdown",
      "metadata": {
        "id": "view-in-github",
        "colab_type": "text"
      },
      "source": [
        "<a href=\"https://colab.research.google.com/github/i40-Tools/I40KG-Embeddings/blob/master/Similarity_Analysis.ipynb\" target=\"_parent\"><img src=\"https://colab.research.google.com/assets/colab-badge.svg\" alt=\"Open In Colab\"/></a>"
      ]
    },
    {
      "cell_type": "markdown",
      "metadata": {
        "id": "hQCOAl5s4Wyv",
        "colab_type": "text"
      },
      "source": [
        "# I40 standards landscape similarity analysis using embeddings\n",
        "\n",
        "## Overview\n",
        "\n",
        "In this notebook, we show the similarity analysis between Industry 4.0 Standards. \n",
        "To do so, we create embeddings about the Industry 4.0 Standards Knowledge Graph (I40KG) developed by [Grangel-Gonzales et. al.](https://www.researchgate.net/publication/318208930_The_Industry_40_Standards_Landscape_from_a_Semantic_Integration_Perspective)\n",
        "\n",
        "The embeddings are located here: [I40 Embeddings](https://github.com/i40-Tools/I40KG-Embeddings/tree/master/logs_sto)"
      ]
    },
    {
      "cell_type": "markdown",
      "metadata": {
        "id": "kFDNGNBI6EvO",
        "colab_type": "text"
      },
      "source": [
        "## Initial Configurations\n",
        "First, let's import the required libraries to perform the similarity analysis."
      ]
    },
    {
      "cell_type": "code",
      "metadata": {
        "id": "7aEjqqkYutsz",
        "colab_type": "code",
        "colab": {}
      },
      "source": [
        "import scipy\n",
        "from scipy import spatial\n",
        "import numpy as np\n",
        "import math\n",
        "import json\n",
        "from scipy.spatial.distance import cdist"
      ],
      "execution_count": 0,
      "outputs": []
    },
    {
      "cell_type": "markdown",
      "metadata": {
        "id": "oV0m0qjp74TW",
        "colab_type": "text"
      },
      "source": [
        "### Define similarity function\n",
        "We are going to us cosine distance to measure the similarity between two embeddings"
      ]
    },
    {
      "cell_type": "code",
      "metadata": {
        "id": "JVadkVny8ENA",
        "colab_type": "code",
        "colab": {}
      },
      "source": [
        "#function to calculate cosine distance \n",
        "def cosine_similarity(vec1,vec2):\n",
        "    sum11, sum12, sum22 = 0, 0, 0\n",
        "    for i in range(len(vec1)):\n",
        "        x = vec1[i]; y = vec2[i]\n",
        "        sum11 += x*x\n",
        "        sum22 += y*y\n",
        "        sum12 += x*y\n",
        "    return sum12/math.sqrt(sum11*sum22)"
      ],
      "execution_count": 0,
      "outputs": []
    },
    {
      "cell_type": "markdown",
      "metadata": {
        "id": "faYXX_Tx8sVp",
        "colab_type": "text"
      },
      "source": [
        "## Similarity among I40 Standarization Frameworks\n",
        "In this section we show the analysis of similarity among standarization frameworks"
      ]
    },
    {
      "cell_type": "code",
      "metadata": {
        "id": "y3clg69O9-39",
        "colab_type": "code",
        "colab": {}
      },
      "source": [
        "!pip3 install rdflib"
      ],
      "execution_count": 0,
      "outputs": []
    },
    {
      "cell_type": "code",
      "metadata": {
        "id": "IYw3XfUX8pGJ",
        "colab_type": "code",
        "colab": {}
      },
      "source": [
        "import json\n",
        "from rdflib import Graph\n",
        "import pprint"
      ],
      "execution_count": 0,
      "outputs": []
    },
    {
      "cell_type": "code",
      "metadata": {
        "id": "EGoiqCkM-JVE",
        "colab_type": "code",
        "colab": {}
      },
      "source": [
        "g = Graph()\n",
        "g.parse(\".../I40KG-Embeddings-master/sto/sto.nt\", format=\"nt\")\n",
        "    \n",
        "len(g) # prints 2\n",
        " #check printing of the graph    \n",
        "'''for stmt in g:\n",
        "    pprint.pprint(stmt)'''\n",
        "\n",
        "#query to get the framework/standard from the sto.nt file\n",
        "#to get standards we have to replace sto:StandardizationFramework by sto:Standard in the query\n",
        "#we can get standards of the frameworks as well by just changing the query\n",
        "\n",
        "qres = g.query(\n",
        "    \"\"\"PREFIX owl: <http://www.w3.org/2002/07/owl#>\n",
        "       PREFIX rdf: <http://www.w3.org/1999/02/22-rdf-syntax-ns#>\n",
        "       PREFIX sto: <https://w3id.org/i40/sto#>\n",
        "    \n",
        "    select ?s where {\n",
        "            ?s rdf:type sto:StandardizationFramework .\n",
        "            } limit 1000\"\"\")\n",
        "    \n",
        "       \n",
        "#to get the corresponding embeddings of the frameworks/standards from the json file \n",
        "with open(\".../I40KG-Embeddings-master/logs_sto/entities_to_embeddings.json\",'rb') as f:\n",
        "    array = json.load(f)\n",
        "new_dict = {}\n",
        "for row in qres:\n",
        "    for key,value in array.items():\n",
        "        if key == \"%s\" % row:\n",
        "            tem = key\n",
        "            new_dict[tem] = array[key] \n",
        "            print(new_dict)\n",
        "\n",
        "#to put the frameworks/standards with their corresponding embeddings in a file            \n",
        "with open('output.json','w') as f:\n",
        "    # this would place the entire output on one line\n",
        "    # use json.dump(new_dict, f, indent=4) to \"pretty-print\" with four spaces per indent\n",
        "    json.dump(new_dict, f)"
      ],
      "execution_count": 0,
      "outputs": []
    }
  ]
}