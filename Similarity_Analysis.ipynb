{
  "nbformat": 4,
  "nbformat_minor": 0,
  "metadata": {
    "colab": {
      "name": "Similarity-Analysis.ipynb",
      "version": "0.3.2",
      "provenance": [],
      "collapsed_sections": [],
      "include_colab_link": true
    },
    "kernelspec": {
      "name": "python3",
      "display_name": "Python 3"
    }
  },
  "cells": [
    {
      "cell_type": "markdown",
      "metadata": {
        "id": "view-in-github",
        "colab_type": "text"
      },
      "source": [
        "<a href=\"https://colab.research.google.com/github/i40-Tools/I40KG-Embeddings/blob/master/Similarity_Analysis.ipynb\" target=\"_parent\"><img src=\"https://colab.research.google.com/assets/colab-badge.svg\" alt=\"Open In Colab\"/></a>"
      ]
    },
    {
      "cell_type": "markdown",
      "metadata": {
        "id": "hQCOAl5s4Wyv",
        "colab_type": "text"
      },
      "source": [
        "# I40 standards landscape similarity analysis using embeddings\n",
        "\n",
        "## Overview\n",
        "\n",
        "In this notebook, we show the similarity analysis between Industry 4.0 Standards. \n",
        "To do so, we create embeddings about the Industry 4.0 Standards Knowledge Graph (I40KG) developed by [Grangel-Gonzales et. al.](https://www.researchgate.net/publication/318208930_The_Industry_40_Standards_Landscape_from_a_Semantic_Integration_Perspective)\n",
        "\n",
        "The embeddings are located here: [I40 Embeddings](https://github.com/i40-Tools/I40KG-Embeddings/tree/master/logs_sto)"
      ]
    },
    {
      "cell_type": "markdown",
      "metadata": {
        "id": "kFDNGNBI6EvO",
        "colab_type": "text"
      },
      "source": [
        "## Initial Configurations\n",
        "First, let's import the required libraries to perform the similarity analysis."
      ]
    },
    {
      "cell_type": "code",
      "metadata": {
        "id": "sEm90RF-MtcV",
        "colab_type": "code",
        "colab": {
          "base_uri": "https://localhost:8080/",
          "height": 34
        },
        "outputId": "8848e319-50f3-48b9-faac-8f07bd0b84a7"
      },
      "source": [
        "%ls"
      ],
      "execution_count": 5,
      "outputs": [
        {
          "output_type": "stream",
          "text": [
            "\u001b[0m\u001b[01;34mI40KG-Embeddings\u001b[0m/  \u001b[01;34msample_data\u001b[0m/\n"
          ],
          "name": "stdout"
        }
      ]
    },
    {
      "cell_type": "code",
      "metadata": {
        "id": "hyThPWuINg6u",
        "colab_type": "code",
        "colab": {
          "base_uri": "https://localhost:8080/",
          "height": 119
        },
        "outputId": "72080a41-dc13-4124-f531-d8744257c453"
      },
      "source": [
        "!git clone https://github.com/i40-Tools/I40KG-Embeddings.git"
      ],
      "execution_count": 2,
      "outputs": [
        {
          "output_type": "stream",
          "text": [
            "Cloning into 'I40KG-Embeddings'...\n",
            "remote: Enumerating objects: 82, done.\u001b[K\n",
            "remote: Counting objects: 100% (82/82), done.\u001b[K\n",
            "remote: Compressing objects: 100% (66/66), done.\u001b[K\n",
            "remote: Total 82 (delta 34), reused 37 (delta 9), pack-reused 0\u001b[K\n",
            "Unpacking objects: 100% (82/82), done.\n"
          ],
          "name": "stdout"
        }
      ]
    },
    {
      "cell_type": "code",
      "metadata": {
        "id": "ZFkmFqBoOIcN",
        "colab_type": "code",
        "colab": {
          "base_uri": "https://localhost:8080/",
          "height": 34
        },
        "outputId": "2661765f-ea30-4079-d375-cf116b793f9c"
      },
      "source": [
        "input_corpus='/content/I40KG-Embeddings/sto/sto.nt'\n",
        "g = Graph()\n",
        "g.parse(input_corpus, format=\"nt\")\n"
      ],
      "execution_count": 11,
      "outputs": [
        {
          "output_type": "execute_result",
          "data": {
            "text/plain": [
              "<Graph identifier=N3a1734ef38d7449492b41311461988dc (<class 'rdflib.graph.Graph'>)>"
            ]
          },
          "metadata": {
            "tags": []
          },
          "execution_count": 11
        }
      ]
    },
    {
      "cell_type": "code",
      "metadata": {
        "id": "7aEjqqkYutsz",
        "colab_type": "code",
        "colab": {}
      },
      "source": [
        "import scipy\n",
        "from scipy import spatial\n",
        "import numpy as np\n",
        "import math\n",
        "import json\n",
        "from scipy.spatial.distance import cdist"
      ],
      "execution_count": 0,
      "outputs": []
    },
    {
      "cell_type": "markdown",
      "metadata": {
        "id": "oV0m0qjp74TW",
        "colab_type": "text"
      },
      "source": [
        "### Define similarity function\n",
        "We are going to us cosine distance to measure the similarity between two embeddings"
      ]
    },
    {
      "cell_type": "code",
      "metadata": {
        "id": "JVadkVny8ENA",
        "colab_type": "code",
        "colab": {}
      },
      "source": [
        "#function to calculate cosine distance \n",
        "def cosine_similarity(vec1,vec2):\n",
        "    sum11, sum12, sum22 = 0, 0, 0\n",
        "    for i in range(len(vec1)):\n",
        "        x = vec1[i]; y = vec2[i]\n",
        "        sum11 += x*x\n",
        "        sum22 += y*y\n",
        "        sum12 += x*y\n",
        "    return sum12/math.sqrt(sum11*sum22)"
      ],
      "execution_count": 0,
      "outputs": []
    },
    {
      "cell_type": "markdown",
      "metadata": {
        "id": "faYXX_Tx8sVp",
        "colab_type": "text"
      },
      "source": [
        "## Similarity among I40 Standarization Frameworks\n",
        "In this section we show the analysis of similarity among standarization frameworks"
      ]
    },
    {
      "cell_type": "code",
      "metadata": {
        "id": "y3clg69O9-39",
        "colab_type": "code",
        "colab": {
          "base_uri": "https://localhost:8080/",
          "height": 187
        },
        "outputId": "a2da7f40-c512-4de4-c962-5a62d638535d"
      },
      "source": [
        "!pip3 install rdflib"
      ],
      "execution_count": 8,
      "outputs": [
        {
          "output_type": "stream",
          "text": [
            "Collecting rdflib\n",
            "\u001b[?25l  Downloading https://files.pythonhosted.org/packages/3c/fe/630bacb652680f6d481b9febbb3e2c3869194a1a5fc3401a4a41195a2f8f/rdflib-4.2.2-py3-none-any.whl (344kB)\n",
            "\u001b[K     |████████████████████████████████| 348kB 4.8MB/s \n",
            "\u001b[?25hCollecting isodate (from rdflib)\n",
            "\u001b[?25l  Downloading https://files.pythonhosted.org/packages/9b/9f/b36f7774ff5ea8e428fdcfc4bb332c39ee5b9362ddd3d40d9516a55221b2/isodate-0.6.0-py2.py3-none-any.whl (45kB)\n",
            "\u001b[K     |████████████████████████████████| 51kB 18.7MB/s \n",
            "\u001b[?25hRequirement already satisfied: pyparsing in /usr/local/lib/python3.6/dist-packages (from rdflib) (2.4.0)\n",
            "Requirement already satisfied: six in /usr/local/lib/python3.6/dist-packages (from isodate->rdflib) (1.12.0)\n",
            "Installing collected packages: isodate, rdflib\n",
            "Successfully installed isodate-0.6.0 rdflib-4.2.2\n"
          ],
          "name": "stdout"
        }
      ]
    },
    {
      "cell_type": "code",
      "metadata": {
        "id": "IYw3XfUX8pGJ",
        "colab_type": "code",
        "colab": {}
      },
      "source": [
        "import json\n",
        "from rdflib import Graph\n",
        "import pprint"
      ],
      "execution_count": 0,
      "outputs": []
    },
    {
      "cell_type": "code",
      "metadata": {
        "id": "EGoiqCkM-JVE",
        "colab_type": "code",
        "colab": {}
      },
      "source": [
        "g = Graph()\n",
        "g.parse(\".../I40KG-Embeddings-master/sto/sto.nt\", format=\"nt\")\n",
        "    \n",
        "len(g) # prints 2\n",
        " #check printing of the graph    \n",
        "'''for stmt in g:\n",
        "    pprint.pprint(stmt)'''\n",
        "\n",
        "#query to get the framework/standard from the sto.nt file\n",
        "#to get standards we have to replace sto:StandardizationFramework by sto:Standard in the query\n",
        "#we can get standards of the frameworks as well by just changing the query\n",
        "\n",
        "qres = g.query(\n",
        "    \"\"\"PREFIX owl: <http://www.w3.org/2002/07/owl#>\n",
        "       PREFIX rdf: <http://www.w3.org/1999/02/22-rdf-syntax-ns#>\n",
        "       PREFIX sto: <https://w3id.org/i40/sto#>\n",
        "    \n",
        "    select ?s where {\n",
        "            ?s rdf:type sto:StandardizationFramework .\n",
        "            } limit 1000\"\"\")\n",
        "    \n",
        "       \n",
        "#to get the corresponding embeddings of the frameworks/standards from the json file \n",
        "with open(\".../I40KG-Embeddings-master/logs_sto/entities_to_embeddings.json\",'rb') as f:\n",
        "    array = json.load(f)\n",
        "new_dict = {}\n",
        "for row in qres:\n",
        "    for key,value in array.items():\n",
        "        if key == \"%s\" % row:\n",
        "            tem = key\n",
        "            new_dict[tem] = array[key] \n",
        "            print(new_dict)\n",
        "\n",
        "#to put the frameworks/standards with their corresponding embeddings in a file            \n",
        "with open('output.json','w') as f:\n",
        "    # this would place the entire output on one line\n",
        "    # use json.dump(new_dict, f, indent=4) to \"pretty-print\" with four spaces per indent\n",
        "    json.dump(new_dict, f)\n",
        "    \n",
        "    \n",
        "#to read the file containing standards/frameworks along with their embeddings   \n",
        "with open('output.json', 'r') as f:\n",
        "    array = json.load(f)\n",
        "    \n",
        "#compare each standard/framework with all the other standards/frameworks to find cosine similarity\n",
        "result = {}\n",
        "for key,value in array.items():\n",
        "    temp,tempDict= 0,{}\n",
        "    for keyC,valueC in array.items():\n",
        "        if keyC == key:\n",
        "            continue\n",
        "        temp = scipy.spatial.distance.cosine(value,valueC) #send the values of the standards/frameworks to cosine similarity function\n",
        "        tempDict[keyC] = temp\n",
        "        val1 = min(tempDict, key=tempDict.get)\n",
        "    res = {}\n",
        "    res[val1] = tempDict[val1]\n",
        "    #print (res)\n",
        "    result[key]= res\n",
        "    #result[key]= tempDict\n",
        "        \n",
        "#print the standards/frameworks along with their similar standards/frameworks and their similarity distance\n",
        "print(result)"
      ],
      "execution_count": 0,
      "outputs": []
    }
  ]
}