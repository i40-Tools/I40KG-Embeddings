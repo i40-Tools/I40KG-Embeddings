{
 "cells": [
  {
   "cell_type": "code",
   "execution_count": 138,
   "metadata": {},
   "outputs": [],
   "source": [
    "import json\n",
    "from rdflib import Graph\n",
    "import pandas as pd\n",
    "import random"
   ]
  },
  {
   "cell_type": "code",
   "execution_count": 153,
   "metadata": {},
   "outputs": [],
   "source": [
    "g = Graph()\n",
    "g.parse(\"sto/sto-enriched.nt\", format=\"nt\")\n",
    "    \n",
    "len(g) # prints 2\n",
    "    \n",
    "qres = g.query(\n",
    "    \"\"\"PREFIX owl: <http://www.w3.org/2002/07/owl#>\n",
    "       PREFIX rdf: <http://www.w3.org/1999/02/22-rdf-syntax-ns#>\n",
    "       PREFIX sto: <https://w3id.org/i40/sto#>\n",
    "    \n",
    "    select ?s where {\n",
    "            ?s rdf:type sto:Standard .\n",
    "    } limit 1000\"\"\")\n",
    "\n",
    "        \n",
    "entities = pd.DataFrame(columns=['s'])\n",
    "obj = []\n",
    "for row in qres:\n",
    "    obj.append(str(\"%s\" %row))\n",
    "entities.s=obj\n"
   ]
  },
  {
   "cell_type": "code",
   "execution_count": 154,
   "metadata": {},
   "outputs": [],
   "source": [
    "count = 0\n",
    "list_pd = pd.DataFrame(columns=['s', 'p', 'o'])\n",
    "for i in range(entities.shape[0]):\n",
    "    standard = entities.s[i]\n",
    "    #print(type(entities.s[i]))\n",
    "    qres = g.query(\n",
    "        \"\"\"PREFIX owl: <http://www.w3.org/2002/07/owl#>\n",
    "            PREFIX rdf: <http://www.w3.org/1999/02/22-rdf-syntax-ns#>\n",
    "            PREFIX sto: <https://w3id.org/i40/sto#>\n",
    "            select distinct ?o where {\n",
    "                <\"\"\" +standard+ \"\"\"> sto:relatedTo ?o .\n",
    "            }\"\"\")\n",
    "    lst = pd.DataFrame(columns=['s', 'p', 'o'])\n",
    "    obj = []\n",
    "    for row in qres:\n",
    "        obj.append(str(\"%s\" %row))\n",
    "    \n",
    "    if len(obj)>0:\n",
    "        #print((type(standard)))\n",
    "        lst.o=obj\n",
    "        lst.s=standard\n",
    "        lst.p='https://w3id.org/i40/sto#relatedTo'\n",
    "        list_pd = pd.concat([list_pd, lst], ignore_index=True)\n",
    "    else:\n",
    "        count+=1\n",
    "#list_pd = list_pd.drop_duplicates().reset_index(drop=True)\n",
    "    "
   ]
  },
  {
   "cell_type": "code",
   "execution_count": 155,
   "metadata": {},
   "outputs": [
    {
     "name": "stdout",
     "output_type": "stream",
     "text": [
      "65\n"
     ]
    }
   ],
   "source": [
    "n_select= round(list_pd.shape[0]/10)\n",
    "print(n_select)\n",
    "index = list_pd.index\n",
    "sampling = random.choices(index, k=n_select)"
   ]
  },
  {
   "cell_type": "code",
   "execution_count": 156,
   "metadata": {},
   "outputs": [
    {
     "name": "stdout",
     "output_type": "stream",
     "text": [
      "60\n"
     ]
    },
    {
     "data": {
      "text/html": [
       "<div>\n",
       "<style scoped>\n",
       "    .dataframe tbody tr th:only-of-type {\n",
       "        vertical-align: middle;\n",
       "    }\n",
       "\n",
       "    .dataframe tbody tr th {\n",
       "        vertical-align: top;\n",
       "    }\n",
       "\n",
       "    .dataframe thead th {\n",
       "        text-align: right;\n",
       "    }\n",
       "</style>\n",
       "<table border=\"1\" class=\"dataframe\">\n",
       "  <thead>\n",
       "    <tr style=\"text-align: right;\">\n",
       "      <th></th>\n",
       "      <th>s</th>\n",
       "      <th>p</th>\n",
       "      <th>o</th>\n",
       "    </tr>\n",
       "  </thead>\n",
       "  <tbody>\n",
       "    <tr>\n",
       "      <th>405</th>\n",
       "      <td>https://w3id.org/i40/sto#MathML</td>\n",
       "      <td>https://w3id.org/i40/sto#relatedTo</td>\n",
       "      <td>https://w3id.org/i40/sto#ISO_20922</td>\n",
       "    </tr>\n",
       "    <tr>\n",
       "      <th>127</th>\n",
       "      <td>https://w3id.org/i40/sto#ISO_15926</td>\n",
       "      <td>https://w3id.org/i40/sto#relatedTo</td>\n",
       "      <td>https://w3id.org/i40/sto#IEC_61499</td>\n",
       "    </tr>\n",
       "    <tr>\n",
       "      <th>301</th>\n",
       "      <td>https://w3id.org/i40/sto#DIN_SPEC_16592</td>\n",
       "      <td>https://w3id.org/i40/sto#relatedTo</td>\n",
       "      <td>https://w3id.org/i40/sto#ISO_29002</td>\n",
       "    </tr>\n",
       "    <tr>\n",
       "      <th>426</th>\n",
       "      <td>https://w3id.org/i40/sto#eClass</td>\n",
       "      <td>https://w3id.org/i40/sto#relatedTo</td>\n",
       "      <td>https://w3id.org/i40/sto#ISO_15746</td>\n",
       "    </tr>\n",
       "    <tr>\n",
       "      <th>505</th>\n",
       "      <td>https://w3id.org/i40/sto#IEC_61804</td>\n",
       "      <td>https://w3id.org/i40/sto#relatedTo</td>\n",
       "      <td>https://w3id.org/i40/sto#IEC_61804</td>\n",
       "    </tr>\n",
       "  </tbody>\n",
       "</table>\n",
       "</div>"
      ],
      "text/plain": [
       "                                           s  \\\n",
       "405          https://w3id.org/i40/sto#MathML   \n",
       "127       https://w3id.org/i40/sto#ISO_15926   \n",
       "301  https://w3id.org/i40/sto#DIN_SPEC_16592   \n",
       "426          https://w3id.org/i40/sto#eClass   \n",
       "505       https://w3id.org/i40/sto#IEC_61804   \n",
       "\n",
       "                                      p                                   o  \n",
       "405  https://w3id.org/i40/sto#relatedTo  https://w3id.org/i40/sto#ISO_20922  \n",
       "127  https://w3id.org/i40/sto#relatedTo  https://w3id.org/i40/sto#IEC_61499  \n",
       "301  https://w3id.org/i40/sto#relatedTo  https://w3id.org/i40/sto#ISO_29002  \n",
       "426  https://w3id.org/i40/sto#relatedTo  https://w3id.org/i40/sto#ISO_15746  \n",
       "505  https://w3id.org/i40/sto#relatedTo  https://w3id.org/i40/sto#IEC_61804  "
      ]
     },
     "execution_count": 156,
     "metadata": {},
     "output_type": "execute_result"
    }
   ],
   "source": [
    "test_set=list_pd.iloc[sampling]\n",
    "duplicateRowsDF = test_set[test_set.duplicated()]\n",
    "test_set = test_set.drop_duplicates().reset_index(drop=True)\n",
    "print(test_set.shape[0])\n",
    "duplicateRowsDF"
   ]
  },
  {
   "cell_type": "code",
   "execution_count": 157,
   "metadata": {},
   "outputs": [],
   "source": [
    "dataset = pd.DataFrame(columns=['s', 'p', 'o'])\n",
    "qres = g.query(\n",
    "    \"\"\"PREFIX owl: <http://www.w3.org/2002/07/owl#>\n",
    "        PREFIX rdf: <http://www.w3.org/1999/02/22-rdf-syntax-ns#>\n",
    "        PREFIX sto: <https://w3id.org/i40/sto#>\n",
    "        select distinct ?s ?p ?o where {\n",
    "            ?s ?p ?o .\n",
    "        }\"\"\")\n",
    "sub = []\n",
    "prop = []\n",
    "obj = []\n",
    "for row in qres:\n",
    "    sub.append(str(\"%s\" %row['s']))\n",
    "    prop.append(str(\"%s\" %row['p']))\n",
    "    obj.append(str(\"%s\" %row['o']))\n",
    "dataset.s=sub\n",
    "dataset.p=prop\n",
    "dataset.o=obj"
   ]
  },
  {
   "cell_type": "code",
   "execution_count": 158,
   "metadata": {},
   "outputs": [
    {
     "name": "stdout",
     "output_type": "stream",
     "text": [
      "21148\n"
     ]
    },
    {
     "data": {
      "text/html": [
       "<div>\n",
       "<style scoped>\n",
       "    .dataframe tbody tr th:only-of-type {\n",
       "        vertical-align: middle;\n",
       "    }\n",
       "\n",
       "    .dataframe tbody tr th {\n",
       "        vertical-align: top;\n",
       "    }\n",
       "\n",
       "    .dataframe thead th {\n",
       "        text-align: right;\n",
       "    }\n",
       "</style>\n",
       "<table border=\"1\" class=\"dataframe\">\n",
       "  <thead>\n",
       "    <tr style=\"text-align: right;\">\n",
       "      <th></th>\n",
       "      <th>s</th>\n",
       "      <th>p</th>\n",
       "      <th>o</th>\n",
       "    </tr>\n",
       "  </thead>\n",
       "  <tbody>\n",
       "    <tr>\n",
       "      <th>18036</th>\n",
       "      <td>https://w3id.org/i40/sto#OpenFogConsortium</td>\n",
       "      <td>http://www.w3.org/2000/01/rdf-schema#label</td>\n",
       "      <td>OpenFog Consortium</td>\n",
       "    </tr>\n",
       "  </tbody>\n",
       "</table>\n",
       "</div>"
      ],
      "text/plain": [
       "                                                s  \\\n",
       "18036  https://w3id.org/i40/sto#OpenFogConsortium   \n",
       "\n",
       "                                                p                   o  \n",
       "18036  http://www.w3.org/2000/01/rdf-schema#label  OpenFog Consortium  "
      ]
     },
     "execution_count": 158,
     "metadata": {},
     "output_type": "execute_result"
    }
   ],
   "source": [
    "duplicateRowsDF = dataset[dataset.duplicated()]\n",
    "dataset = dataset.drop_duplicates().reset_index(drop=True)\n",
    "print(dataset.shape[0])\n",
    "duplicateRowsDF"
   ]
  },
  {
   "cell_type": "code",
   "execution_count": 162,
   "metadata": {},
   "outputs": [],
   "source": [
    "test_set = dataset[~dataset.apply(tuple,1).isin(test_set.apply(tuple,1))]"
   ]
  },
  {
   "cell_type": "code",
   "execution_count": 164,
   "metadata": {},
   "outputs": [
    {
     "data": {
      "text/plain": [
       "60"
      ]
     },
     "execution_count": 164,
     "metadata": {},
     "output_type": "execute_result"
    }
   ],
   "source": [
    "dataset.shape[0]-test_set.shape[0]"
   ]
  },
  {
   "cell_type": "code",
   "execution_count": null,
   "metadata": {},
   "outputs": [],
   "source": []
  }
 ],
 "metadata": {
  "kernelspec": {
   "display_name": "Python 3",
   "language": "python",
   "name": "python3"
  },
  "language_info": {
   "codemirror_mode": {
    "name": "ipython",
    "version": 3
   },
   "file_extension": ".py",
   "mimetype": "text/x-python",
   "name": "python",
   "nbconvert_exporter": "python",
   "pygments_lexer": "ipython3",
   "version": "3.7.3"
  }
 },
 "nbformat": 4,
 "nbformat_minor": 2
}
