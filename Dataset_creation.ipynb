{
 "cells": [
  {
   "cell_type": "code",
   "execution_count": 1,
   "metadata": {},
   "outputs": [],
   "source": [
    "from rdflib import Graph\n",
    "from SPARQLWrapper import SPARQLWrapper, JSON\n",
    "import pandas as pd\n",
    "import random"
   ]
  },
  {
   "cell_type": "code",
   "execution_count": 17,
   "metadata": {},
   "outputs": [
    {
     "name": "stderr",
     "output_type": "stream",
     "text": [
      "/usr/local/lib/python3.6/dist-packages/ipykernel_launcher.py:3: ParserWarning: Falling back to the 'python' engine because the 'c' engine does not support regex separators (separators > 1 char and different from '\\s+' are interpreted as regex); you can avoid this warning by specifying engine='python'.\n",
      "  This is separate from the ipykernel package so we can avoid doing imports until\n"
     ]
    },
    {
     "data": {
      "text/html": [
       "<div>\n",
       "<style scoped>\n",
       "    .dataframe tbody tr th:only-of-type {\n",
       "        vertical-align: middle;\n",
       "    }\n",
       "\n",
       "    .dataframe tbody tr th {\n",
       "        vertical-align: top;\n",
       "    }\n",
       "\n",
       "    .dataframe thead th {\n",
       "        text-align: right;\n",
       "    }\n",
       "</style>\n",
       "<table border=\"1\" class=\"dataframe\">\n",
       "  <thead>\n",
       "    <tr style=\"text-align: right;\">\n",
       "      <th></th>\n",
       "      <th>0</th>\n",
       "    </tr>\n",
       "  </thead>\n",
       "  <tbody>\n",
       "    <tr>\n",
       "      <th>0</th>\n",
       "      <td>&lt;http://www.w3.org/1999/02/22-rdf-syntax-ns#va...</td>\n",
       "    </tr>\n",
       "    <tr>\n",
       "      <th>1</th>\n",
       "      <td>&lt;http://www.w3.org/2001/XMLSchema#gYear&gt; &lt;http...</td>\n",
       "    </tr>\n",
       "    <tr>\n",
       "      <th>2</th>\n",
       "      <td>&lt;http://www.w3.org/2001/XMLSchema#date&gt; &lt;http:...</td>\n",
       "    </tr>\n",
       "    <tr>\n",
       "      <th>3</th>\n",
       "      <td>&lt;http://purl.org/dc/elements/1.1/relation&gt; &lt;ht...</td>\n",
       "    </tr>\n",
       "    <tr>\n",
       "      <th>4</th>\n",
       "      <td>&lt;http://purl.org/dc/elements/1.1/description&gt; ...</td>\n",
       "    </tr>\n",
       "  </tbody>\n",
       "</table>\n",
       "</div>"
      ],
      "text/plain": [
       "                                                   0\n",
       "0  <http://www.w3.org/1999/02/22-rdf-syntax-ns#va...\n",
       "1  <http://www.w3.org/2001/XMLSchema#gYear> <http...\n",
       "2  <http://www.w3.org/2001/XMLSchema#date> <http:...\n",
       "3  <http://purl.org/dc/elements/1.1/relation> <ht...\n",
       "4  <http://purl.org/dc/elements/1.1/description> ..."
      ]
     },
     "execution_count": 17,
     "metadata": {},
     "output_type": "execute_result"
    }
   ],
   "source": [
    "input_path = 'sto/'\n",
    "kg = input_path + 'sto-enriched.nt'\n",
    "dataset = pd.read_csv(kg, delimiter='---', header=None)\n",
    "dataset.head()"
   ]
  },
  {
   "cell_type": "code",
   "execution_count": 18,
   "metadata": {},
   "outputs": [],
   "source": [
    "g = Graph()\n",
    "g.parse(\"sto/sto-enriched.nt\", format=\"nt\")\n",
    "    \n",
    "qres = g.query(\n",
    "    \"\"\"PREFIX owl: <http://www.w3.org/2002/07/owl#>\n",
    "       PREFIX rdf: <http://www.w3.org/1999/02/22-rdf-syntax-ns#>\n",
    "       PREFIX sto: <https://w3id.org/i40/sto#>\n",
    "    \n",
    "    select ?s where {\n",
    "            ?s rdf:type sto:Standard .\n",
    "    } limit 1000\"\"\")\n",
    "        \n",
    "entities = pd.DataFrame(columns=['s'])\n",
    "obj = []\n",
    "for row in qres:\n",
    "    obj.append(str(\"%s\" %row))\n",
    "entities.s=obj"
   ]
  },
  {
   "cell_type": "code",
   "execution_count": 19,
   "metadata": {},
   "outputs": [],
   "source": [
    "count = 0\n",
    "list_pd = pd.DataFrame(columns=['s', 'p', 'o'])\n",
    "for i in range(entities.shape[0]):\n",
    "    standard = entities.s[i]\n",
    "    qres = g.query(\n",
    "        \"\"\"PREFIX owl: <http://www.w3.org/2002/07/owl#>\n",
    "            PREFIX rdf: <http://www.w3.org/1999/02/22-rdf-syntax-ns#>\n",
    "            PREFIX sto: <https://w3id.org/i40/sto#>\n",
    "            select distinct ?o where {\n",
    "                <\"\"\" +standard+ \"\"\"> sto:relatedTo ?o .\n",
    "            }\"\"\")\n",
    "    lst = pd.DataFrame(columns=['s', 'p', 'o'])\n",
    "    obj = []\n",
    "    for row in qres:\n",
    "        obj.append('<'+str(\"%s\" %row)+'>')\n",
    "    \n",
    "    if len(obj)>0:\n",
    "        lst.o=obj\n",
    "        lst.s='<'+standard+'>'\n",
    "        lst.p='<https://w3id.org/i40/sto#relatedTo>'\n",
    "        list_pd = pd.concat([list_pd, lst], ignore_index=True)\n",
    "    else:\n",
    "        count+=1\n",
    "\n",
    "#list_pd = list_pd.drop_duplicates().reset_index(drop=True)"
   ]
  },
  {
   "cell_type": "code",
   "execution_count": 20,
   "metadata": {},
   "outputs": [
    {
     "name": "stdout",
     "output_type": "stream",
     "text": [
      "65\n"
     ]
    }
   ],
   "source": [
    "n_select= round(list_pd.shape[0]/10)\n",
    "print(n_select)\n",
    "index = list_pd.index\n",
    "sampling = random.choices(index, k=n_select)"
   ]
  },
  {
   "cell_type": "code",
   "execution_count": 21,
   "metadata": {},
   "outputs": [
    {
     "name": "stdout",
     "output_type": "stream",
     "text": [
      "61\n"
     ]
    },
    {
     "data": {
      "text/html": [
       "<div>\n",
       "<style scoped>\n",
       "    .dataframe tbody tr th:only-of-type {\n",
       "        vertical-align: middle;\n",
       "    }\n",
       "\n",
       "    .dataframe tbody tr th {\n",
       "        vertical-align: top;\n",
       "    }\n",
       "\n",
       "    .dataframe thead th {\n",
       "        text-align: right;\n",
       "    }\n",
       "</style>\n",
       "<table border=\"1\" class=\"dataframe\">\n",
       "  <thead>\n",
       "    <tr style=\"text-align: right;\">\n",
       "      <th></th>\n",
       "      <th>s</th>\n",
       "      <th>p</th>\n",
       "      <th>o</th>\n",
       "    </tr>\n",
       "  </thead>\n",
       "  <tbody>\n",
       "    <tr>\n",
       "      <th>321</th>\n",
       "      <td>&lt;https://w3id.org/i40/sto#IEC_62541&gt;</td>\n",
       "      <td>&lt;https://w3id.org/i40/sto#relatedTo&gt;</td>\n",
       "      <td>&lt;https://w3id.org/i40/sto#ISO_22400&gt;</td>\n",
       "    </tr>\n",
       "    <tr>\n",
       "      <th>547</th>\n",
       "      <td>&lt;https://w3id.org/i40/sto#ISO_PAS_17506&gt;</td>\n",
       "      <td>&lt;https://w3id.org/i40/sto#relatedTo&gt;</td>\n",
       "      <td>&lt;https://w3id.org/i40/sto#IEC_62424&gt;</td>\n",
       "    </tr>\n",
       "    <tr>\n",
       "      <th>165</th>\n",
       "      <td>&lt;https://w3id.org/i40/sto#IEC_62337&gt;</td>\n",
       "      <td>&lt;https://w3id.org/i40/sto#relatedTo&gt;</td>\n",
       "      <td>&lt;https://w3id.org/i40/sto#IEC_62237&gt;</td>\n",
       "    </tr>\n",
       "    <tr>\n",
       "      <th>4</th>\n",
       "      <td>&lt;https://w3id.org/i40/sto#ISO_13849&gt;</td>\n",
       "      <td>&lt;https://w3id.org/i40/sto#relatedTo&gt;</td>\n",
       "      <td>&lt;https://w3id.org/i40/sto#IEC_62061&gt;</td>\n",
       "    </tr>\n",
       "  </tbody>\n",
       "</table>\n",
       "</div>"
      ],
      "text/plain": [
       "                                            s  \\\n",
       "321      <https://w3id.org/i40/sto#IEC_62541>   \n",
       "547  <https://w3id.org/i40/sto#ISO_PAS_17506>   \n",
       "165      <https://w3id.org/i40/sto#IEC_62337>   \n",
       "4        <https://w3id.org/i40/sto#ISO_13849>   \n",
       "\n",
       "                                        p  \\\n",
       "321  <https://w3id.org/i40/sto#relatedTo>   \n",
       "547  <https://w3id.org/i40/sto#relatedTo>   \n",
       "165  <https://w3id.org/i40/sto#relatedTo>   \n",
       "4    <https://w3id.org/i40/sto#relatedTo>   \n",
       "\n",
       "                                        o  \n",
       "321  <https://w3id.org/i40/sto#ISO_22400>  \n",
       "547  <https://w3id.org/i40/sto#IEC_62424>  \n",
       "165  <https://w3id.org/i40/sto#IEC_62237>  \n",
       "4    <https://w3id.org/i40/sto#IEC_62061>  "
      ]
     },
     "execution_count": 21,
     "metadata": {},
     "output_type": "execute_result"
    }
   ],
   "source": [
    "test_set=list_pd.iloc[sampling]\n",
    "duplicateRowsDF = test_set[test_set.duplicated()]\n",
    "test_set = test_set.drop_duplicates().reset_index(drop=True)\n",
    "print(test_set.shape[0])\n",
    "duplicateRowsDF"
   ]
  },
  {
   "cell_type": "code",
   "execution_count": null,
   "metadata": {},
   "outputs": [],
   "source": [
    "#test_set.sort_values(by='s', ascending=False)"
   ]
  },
  {
   "cell_type": "code",
   "execution_count": 22,
   "metadata": {},
   "outputs": [],
   "source": [
    "test_set['dot'] = '.'"
   ]
  },
  {
   "cell_type": "code",
   "execution_count": 23,
   "metadata": {},
   "outputs": [
    {
     "data": {
      "text/html": [
       "<div>\n",
       "<style scoped>\n",
       "    .dataframe tbody tr th:only-of-type {\n",
       "        vertical-align: middle;\n",
       "    }\n",
       "\n",
       "    .dataframe tbody tr th {\n",
       "        vertical-align: top;\n",
       "    }\n",
       "\n",
       "    .dataframe thead th {\n",
       "        text-align: right;\n",
       "    }\n",
       "</style>\n",
       "<table border=\"1\" class=\"dataframe\">\n",
       "  <thead>\n",
       "    <tr style=\"text-align: right;\">\n",
       "      <th></th>\n",
       "      <th>0</th>\n",
       "    </tr>\n",
       "  </thead>\n",
       "  <tbody>\n",
       "    <tr>\n",
       "      <th>0</th>\n",
       "      <td>&lt;https://w3id.org/i40/sto#ISO_20922&gt; &lt;https://...</td>\n",
       "    </tr>\n",
       "    <tr>\n",
       "      <th>1</th>\n",
       "      <td>&lt;https://w3id.org/i40/sto#ISO_15926&gt; &lt;https://...</td>\n",
       "    </tr>\n",
       "    <tr>\n",
       "      <th>2</th>\n",
       "      <td>&lt;https://w3id.org/i40/sto#ISO_PAS_17506&gt; &lt;http...</td>\n",
       "    </tr>\n",
       "    <tr>\n",
       "      <th>3</th>\n",
       "      <td>&lt;https://w3id.org/i40/sto#MathML&gt; &lt;https://w3i...</td>\n",
       "    </tr>\n",
       "    <tr>\n",
       "      <th>4</th>\n",
       "      <td>&lt;https://w3id.org/i40/sto#IEC_61360&gt; &lt;https://...</td>\n",
       "    </tr>\n",
       "    <tr>\n",
       "      <th>5</th>\n",
       "      <td>&lt;https://w3id.org/i40/sto#ISO_PAS_17506&gt; &lt;http...</td>\n",
       "    </tr>\n",
       "    <tr>\n",
       "      <th>6</th>\n",
       "      <td>&lt;https://w3id.org/i40/sto#ISO_15926&gt; &lt;https://...</td>\n",
       "    </tr>\n",
       "    <tr>\n",
       "      <th>7</th>\n",
       "      <td>&lt;https://w3id.org/i40/sto#eClass&gt; &lt;https://w3i...</td>\n",
       "    </tr>\n",
       "    <tr>\n",
       "      <th>8</th>\n",
       "      <td>&lt;https://w3id.org/i40/sto#IEC_61511&gt; &lt;https://...</td>\n",
       "    </tr>\n",
       "    <tr>\n",
       "      <th>9</th>\n",
       "      <td>&lt;https://w3id.org/i40/sto#DIN_SPEC_16592&gt; &lt;htt...</td>\n",
       "    </tr>\n",
       "    <tr>\n",
       "      <th>10</th>\n",
       "      <td>&lt;https://w3id.org/i40/sto#ISO_29002&gt; &lt;https://...</td>\n",
       "    </tr>\n",
       "    <tr>\n",
       "      <th>11</th>\n",
       "      <td>&lt;https://w3id.org/i40/sto#ISO_13584&gt; &lt;https://...</td>\n",
       "    </tr>\n",
       "    <tr>\n",
       "      <th>12</th>\n",
       "      <td>&lt;https://w3id.org/i40/sto#ISO_15746&gt; &lt;https://...</td>\n",
       "    </tr>\n",
       "    <tr>\n",
       "      <th>13</th>\n",
       "      <td>&lt;https://w3id.org/i40/sto#SysML&gt; &lt;https://w3id...</td>\n",
       "    </tr>\n",
       "    <tr>\n",
       "      <th>14</th>\n",
       "      <td>&lt;https://w3id.org/i40/sto#eClass&gt; &lt;https://w3i...</td>\n",
       "    </tr>\n",
       "    <tr>\n",
       "      <th>15</th>\n",
       "      <td>&lt;https://w3id.org/i40/sto#ISO_15746&gt; &lt;https://...</td>\n",
       "    </tr>\n",
       "    <tr>\n",
       "      <th>16</th>\n",
       "      <td>&lt;https://w3id.org/i40/sto#ISO_13584&gt; &lt;https://...</td>\n",
       "    </tr>\n",
       "    <tr>\n",
       "      <th>17</th>\n",
       "      <td>&lt;https://w3id.org/i40/sto#ISO_15746&gt; &lt;https://...</td>\n",
       "    </tr>\n",
       "    <tr>\n",
       "      <th>18</th>\n",
       "      <td>&lt;https://w3id.org/i40/sto#IEC_62541&gt; &lt;https://...</td>\n",
       "    </tr>\n",
       "    <tr>\n",
       "      <th>19</th>\n",
       "      <td>&lt;https://w3id.org/i40/sto#ISO_PAS_17506&gt; &lt;http...</td>\n",
       "    </tr>\n",
       "  </tbody>\n",
       "</table>\n",
       "</div>"
      ],
      "text/plain": [
       "                                                    0\n",
       "0   <https://w3id.org/i40/sto#ISO_20922> <https://...\n",
       "1   <https://w3id.org/i40/sto#ISO_15926> <https://...\n",
       "2   <https://w3id.org/i40/sto#ISO_PAS_17506> <http...\n",
       "3   <https://w3id.org/i40/sto#MathML> <https://w3i...\n",
       "4   <https://w3id.org/i40/sto#IEC_61360> <https://...\n",
       "5   <https://w3id.org/i40/sto#ISO_PAS_17506> <http...\n",
       "6   <https://w3id.org/i40/sto#ISO_15926> <https://...\n",
       "7   <https://w3id.org/i40/sto#eClass> <https://w3i...\n",
       "8   <https://w3id.org/i40/sto#IEC_61511> <https://...\n",
       "9   <https://w3id.org/i40/sto#DIN_SPEC_16592> <htt...\n",
       "10  <https://w3id.org/i40/sto#ISO_29002> <https://...\n",
       "11  <https://w3id.org/i40/sto#ISO_13584> <https://...\n",
       "12  <https://w3id.org/i40/sto#ISO_15746> <https://...\n",
       "13  <https://w3id.org/i40/sto#SysML> <https://w3id...\n",
       "14  <https://w3id.org/i40/sto#eClass> <https://w3i...\n",
       "15  <https://w3id.org/i40/sto#ISO_15746> <https://...\n",
       "16  <https://w3id.org/i40/sto#ISO_13584> <https://...\n",
       "17  <https://w3id.org/i40/sto#ISO_15746> <https://...\n",
       "18  <https://w3id.org/i40/sto#IEC_62541> <https://...\n",
       "19  <https://w3id.org/i40/sto#ISO_PAS_17506> <http..."
      ]
     },
     "execution_count": 23,
     "metadata": {},
     "output_type": "execute_result"
    }
   ],
   "source": [
    "test_set_nt=pd.DataFrame(test_set['s'] + ' '+ test_set['p']+ ' '+ test_set['o']+ ' '+ test_set['dot'])\n",
    "test_set_nt.head(20)"
   ]
  },
  {
   "cell_type": "code",
   "execution_count": 24,
   "metadata": {},
   "outputs": [
    {
     "data": {
      "text/plain": [
       "21088"
      ]
     },
     "execution_count": 24,
     "metadata": {},
     "output_type": "execute_result"
    }
   ],
   "source": [
    "training_set = dataset[~dataset.apply(tuple,1).isin(test_set_nt.apply(tuple,1))]\n",
    "training_set.shape[0]"
   ]
  },
  {
   "cell_type": "code",
   "execution_count": 25,
   "metadata": {},
   "outputs": [
    {
     "data": {
      "text/plain": [
       "61"
      ]
     },
     "execution_count": 25,
     "metadata": {},
     "output_type": "execute_result"
    }
   ],
   "source": [
    "dataset.shape[0]-training_set.shape[0]"
   ]
  },
  {
   "cell_type": "code",
   "execution_count": 26,
   "metadata": {},
   "outputs": [],
   "source": [
    "training_set.to_csv(input_path+'training_set_relatedTo.csv', index=None)"
   ]
  },
  {
   "cell_type": "code",
   "execution_count": null,
   "metadata": {},
   "outputs": [],
   "source": [
    "training_set.serialize(destination=input_path + 'yago_dataset_person.nt', format='nt')"
   ]
  },
  {
   "cell_type": "code",
   "execution_count": 16,
   "metadata": {},
   "outputs": [
    {
     "ename": "ParseError",
     "evalue": "Invalid line: '@en .'",
     "output_type": "error",
     "traceback": [
      "\u001b[0;31m---------------------------------------------------------------------------\u001b[0m",
      "\u001b[0;31mParseError\u001b[0m                                Traceback (most recent call last)",
      "\u001b[0;32m/usr/local/lib/python3.6/dist-packages/rdflib/plugins/parsers/ntriples.py\u001b[0m in \u001b[0;36mparse\u001b[0;34m(self, f)\u001b[0m\n\u001b[1;32m    139\u001b[0m             \u001b[0;32mtry\u001b[0m\u001b[0;34m:\u001b[0m\u001b[0;34m\u001b[0m\u001b[0;34m\u001b[0m\u001b[0m\n\u001b[0;32m--> 140\u001b[0;31m                 \u001b[0mself\u001b[0m\u001b[0;34m.\u001b[0m\u001b[0mparseline\u001b[0m\u001b[0;34m(\u001b[0m\u001b[0;34m)\u001b[0m\u001b[0;34m\u001b[0m\u001b[0;34m\u001b[0m\u001b[0m\n\u001b[0m\u001b[1;32m    141\u001b[0m             \u001b[0;32mexcept\u001b[0m \u001b[0mParseError\u001b[0m\u001b[0;34m:\u001b[0m\u001b[0;34m\u001b[0m\u001b[0;34m\u001b[0m\u001b[0m\n",
      "\u001b[0;32m/usr/local/lib/python3.6/dist-packages/rdflib/plugins/parsers/ntriples.py\u001b[0m in \u001b[0;36mparseline\u001b[0;34m(self)\u001b[0m\n\u001b[1;32m    198\u001b[0m         \u001b[0;32mif\u001b[0m \u001b[0mself\u001b[0m\u001b[0;34m.\u001b[0m\u001b[0mline\u001b[0m\u001b[0;34m:\u001b[0m\u001b[0;34m\u001b[0m\u001b[0;34m\u001b[0m\u001b[0m\n\u001b[0;32m--> 199\u001b[0;31m             \u001b[0;32mraise\u001b[0m \u001b[0mParseError\u001b[0m\u001b[0;34m(\u001b[0m\u001b[0;34m\"Trailing garbage\"\u001b[0m\u001b[0;34m)\u001b[0m\u001b[0;34m\u001b[0m\u001b[0;34m\u001b[0m\u001b[0m\n\u001b[0m\u001b[1;32m    200\u001b[0m         \u001b[0mself\u001b[0m\u001b[0;34m.\u001b[0m\u001b[0msink\u001b[0m\u001b[0;34m.\u001b[0m\u001b[0mtriple\u001b[0m\u001b[0;34m(\u001b[0m\u001b[0msubject\u001b[0m\u001b[0;34m,\u001b[0m \u001b[0mpredicate\u001b[0m\u001b[0;34m,\u001b[0m \u001b[0mobject\u001b[0m\u001b[0;34m)\u001b[0m\u001b[0;34m\u001b[0m\u001b[0;34m\u001b[0m\u001b[0m\n",
      "\u001b[0;31mParseError\u001b[0m: Trailing garbage",
      "\nDuring handling of the above exception, another exception occurred:\n",
      "\u001b[0;31mParseError\u001b[0m                                Traceback (most recent call last)",
      "\u001b[0;32m<ipython-input-16-4d222433bbef>\u001b[0m in \u001b[0;36m<module>\u001b[0;34m\u001b[0m\n\u001b[1;32m      1\u001b[0m \u001b[0;34m\u001b[0m\u001b[0m\n\u001b[1;32m      2\u001b[0m \u001b[0mg\u001b[0m \u001b[0;34m=\u001b[0m \u001b[0mGraph\u001b[0m\u001b[0;34m(\u001b[0m\u001b[0;34m)\u001b[0m\u001b[0;34m\u001b[0m\u001b[0;34m\u001b[0m\u001b[0m\n\u001b[0;32m----> 3\u001b[0;31m \u001b[0mg\u001b[0m\u001b[0;34m.\u001b[0m\u001b[0mparse\u001b[0m\u001b[0;34m(\u001b[0m\u001b[0;34m\"sto/training_set_relatedTo.nt\"\u001b[0m\u001b[0;34m,\u001b[0m \u001b[0mformat\u001b[0m\u001b[0;34m=\u001b[0m\u001b[0;34m\"nt\"\u001b[0m\u001b[0;34m)\u001b[0m\u001b[0;34m\u001b[0m\u001b[0;34m\u001b[0m\u001b[0m\n\u001b[0m\u001b[1;32m      4\u001b[0m \u001b[0;34m\u001b[0m\u001b[0m\n\u001b[1;32m      5\u001b[0m qres = g.query(\n",
      "\u001b[0;32m/usr/local/lib/python3.6/dist-packages/rdflib/graph.py\u001b[0m in \u001b[0;36mparse\u001b[0;34m(self, source, publicID, format, location, file, data, **args)\u001b[0m\n\u001b[1;32m   1041\u001b[0m         \u001b[0mparser\u001b[0m \u001b[0;34m=\u001b[0m \u001b[0mplugin\u001b[0m\u001b[0;34m.\u001b[0m\u001b[0mget\u001b[0m\u001b[0;34m(\u001b[0m\u001b[0mformat\u001b[0m\u001b[0;34m,\u001b[0m \u001b[0mParser\u001b[0m\u001b[0;34m)\u001b[0m\u001b[0;34m(\u001b[0m\u001b[0;34m)\u001b[0m\u001b[0;34m\u001b[0m\u001b[0;34m\u001b[0m\u001b[0m\n\u001b[1;32m   1042\u001b[0m         \u001b[0;32mtry\u001b[0m\u001b[0;34m:\u001b[0m\u001b[0;34m\u001b[0m\u001b[0;34m\u001b[0m\u001b[0m\n\u001b[0;32m-> 1043\u001b[0;31m             \u001b[0mparser\u001b[0m\u001b[0;34m.\u001b[0m\u001b[0mparse\u001b[0m\u001b[0;34m(\u001b[0m\u001b[0msource\u001b[0m\u001b[0;34m,\u001b[0m \u001b[0mself\u001b[0m\u001b[0;34m,\u001b[0m \u001b[0;34m**\u001b[0m\u001b[0margs\u001b[0m\u001b[0;34m)\u001b[0m\u001b[0;34m\u001b[0m\u001b[0;34m\u001b[0m\u001b[0m\n\u001b[0m\u001b[1;32m   1044\u001b[0m         \u001b[0;32mfinally\u001b[0m\u001b[0;34m:\u001b[0m\u001b[0;34m\u001b[0m\u001b[0;34m\u001b[0m\u001b[0m\n\u001b[1;32m   1045\u001b[0m             \u001b[0;32mif\u001b[0m \u001b[0msource\u001b[0m\u001b[0;34m.\u001b[0m\u001b[0mauto_close\u001b[0m\u001b[0;34m:\u001b[0m\u001b[0;34m\u001b[0m\u001b[0;34m\u001b[0m\u001b[0m\n",
      "\u001b[0;32m/usr/local/lib/python3.6/dist-packages/rdflib/plugins/parsers/nt.py\u001b[0m in \u001b[0;36mparse\u001b[0;34m(self, source, sink, baseURI)\u001b[0m\n\u001b[1;32m     24\u001b[0m         \u001b[0mf\u001b[0m \u001b[0;34m=\u001b[0m \u001b[0msource\u001b[0m\u001b[0;34m.\u001b[0m\u001b[0mgetByteStream\u001b[0m\u001b[0;34m(\u001b[0m\u001b[0;34m)\u001b[0m  \u001b[0;31m# TODO getCharacterStream?\u001b[0m\u001b[0;34m\u001b[0m\u001b[0;34m\u001b[0m\u001b[0m\n\u001b[1;32m     25\u001b[0m         \u001b[0mparser\u001b[0m \u001b[0;34m=\u001b[0m \u001b[0mNTriplesParser\u001b[0m\u001b[0;34m(\u001b[0m\u001b[0mNTSink\u001b[0m\u001b[0;34m(\u001b[0m\u001b[0msink\u001b[0m\u001b[0;34m)\u001b[0m\u001b[0;34m)\u001b[0m\u001b[0;34m\u001b[0m\u001b[0;34m\u001b[0m\u001b[0m\n\u001b[0;32m---> 26\u001b[0;31m         \u001b[0mparser\u001b[0m\u001b[0;34m.\u001b[0m\u001b[0mparse\u001b[0m\u001b[0;34m(\u001b[0m\u001b[0mf\u001b[0m\u001b[0;34m)\u001b[0m\u001b[0;34m\u001b[0m\u001b[0;34m\u001b[0m\u001b[0m\n\u001b[0m\u001b[1;32m     27\u001b[0m         \u001b[0mf\u001b[0m\u001b[0;34m.\u001b[0m\u001b[0mclose\u001b[0m\u001b[0;34m(\u001b[0m\u001b[0;34m)\u001b[0m\u001b[0;34m\u001b[0m\u001b[0;34m\u001b[0m\u001b[0m\n",
      "\u001b[0;32m/usr/local/lib/python3.6/dist-packages/rdflib/plugins/parsers/ntriples.py\u001b[0m in \u001b[0;36mparse\u001b[0;34m(self, f)\u001b[0m\n\u001b[1;32m    140\u001b[0m                 \u001b[0mself\u001b[0m\u001b[0;34m.\u001b[0m\u001b[0mparseline\u001b[0m\u001b[0;34m(\u001b[0m\u001b[0;34m)\u001b[0m\u001b[0;34m\u001b[0m\u001b[0;34m\u001b[0m\u001b[0m\n\u001b[1;32m    141\u001b[0m             \u001b[0;32mexcept\u001b[0m \u001b[0mParseError\u001b[0m\u001b[0;34m:\u001b[0m\u001b[0;34m\u001b[0m\u001b[0;34m\u001b[0m\u001b[0m\n\u001b[0;32m--> 142\u001b[0;31m                 \u001b[0;32mraise\u001b[0m \u001b[0mParseError\u001b[0m\u001b[0;34m(\u001b[0m\u001b[0;34m\"Invalid line: %r\"\u001b[0m \u001b[0;34m%\u001b[0m \u001b[0mself\u001b[0m\u001b[0;34m.\u001b[0m\u001b[0mline\u001b[0m\u001b[0;34m)\u001b[0m\u001b[0;34m\u001b[0m\u001b[0;34m\u001b[0m\u001b[0m\n\u001b[0m\u001b[1;32m    143\u001b[0m         \u001b[0;32mreturn\u001b[0m \u001b[0mself\u001b[0m\u001b[0;34m.\u001b[0m\u001b[0msink\u001b[0m\u001b[0;34m\u001b[0m\u001b[0;34m\u001b[0m\u001b[0m\n\u001b[1;32m    144\u001b[0m \u001b[0;34m\u001b[0m\u001b[0m\n",
      "\u001b[0;31mParseError\u001b[0m: Invalid line: '@en .'"
     ]
    }
   ],
   "source": [
    "\n",
    "g = Graph()\n",
    "g.parse(\"sto/training_set_relatedTo.nt\", format=\"nt\")\n",
    "    \n",
    "qres = g.query(\n",
    "    \"\"\"PREFIX owl: <http://www.w3.org/2002/07/owl#>\n",
    "       PREFIX rdf: <http://www.w3.org/1999/02/22-rdf-syntax-ns#>\n",
    "       PREFIX sto: <https://w3id.org/i40/sto#>\n",
    "    \n",
    "    select ?s where {\n",
    "            ?s rdf:type sto:Standard .\n",
    "    } limit 1000\"\"\")\n",
    "        \n",
    "entities = pd.DataFrame(columns=['s'])\n",
    "obj = []\n",
    "for row in qres:\n",
    "    obj.append(str(\"%s\" %row))\n",
    "entities.s=obj"
   ]
  },
  {
   "cell_type": "code",
   "execution_count": null,
   "metadata": {},
   "outputs": [],
   "source": []
  },
  {
   "cell_type": "code",
   "execution_count": null,
   "metadata": {},
   "outputs": [],
   "source": []
  },
  {
   "cell_type": "code",
   "execution_count": null,
   "metadata": {},
   "outputs": [],
   "source": [
    "dataset = pd.DataFrame(columns=['s', 'p', 'o'])\n",
    "qres = g.query(\n",
    "    \"\"\"PREFIX owl: <http://www.w3.org/2002/07/owl#>\n",
    "        PREFIX rdf: <http://www.w3.org/1999/02/22-rdf-syntax-ns#>\n",
    "        PREFIX sto: <https://w3id.org/i40/sto#>\n",
    "        select distinct ?s ?p ?o where {\n",
    "            ?s ?p ?o .\n",
    "        }\"\"\")\n",
    "sub = []\n",
    "prop = []\n",
    "obj = []\n",
    "for row in qres:\n",
    "    if str(\"%s\" %row['o']) =='Nce48e003229e4715a90d165bf90f04bc':\n",
    "        print((row['p']))\n",
    "    sub.append('<'+str(\"%s\" %row['s'])+'>')\n",
    "    prop.append('<'+str(\"%s\" %row['p'])+'>')\n",
    "    obj.append('<'+str(\"%s\" %row['o'])+'>')\n",
    "dataset.s=sub\n",
    "dataset.p=prop\n",
    "dataset.o=obj"
   ]
  },
  {
   "cell_type": "code",
   "execution_count": null,
   "metadata": {},
   "outputs": [],
   "source": [
    "duplicateRowsDF = dataset[dataset.duplicated()]\n",
    "dataset = dataset.drop_duplicates().reset_index(drop=True)\n",
    "print(dataset.shape[0])\n",
    "duplicateRowsDF"
   ]
  },
  {
   "cell_type": "code",
   "execution_count": null,
   "metadata": {},
   "outputs": [],
   "source": [
    "trainig_set = dataset[~dataset.apply(tuple,1).isin(test_set.apply(tuple,1))]"
   ]
  }
 ],
 "metadata": {
  "kernelspec": {
   "display_name": "Python 3",
   "language": "python",
   "name": "python3"
  },
  "language_info": {
   "codemirror_mode": {
    "name": "ipython",
    "version": 3
   },
   "file_extension": ".py",
   "mimetype": "text/x-python",
   "name": "python",
   "nbconvert_exporter": "python",
   "pygments_lexer": "ipython3",
   "version": "3.6.8"
  }
 },
 "nbformat": 4,
 "nbformat_minor": 2
}
