{
 "cells": [
  {
   "cell_type": "markdown",
   "metadata": {
    "colab_type": "text",
    "id": "view-in-github"
   },
   "source": [
    "<a href=\"https://colab.research.google.com/github/i40-Tools/I40KG-Embeddings/blob/master/Community-Analysis.ipynb\" target=\"_parent\"><img src=\"https://colab.research.google.com/assets/colab-badge.svg\" alt=\"Open In Colab\"/></a>"
   ]
  },
  {
   "cell_type": "markdown",
   "metadata": {
    "colab_type": "text",
    "id": "hQCOAl5s4Wyv"
   },
   "source": [
    "# I40 standards landscape similarity analysis using embeddings\n",
    "\n",
    "## Overview\n",
    "\n",
    "In this notebook, we show the similarity analysis between Industry 4.0 Standards. \n",
    "To do so, we create embeddings about the Industry 4.0 Standards Knowledge Graph (I40KG) developed by [Grangel-Gonzales et. al.](https://www.researchgate.net/publication/318208930_The_Industry_40_Standards_Landscape_from_a_Semantic_Integration_Perspective)\n",
    "\n",
    "The embeddings are located here: [I40 Embeddings](https://github.com/i40-Tools/I40KG-Embeddings/tree/master/logs_sto)"
   ]
  },
  {
   "cell_type": "markdown",
   "metadata": {
    "colab_type": "text",
    "id": "kFDNGNBI6EvO"
   },
   "source": [
    "## Initial Configurations\n",
    "First, let's import the required libraries to perform the similarity analysis."
   ]
  },
  {
   "cell_type": "code",
   "execution_count": 0,
   "metadata": {
    "colab": {
     "base_uri": "https://localhost:8080/",
     "height": 136
    },
    "colab_type": "code",
    "id": "hyThPWuINg6u",
    "outputId": "5c8eaf93-ded5-4a6e-b173-027614d3801d"
   },
   "outputs": [
    {
     "name": "stdout",
     "output_type": "stream",
     "text": [
      "Cloning into 'I40KG-Embeddings'...\n",
      "remote: Enumerating objects: 122, done.\u001b[K\n",
      "remote: Counting objects: 100% (122/122), done.\u001b[K\n",
      "remote: Compressing objects: 100% (106/106), done.\u001b[K\n",
      "remote: Total 122 (delta 60), reused 37 (delta 9), pack-reused 0\u001b[K\n",
      "Receiving objects: 100% (122/122), 22.65 MiB | 23.67 MiB/s, done.\n",
      "Resolving deltas: 100% (60/60), done.\n"
     ]
    }
   ],
   "source": [
    "!git clone https://github.com/i40-Tools/I40KG-Embeddings.git"
   ]
  },
  {
   "cell_type": "code",
   "execution_count": 0,
   "metadata": {
    "colab": {
     "base_uri": "https://localhost:8080/",
     "height": 34
    },
    "colab_type": "code",
    "id": "sEm90RF-MtcV",
    "outputId": "62a5e30e-1db7-45a5-c46c-3392ceadd386"
   },
   "outputs": [
    {
     "name": "stdout",
     "output_type": "stream",
     "text": [
      "\u001b[0m\u001b[01;34mI40KG-Embeddings\u001b[0m/  \u001b[01;34msample_data\u001b[0m/\n"
     ]
    }
   ],
   "source": [
    "%ls"
   ]
  },
  {
   "cell_type": "code",
   "execution_count": 28,
   "metadata": {
    "colab": {},
    "colab_type": "code",
    "id": "7aEjqqkYutsz"
   },
   "outputs": [],
   "source": [
    "import scipy\n",
    "from scipy import spatial\n",
    "import numpy as np\n",
    "import math\n",
    "import json\n",
    "from scipy.spatial.distance import cdist\n",
    "from sklearn.metrics.pairwise import cosine_similarity"
   ]
  },
  {
   "cell_type": "markdown",
   "metadata": {
    "colab_type": "text",
    "id": "WVb3ydnAovrN"
   },
   "source": [
    "### Define function to print the result in tabular format "
   ]
  },
  {
   "cell_type": "code",
   "execution_count": 3,
   "metadata": {
    "colab": {},
    "colab_type": "code",
    "id": "P8oZcY7volad"
   },
   "outputs": [],
   "source": [
    "#function to print result in table for similarity of frameworks\n",
    "def print_result_framework(result):\n",
    "    print (\"{:<8}                                            {:<15}                         {:<10}\".format('Framework A','Framework B','Score'))\n",
    "    print (\"----------------------------------------------------------------------------------------------------------------------\")\n",
    "    for key,value in result.items():\n",
    "        val = str(value)\n",
    "        val = val.strip(\"{}\")\n",
    "        val = val.strip(\"''\")\n",
    "        val = val.replace(\"':\",\"     \")\n",
    "        print(\"{:<8}       {:<15}\".format(key +\"      \", val))\n",
    "\n"
   ]
  },
  {
   "cell_type": "code",
   "execution_count": 4,
   "metadata": {
    "colab": {},
    "colab_type": "code",
    "id": "u6SGSexAtoFg"
   },
   "outputs": [],
   "source": [
    "#function to print result in table for similarity of standards, similarity of standards for same framework and different framework\n",
    "def print_result_standard(result):\n",
    "    print (\"{:<8}                                            {:<15}                         {:<10}\".format('Standard A','Standard B','Score'))\n",
    "    print (\"----------------------------------------------------------------------------------------------------------------------\")\n",
    "    for key,value in result.items():\n",
    "        val = str(value)\n",
    "        val = val.strip(\"{}\")\n",
    "        val = val.strip(\"''\")\n",
    "        val = val.replace(\"':\",\"     \")\n",
    "        print(\"{:<8}       {:<15}\".format(key +\"      \", val))\n",
    "\n"
   ]
  },
  {
   "cell_type": "code",
   "execution_count": 5,
   "metadata": {
    "colab": {},
    "colab_type": "code",
    "id": "VHyEOITUWQ32"
   },
   "outputs": [],
   "source": [
    "#function to print result in table for similarity for layers\n",
    "def print_layers(result,framework1,framework2):\n",
    "    print (\"{:<8}                     {:<15}                         {:<10}\".format(framework1,framework2,'Score'))\n",
    "    print (\"----------------------------------------------------------------------------------------------------------------------\")\n",
    "    for key,value in result.items():\n",
    "        val = str(value)\n",
    "        val = val.strip(\"{}\")\n",
    "        val = val.strip(\"''\")\n",
    "        val = val.replace(\"':\",\"     \")\n",
    "        print(\"{:<8}       {:<15}\".format(key +\"      \", val))\n"
   ]
  },
  {
   "cell_type": "code",
   "execution_count": 283,
   "metadata": {},
   "outputs": [
    {
     "name": "stdout",
     "output_type": "stream",
     "text": [
      "59\n",
      "https://w3id.org/i40/rami#Engineering\n",
      "https://w3id.org/i40/rami#Lifecycle_Status\n",
      "https://w3id.org/i40/rami#Station\n",
      "https://w3id.org/i40/rami#Security\n",
      "https://w3id.org/i40/rami#Product\n",
      "https://w3id.org/i40/sto#ProductionSystemModelData\n",
      "https://w3id.org/i40/sto#CrossLevel\n",
      "http://example.org/iira#TansportLayer\n",
      "http://example.org/iira#Privacy\n",
      "https://w3id.org/i40/rami#Business\n",
      "https://w3id.org/i40/rami#Asset\n",
      "https://w3id.org/i40/sto#Safety\n",
      "https://w3id.org/i40/rami#Safety\n",
      "https://w3id.org/ids/ram/SystemLayer\n",
      "https://w3id.org/i40/rami#Other\n",
      "https://w3id.org/i40/sto#ProductLifeCycleManagement\n",
      "https://w3id.org/i40/rami#FieldDevice\n",
      "https://w3id.org/i40/sto#ModelingPractice\n",
      "https://w3id.org/ids/ram/Certification\n",
      "http://example.org/iira#Safety\n",
      "https://w3id.org/ids/ram/Security\n",
      "https://w3id.org/i40/rami#ControlDevice\n",
      "https://w3id.org/i40/sto#DataSovereignty\n",
      "https://w3id.org/i40/rami#ConnectedWorld\n",
      "http://example.org/iira#Security\n",
      "https://w3id.org/i40/sto#ProductModelDataExchange\n",
      "https://w3id.org/i40/sto#BusinessProcessExecution\n",
      "https://w3id.org/i40/rami#Integration\n",
      "https://w3id.org/i40/sto#ManufacturingModelData\n",
      "https://w3id.org/i40/sto#FrameworkLayer\n",
      "https://w3id.org/i40/rami#Functional\n",
      "https://w3id.org/i40/rami#Enterprise\n",
      "https://w3id.org/i40/rami#WorkCenter\n",
      "https://w3id.org/i40/sto#ProductCatalogData\n",
      "https://w3id.org/i40/sto#SCM\n",
      "https://w3id.org/i40/rami#ProcessPlanning\n",
      "https://w3id.org/i40/rami#Communication\n",
      "https://w3id.org/i40/rami#Configuration\n",
      "https://w3id.org/ids/ram/InformationLayer\n",
      "https://w3id.org/i40/sto#FiwareSecurity\n",
      "http://example.org/iira#ApplicationDomain\n",
      "https://w3id.org/i40/rami#ConditionMonitoring\n",
      "https://w3id.org/i40/rami#AdminShellGeneral\n",
      "https://w3id.org/i40/rami#Identification\n",
      "https://w3id.org/i40/sto#EnterpriseLevel\n",
      "https://w3id.org/ids/ram/Interoperability\n",
      "https://w3id.org/i40/rami#Information\n",
      "http://example.org/iira#FunctionalViewpoint\n",
      "https://w3id.org/i40/sto#ProductionSystemEngineering\n",
      "https://w3id.org/i40/sto#DeviceLevel\n",
      "https://w3id.org/i40/sto#ProductionLifeCycleDataManagement\n",
      "http://example.org/iira#Connectivity\n",
      "https://w3id.org/i40/sto#Communication\n",
      "http://example.org/iira#NetworkLayer\n",
      "https://w3id.org/i40/rami#EnergyEfficiency\n",
      "http://example.org/iira#InformationDomain\n",
      "https://w3id.org/i40/sto#SCADALevel\n",
      "http://example.org/iira#OperationDomain\n",
      "https://w3id.org/i40/sto#IIRC\n"
     ]
    }
   ],
   "source": [
    "from rdflib import Graph,URIRef, tools\n",
    "from gastrodon import LocalEndpoint,one,QName\n",
    "g = Graph()\n",
    "g.parse(\"sto/sto.nt\", format=\"nt\")\n",
    "\n",
    "sto_endpoint=LocalEndpoint(g)\n",
    "\n",
    "qres = sto_endpoint.select(\n",
    "    \"\"\"PREFIX owl: <http://www.w3.org/2002/07/owl#>\n",
    "       PREFIX rdf: <http://www.w3.org/1999/02/22-rdf-syntax-ns#>\n",
    "       PREFIX sto: <https://w3id.org/i40/sto#>\n",
    "    \n",
    "    select distinct ?p where {\n",
    "            ?s rdf:type sto:Standard .\n",
    "            ?s ?p ?o.\n",
    "    } \"\"\")\n",
    "for i in range(qres.shape[0]):\n",
    "    print(qres['p'][i])"
   ]
  },
  {
   "cell_type": "markdown",
   "metadata": {
    "colab_type": "text",
    "id": "-pc4XzZYhSu-"
   },
   "source": [
    "##Similarity among Standards of the same Framework\n",
    "In this section we show the analysis of similarity among standards belonging to the same framework."
   ]
  },
  {
   "cell_type": "code",
   "execution_count": 463,
   "metadata": {
    "colab": {
     "base_uri": "https://localhost:8080/",
     "height": 2043
    },
    "colab_type": "code",
    "id": "ou9fwdGVpN9F",
    "outputId": "ace54885-7d96-4df8-94a6-8f09d6c4b993"
   },
   "outputs": [
    {
     "name": "stdout",
     "output_type": "stream",
     "text": [
      "percentil 0.281098171936\n"
     ]
    }
   ],
   "source": [
    "import json\n",
    "from rdflib import Graph\n",
    "import pprint\n",
    "import numpy as np\n",
    "SIMETRIC_MATRIX_FILE = \"simetric_matrix.tsv\"\n",
    "ENTITIES_FILE = \"entities.txt\"\n",
    "list_sim = []\n",
    "\n",
    "\n",
    "g = Graph()\n",
    "g.parse(\"sto/sto.nt\", format=\"nt\")\n",
    "    \n",
    "len(g) # prints 2\n",
    "    \n",
    "qres = g.query(\n",
    "    \"\"\"PREFIX owl: <http://www.w3.org/2002/07/owl#>\n",
    "       PREFIX rdf: <http://www.w3.org/1999/02/22-rdf-syntax-ns#>\n",
    "       PREFIX sto: <https://w3id.org/i40/sto#>\n",
    "    \n",
    "    select ?s where {\n",
    "            ?s rdf:type sto:Standard .\n",
    "    } limit 1000\"\"\")\n",
    "\n",
    "        \n",
    "with open(\"embeddings/TransE/entities_to_embeddings.json\",'rb') as f:\n",
    "    array = json.load(f)\n",
    "new_dict = {}\n",
    "for row in qres:\n",
    "    for key,value in array.items():\n",
    "        if key == \"%s\" % row:\n",
    "            tem = key\n",
    "            #print(key)\n",
    "            new_dict[tem] = array[key] \n",
    "\n",
    "\n",
    "with open('output_standard_same_framework.json','w') as f:\n",
    "    # this would place the entire output on one line\n",
    "    # use json.dump(lista_items, f, indent=4) to \"pretty-print\" with four spaces per indent\n",
    "    json.dump(new_dict, f) \n",
    "\n",
    "    \n",
    "#to read the file containing standards/frameworks along with their embeddings   \n",
    "with open('output_standard_same_framework.json', 'r') as f:\n",
    "    array = json.load(f)\n",
    "\n",
    "\n",
    "list_n = [*array]\n",
    "entities = \"\\n\".join(str(x) for x in list_n)\n",
    "n_ent = str(len(list_n))\n",
    "with open(ENTITIES_FILE, \"w\") as entity:\n",
    "    entity.write(n_ent+\"\\n\"+entities)\n",
    "\n",
    "#print(len([*array]))\n",
    "#compare each standard/framework with all the other standards/frameworks to find cosine similarity\n",
    "result = {}\n",
    "s=n_ent+\"\\n\"\n",
    "with open(SIMETRIC_MATRIX_FILE, \"w\") as fs:\n",
    "    for key,value in array.items():\n",
    "        for keyC,valueC in array.items():\n",
    "            #print(value)\n",
    "            #sim = cosine_similarity([value,valueC])[0][1] #send the values of the standards/frameworks to cosine similarity function\n",
    "            sim = abs(1-scipy.spatial.distance.cosine(value,valueC)) #send the values of the standards/frameworks to cosine similarity function\n",
    "            s += str(sim) + \" \"\n",
    "            list_sim.append(sim)\n",
    "        s = s.rstrip(\" \")\n",
    "        fs.write(s + \"\\n\")\n",
    "        s = \"\"\n",
    "\n",
    "print(\"percentil\", np.percentile(list_sim, 95))"
   ]
  },
  {
   "cell_type": "code",
   "execution_count": 196,
   "metadata": {},
   "outputs": [],
   "source": [
    "features = g.query(\n",
    "    \"\"\"PREFIX owl: <http://www.w3.org/2002/07/owl#>\n",
    "       PREFIX rdf: <http://www.w3.org/1999/02/22-rdf-syntax-ns#>\n",
    "       PREFIX sto: <https://w3id.org/i40/sto#>\n",
    "    \n",
    "    select distinct ?o2 where {\n",
    "            <https://w3id.org/i40/sto#DIN_EN_50155> sto:hasDomain ?o .\n",
    "            ?o ?p ?o2\n",
    "    } limit 1000\"\"\")\n",
    "\n",
    "n_dict = {}\n",
    "for row in features:\n",
    "    print(row)"
   ]
  },
  {
   "cell_type": "code",
   "execution_count": 464,
   "metadata": {},
   "outputs": [],
   "source": [
    "import pandas as pd\n",
    "input_path = \"Cluster-semep/\"\n",
    "cls_0 = input_path + \"cluster-0.txt\"\n",
    "cls_1 = input_path + \"cluster-1.txt\"\n",
    "cls_2 = input_path + \"cluster-2.txt\"\n",
    "cluster_0 = pd.read_csv(cls_0, delimiter=\",\", header=None)\n",
    "cluster_1 =pd.read_csv(cls_1, delimiter=\",\", header=None)\n",
    "cluster_2 =pd.read_csv(cls_2, delimiter=\",\", header=None)\n",
    "pop_stand =pd.read_csv('entities.txt', delimiter=\",\", header=None)"
   ]
  },
  {
   "cell_type": "code",
   "execution_count": 467,
   "metadata": {},
   "outputs": [
    {
     "data": {
      "text/plain": [
       "(100, 1)"
      ]
     },
     "execution_count": 467,
     "metadata": {},
     "output_type": "execute_result"
    }
   ],
   "source": [
    "cluster_2.shape"
   ]
  },
  {
   "cell_type": "markdown",
   "metadata": {},
   "source": [
    "### Features to analyse on the clusters"
   ]
  },
  {
   "cell_type": "code",
   "execution_count": 534,
   "metadata": {},
   "outputs": [],
   "source": [
    "feature_dict = {}\n",
    "data = [cluster_0, cluster_1, cluster_2, pop_stand]\n",
    "for f in range(len(data)):\n",
    "    if f == (len(data) - 1):\n",
    "        key_1 = 'pop_stand'\n",
    "    else:\n",
    "        key_1 = 'cluster-'+str(f)\n",
    "    feature_dict[key_1] = {}\n",
    "    for i in range(data[f].shape[0]):\n",
    "        features = g.query(\n",
    "        \"\"\"PREFIX owl: <http://www.w3.org/2002/07/owl#>\n",
    "           PREFIX rdf: <http://www.w3.org/1999/02/22-rdf-syntax-ns#>\n",
    "           PREFIX sto: <https://w3id.org/i40/sto#>\n",
    "    \n",
    "        select distinct ?o where {\n",
    "                <\"\"\" +data[f][0][i]+ \"\"\"> sto:hasPages ?o .\n",
    "        }\"\"\")\n",
    "        #feature_dict[key_1][data[f][0][i]] = {}\n",
    "        #if len(features) == 0:\n",
    "        #    feature_dict[key_1][data[f][0][i]] = 0\n",
    "        #    continue\n",
    "        for row in features:\n",
    "            if row not in feature_dict[key_1].keys():\n",
    "                feature_dict[key_1][row] = 0\n",
    "                feature_dict[key_1][row] += 1\n",
    "            else:\n",
    "                feature_dict[key_1][row] += 1"
   ]
  },
  {
   "cell_type": "code",
   "execution_count": 535,
   "metadata": {},
   "outputs": [
    {
     "data": {
      "text/plain": [
       "dict_values([1, 1, 1, 1, 2, 1, 1, 1, 1, 1, 1, 1, 1, 1, 1, 1, 1])"
      ]
     },
     "execution_count": 535,
     "metadata": {},
     "output_type": "execute_result"
    }
   ],
   "source": [
    "(feature_dict['cluster-1'].values())"
   ]
  },
  {
   "cell_type": "markdown",
   "metadata": {},
   "source": [
    "## Fill with zero the features missing in the cluster"
   ]
  },
  {
   "cell_type": "code",
   "execution_count": 536,
   "metadata": {},
   "outputs": [],
   "source": [
    "for cls in feature_dict:\n",
    "    diff = set(feature_dict['pop_stand'].keys()) - set(feature_dict[cls].keys())\n",
    "    if len(diff) == 0:\n",
    "        continue\n",
    "    for feature in diff:\n",
    "        feature_dict[cls][feature] = 0\n",
    "#set(feature_dict['cluster-0']).intersection(set(feature_dict['pop_stand'].keys()))"
   ]
  },
  {
   "cell_type": "code",
   "execution_count": 537,
   "metadata": {},
   "outputs": [
    {
     "data": {
      "text/plain": [
       "dict_keys([(rdflib.term.Literal('111', datatype=rdflib.term.URIRef('http://www.w3.org/2001/XMLSchema#int')),), (rdflib.term.Literal('109', datatype=rdflib.term.URIRef('http://www.w3.org/2001/XMLSchema#int')),), (rdflib.term.Literal('33', datatype=rdflib.term.URIRef('http://www.w3.org/2001/XMLSchema#int')),), (rdflib.term.Literal('176', datatype=rdflib.term.URIRef('http://www.w3.org/2001/XMLSchema#int')),), (rdflib.term.Literal('103', datatype=rdflib.term.URIRef('http://www.w3.org/2001/XMLSchema#int')),), (rdflib.term.Literal('43', datatype=rdflib.term.URIRef('http://www.w3.org/2001/XMLSchema#int')),), (rdflib.term.Literal('45', datatype=rdflib.term.URIRef('http://www.w3.org/2001/XMLSchema#int')),), (rdflib.term.Literal('25', datatype=rdflib.term.URIRef('http://www.w3.org/2001/XMLSchema#int')),), (rdflib.term.Literal('9', datatype=rdflib.term.URIRef('http://www.w3.org/2001/XMLSchema#int')),), (rdflib.term.Literal('310', datatype=rdflib.term.URIRef('http://www.w3.org/2001/XMLSchema#int')),), (rdflib.term.Literal('101', datatype=rdflib.term.URIRef('http://www.w3.org/2001/XMLSchema#int')),), (rdflib.term.Literal('51', datatype=rdflib.term.URIRef('http://www.w3.org/2001/XMLSchema#int')),), (rdflib.term.Literal('56', datatype=rdflib.term.URIRef('http://www.w3.org/2001/XMLSchema#int')),), (rdflib.term.Literal('332', datatype=rdflib.term.URIRef('http://www.w3.org/2001/XMLSchema#int')),), (rdflib.term.Literal('71', datatype=rdflib.term.URIRef('http://www.w3.org/2001/XMLSchema#int')),), (rdflib.term.Literal('99', datatype=rdflib.term.URIRef('http://www.w3.org/2001/XMLSchema#int')),), (rdflib.term.Literal('77', datatype=rdflib.term.URIRef('http://www.w3.org/2001/XMLSchema#int')),), (rdflib.term.Literal('89', datatype=rdflib.term.URIRef('http://www.w3.org/2001/XMLSchema#int')),), (rdflib.term.Literal('61', datatype=rdflib.term.URIRef('http://www.w3.org/2001/XMLSchema#int')),), (rdflib.term.Literal('69', datatype=rdflib.term.URIRef('http://www.w3.org/2001/XMLSchema#int')),), (rdflib.term.Literal('57', datatype=rdflib.term.URIRef('http://www.w3.org/2001/XMLSchema#int')),), (rdflib.term.Literal('46', datatype=rdflib.term.URIRef('http://www.w3.org/2001/XMLSchema#int')),), (rdflib.term.Literal('188', datatype=rdflib.term.URIRef('http://www.w3.org/2001/XMLSchema#int')),), (rdflib.term.Literal('63', datatype=rdflib.term.URIRef('http://www.w3.org/2001/XMLSchema#int')),), (rdflib.term.Literal('170', datatype=rdflib.term.URIRef('http://www.w3.org/2001/XMLSchema#int')),), (rdflib.term.Literal('119', datatype=rdflib.term.URIRef('http://www.w3.org/2001/XMLSchema#int')),), (rdflib.term.Literal('29', datatype=rdflib.term.URIRef('http://www.w3.org/2001/XMLSchema#int')),), (rdflib.term.Literal('247', datatype=rdflib.term.URIRef('http://www.w3.org/2001/XMLSchema#int')),), (rdflib.term.Literal('93', datatype=rdflib.term.URIRef('http://www.w3.org/2001/XMLSchema#int')),), (rdflib.term.Literal('203', datatype=rdflib.term.URIRef('http://www.w3.org/2001/XMLSchema#int')),), (rdflib.term.Literal('86', datatype=rdflib.term.URIRef('http://www.w3.org/2001/XMLSchema#int')),), (rdflib.term.Literal('32', datatype=rdflib.term.URIRef('http://www.w3.org/2001/XMLSchema#int')),), (rdflib.term.Literal('27', datatype=rdflib.term.URIRef('http://www.w3.org/2001/XMLSchema#int')),), (rdflib.term.Literal('197', datatype=rdflib.term.URIRef('http://www.w3.org/2001/XMLSchema#int')),), (rdflib.term.Literal('829', datatype=rdflib.term.URIRef('http://www.w3.org/2001/XMLSchema#int')),), (rdflib.term.Literal('13', datatype=rdflib.term.URIRef('http://www.w3.org/2001/XMLSchema#int')),), (rdflib.term.Literal('65', datatype=rdflib.term.URIRef('http://www.w3.org/2001/XMLSchema#int')),), (rdflib.term.Literal('47', datatype=rdflib.term.URIRef('http://www.w3.org/2001/XMLSchema#int')),), (rdflib.term.Literal('221', datatype=rdflib.term.URIRef('http://www.w3.org/2001/XMLSchema#int')),), (rdflib.term.Literal('49', datatype=rdflib.term.URIRef('http://www.w3.org/2001/XMLSchema#int')),), (rdflib.term.Literal('235', datatype=rdflib.term.URIRef('http://www.w3.org/2001/XMLSchema#int')),), (rdflib.term.Literal('53', datatype=rdflib.term.URIRef('http://www.w3.org/2001/XMLSchema#int')),), (rdflib.term.Literal('174', datatype=rdflib.term.URIRef('http://www.w3.org/2001/XMLSchema#int')),), (rdflib.term.Literal('21', datatype=rdflib.term.URIRef('http://www.w3.org/2001/XMLSchema#int')),), (rdflib.term.Literal('39', datatype=rdflib.term.URIRef('http://www.w3.org/2001/XMLSchema#int')),), (rdflib.term.Literal('79', datatype=rdflib.term.URIRef('http://www.w3.org/2001/XMLSchema#int')),), (rdflib.term.Literal('281', datatype=rdflib.term.URIRef('http://www.w3.org/2001/XMLSchema#int')),), (rdflib.term.Literal('123', datatype=rdflib.term.URIRef('http://www.w3.org/2001/XMLSchema#int')),), (rdflib.term.Literal('23', datatype=rdflib.term.URIRef('http://www.w3.org/2001/XMLSchema#int')),), (rdflib.term.Literal('75', datatype=rdflib.term.URIRef('http://www.w3.org/2001/XMLSchema#int')),), (rdflib.term.Literal('37', datatype=rdflib.term.URIRef('http://www.w3.org/2001/XMLSchema#int')),), (rdflib.term.Literal('26', datatype=rdflib.term.URIRef('http://www.w3.org/2001/XMLSchema#int')),), (rdflib.term.Literal('360', datatype=rdflib.term.URIRef('http://www.w3.org/2001/XMLSchema#int')),), (rdflib.term.Literal('83', datatype=rdflib.term.URIRef('http://www.w3.org/2001/XMLSchema#int')),), (rdflib.term.Literal('35', datatype=rdflib.term.URIRef('http://www.w3.org/2001/XMLSchema#int')),)])"
      ]
     },
     "execution_count": 537,
     "metadata": {},
     "output_type": "execute_result"
    }
   ],
   "source": [
    "(feature_dict['cluster-0'].keys())"
   ]
  },
  {
   "cell_type": "code",
   "execution_count": 538,
   "metadata": {},
   "outputs": [
    {
     "data": {
      "text/plain": [
       "55"
      ]
     },
     "execution_count": 538,
     "metadata": {},
     "output_type": "execute_result"
    }
   ],
   "source": [
    "len(feature_dict['pop_stand'].keys())"
   ]
  },
  {
   "cell_type": "code",
   "execution_count": 539,
   "metadata": {},
   "outputs": [
    {
     "data": {
      "text/plain": [
       "dict_keys([(rdflib.term.Literal('83', datatype=rdflib.term.URIRef('http://www.w3.org/2001/XMLSchema#int')),), (rdflib.term.Literal('111', datatype=rdflib.term.URIRef('http://www.w3.org/2001/XMLSchema#int')),), (rdflib.term.Literal('93', datatype=rdflib.term.URIRef('http://www.w3.org/2001/XMLSchema#int')),), (rdflib.term.Literal('23', datatype=rdflib.term.URIRef('http://www.w3.org/2001/XMLSchema#int')),), (rdflib.term.Literal('49', datatype=rdflib.term.URIRef('http://www.w3.org/2001/XMLSchema#int')),), (rdflib.term.Literal('65', datatype=rdflib.term.URIRef('http://www.w3.org/2001/XMLSchema#int')),), (rdflib.term.Literal('43', datatype=rdflib.term.URIRef('http://www.w3.org/2001/XMLSchema#int')),), (rdflib.term.Literal('45', datatype=rdflib.term.URIRef('http://www.w3.org/2001/XMLSchema#int')),), (rdflib.term.Literal('29', datatype=rdflib.term.URIRef('http://www.w3.org/2001/XMLSchema#int')),), (rdflib.term.Literal('13', datatype=rdflib.term.URIRef('http://www.w3.org/2001/XMLSchema#int')),), (rdflib.term.Literal('9', datatype=rdflib.term.URIRef('http://www.w3.org/2001/XMLSchema#int')),), (rdflib.term.Literal('310', datatype=rdflib.term.URIRef('http://www.w3.org/2001/XMLSchema#int')),), (rdflib.term.Literal('26', datatype=rdflib.term.URIRef('http://www.w3.org/2001/XMLSchema#int')),), (rdflib.term.Literal('235', datatype=rdflib.term.URIRef('http://www.w3.org/2001/XMLSchema#int')),), (rdflib.term.Literal('123', datatype=rdflib.term.URIRef('http://www.w3.org/2001/XMLSchema#int')),), (rdflib.term.Literal('829', datatype=rdflib.term.URIRef('http://www.w3.org/2001/XMLSchema#int')),), (rdflib.term.Literal('101', datatype=rdflib.term.URIRef('http://www.w3.org/2001/XMLSchema#int')),), (rdflib.term.Literal('32', datatype=rdflib.term.URIRef('http://www.w3.org/2001/XMLSchema#int')),), (rdflib.term.Literal('51', datatype=rdflib.term.URIRef('http://www.w3.org/2001/XMLSchema#int')),), (rdflib.term.Literal('56', datatype=rdflib.term.URIRef('http://www.w3.org/2001/XMLSchema#int')),), (rdflib.term.Literal('27', datatype=rdflib.term.URIRef('http://www.w3.org/2001/XMLSchema#int')),), (rdflib.term.Literal('332', datatype=rdflib.term.URIRef('http://www.w3.org/2001/XMLSchema#int')),), (rdflib.term.Literal('71', datatype=rdflib.term.URIRef('http://www.w3.org/2001/XMLSchema#int')),), (rdflib.term.Literal('47', datatype=rdflib.term.URIRef('http://www.w3.org/2001/XMLSchema#int')),), (rdflib.term.Literal('99', datatype=rdflib.term.URIRef('http://www.w3.org/2001/XMLSchema#int')),), (rdflib.term.Literal('77', datatype=rdflib.term.URIRef('http://www.w3.org/2001/XMLSchema#int')),), (rdflib.term.Literal('221', datatype=rdflib.term.URIRef('http://www.w3.org/2001/XMLSchema#int')),), (rdflib.term.Literal('89', datatype=rdflib.term.URIRef('http://www.w3.org/2001/XMLSchema#int')),), (rdflib.term.Literal('61', datatype=rdflib.term.URIRef('http://www.w3.org/2001/XMLSchema#int')),), (rdflib.term.Literal('57', datatype=rdflib.term.URIRef('http://www.w3.org/2001/XMLSchema#int')),), (rdflib.term.Literal('39', datatype=rdflib.term.URIRef('http://www.w3.org/2001/XMLSchema#int')),), (rdflib.term.Literal('25', datatype=rdflib.term.URIRef('http://www.w3.org/2001/XMLSchema#int')),), (rdflib.term.Literal('63', datatype=rdflib.term.URIRef('http://www.w3.org/2001/XMLSchema#int')),), (rdflib.term.Literal('197', datatype=rdflib.term.URIRef('http://www.w3.org/2001/XMLSchema#int')),), (rdflib.term.Literal('69', datatype=rdflib.term.URIRef('http://www.w3.org/2001/XMLSchema#int')),), (rdflib.term.Literal('37', datatype=rdflib.term.URIRef('http://www.w3.org/2001/XMLSchema#int')),), (rdflib.term.Literal('46', datatype=rdflib.term.URIRef('http://www.w3.org/2001/XMLSchema#int')),), (rdflib.term.Literal('188', datatype=rdflib.term.URIRef('http://www.w3.org/2001/XMLSchema#int')),), (rdflib.term.Literal('35', datatype=rdflib.term.URIRef('http://www.w3.org/2001/XMLSchema#int')),), (rdflib.term.Literal('75', datatype=rdflib.term.URIRef('http://www.w3.org/2001/XMLSchema#int')),), (rdflib.term.Literal('203', datatype=rdflib.term.URIRef('http://www.w3.org/2001/XMLSchema#int')),), (rdflib.term.Literal('86', datatype=rdflib.term.URIRef('http://www.w3.org/2001/XMLSchema#int')),), (rdflib.term.Literal('170', datatype=rdflib.term.URIRef('http://www.w3.org/2001/XMLSchema#int')),), (rdflib.term.Literal('33', datatype=rdflib.term.URIRef('http://www.w3.org/2001/XMLSchema#int')),), (rdflib.term.Literal('247', datatype=rdflib.term.URIRef('http://www.w3.org/2001/XMLSchema#int')),), (rdflib.term.Literal('119', datatype=rdflib.term.URIRef('http://www.w3.org/2001/XMLSchema#int')),), (rdflib.term.Literal('109', datatype=rdflib.term.URIRef('http://www.w3.org/2001/XMLSchema#int')),), (rdflib.term.Literal('21', datatype=rdflib.term.URIRef('http://www.w3.org/2001/XMLSchema#int')),), (rdflib.term.Literal('176', datatype=rdflib.term.URIRef('http://www.w3.org/2001/XMLSchema#int')),), (rdflib.term.Literal('79', datatype=rdflib.term.URIRef('http://www.w3.org/2001/XMLSchema#int')),), (rdflib.term.Literal('103', datatype=rdflib.term.URIRef('http://www.w3.org/2001/XMLSchema#int')),), (rdflib.term.Literal('174', datatype=rdflib.term.URIRef('http://www.w3.org/2001/XMLSchema#int')),), (rdflib.term.Literal('281', datatype=rdflib.term.URIRef('http://www.w3.org/2001/XMLSchema#int')),), (rdflib.term.Literal('360', datatype=rdflib.term.URIRef('http://www.w3.org/2001/XMLSchema#int')),), (rdflib.term.Literal('53', datatype=rdflib.term.URIRef('http://www.w3.org/2001/XMLSchema#int')),)])"
      ]
     },
     "execution_count": 539,
     "metadata": {},
     "output_type": "execute_result"
    }
   ],
   "source": [
    "(feature_dict['pop_stand'].keys())"
   ]
  },
  {
   "cell_type": "code",
   "execution_count": 540,
   "metadata": {},
   "outputs": [
    {
     "data": {
      "text/plain": [
       "dict_keys(['cluster-0', 'cluster-1', 'cluster-2', 'pop_stand'])"
      ]
     },
     "execution_count": 540,
     "metadata": {},
     "output_type": "execute_result"
    }
   ],
   "source": [
    "feature_dict.keys()"
   ]
  },
  {
   "cell_type": "markdown",
   "metadata": {},
   "source": [
    "### Normalization clusters and pop_stand"
   ]
  },
  {
   "cell_type": "code",
   "execution_count": 541,
   "metadata": {
    "scrolled": true
   },
   "outputs": [
    {
     "name": "stdout",
     "output_type": "stream",
     "text": [
      "cluster-0 0\n",
      "cluster-1 0\n",
      "cluster-2 1\n",
      "pop_stand 1\n",
      "Normalization cluster-0 0.0\n",
      "Normalization cluster-1 0.0\n",
      "Normalization cluster-2 1.0\n",
      "cluster-0 1\n",
      "cluster-1 0\n",
      "cluster-2 0\n",
      "pop_stand 1\n",
      "Normalization cluster-0 1.0\n",
      "Normalization cluster-1 0.0\n",
      "Normalization cluster-2 0.0\n",
      "cluster-0 0\n",
      "cluster-1 0\n",
      "cluster-2 2\n",
      "pop_stand 2\n",
      "Normalization cluster-0 0.0\n",
      "Normalization cluster-1 0.0\n",
      "Normalization cluster-2 1.0\n",
      "cluster-0 0\n",
      "cluster-1 0\n",
      "cluster-2 1\n",
      "pop_stand 1\n",
      "Normalization cluster-0 0.0\n",
      "Normalization cluster-1 0.0\n",
      "Normalization cluster-2 1.0\n",
      "cluster-0 0\n",
      "cluster-1 0\n",
      "cluster-2 1\n",
      "pop_stand 1\n",
      "Normalization cluster-0 0.0\n",
      "Normalization cluster-1 0.0\n",
      "Normalization cluster-2 1.0\n",
      "cluster-0 0\n",
      "cluster-1 0\n",
      "cluster-2 1\n",
      "pop_stand 1\n",
      "Normalization cluster-0 0.0\n",
      "Normalization cluster-1 0.0\n",
      "Normalization cluster-2 1.0\n",
      "cluster-0 3\n",
      "cluster-1 0\n",
      "cluster-2 2\n",
      "pop_stand 5\n",
      "Normalization cluster-0 0.6\n",
      "Normalization cluster-1 0.0\n",
      "Normalization cluster-2 0.4\n",
      "cluster-0 1\n",
      "cluster-1 0\n",
      "cluster-2 0\n",
      "pop_stand 1\n",
      "Normalization cluster-0 1.0\n",
      "Normalization cluster-1 0.0\n",
      "Normalization cluster-2 0.0\n",
      "cluster-0 0\n",
      "cluster-1 2\n",
      "cluster-2 0\n",
      "pop_stand 2\n",
      "Normalization cluster-0 0.0\n",
      "Normalization cluster-1 1.0\n",
      "Normalization cluster-2 0.0\n",
      "cluster-0 0\n",
      "cluster-1 0\n",
      "cluster-2 2\n",
      "pop_stand 2\n",
      "Normalization cluster-0 0.0\n",
      "Normalization cluster-1 0.0\n",
      "Normalization cluster-2 1.0\n",
      "cluster-0 1\n",
      "cluster-1 1\n",
      "cluster-2 3\n",
      "pop_stand 5\n",
      "Normalization cluster-0 0.2\n",
      "Normalization cluster-1 0.2\n",
      "Normalization cluster-2 0.6\n",
      "cluster-0 1\n",
      "cluster-1 0\n",
      "cluster-2 0\n",
      "pop_stand 1\n",
      "Normalization cluster-0 1.0\n",
      "Normalization cluster-1 0.0\n",
      "Normalization cluster-2 0.0\n",
      "cluster-0 0\n",
      "cluster-1 1\n",
      "cluster-2 0\n",
      "pop_stand 1\n",
      "Normalization cluster-0 0.0\n",
      "Normalization cluster-1 1.0\n",
      "Normalization cluster-2 0.0\n",
      "cluster-0 0\n",
      "cluster-1 0\n",
      "cluster-2 1\n",
      "pop_stand 1\n",
      "Normalization cluster-0 0.0\n",
      "Normalization cluster-1 0.0\n",
      "Normalization cluster-2 1.0\n",
      "cluster-0 0\n",
      "cluster-1 0\n",
      "cluster-2 1\n",
      "pop_stand 1\n",
      "Normalization cluster-0 0.0\n",
      "Normalization cluster-1 0.0\n",
      "Normalization cluster-2 1.0\n",
      "cluster-0 0\n",
      "cluster-1 0\n",
      "cluster-2 1\n",
      "pop_stand 1\n",
      "Normalization cluster-0 0.0\n",
      "Normalization cluster-1 0.0\n",
      "Normalization cluster-2 1.0\n",
      "cluster-0 1\n",
      "cluster-1 0\n",
      "cluster-2 0\n",
      "pop_stand 1\n",
      "Normalization cluster-0 1.0\n",
      "Normalization cluster-1 0.0\n",
      "Normalization cluster-2 0.0\n",
      "cluster-0 0\n",
      "cluster-1 0\n",
      "cluster-2 1\n",
      "pop_stand 1\n",
      "Normalization cluster-0 0.0\n",
      "Normalization cluster-1 0.0\n",
      "Normalization cluster-2 1.0\n",
      "cluster-0 1\n",
      "cluster-1 0\n",
      "cluster-2 0\n",
      "pop_stand 1\n",
      "Normalization cluster-0 1.0\n",
      "Normalization cluster-1 0.0\n",
      "Normalization cluster-2 0.0\n",
      "cluster-0 1\n",
      "cluster-1 0\n",
      "cluster-2 0\n",
      "pop_stand 1\n",
      "Normalization cluster-0 1.0\n",
      "Normalization cluster-1 0.0\n",
      "Normalization cluster-2 0.0\n",
      "cluster-0 0\n",
      "cluster-1 1\n",
      "cluster-2 0\n",
      "pop_stand 1\n",
      "Normalization cluster-0 0.0\n",
      "Normalization cluster-1 1.0\n",
      "Normalization cluster-2 0.0\n",
      "cluster-0 1\n",
      "cluster-1 0\n",
      "cluster-2 0\n",
      "pop_stand 1\n",
      "Normalization cluster-0 1.0\n",
      "Normalization cluster-1 0.0\n",
      "Normalization cluster-2 0.0\n",
      "cluster-0 2\n",
      "cluster-1 0\n",
      "cluster-2 0\n",
      "pop_stand 2\n",
      "Normalization cluster-0 1.0\n",
      "Normalization cluster-1 0.0\n",
      "Normalization cluster-2 0.0\n",
      "cluster-0 0\n",
      "cluster-1 1\n",
      "cluster-2 0\n",
      "pop_stand 1\n",
      "Normalization cluster-0 0.0\n",
      "Normalization cluster-1 1.0\n",
      "Normalization cluster-2 0.0\n",
      "cluster-0 1\n",
      "cluster-1 1\n",
      "cluster-2 0\n",
      "pop_stand 2\n",
      "Normalization cluster-0 0.5\n",
      "Normalization cluster-1 0.5\n",
      "Normalization cluster-2 0.0\n",
      "cluster-0 1\n",
      "cluster-1 0\n",
      "cluster-2 0\n",
      "pop_stand 1\n",
      "Normalization cluster-0 1.0\n",
      "Normalization cluster-1 0.0\n",
      "Normalization cluster-2 0.0\n",
      "cluster-0 0\n",
      "cluster-1 1\n",
      "cluster-2 0\n",
      "pop_stand 1\n",
      "Normalization cluster-0 0.0\n",
      "Normalization cluster-1 1.0\n",
      "Normalization cluster-2 0.0\n",
      "cluster-0 1\n",
      "cluster-1 0\n",
      "cluster-2 1\n",
      "pop_stand 2\n",
      "Normalization cluster-0 0.5\n",
      "Normalization cluster-1 0.0\n",
      "Normalization cluster-2 0.5\n",
      "cluster-0 1\n",
      "cluster-1 0\n",
      "cluster-2 0\n",
      "pop_stand 1\n",
      "Normalization cluster-0 1.0\n",
      "Normalization cluster-1 0.0\n",
      "Normalization cluster-2 0.0\n",
      "cluster-0 1\n",
      "cluster-1 0\n",
      "cluster-2 1\n",
      "pop_stand 2\n",
      "Normalization cluster-0 0.5\n",
      "Normalization cluster-1 0.0\n",
      "Normalization cluster-2 0.5\n",
      "cluster-0 0\n",
      "cluster-1 1\n",
      "cluster-2 0\n",
      "pop_stand 1\n",
      "Normalization cluster-0 0.0\n",
      "Normalization cluster-1 1.0\n",
      "Normalization cluster-2 0.0\n",
      "cluster-0 2\n",
      "cluster-1 0\n",
      "cluster-2 2\n",
      "pop_stand 4\n",
      "Normalization cluster-0 0.5\n",
      "Normalization cluster-1 0.0\n",
      "Normalization cluster-2 0.5\n",
      "cluster-0 1\n",
      "cluster-1 0\n",
      "cluster-2 1\n",
      "pop_stand 2\n",
      "Normalization cluster-0 0.5\n",
      "Normalization cluster-1 0.0\n",
      "Normalization cluster-2 0.5\n",
      "cluster-0 0\n",
      "cluster-1 1\n",
      "cluster-2 0\n",
      "pop_stand 1\n",
      "Normalization cluster-0 0.0\n",
      "Normalization cluster-1 1.0\n",
      "Normalization cluster-2 0.0\n",
      "cluster-0 1\n",
      "cluster-1 0\n",
      "cluster-2 1\n",
      "pop_stand 2\n",
      "Normalization cluster-0 0.5\n",
      "Normalization cluster-1 0.0\n",
      "Normalization cluster-2 0.5\n",
      "cluster-0 0\n",
      "cluster-1 0\n",
      "cluster-2 1\n",
      "pop_stand 1\n",
      "Normalization cluster-0 0.0\n",
      "Normalization cluster-1 0.0\n",
      "Normalization cluster-2 1.0\n",
      "cluster-0 1\n",
      "cluster-1 0\n",
      "cluster-2 0\n",
      "pop_stand 1\n",
      "Normalization cluster-0 1.0\n",
      "Normalization cluster-1 0.0\n",
      "Normalization cluster-2 0.0\n",
      "cluster-0 1\n",
      "cluster-1 0\n",
      "cluster-2 0\n",
      "pop_stand 1\n",
      "Normalization cluster-0 1.0\n",
      "Normalization cluster-1 0.0\n",
      "Normalization cluster-2 0.0\n",
      "cluster-0 0\n",
      "cluster-1 1\n",
      "cluster-2 0\n",
      "pop_stand 1\n",
      "Normalization cluster-0 0.0\n",
      "Normalization cluster-1 1.0\n",
      "Normalization cluster-2 0.0\n",
      "cluster-0 0\n",
      "cluster-1 0\n",
      "cluster-2 1\n",
      "pop_stand 1\n",
      "Normalization cluster-0 0.0\n",
      "Normalization cluster-1 0.0\n",
      "Normalization cluster-2 1.0\n",
      "cluster-0 0\n",
      "cluster-1 1\n",
      "cluster-2 0\n",
      "pop_stand 1\n",
      "Normalization cluster-0 0.0\n",
      "Normalization cluster-1 1.0\n",
      "Normalization cluster-2 0.0\n",
      "cluster-0 0\n",
      "cluster-1 1\n",
      "cluster-2 0\n",
      "pop_stand 1\n",
      "Normalization cluster-0 0.0\n",
      "Normalization cluster-1 1.0\n",
      "Normalization cluster-2 0.0\n",
      "cluster-0 1\n",
      "cluster-1 0\n",
      "cluster-2 0\n",
      "pop_stand 1\n",
      "Normalization cluster-0 1.0\n",
      "Normalization cluster-1 0.0\n",
      "Normalization cluster-2 0.0\n",
      "cluster-0 1\n",
      "cluster-1 1\n",
      "cluster-2 0\n",
      "pop_stand 2\n",
      "Normalization cluster-0 0.5\n",
      "Normalization cluster-1 0.5\n",
      "Normalization cluster-2 0.0\n",
      "cluster-0 0\n",
      "cluster-1 0\n",
      "cluster-2 1\n",
      "pop_stand 1\n",
      "Normalization cluster-0 0.0\n",
      "Normalization cluster-1 0.0\n",
      "Normalization cluster-2 1.0\n",
      "cluster-0 1\n",
      "cluster-1 0\n",
      "cluster-2 0\n",
      "pop_stand 1\n",
      "Normalization cluster-0 1.0\n",
      "Normalization cluster-1 0.0\n",
      "Normalization cluster-2 0.0\n",
      "cluster-0 1\n",
      "cluster-1 0\n",
      "cluster-2 1\n",
      "pop_stand 2\n",
      "Normalization cluster-0 0.5\n",
      "Normalization cluster-1 0.0\n",
      "Normalization cluster-2 0.5\n",
      "cluster-0 0\n",
      "cluster-1 1\n",
      "cluster-2 0\n",
      "pop_stand 1\n",
      "Normalization cluster-0 0.0\n",
      "Normalization cluster-1 1.0\n",
      "Normalization cluster-2 0.0\n",
      "cluster-0 1\n",
      "cluster-1 0\n",
      "cluster-2 0\n",
      "pop_stand 1\n",
      "Normalization cluster-0 1.0\n",
      "Normalization cluster-1 0.0\n",
      "Normalization cluster-2 0.0\n",
      "cluster-0 0\n",
      "cluster-1 1\n",
      "cluster-2 1\n",
      "pop_stand 2\n",
      "Normalization cluster-0 0.0\n",
      "Normalization cluster-1 0.5\n",
      "Normalization cluster-2 0.5\n",
      "cluster-0 1\n",
      "cluster-1 0\n",
      "cluster-2 0\n",
      "pop_stand 1\n",
      "Normalization cluster-0 1.0\n",
      "Normalization cluster-1 0.0\n",
      "Normalization cluster-2 0.0\n",
      "cluster-0 0\n",
      "cluster-1 0\n",
      "cluster-2 1\n",
      "pop_stand 1\n",
      "Normalization cluster-0 0.0\n",
      "Normalization cluster-1 0.0\n",
      "Normalization cluster-2 1.0\n",
      "cluster-0 0\n",
      "cluster-1 1\n",
      "cluster-2 0\n",
      "pop_stand 1\n",
      "Normalization cluster-0 0.0\n",
      "Normalization cluster-1 1.0\n",
      "Normalization cluster-2 0.0\n",
      "cluster-0 0\n",
      "cluster-1 0\n",
      "cluster-2 1\n",
      "pop_stand 1\n",
      "Normalization cluster-0 0.0\n",
      "Normalization cluster-1 0.0\n",
      "Normalization cluster-2 1.0\n",
      "cluster-0 0\n",
      "cluster-1 1\n",
      "cluster-2 0\n",
      "pop_stand 1\n",
      "Normalization cluster-0 0.0\n",
      "Normalization cluster-1 1.0\n",
      "Normalization cluster-2 0.0\n"
     ]
    }
   ],
   "source": [
    "for key, value in feature_dict['pop_stand'].items():\n",
    "    print('cluster-0', feature_dict['cluster-0'][key])\n",
    "    print('cluster-1', feature_dict['cluster-1'][key])\n",
    "    print('cluster-2', feature_dict['cluster-2'][key])\n",
    "    print('pop_stand', feature_dict['pop_stand'][key])\n",
    "    feature_dict['cluster-0'][key] = feature_dict['cluster-0'][key]/feature_dict['pop_stand'][key]\n",
    "    feature_dict['cluster-1'][key] = feature_dict['cluster-1'][key]/feature_dict['pop_stand'][key]\n",
    "    feature_dict['cluster-2'][key] = feature_dict['cluster-2'][key]/feature_dict['pop_stand'][key]\n",
    "    feature_dict['pop_stand'][key] = feature_dict['pop_stand'][key]/feature_dict['pop_stand'][key]\n",
    "    print('Normalization cluster-0', feature_dict['cluster-0'][key])\n",
    "    print('Normalization cluster-1', feature_dict['cluster-1'][key])\n",
    "    print('Normalization cluster-2', feature_dict['cluster-2'][key])"
   ]
  },
  {
   "cell_type": "code",
   "execution_count": 542,
   "metadata": {},
   "outputs": [
    {
     "name": "stdout",
     "output_type": "stream",
     "text": [
      "cluster-0\t0.0\t1.0\t0.0\t0.0\t0.0\t0.0\t0.6\t1.0\t0.0\t0.0\t0.2\t1.0\t0.0\t0.0\t0.0\t0.0\t1.0\t0.0\t1.0\t1.0\t0.0\t1.0\t1.0\t0.0\t0.5\t1.0\t0.0\t0.5\t1.0\t0.5\t0.0\t0.5\t0.5\t0.0\t0.5\t0.0\t1.0\t1.0\t0.0\t0.0\t0.0\t0.0\t1.0\t0.5\t0.0\t1.0\t0.5\t0.0\t1.0\t0.0\t1.0\t0.0\t0.0\t0.0\t0.0\n",
      "cluster-1\t0.0\t0.0\t0.0\t0.0\t0.0\t0.0\t0.0\t0.0\t1.0\t0.0\t0.2\t0.0\t1.0\t0.0\t0.0\t0.0\t0.0\t0.0\t0.0\t0.0\t1.0\t0.0\t0.0\t1.0\t0.5\t0.0\t1.0\t0.0\t0.0\t0.0\t1.0\t0.0\t0.0\t1.0\t0.0\t0.0\t0.0\t0.0\t1.0\t0.0\t1.0\t1.0\t0.0\t0.5\t0.0\t0.0\t0.0\t1.0\t0.0\t0.5\t0.0\t0.0\t1.0\t0.0\t1.0\n",
      "cluster-2\t1.0\t0.0\t1.0\t1.0\t1.0\t1.0\t0.4\t0.0\t0.0\t1.0\t0.6\t0.0\t0.0\t1.0\t1.0\t1.0\t0.0\t1.0\t0.0\t0.0\t0.0\t0.0\t0.0\t0.0\t0.0\t0.0\t0.0\t0.5\t0.0\t0.5\t0.0\t0.5\t0.5\t0.0\t0.5\t1.0\t0.0\t0.0\t0.0\t1.0\t0.0\t0.0\t0.0\t0.0\t1.0\t0.0\t0.5\t0.0\t0.0\t0.5\t0.0\t1.0\t0.0\t1.0\t0.0\n",
      "pop_stand\t1.0\t1.0\t1.0\t1.0\t1.0\t1.0\t1.0\t1.0\t1.0\t1.0\t1.0\t1.0\t1.0\t1.0\t1.0\t1.0\t1.0\t1.0\t1.0\t1.0\t1.0\t1.0\t1.0\t1.0\t1.0\t1.0\t1.0\t1.0\t1.0\t1.0\t1.0\t1.0\t1.0\t1.0\t1.0\t1.0\t1.0\t1.0\t1.0\t1.0\t1.0\t1.0\t1.0\t1.0\t1.0\t1.0\t1.0\t1.0\t1.0\t1.0\t1.0\t1.0\t1.0\t1.0\t1.0\n"
     ]
    }
   ],
   "source": [
    "to_plot = 'plot_std.csv'\n",
    "cluster = feature_dict.keys()\n",
    "keys = (feature_dict['pop_stand'].keys())\n",
    "copy_keys = list(feature_dict['pop_stand'].keys())\n",
    "for l in range(len(copy_keys)):\n",
    "    temp = str(copy_keys[l]).split('#')\n",
    "    if len(temp)==2:\n",
    "        copy_keys[l] = temp[1]\n",
    "    elif str(copy_keys[l]).startswith(\"(rdflib.term.Literal(\"):\n",
    "        #copy_keys[l] = str(copy_keys[l]).split(\"(rdflib.term.Literal(\")[1]\n",
    "        new_set = str(copy_keys[l]).replace(\"(rdflib.term.Literal(\", '').replace(\", datatype=rdflib.term.URIRef('http://www.w3.org/2001/XMLSchema#int')\", '')\n",
    "        copy_keys[l] = new_set        \n",
    "    elif str(copy_keys[l]).startswith(\"(rdflib.term.URIRef('http://lexvo.org/id/iso639-3/\"):\n",
    "        copy_keys[l] = str(copy_keys[l]).split(\"(rdflib.term.URIRef('http://lexvo.org/id/iso639-3/\")[1]\n",
    "    else:\n",
    "        copy_keys[l] = str(copy_keys[l]).split(\"(rdflib.term.URIRef('https://w3id.org/ids/ram/\")[1]\n",
    "header = \"\\t\".join(str(x) for x in copy_keys)\n",
    "\n",
    "l_value = 'Comparision\\t' + header + \"\\n\"\n",
    "#print(l_value)\n",
    "\n",
    "array = []\n",
    "temp = []\n",
    "with open(to_plot, \"w\") as plot:\n",
    "    plot.write(l_value)\n",
    "    for key in cluster:\n",
    "        l_value = key + \"\\t\"\n",
    "        for key_2 in keys:\n",
    "            value = feature_dict[key][key_2]\n",
    "            l_value += str(value) + \"\\t\"\n",
    "            temp.append(value)\n",
    "        l_value = l_value.rstrip(\"\\t\")\n",
    "        plot.write(l_value + \"\\n\")\n",
    "        print(l_value)\n",
    "        l_value = \"\"\n",
    "        array.append(temp)\n",
    "        temp = []\n",
    "        "
   ]
  },
  {
   "cell_type": "code",
   "execution_count": 533,
   "metadata": {},
   "outputs": [
    {
     "data": {
      "image/png": "[encoded data removed]",
      "text/plain": [
       "<Figure size 1440x1440 with 1 Axes>"
      ]
     },
     "metadata": {
      "needs_background": "light"
     },
     "output_type": "display_data"
    },
    {
     "data": {
      "text/plain": [
       "<Figure size 1440x1440 with 0 Axes>"
      ]
     },
     "metadata": {},
     "output_type": "display_data"
    }
   ],
   "source": [
    "import numpy as np\n",
    "import matplotlib\n",
    "#import matplotlib.pyplot as plt\n",
    "from matplotlib import pyplot as plt\n",
    "# sphinx_gallery_thumbnail_number = 2\n",
    "plt.rcParams[\"figure.figsize\"] = (20,20)\n",
    "\n",
    "vegetables = cluster\n",
    "farmers = copy_keys\n",
    "\n",
    "harvest = np.array(array)\n",
    "\n",
    "\n",
    "fig, ax = plt.subplots()\n",
    "im = ax.imshow(harvest)\n",
    "\n",
    "# We want to show all ticks...\n",
    "ax.set_xticks(np.arange(len(farmers)))\n",
    "ax.set_yticks(np.arange(len(vegetables)))\n",
    "# ... and label them with the respective list entries\n",
    "ax.set_xticklabels(farmers)\n",
    "ax.set_yticklabels(vegetables)\n",
    "\n",
    "# Rotate the tick labels and set their alignment.\n",
    "plt.setp(ax.get_xticklabels(), rotation=45, ha=\"right\",\n",
    "         rotation_mode=\"anchor\")\n",
    "\n",
    "# Loop over data dimensions and create text annotations.\n",
    "#for i in range(len(vegetables)):\n",
    "#    for j in range(len(farmers)):\n",
    "#        text = ax.text(j, i, harvest[i, j],\n",
    "#                       ha=\"center\", va=\"center\", color=\"w\")\n",
    "\n",
    "ax.set_title(\"sto:hasClassification\")\n",
    "fig.tight_layout()\n",
    "plt.show()\n",
    "\n",
    "plt.savefig('foo.pdf', bbox_inches='tight')"
   ]
  },
  {
   "cell_type": "code",
   "execution_count": 399,
   "metadata": {},
   "outputs": [
    {
     "data": {
      "text/plain": [
       "array([ 0.8,  2.4,  2.5,  3.9,  0. ,  4. ,  0. ])"
      ]
     },
     "execution_count": 399,
     "metadata": {},
     "output_type": "execute_result"
    }
   ],
   "source": [
    "harvest[0]"
   ]
  },
  {
   "cell_type": "markdown",
   "metadata": {},
   "source": [
    "## K-means Analyse "
   ]
  },
  {
   "cell_type": "code",
   "execution_count": 76,
   "metadata": {},
   "outputs": [],
   "source": [
    "vectors = []\n",
    "for key,value in array.items():\n",
    "    vectors.append(value)\n",
    "X = np.array(vectors)\n",
    "#type(array.values())"
   ]
  },
  {
   "cell_type": "code",
   "execution_count": 77,
   "metadata": {},
   "outputs": [
    {
     "data": {
      "text/plain": [
       "array([-0.22203507, -0.19076811, -0.03599098, -0.22113626, -0.06112197,\n",
       "       -0.09213533,  0.18401752, -0.14221205, -0.17487825, -0.00322263,\n",
       "        0.10758843,  0.02991104,  0.19961376,  0.10379973, -0.19424342,\n",
       "       -0.23053822, -0.01838547, -0.03145621,  0.10242991,  0.02212641,\n",
       "        0.01365444, -0.07948184, -0.19251002, -0.0869351 , -0.10804311,\n",
       "       -0.21609512, -0.09473796,  0.18659686, -0.1149053 ,  0.01929609,\n",
       "        0.11690716,  0.03057409,  0.08061689,  0.08604708,  0.19714922,\n",
       "       -0.23031537, -0.20890269, -0.03666067, -0.09295762, -0.07844608,\n",
       "       -0.08766536, -0.23858877,  0.24791397, -0.16641128,  0.03277154,\n",
       "        0.18086411,  0.05698955, -0.03824593,  0.16114292,  0.18879515])"
      ]
     },
     "execution_count": 77,
     "metadata": {},
     "output_type": "execute_result"
    }
   ],
   "source": [
    "X[0]"
   ]
  },
  {
   "cell_type": "code",
   "execution_count": 78,
   "metadata": {},
   "outputs": [
    {
     "name": "stdout",
     "output_type": "stream",
     "text": [
      "[KMeans(algorithm='auto', copy_x=True, init='k-means++', max_iter=300,\n",
      "       n_clusters=1, n_init=10, n_jobs=None, precompute_distances='auto',\n",
      "       random_state=None, tol=0.0001, verbose=0), KMeans(algorithm='auto', copy_x=True, init='k-means++', max_iter=300,\n",
      "       n_clusters=2, n_init=10, n_jobs=None, precompute_distances='auto',\n",
      "       random_state=None, tol=0.0001, verbose=0), KMeans(algorithm='auto', copy_x=True, init='k-means++', max_iter=300,\n",
      "       n_clusters=3, n_init=10, n_jobs=None, precompute_distances='auto',\n",
      "       random_state=None, tol=0.0001, verbose=0), KMeans(algorithm='auto', copy_x=True, init='k-means++', max_iter=300,\n",
      "       n_clusters=4, n_init=10, n_jobs=None, precompute_distances='auto',\n",
      "       random_state=None, tol=0.0001, verbose=0), KMeans(algorithm='auto', copy_x=True, init='k-means++', max_iter=300,\n",
      "       n_clusters=5, n_init=10, n_jobs=None, precompute_distances='auto',\n",
      "       random_state=None, tol=0.0001, verbose=0), KMeans(algorithm='auto', copy_x=True, init='k-means++', max_iter=300,\n",
      "       n_clusters=6, n_init=10, n_jobs=None, precompute_distances='auto',\n",
      "       random_state=None, tol=0.0001, verbose=0), KMeans(algorithm='auto', copy_x=True, init='k-means++', max_iter=300,\n",
      "       n_clusters=7, n_init=10, n_jobs=None, precompute_distances='auto',\n",
      "       random_state=None, tol=0.0001, verbose=0), KMeans(algorithm='auto', copy_x=True, init='k-means++', max_iter=300,\n",
      "       n_clusters=8, n_init=10, n_jobs=None, precompute_distances='auto',\n",
      "       random_state=None, tol=0.0001, verbose=0), KMeans(algorithm='auto', copy_x=True, init='k-means++', max_iter=300,\n",
      "       n_clusters=9, n_init=10, n_jobs=None, precompute_distances='auto',\n",
      "       random_state=None, tol=0.0001, verbose=0)]\n"
     ]
    },
    {
     "data": {
      "image/png": "[encoded data removed]",
      "text/plain": [
       "<Figure size 432x288 with 1 Axes>"
      ]
     },
     "metadata": {
      "needs_background": "light"
     },
     "output_type": "display_data"
    }
   ],
   "source": [
    "import matplotlib.pyplot as plt\n",
    "from sklearn.cluster import KMeans\n",
    "\n",
    "Nc = range(1, 10)\n",
    "kmeans = [KMeans(n_clusters=i) for i in Nc]\n",
    "print(kmeans)\n",
    "score = [kmeans[i].fit(X).score(X) for i in range(len(kmeans))]\n",
    "plt.plot(Nc, score)\n",
    "plt.xlabel('Number of Clusters')\n",
    "plt.ylabel('Score')\n",
    "plt.title('Elbow Curve')\n",
    "plt.show()"
   ]
  },
  {
   "cell_type": "code",
   "execution_count": 79,
   "metadata": {},
   "outputs": [
    {
     "data": {
      "image/png": "[encoded data removed]",
      "text/plain": [
       "<Figure size 432x288 with 1 Axes>"
      ]
     },
     "metadata": {
      "needs_background": "light"
     },
     "output_type": "display_data"
    }
   ],
   "source": [
    "from sklearn.decomposition import PCA\n",
    "\n",
    "pca = PCA(n_components=2).fit(X)\n",
    "pca_c = pca.transform(X)\n",
    "kmeans = KMeans(n_clusters=2, random_state=0).fit(X)\n",
    "kmeans\n",
    "plt.scatter(pca_c[:, 0], pca_c[:, 1], c=kmeans.labels_, marker='.')\n",
    "plt.title(\"Clusters of Standard\")\n",
    "plt.show()"
   ]
  },
  {
   "cell_type": "markdown",
   "metadata": {},
   "source": [
    "### Number of standard by clsuter"
   ]
  },
  {
   "cell_type": "code",
   "execution_count": 80,
   "metadata": {},
   "outputs": [
    {
     "data": {
      "text/plain": [
       "0    123\n",
       "1    127\n",
       "dtype: int64"
      ]
     },
     "execution_count": 80,
     "metadata": {},
     "output_type": "execute_result"
    }
   ],
   "source": [
    "import pandas as pd\n",
    "pd.value_counts(kmeans.labels_, 0)"
   ]
  },
  {
   "cell_type": "markdown",
   "metadata": {},
   "source": [
    "### Similarity intra-cluster"
   ]
  },
  {
   "cell_type": "code",
   "execution_count": 81,
   "metadata": {},
   "outputs": [
    {
     "name": "stdout",
     "output_type": "stream",
     "text": [
      "123\n",
      "-0.279977997439\n",
      "127\n",
      "0.0434625394583\n"
     ]
    }
   ],
   "source": [
    "label = pd.DataFrame(kmeans.labels_)\n",
    "for k in range(2):\n",
    "    index_a = label.index[label[0] == k].tolist()\n",
    "    sim = cosine_similarity(X[index_a], X[index_a])[0][1]\n",
    "    print(len(index_a))\n",
    "    print(sim)"
   ]
  },
  {
   "cell_type": "code",
   "execution_count": 82,
   "metadata": {},
   "outputs": [
    {
     "data": {
      "text/plain": [
       "Int64Index([  6,  11,  13,  19,  20,  21,  22,  25,  26,  28,\n",
       "            ...\n",
       "            224, 228, 230, 232, 234, 235, 236, 238, 242, 248],\n",
       "           dtype='int64', length=123)"
      ]
     },
     "execution_count": 82,
     "metadata": {},
     "output_type": "execute_result"
    }
   ],
   "source": [
    "label.index[label[0] == 0]"
   ]
  },
  {
   "cell_type": "code",
   "execution_count": null,
   "metadata": {},
   "outputs": [],
   "source": []
  }
 ],
 "metadata": {
  "colab": {
   "collapsed_sections": [],
   "include_colab_link": true,
   "name": "Similarity-Analysis.ipynb",
   "provenance": [],
   "version": "0.3.2"
  },
  "kernelspec": {
   "display_name": "Python 3",
   "language": "python",
   "name": "python3"
  },
  "language_info": {
   "codemirror_mode": {
    "name": "ipython",
    "version": 3
   },
   "file_extension": ".py",
   "mimetype": "text/x-python",
   "name": "python",
   "nbconvert_exporter": "python",
   "pygments_lexer": "ipython3",
   "version": "3.6.7"
  }
 },
 "nbformat": 4,
 "nbformat_minor": 1
}
