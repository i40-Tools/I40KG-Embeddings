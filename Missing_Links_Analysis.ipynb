{
  "nbformat": 4,
  "nbformat_minor": 0,
  "metadata": {
    "colab": {
      "name": "Missing-Links-Analysis.ipynb",
      "version": "0.3.2",
      "provenance": [],
      "include_colab_link": true
    },
    "kernelspec": {
      "name": "python3",
      "display_name": "Python 3"
    }
  },
  "cells": [
    {
      "cell_type": "markdown",
      "metadata": {
        "id": "view-in-github",
        "colab_type": "text"
      },
      "source": [
        "<a href=\"https://colab.research.google.com/github/i40-Tools/I40KG-Embeddings/blob/master/Missing_Links_Analysis.ipynb\" target=\"_parent\"><img src=\"https://colab.research.google.com/assets/colab-badge.svg\" alt=\"Open In Colab\"/></a>"
      ]
    },
    {
      "cell_type": "code",
      "metadata": {
        "id": "NeeEo0zlsVXO",
        "colab_type": "code",
        "colab": {}
      },
      "source": [
        "!git clone https://github.com/i40-Tools/I40KG-Embeddings.git"
      ],
      "execution_count": 0,
      "outputs": []
    },
    {
      "cell_type": "code",
      "metadata": {
        "id": "pIP1pF0Vslv7",
        "colab_type": "code",
        "colab": {}
      },
      "source": [
        "import logging\n",
        "import os\n",
        "import sys\n",
        "import time\n",
        "\n",
        "import numpy as np\n",
        "import matplotlib.pyplot as plt\n",
        "import pykeen\n",
        "from pykeen.predict import start_predictions_pipeline"
      ],
      "execution_count": 0,
      "outputs": []
    },
    {
      "cell_type": "code",
      "metadata": {
        "id": "ip2OL3ddvNXI",
        "colab_type": "code",
        "colab": {}
      },
      "source": [
        "print(time.asctime())\n",
        "print(pykeen.get_version())"
      ],
      "execution_count": 0,
      "outputs": []
    },
    {
      "cell_type": "code",
      "metadata": {
        "id": "XBIOxRL5vUZI",
        "colab_type": "code",
        "colab": {}
      },
      "source": [
        "model_directory = '/content/I40KG-Embeddings/embeddings/TransE/sto-enriched'\n",
        "data_directory = '/content/I40KG-Embeddings/predictions'\n",
        "path_to_blacklisted_triples = '/content/I40KG-Embeddings/predictions/rdf.nt'"
      ],
      "execution_count": 0,
      "outputs": []
    },
    {
      "cell_type": "code",
      "metadata": {
        "id": "CfyOhDzOvc3I",
        "colab_type": "code",
        "colab": {}
      },
      "source": [
        "predictions = start_predictions_pipeline(model_directory=model_directory,\n",
        "                                         data_directory=data_directory,\n",
        "                                         path_to_blacklisted_triples=path_to_blacklisted_triples,\n",
        "                                         export_predictions=False)"
      ],
      "execution_count": 0,
      "outputs": []
    },
    {
      "cell_type": "code",
      "metadata": {
        "id": "zNXAHyo8vk1R",
        "colab_type": "code",
        "colab": {}
      },
      "source": [
        "predictions"
      ],
      "execution_count": 0,
      "outputs": []
    }
  ]
}