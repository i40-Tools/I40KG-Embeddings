{
  "nbformat": 4,
  "nbformat_minor": 0,
  "metadata": {
    "colab": {
      "name": "Untitled0.ipynb",
      "version": "0.3.2",
      "provenance": [],
      "include_colab_link": true
    },
    "kernelspec": {
      "name": "python3",
      "display_name": "Python 3"
    }
  },
  "cells": [
    {
      "cell_type": "markdown",
      "metadata": {
        "id": "view-in-github",
        "colab_type": "text"
      },
      "source": [
        "<a href=\"https://colab.research.google.com/github/i40-Tools/I40KG-Embeddings/blob/master/Analogy.ipynb\" target=\"_parent\"><img src=\"https://colab.research.google.com/assets/colab-badge.svg\" alt=\"Open In Colab\"/></a>"
      ]
    },
    {
      "cell_type": "code",
      "metadata": {
        "id": "pMLpblhLCXlo",
        "colab_type": "code",
        "colab": {}
      },
      "source": [
        "import numpy as np\n",
        "import json"
      ],
      "execution_count": 0,
      "outputs": []
    },
    {
      "cell_type": "code",
      "metadata": {
        "id": "SEIziqBWDC39",
        "colab_type": "code",
        "colab": {}
      },
      "source": [
        "#read the json file containing the standards/frameworks along with the  embeddings \n",
        "def read_glove_vecs(glove_file):\n",
        "    with open(glove_file, 'r') as f:\n",
        "        array = json.load(f)\n",
        "    \n",
        "        words = set()\n",
        "        word_to_vec_map = {}\n",
        "        #reading the dictionary and loading the keys(standards/frameworks) along with their values(embeddings)\n",
        "        for key,value in array.items():         \n",
        "            words.add(key)\n",
        "            temp = key\n",
        "            word_to_vec_map[temp] = array[key]\n",
        "            \n",
        "    return words, word_to_vec_map\n"
      ],
      "execution_count": 0,
      "outputs": []
    },
    {
      "cell_type": "code",
      "metadata": {
        "id": "Ffkn1PuzDKAZ",
        "colab_type": "code",
        "colab": {}
      },
      "source": [
        "def cosine_similarity(u, v):\n",
        "    \"\"\"\n",
        "    Cosine similarity reflects the degree of similariy between u and v\n",
        "    Arguments:\n",
        "    u -- a word vector of shape (n,)\n",
        "    v -- a word vector of shape (n,)\n",
        "    Returns:\n",
        "    cosine_similarity -- the cosine similarity between u and v defined by the formula a\n",
        "    \"\"\"\n",
        "    distance = 0.0\n",
        "    ### START CODE HERE ###\n",
        "    # Compute the dot product between u and v (≈1 line)\n",
        "    dot = np.dot(u, v)\n",
        "    # Compute the L2 norm of u (≈1 line)\n",
        "    norm_u = np.sqrt(np.sum(u * u))\n",
        "    # Compute the L2 norm of v (≈1 line)\n",
        "    norm_v = np.sqrt(np.sum(v * v))\n",
        "    # Compute the cosine similarity defined by formula (1) (≈1 line)\n",
        "    cosine_similarity = dot / (norm_u * norm_v)\n",
        "    ### END CODE HERE ###\n",
        "    return cosine_similarity\n"
      ],
      "execution_count": 0,
      "outputs": []
    },
    {
      "cell_type": "code",
      "metadata": {
        "id": "qCcf6ykLDPXG",
        "colab_type": "code",
        "colab": {}
      },
      "source": [
        "def complete_analogy(word_a, word_b, word_c, word_to_vec_map):\n",
        "    \"\"\"\n",
        "    Performs the word analogy task as explained above: a is to b as c is to ____.\n",
        "    Arguments:\n",
        "    word_a -- a word, string\n",
        "    word_b -- a word, string\n",
        "    word_c -- a word, string\n",
        "    word_to_vec_map -- dictionary that maps words to their corresponding vectors.\n",
        "    Returns:\n",
        "    best_word -- the word such that v_b - v_a is close to v_best_word - v_c, as measured b\n",
        "    \"\"\"\n",
        "    ### START CODE HERE ###\n",
        "    # Get the word embeddings v_a, v_b and v_c (≈1-3 lines)\n",
        "    e_a, e_b, e_c = word_to_vec_map[word_a], word_to_vec_map[word_b], word_to_vec_map[word_c]\n",
        "    e_a = np.array(e_a)\n",
        "    e_b = np.array(e_b)\n",
        "    e_c = np.array(e_c)\n",
        "    ### END CODE HERE ###\n",
        "    words = word_to_vec_map.keys()\n",
        "    max_cosine_sim = -100 # Initialize max_cosine_sim to a large negative numb\n",
        "    best_word = None # Initialize best_word with None, it will help keep\n",
        "    # loop over the whole word vector set\n",
        "    for w in words:\n",
        "    # to avoid best_word being one of the input words, pass on them.\n",
        "        if w in [word_a, word_b, word_c] :\n",
        "            continue\n",
        "    ### START CODE HERE ###\n",
        "    # Compute cosine similarity between the vector (e_b - e_a) and the vector ((w's vec\n",
        "    cosine_sim = cosine_similarity(e_b - e_a, word_to_vec_map[w] - e_c)\n",
        "    # If the cosine_sim is more than the max_cosine_sim seen so far,\n",
        "    # then: set the new max_cosine_sim to the current cosine_sim and the best_word\n",
        "    if cosine_sim > max_cosine_sim:\n",
        "        max_cosine_sim = cosine_sim\n",
        "        best_word = w\n",
        "    ### END CODE HERE ###\n",
        "    return best_word\n"
      ],
      "execution_count": 0,
      "outputs": []
    },
    {
      "cell_type": "code",
      "metadata": {
        "id": "ofQ4EpCGDegM",
        "colab_type": "code",
        "colab": {}
      },
      "source": [
        "#send the two standards/frameworks to find similar analogy with another standard/framework\n",
        "words, word_to_vec_map = read_glove_vecs('output.json')\n",
        "\n",
        "triads_to_try = [('https://w3id.org/i40/sto#RAMI', 'https://w3id.org/i40/rami#Header', 'https://w3id.org/i40/sto#IndustrialDataSpace')]\n",
        "for triad in triads_to_try:\n",
        "    print ('{} -> {} :: {} -> {}'.format( *triad, complete_analogy(*triad,word_to_vec_map)))\n",
        "    \n"
      ],
      "execution_count": 0,
      "outputs": []
    }
  ]
}