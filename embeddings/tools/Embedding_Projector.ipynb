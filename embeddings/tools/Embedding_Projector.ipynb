{
  "nbformat": 4,
  "nbformat_minor": 0,
  "metadata": {
    "colab": {
      "name": "Embedding Projector.ipynb",
      "provenance": [],
      "include_colab_link": true
    },
    "kernelspec": {
      "name": "python3",
      "display_name": "Python 3"
    }
  },
  "cells": [
    {
      "cell_type": "markdown",
      "metadata": {
        "id": "view-in-github",
        "colab_type": "text"
      },
      "source": [
        "<a href=\"https://colab.research.google.com/github/i40-Tools/I40KG-Embeddings/blob/master/embeddings/tools/Embedding_Projector.ipynb\" target=\"_parent\"><img src=\"https://colab.research.google.com/assets/colab-badge.svg\" alt=\"Open In Colab\"/></a>"
      ]
    },
    {
      "cell_type": "markdown",
      "metadata": {
        "id": "IPcnY2A2QLnp",
        "colab_type": "text"
      },
      "source": [
        "# Exporting Vectors and Metadata to tsv\n",
        "In this Notebook we are going to export the I4.0 embeddings to tsv files expected by the [Embedding Projector](https://projector.tensorflow.org/) tool."
      ]
    },
    {
      "cell_type": "markdown",
      "metadata": {
        "id": "kUa1k7GFQund",
        "colab_type": "text"
      },
      "source": [
        "# Initial Configuration\n",
        "Cloning the git repository containing the embeddings, and importing the required libraries."
      ]
    },
    {
      "cell_type": "code",
      "metadata": {
        "id": "bHrBTcJUOWrF",
        "colab_type": "code",
        "colab": {
          "base_uri": "https://localhost:8080/",
          "height": 34
        },
        "outputId": "0f99a372-3ad7-4b2c-9b8c-760367fa7536"
      },
      "source": [
        "!git clone https://github.com/i40-Tools/I40KG-Embeddings.git"
      ],
      "execution_count": 11,
      "outputs": [
        {
          "output_type": "stream",
          "text": [
            "fatal: destination path 'I40KG-Embeddings' already exists and is not an empty directory.\n"
          ],
          "name": "stdout"
        }
      ]
    },
    {
      "cell_type": "code",
      "metadata": {
        "id": "WuasBvcIUv6C",
        "colab_type": "code",
        "colab": {
          "base_uri": "https://localhost:8080/",
          "height": 85
        },
        "outputId": "c76754e2-0050-44fe-f4c6-f9d9739761ef"
      },
      "source": [
        "!pip install rdflib"
      ],
      "execution_count": 12,
      "outputs": [
        {
          "output_type": "stream",
          "text": [
            "Requirement already satisfied: rdflib in /usr/local/lib/python3.6/dist-packages (4.2.2)\n",
            "Requirement already satisfied: pyparsing in /usr/local/lib/python3.6/dist-packages (from rdflib) (2.4.6)\n",
            "Requirement already satisfied: isodate in /usr/local/lib/python3.6/dist-packages (from rdflib) (0.6.0)\n",
            "Requirement already satisfied: six in /usr/local/lib/python3.6/dist-packages (from isodate->rdflib) (1.12.0)\n"
          ],
          "name": "stdout"
        }
      ]
    },
    {
      "cell_type": "code",
      "metadata": {
        "id": "cjlkvlMBU-FR",
        "colab_type": "code",
        "colab": {}
      },
      "source": [
        "import json\n",
        "from rdflib import Graph\n",
        "import pprint"
      ],
      "execution_count": 0,
      "outputs": []
    },
    {
      "cell_type": "code",
      "metadata": {
        "id": "-u4HRUH2VYiy",
        "colab_type": "code",
        "colab": {}
      },
      "source": [
        "embeddings_path = \"/content/I40KG-Embeddings/embeddings/sto/sto-enriched.nt\""
      ],
      "execution_count": 0,
      "outputs": []
    },
    {
      "cell_type": "code",
      "metadata": {
        "id": "YWu4AVnYWE-N",
        "colab_type": "code",
        "colab": {}
      },
      "source": [
        "g = Graph()\n",
        "g.parse(\"/content/I40KG-Embeddings/embeddings/sto/sto-enriched.nt\", format=\"nt\")\n",
        "len(g) # prints 2\n",
        "\n",
        "#query to get the framework/standard from the sto.nt file\n",
        "qres = g.query(\"\"\"\n",
        "        PREFIX owl: <http://www.w3.org/2002/07/owl#>\n",
        "        PREFIX rdf: <http://www.w3.org/1999/02/22-rdf-syntax-ns#>\n",
        "        PREFIX sto: <https://w3id.org/i40/sto#>\n",
        "        \n",
        "        select ?s where {\n",
        "           ?s rdf:type sto:Standard .\n",
        "         } limit 1000 \n",
        "        \"\"\")\n",
        "\n",
        "labels = []\n",
        "tokens = []\n",
        "\n",
        "#to get the corresponding embeddings of the frameworks/standards from the json file \n",
        "with open(\"/content/I40KG-Embeddings/embeddings/training_set_relatedTo/TransH/entities_to_embeddings.json\",'rb') as f:\n",
        "    array = json.load(f)\n",
        "for row in qres:\n",
        "    for key,value in array.items():\n",
        "        if key == \"%s\" % row:\n",
        "            labels.append(key.replace('https://w3id.org/i40/', ''))\n",
        "            tokens.append(array[key])\n"
      ],
      "execution_count": 0,
      "outputs": []
    },
    {
      "cell_type": "code",
      "metadata": {
        "id": "XiUbj_Iti14N",
        "colab_type": "code",
        "colab": {
          "base_uri": "https://localhost:8080/",
          "height": 51
        },
        "outputId": "a6ea1eed-94ee-4e1b-b21a-519ef490904a"
      },
      "source": [
        "print(len(labels))\n",
        "print(len(tokens))"
      ],
      "execution_count": 21,
      "outputs": [
        {
          "output_type": "stream",
          "text": [
            "249\n",
            "249\n"
          ],
          "name": "stdout"
        }
      ]
    },
    {
      "cell_type": "code",
      "metadata": {
        "id": "weqNNncljdRE",
        "colab_type": "code",
        "colab": {}
      },
      "source": [
        "import io\n",
        "\n",
        "out_v = io.open('vecs.tsv', 'w', encoding='utf-8')\n",
        "out_m = io.open('meta.tsv', 'w', encoding='utf-8')\n",
        "\n",
        "standards_size = len(labels)\n",
        "\n",
        "for standard_num in range(1, standards_size):\n",
        "  out_m.write(labels[standard_num] + \"\\n\")\n",
        "  out_v.write('\\t'.join([str(x) for x in tokens[standard_num]]) + \"\\n\")\n",
        "out_v.close()\n",
        "out_m.close()"
      ],
      "execution_count": 0,
      "outputs": []
    },
    {
      "cell_type": "code",
      "metadata": {
        "id": "qqkUbrlekR1k",
        "colab_type": "code",
        "colab": {}
      },
      "source": [
        "try:\n",
        "  from google.colab import files\n",
        "except ImportError:\n",
        "  pass\n",
        "else:\n",
        "  files.download('vecs.tsv')\n",
        "  files.download('meta.tsv')"
      ],
      "execution_count": 0,
      "outputs": []
    }
  ]
}