{
 "cells": [
  {
   "cell_type": "markdown",
   "metadata": {
    "colab_type": "text",
    "id": "view-in-github"
   },
   "source": [
    "<a href=\"https://colab.research.google.com/github/i40-Tools/I40KG-Embeddings/blob/master/Community-Analysis.ipynb\" target=\"_parent\"><img src=\"https://colab.research.google.com/assets/colab-badge.svg\" alt=\"Open In Colab\"/></a>"
   ]
  },
  {
   "cell_type": "markdown",
   "metadata": {
    "colab_type": "text",
    "id": "hQCOAl5s4Wyv"
   },
   "source": [
    "# I40 standards landscape similarity analysis using embeddings\n",
    "\n",
    "## Overview\n",
    "\n",
    "In this notebook, we show the similarity analysis between Industry 4.0 Standards. \n",
    "To do so, we create embeddings about the Industry 4.0 Standards Knowledge Graph (I40KG) developed by [Grangel-Gonzales et. al.](https://www.researchgate.net/publication/318208930_The_Industry_40_Standards_Landscape_from_a_Semantic_Integration_Perspective)\n",
    "\n",
    "The embeddings are located here: [I40 Embeddings](https://github.com/i40-Tools/I40KG-Embeddings/tree/master/logs_sto)"
   ]
  },
  {
   "cell_type": "code",
   "execution_count": 426,
   "metadata": {
    "colab": {},
    "colab_type": "code",
    "id": "7aEjqqkYutsz"
   },
   "outputs": [],
   "source": [
    "import scipy\n",
    "import numpy as np\n",
    "import pandas as pd\n",
    "import json\n",
    "from sklearn.metrics.pairwise import cosine_similarity"
   ]
  },
  {
   "cell_type": "code",
   "execution_count": 11,
   "metadata": {},
   "outputs": [
    {
     "data": {
      "text/plain": [
       "322"
      ]
     },
     "execution_count": 11,
     "metadata": {},
     "output_type": "execute_result"
    }
   ],
   "source": [
    "g = Graph()\n",
    "#g.parse(\"sto/sto-enriched.nt\", format=\"nt\")\n",
    "g.parse(\"sto/hasClassification/training_set_hasClassification.nt\", format=\"nt\")\n",
    "    \n",
    "len(g) # prints 2\n",
    "    \n",
    "qres = g.query(\n",
    "    \"\"\"PREFIX owl: <http://www.w3.org/2002/07/owl#>\n",
    "       PREFIX rdf: <http://www.w3.org/1999/02/22-rdf-syntax-ns#>\n",
    "       PREFIX sto: <https://w3id.org/i40/sto#>\n",
    "    \n",
    "    select ?s where {\n",
    "            ?s rdf:type sto:Standard .\n",
    "    } limit 1000\"\"\")\n",
    "sub = []\n",
    "for row in qres:\n",
    "    sub.append(str(\"%s\" %row['s']))\n",
    "len(sub)"
   ]
  },
  {
   "cell_type": "markdown",
   "metadata": {
    "colab_type": "text",
    "id": "-pc4XzZYhSu-"
   },
   "source": [
    "### In this section we show the analysis of similarity among standards belonging to the same framework"
   ]
  },
  {
   "cell_type": "code",
   "execution_count": 733,
   "metadata": {
    "colab": {
     "base_uri": "https://localhost:8080/",
     "height": 2043
    },
    "colab_type": "code",
    "id": "ou9fwdGVpN9F",
    "outputId": "ace54885-7d96-4df8-94a6-8f09d6c4b993"
   },
   "outputs": [],
   "source": [
    "import json\n",
    "from rdflib import Graph\n",
    "SIMETRIC_MATRIX_FILE = \"simetric_matrix.tsv\"\n",
    "ENTITIES_FILE = \"entities.txt\"\n",
    "list_sim = []\n",
    "output='result/TransD/'\n",
    "\n",
    "g = Graph()\n",
    "#g.parse(\"sto/sto-enriched.nt\", format=\"nt\")\n",
    "g.parse(\"sto/relatedTo/training_set_relatedTo.nt\", format=\"nt\")\n",
    "    \n",
    "len(g) # prints 2\n",
    "    \n",
    "qres = g.query(\n",
    "    \"\"\"PREFIX owl: <http://www.w3.org/2002/07/owl#>\n",
    "       PREFIX rdf: <http://www.w3.org/1999/02/22-rdf-syntax-ns#>\n",
    "       PREFIX sto: <https://w3id.org/i40/sto#>\n",
    "    \n",
    "    select distinct ?s where {\n",
    "            ?s ?p ?o .\n",
    "    }\"\"\")\n",
    "\n",
    "      \n",
    "#with open(\"embeddings/TransE/entities_to_embeddings.json\",'rb') as f:\n",
    "with open(\"sto/relatedTo/embeddings/TransD/entities_to_embeddings.json\",'rb') as f:\n",
    "#with open(\"sto/hasClassification/embeddings/TransR/entities_to_embeddings.json\",'rb') as f:\n",
    "    array = json.load(f)\n",
    "new_dict = {}\n",
    "for row in qres:\n",
    "    for key,value in array.items():\n",
    "        if key == \"%s\" % row:\n",
    "            tem = key\n",
    "            #print(key)\n",
    "            new_dict[tem] = array[key]\n",
    "\n",
    "\n",
    "with open('output_standard_same_framework.json','w') as f:\n",
    "    # this would place the entire output on one line\n",
    "    # use json.dump(lista_items, f, indent=4) to \"pretty-print\" with four spaces per indent\n",
    "    json.dump(new_dict, f) \n",
    "\n",
    "    \n",
    "#to read the file containing standards/frameworks along with their embeddings   \n",
    "with open('output_standard_same_framework.json', 'r') as f:\n",
    "    array = json.load(f)"
   ]
  },
  {
   "cell_type": "markdown",
   "metadata": {},
   "source": [
    "### Create standard/framework list"
   ]
  },
  {
   "cell_type": "code",
   "execution_count": 734,
   "metadata": {},
   "outputs": [
    {
     "name": "stdout",
     "output_type": "stream",
     "text": [
      "249\n"
     ]
    }
   ],
   "source": [
    "list_n = [*array]\n",
    "entities = \"\\n\".join(str(x) for x in list_n)\n",
    "n_ent = str(len(list_n))\n",
    "entity = open(output+'semep/'+ENTITIES_FILE, mode=\"w+\")\n",
    "entity.write(n_ent+\"\\n\"+entities)\n",
    "entity.close()\n",
    "print(len([*array]))"
   ]
  },
  {
   "cell_type": "markdown",
   "metadata": {},
   "source": [
    "### Compare each standard/framework with all the other standards/frameworks to build cosine similarity matrix"
   ]
  },
  {
   "cell_type": "code",
   "execution_count": 735,
   "metadata": {},
   "outputs": [
    {
     "name": "stdout",
     "output_type": "stream",
     "text": [
      "percentil 0.12033\n"
     ]
    },
    {
     "data": {
      "text/html": [
       "<div>\n",
       "<style scoped>\n",
       "    .dataframe tbody tr th:only-of-type {\n",
       "        vertical-align: middle;\n",
       "    }\n",
       "\n",
       "    .dataframe tbody tr th {\n",
       "        vertical-align: top;\n",
       "    }\n",
       "\n",
       "    .dataframe thead th {\n",
       "        text-align: right;\n",
       "    }\n",
       "</style>\n",
       "<table border=\"1\" class=\"dataframe\">\n",
       "  <thead>\n",
       "    <tr style=\"text-align: right;\">\n",
       "      <th></th>\n",
       "      <th>https://w3id.org/i40/sto#IEC_62237</th>\n",
       "      <th>https://w3id.org/i40/sto#ISO_1302</th>\n",
       "      <th>https://w3id.org/i40/sto#RFC_5246</th>\n",
       "      <th>https://w3id.org/i40/sto#ISO_27001</th>\n",
       "      <th>https://w3id.org/i40/sto#RFC_2818</th>\n",
       "      <th>https://w3id.org/i40/sto#IEC_62794</th>\n",
       "      <th>https://w3id.org/i40/sto#ISO_15746</th>\n",
       "      <th>https://w3id.org/i40/sto#ISO_29134</th>\n",
       "      <th>https://w3id.org/i40/sto#IEC_61850_P4_E1</th>\n",
       "      <th>https://w3id.org/i40/sto#ISO_14306</th>\n",
       "      <th>...</th>\n",
       "      <th>https://w3id.org/i40/sto#IEC_60255_P1_E1</th>\n",
       "      <th>https://w3id.org/i40/sto#ISO_20140_5</th>\n",
       "      <th>https://w3id.org/i40/sto#IEC_61690_P1_E1</th>\n",
       "      <th>https://w3id.org/i40/sto#IEC_61310_P2_E2</th>\n",
       "      <th>https://w3id.org/i40/sto#IEC_60839_P7_S1_E1</th>\n",
       "      <th>https://w3id.org/i40/sto#MTConnect</th>\n",
       "      <th>https://w3id.org/i40/sto#IEC_60381_P1_E2</th>\n",
       "      <th>https://w3id.org/i40/sto#IEC_60864_P2_E1</th>\n",
       "      <th>https://w3id.org/i40/sto#IEC_60381_P2_E1</th>\n",
       "      <th>https://w3id.org/i40/sto#ISO_15531</th>\n",
       "    </tr>\n",
       "  </thead>\n",
       "  <tbody>\n",
       "    <tr>\n",
       "      <th>https://w3id.org/i40/sto#IEC_62237</th>\n",
       "      <td>1.00000</td>\n",
       "      <td>0.13998</td>\n",
       "      <td>0.14867</td>\n",
       "      <td>0.0</td>\n",
       "      <td>0.14831</td>\n",
       "      <td>0.00000</td>\n",
       "      <td>0.00000</td>\n",
       "      <td>0.00000</td>\n",
       "      <td>0.00000</td>\n",
       "      <td>0.00000</td>\n",
       "      <td>...</td>\n",
       "      <td>0.14804</td>\n",
       "      <td>0.21174</td>\n",
       "      <td>0.00000</td>\n",
       "      <td>0.16386</td>\n",
       "      <td>0.00000</td>\n",
       "      <td>0.32673</td>\n",
       "      <td>0.21694</td>\n",
       "      <td>0.00000</td>\n",
       "      <td>0.12710</td>\n",
       "      <td>0.00000</td>\n",
       "    </tr>\n",
       "    <tr>\n",
       "      <th>https://w3id.org/i40/sto#ISO_1302</th>\n",
       "      <td>0.13998</td>\n",
       "      <td>1.00000</td>\n",
       "      <td>0.18034</td>\n",
       "      <td>0.0</td>\n",
       "      <td>0.00000</td>\n",
       "      <td>0.18357</td>\n",
       "      <td>0.00000</td>\n",
       "      <td>0.00000</td>\n",
       "      <td>0.00000</td>\n",
       "      <td>0.00000</td>\n",
       "      <td>...</td>\n",
       "      <td>0.00000</td>\n",
       "      <td>0.27649</td>\n",
       "      <td>0.00000</td>\n",
       "      <td>0.00000</td>\n",
       "      <td>0.20089</td>\n",
       "      <td>0.23324</td>\n",
       "      <td>0.13118</td>\n",
       "      <td>0.00000</td>\n",
       "      <td>0.00000</td>\n",
       "      <td>0.24636</td>\n",
       "    </tr>\n",
       "    <tr>\n",
       "      <th>https://w3id.org/i40/sto#RFC_5246</th>\n",
       "      <td>0.14867</td>\n",
       "      <td>0.18034</td>\n",
       "      <td>1.00000</td>\n",
       "      <td>0.0</td>\n",
       "      <td>0.00000</td>\n",
       "      <td>0.00000</td>\n",
       "      <td>0.21560</td>\n",
       "      <td>0.00000</td>\n",
       "      <td>0.00000</td>\n",
       "      <td>0.00000</td>\n",
       "      <td>...</td>\n",
       "      <td>0.12547</td>\n",
       "      <td>0.22820</td>\n",
       "      <td>0.15903</td>\n",
       "      <td>0.00000</td>\n",
       "      <td>0.00000</td>\n",
       "      <td>0.00000</td>\n",
       "      <td>0.00000</td>\n",
       "      <td>0.00000</td>\n",
       "      <td>0.19491</td>\n",
       "      <td>0.16235</td>\n",
       "    </tr>\n",
       "    <tr>\n",
       "      <th>https://w3id.org/i40/sto#ISO_27001</th>\n",
       "      <td>0.00000</td>\n",
       "      <td>0.00000</td>\n",
       "      <td>0.00000</td>\n",
       "      <td>1.0</td>\n",
       "      <td>0.00000</td>\n",
       "      <td>0.27067</td>\n",
       "      <td>0.12491</td>\n",
       "      <td>0.13092</td>\n",
       "      <td>0.19939</td>\n",
       "      <td>0.00000</td>\n",
       "      <td>...</td>\n",
       "      <td>0.00000</td>\n",
       "      <td>0.00000</td>\n",
       "      <td>0.00000</td>\n",
       "      <td>0.19997</td>\n",
       "      <td>0.12036</td>\n",
       "      <td>0.00000</td>\n",
       "      <td>0.00000</td>\n",
       "      <td>0.00000</td>\n",
       "      <td>0.00000</td>\n",
       "      <td>0.00000</td>\n",
       "    </tr>\n",
       "    <tr>\n",
       "      <th>https://w3id.org/i40/sto#RFC_2818</th>\n",
       "      <td>0.14831</td>\n",
       "      <td>0.00000</td>\n",
       "      <td>0.00000</td>\n",
       "      <td>0.0</td>\n",
       "      <td>1.00000</td>\n",
       "      <td>0.00000</td>\n",
       "      <td>0.00000</td>\n",
       "      <td>0.17034</td>\n",
       "      <td>0.16936</td>\n",
       "      <td>0.27935</td>\n",
       "      <td>...</td>\n",
       "      <td>0.30015</td>\n",
       "      <td>0.00000</td>\n",
       "      <td>0.29792</td>\n",
       "      <td>0.00000</td>\n",
       "      <td>0.23320</td>\n",
       "      <td>0.15893</td>\n",
       "      <td>0.15871</td>\n",
       "      <td>0.39377</td>\n",
       "      <td>0.21964</td>\n",
       "      <td>0.00000</td>\n",
       "    </tr>\n",
       "  </tbody>\n",
       "</table>\n",
       "<p>5 rows × 249 columns</p>\n",
       "</div>"
      ],
      "text/plain": [
       "                                    https://w3id.org/i40/sto#IEC_62237  \\\n",
       "https://w3id.org/i40/sto#IEC_62237                             1.00000   \n",
       "https://w3id.org/i40/sto#ISO_1302                              0.13998   \n",
       "https://w3id.org/i40/sto#RFC_5246                              0.14867   \n",
       "https://w3id.org/i40/sto#ISO_27001                             0.00000   \n",
       "https://w3id.org/i40/sto#RFC_2818                              0.14831   \n",
       "\n",
       "                                    https://w3id.org/i40/sto#ISO_1302  \\\n",
       "https://w3id.org/i40/sto#IEC_62237                            0.13998   \n",
       "https://w3id.org/i40/sto#ISO_1302                             1.00000   \n",
       "https://w3id.org/i40/sto#RFC_5246                             0.18034   \n",
       "https://w3id.org/i40/sto#ISO_27001                            0.00000   \n",
       "https://w3id.org/i40/sto#RFC_2818                             0.00000   \n",
       "\n",
       "                                    https://w3id.org/i40/sto#RFC_5246  \\\n",
       "https://w3id.org/i40/sto#IEC_62237                            0.14867   \n",
       "https://w3id.org/i40/sto#ISO_1302                             0.18034   \n",
       "https://w3id.org/i40/sto#RFC_5246                             1.00000   \n",
       "https://w3id.org/i40/sto#ISO_27001                            0.00000   \n",
       "https://w3id.org/i40/sto#RFC_2818                             0.00000   \n",
       "\n",
       "                                    https://w3id.org/i40/sto#ISO_27001  \\\n",
       "https://w3id.org/i40/sto#IEC_62237                                 0.0   \n",
       "https://w3id.org/i40/sto#ISO_1302                                  0.0   \n",
       "https://w3id.org/i40/sto#RFC_5246                                  0.0   \n",
       "https://w3id.org/i40/sto#ISO_27001                                 1.0   \n",
       "https://w3id.org/i40/sto#RFC_2818                                  0.0   \n",
       "\n",
       "                                    https://w3id.org/i40/sto#RFC_2818  \\\n",
       "https://w3id.org/i40/sto#IEC_62237                            0.14831   \n",
       "https://w3id.org/i40/sto#ISO_1302                             0.00000   \n",
       "https://w3id.org/i40/sto#RFC_5246                             0.00000   \n",
       "https://w3id.org/i40/sto#ISO_27001                            0.00000   \n",
       "https://w3id.org/i40/sto#RFC_2818                             1.00000   \n",
       "\n",
       "                                    https://w3id.org/i40/sto#IEC_62794  \\\n",
       "https://w3id.org/i40/sto#IEC_62237                             0.00000   \n",
       "https://w3id.org/i40/sto#ISO_1302                              0.18357   \n",
       "https://w3id.org/i40/sto#RFC_5246                              0.00000   \n",
       "https://w3id.org/i40/sto#ISO_27001                             0.27067   \n",
       "https://w3id.org/i40/sto#RFC_2818                              0.00000   \n",
       "\n",
       "                                    https://w3id.org/i40/sto#ISO_15746  \\\n",
       "https://w3id.org/i40/sto#IEC_62237                             0.00000   \n",
       "https://w3id.org/i40/sto#ISO_1302                              0.00000   \n",
       "https://w3id.org/i40/sto#RFC_5246                              0.21560   \n",
       "https://w3id.org/i40/sto#ISO_27001                             0.12491   \n",
       "https://w3id.org/i40/sto#RFC_2818                              0.00000   \n",
       "\n",
       "                                    https://w3id.org/i40/sto#ISO_29134  \\\n",
       "https://w3id.org/i40/sto#IEC_62237                             0.00000   \n",
       "https://w3id.org/i40/sto#ISO_1302                              0.00000   \n",
       "https://w3id.org/i40/sto#RFC_5246                              0.00000   \n",
       "https://w3id.org/i40/sto#ISO_27001                             0.13092   \n",
       "https://w3id.org/i40/sto#RFC_2818                              0.17034   \n",
       "\n",
       "                                    https://w3id.org/i40/sto#IEC_61850_P4_E1  \\\n",
       "https://w3id.org/i40/sto#IEC_62237                                   0.00000   \n",
       "https://w3id.org/i40/sto#ISO_1302                                    0.00000   \n",
       "https://w3id.org/i40/sto#RFC_5246                                    0.00000   \n",
       "https://w3id.org/i40/sto#ISO_27001                                   0.19939   \n",
       "https://w3id.org/i40/sto#RFC_2818                                    0.16936   \n",
       "\n",
       "                                    https://w3id.org/i40/sto#ISO_14306  ...  \\\n",
       "https://w3id.org/i40/sto#IEC_62237                             0.00000  ...   \n",
       "https://w3id.org/i40/sto#ISO_1302                              0.00000  ...   \n",
       "https://w3id.org/i40/sto#RFC_5246                              0.00000  ...   \n",
       "https://w3id.org/i40/sto#ISO_27001                             0.00000  ...   \n",
       "https://w3id.org/i40/sto#RFC_2818                              0.27935  ...   \n",
       "\n",
       "                                    https://w3id.org/i40/sto#IEC_60255_P1_E1  \\\n",
       "https://w3id.org/i40/sto#IEC_62237                                   0.14804   \n",
       "https://w3id.org/i40/sto#ISO_1302                                    0.00000   \n",
       "https://w3id.org/i40/sto#RFC_5246                                    0.12547   \n",
       "https://w3id.org/i40/sto#ISO_27001                                   0.00000   \n",
       "https://w3id.org/i40/sto#RFC_2818                                    0.30015   \n",
       "\n",
       "                                    https://w3id.org/i40/sto#ISO_20140_5  \\\n",
       "https://w3id.org/i40/sto#IEC_62237                               0.21174   \n",
       "https://w3id.org/i40/sto#ISO_1302                                0.27649   \n",
       "https://w3id.org/i40/sto#RFC_5246                                0.22820   \n",
       "https://w3id.org/i40/sto#ISO_27001                               0.00000   \n",
       "https://w3id.org/i40/sto#RFC_2818                                0.00000   \n",
       "\n",
       "                                    https://w3id.org/i40/sto#IEC_61690_P1_E1  \\\n",
       "https://w3id.org/i40/sto#IEC_62237                                   0.00000   \n",
       "https://w3id.org/i40/sto#ISO_1302                                    0.00000   \n",
       "https://w3id.org/i40/sto#RFC_5246                                    0.15903   \n",
       "https://w3id.org/i40/sto#ISO_27001                                   0.00000   \n",
       "https://w3id.org/i40/sto#RFC_2818                                    0.29792   \n",
       "\n",
       "                                    https://w3id.org/i40/sto#IEC_61310_P2_E2  \\\n",
       "https://w3id.org/i40/sto#IEC_62237                                   0.16386   \n",
       "https://w3id.org/i40/sto#ISO_1302                                    0.00000   \n",
       "https://w3id.org/i40/sto#RFC_5246                                    0.00000   \n",
       "https://w3id.org/i40/sto#ISO_27001                                   0.19997   \n",
       "https://w3id.org/i40/sto#RFC_2818                                    0.00000   \n",
       "\n",
       "                                    https://w3id.org/i40/sto#IEC_60839_P7_S1_E1  \\\n",
       "https://w3id.org/i40/sto#IEC_62237                                      0.00000   \n",
       "https://w3id.org/i40/sto#ISO_1302                                       0.20089   \n",
       "https://w3id.org/i40/sto#RFC_5246                                       0.00000   \n",
       "https://w3id.org/i40/sto#ISO_27001                                      0.12036   \n",
       "https://w3id.org/i40/sto#RFC_2818                                       0.23320   \n",
       "\n",
       "                                    https://w3id.org/i40/sto#MTConnect  \\\n",
       "https://w3id.org/i40/sto#IEC_62237                             0.32673   \n",
       "https://w3id.org/i40/sto#ISO_1302                              0.23324   \n",
       "https://w3id.org/i40/sto#RFC_5246                              0.00000   \n",
       "https://w3id.org/i40/sto#ISO_27001                             0.00000   \n",
       "https://w3id.org/i40/sto#RFC_2818                              0.15893   \n",
       "\n",
       "                                    https://w3id.org/i40/sto#IEC_60381_P1_E2  \\\n",
       "https://w3id.org/i40/sto#IEC_62237                                   0.21694   \n",
       "https://w3id.org/i40/sto#ISO_1302                                    0.13118   \n",
       "https://w3id.org/i40/sto#RFC_5246                                    0.00000   \n",
       "https://w3id.org/i40/sto#ISO_27001                                   0.00000   \n",
       "https://w3id.org/i40/sto#RFC_2818                                    0.15871   \n",
       "\n",
       "                                    https://w3id.org/i40/sto#IEC_60864_P2_E1  \\\n",
       "https://w3id.org/i40/sto#IEC_62237                                   0.00000   \n",
       "https://w3id.org/i40/sto#ISO_1302                                    0.00000   \n",
       "https://w3id.org/i40/sto#RFC_5246                                    0.00000   \n",
       "https://w3id.org/i40/sto#ISO_27001                                   0.00000   \n",
       "https://w3id.org/i40/sto#RFC_2818                                    0.39377   \n",
       "\n",
       "                                    https://w3id.org/i40/sto#IEC_60381_P2_E1  \\\n",
       "https://w3id.org/i40/sto#IEC_62237                                   0.12710   \n",
       "https://w3id.org/i40/sto#ISO_1302                                    0.00000   \n",
       "https://w3id.org/i40/sto#RFC_5246                                    0.19491   \n",
       "https://w3id.org/i40/sto#ISO_27001                                   0.00000   \n",
       "https://w3id.org/i40/sto#RFC_2818                                    0.21964   \n",
       "\n",
       "                                    https://w3id.org/i40/sto#ISO_15531  \n",
       "https://w3id.org/i40/sto#IEC_62237                             0.00000  \n",
       "https://w3id.org/i40/sto#ISO_1302                              0.24636  \n",
       "https://w3id.org/i40/sto#RFC_5246                              0.16235  \n",
       "https://w3id.org/i40/sto#ISO_27001                             0.00000  \n",
       "https://w3id.org/i40/sto#RFC_2818                              0.00000  \n",
       "\n",
       "[5 rows x 249 columns]"
      ]
     },
     "execution_count": 735,
     "metadata": {},
     "output_type": "execute_result"
    }
   ],
   "source": [
    "result = {}\n",
    "s=n_ent+\"\\n\"\n",
    "cosine_matrix = pd.DataFrame(index=list(array.keys()), columns=list(array.keys()))\n",
    "cosine_matrix = cosine_matrix.fillna(0.0)\n",
    "for key,value in array.items():\n",
    "    for keyC,valueC in array.items():\n",
    "        sim = abs(1-scipy.spatial.distance.cosine(value,valueC)) #send the values of the standards/frameworks to cosine similarity function\n",
    "        sim = round(sim, 5)\n",
    "        list_sim.append(sim)\n",
    "        cosine_matrix.at[key, keyC] = sim\n",
    "\n",
    "threshold = np.percentile(list_sim, 60)\n",
    "print(\"percentil\", threshold)\n",
    "for col in cosine_matrix.columns:\n",
    "    cosine_matrix.loc[cosine_matrix[col] < threshold, [col]] = 0\n",
    "cosine_matrix.head()"
   ]
  },
  {
   "cell_type": "code",
   "execution_count": 736,
   "metadata": {},
   "outputs": [
    {
     "data": {
      "text/plain": [
       "(249, 249)"
      ]
     },
     "execution_count": 736,
     "metadata": {},
     "output_type": "execute_result"
    }
   ],
   "source": [
    "cosine_matrix.shape"
   ]
  },
  {
   "cell_type": "markdown",
   "metadata": {},
   "source": [
    "### Save cosine similarity matrix with the structure SemEP need"
   ]
  },
  {
   "cell_type": "code",
   "execution_count": 737,
   "metadata": {},
   "outputs": [],
   "source": [
    "f = open(output+'semep/'+'matrix_undirected_cosine.tsv', mode=\"w+\")\n",
    "f.write(str(cosine_matrix.shape[0])+\"\\n\")\n",
    "f.close()\n",
    "cosine_matrix.to_csv(output+'semep/'+'matrix_undirected_cosine.tsv', mode='a', sep=' ',\n",
    "                     index=False, header=False, float_format='%.5f')"
   ]
  },
  {
   "cell_type": "code",
   "execution_count": null,
   "metadata": {},
   "outputs": [],
   "source": [
    "# Run SemEP from Doker (https://hub.docker.com/r/kemele/semepnode) OR (https://github.com/SDM-TIB/SemEP-Node)\n",
    "#!sudo docker run -it --rm -v /media/rivas/Data1/Data-mining/KCAP-I40KG-Embeddings/I40KG-Embeddings/result/TransD/semep:/data kemele/semepnode:23-05-2018 semEP-node entities.txt matrix_undirected_cosine.tsv 0.20612"
   ]
  },
  {
   "cell_type": "code",
   "execution_count": 708,
   "metadata": {},
   "outputs": [],
   "source": [
    "num_cls = 3"
   ]
  },
  {
   "cell_type": "markdown",
   "metadata": {},
   "source": [
    "### METIS Undirected MAX based similarity graph file"
   ]
  },
  {
   "cell_type": "code",
   "execution_count": 709,
   "metadata": {},
   "outputs": [
    {
     "name": "stdout",
     "output_type": "stream",
     "text": [
      "24552\n"
     ]
    },
    {
     "data": {
      "text/html": [
       "<div>\n",
       "<style scoped>\n",
       "    .dataframe tbody tr th:only-of-type {\n",
       "        vertical-align: middle;\n",
       "    }\n",
       "\n",
       "    .dataframe tbody tr th {\n",
       "        vertical-align: top;\n",
       "    }\n",
       "\n",
       "    .dataframe thead th {\n",
       "        text-align: right;\n",
       "    }\n",
       "</style>\n",
       "<table border=\"1\" class=\"dataframe\">\n",
       "  <thead>\n",
       "    <tr style=\"text-align: right;\">\n",
       "      <th></th>\n",
       "      <th>name</th>\n",
       "      <th>id</th>\n",
       "    </tr>\n",
       "  </thead>\n",
       "  <tbody>\n",
       "    <tr>\n",
       "      <th>0</th>\n",
       "      <td>https://w3id.org/i40/sto#IEC_60839_P5_S2_E2</td>\n",
       "      <td>1</td>\n",
       "    </tr>\n",
       "    <tr>\n",
       "      <th>1</th>\n",
       "      <td>https://w3id.org/i40/sto#RFC_2818</td>\n",
       "      <td>2</td>\n",
       "    </tr>\n",
       "    <tr>\n",
       "      <th>2</th>\n",
       "      <td>https://w3id.org/i40/sto#TS-0009</td>\n",
       "      <td>3</td>\n",
       "    </tr>\n",
       "    <tr>\n",
       "      <th>3</th>\n",
       "      <td>https://w3id.org/i40/sto#IEC_61987_X</td>\n",
       "      <td>4</td>\n",
       "    </tr>\n",
       "    <tr>\n",
       "      <th>4</th>\n",
       "      <td>https://w3id.org/i40/sto#ASME_Y1441</td>\n",
       "      <td>5</td>\n",
       "    </tr>\n",
       "  </tbody>\n",
       "</table>\n",
       "</div>"
      ],
      "text/plain": [
       "                                          name id\n",
       "0  https://w3id.org/i40/sto#IEC_60839_P5_S2_E2  1\n",
       "1            https://w3id.org/i40/sto#RFC_2818  2\n",
       "2             https://w3id.org/i40/sto#TS-0009  3\n",
       "3         https://w3id.org/i40/sto#IEC_61987_X  4\n",
       "4          https://w3id.org/i40/sto#ASME_Y1441  5"
      ]
     },
     "execution_count": 709,
     "metadata": {},
     "output_type": "execute_result"
    }
   ],
   "source": [
    "metislines = []\n",
    "nodes = {\"name\":[], \"id\":[]}\n",
    "kv = 1\n",
    "edges = 0\n",
    "for i, row in cosine_matrix.iterrows():\n",
    "    val = \"\"\n",
    "    ix = 1\n",
    "    ledges = 0\n",
    "    found = False\n",
    "    for k in row.keys():\n",
    "        if i != k and row[k] > 0:\n",
    "            val += str(ix) + \" \" + str(int(row[k] * 100000)) + \" \"\n",
    "            # Only one edge is counted between two nodes, i.e., (u,v) and (v, u) edges are counted as one\n",
    "            # Self links are also ignored, Notive ix>kv\n",
    "            #if ix > kv:\n",
    "            ledges += 1\n",
    "            found = True\n",
    "        ix += 1\n",
    "    if found:\n",
    "        # This node is connected\n",
    "        metislines.append(val.strip())\n",
    "        edges += ledges\n",
    "        nodes[\"name\"].append(i)\n",
    "        nodes['id'].append(str(kv))\n",
    "    else:\n",
    "        # disconnected RDF-MTs are given 10^6 value as similarity value\n",
    "        metislines.append(str(kv) + \" 100000\")\n",
    "        edges += 1\n",
    "        #---------\n",
    "        nodes[\"name\"].append(i)\n",
    "        nodes['id'].append(str(kv))\n",
    "        print(i)\n",
    "        print(str(kv))\n",
    "    \n",
    "    kv += 1    \n",
    "nodes = pd.DataFrame(nodes)\n",
    "print(edges)\n",
    "nodes.head()"
   ]
  },
  {
   "cell_type": "code",
   "execution_count": 710,
   "metadata": {},
   "outputs": [
    {
     "data": {
      "text/plain": [
       "24552"
      ]
     },
     "execution_count": 710,
     "metadata": {},
     "output_type": "execute_result"
    }
   ],
   "source": [
    "edges"
   ]
  },
  {
   "cell_type": "code",
   "execution_count": 711,
   "metadata": {},
   "outputs": [
    {
     "data": {
      "text/plain": [
       "12276"
      ]
     },
     "execution_count": 711,
     "metadata": {},
     "output_type": "execute_result"
    }
   ],
   "source": [
    "numedges = edges//2\n",
    "numedges"
   ]
  },
  {
   "cell_type": "markdown",
   "metadata": {},
   "source": [
    "### Save filemetis.graph to execute METIS algorithm"
   ]
  },
  {
   "cell_type": "code",
   "execution_count": 712,
   "metadata": {},
   "outputs": [],
   "source": [
    "#!mkdir result/metis\n",
    "ff = open(output+'metis/metis.graph', 'w+')\n",
    "ff.write(str(cosine_matrix.shape[0])+\" \"+ str(numedges) + \" 001\\n\")\n",
    "met = [m.strip() + \"\\n\" for m in metislines]\n",
    "ff.writelines(met)\n",
    "ff.close()"
   ]
  },
  {
   "cell_type": "code",
   "execution_count": 14,
   "metadata": {},
   "outputs": [],
   "source": [
    "#nodes.to_csv(output+'metis/METIS_NODE-CODES.tsv', sep='\\t', index=False)"
   ]
  },
  {
   "cell_type": "code",
   "execution_count": null,
   "metadata": {},
   "outputs": [],
   "source": [
    "#Run METIS from Doker: https://hub.docker.com/r/kemele/metis\n",
    "#!sudo docker run -it --rm -v /media/rivas/Data1/Data-mining/KCAP-I40KG-Embeddings/I40KG-Embeddings/result/TransD/metis:/data kemele/metis:5.1.0 gpmetis metis.graph 2"
   ]
  },
  {
   "cell_type": "markdown",
   "metadata": {},
   "source": [
    "### Read results standards of 10 Partitions by METIS algorithm"
   ]
  },
  {
   "cell_type": "code",
   "execution_count": 713,
   "metadata": {},
   "outputs": [
    {
     "name": "stdout",
     "output_type": "stream",
     "text": [
      "['1', '2', '2', '2', '2', '1', '2', '2', '1', '2', '2', '1', '1', '1', '2', '2', '1', '2', '2', '1', '1', '2', '2', '2', '2', '1', '2', '0', '0', '2', '2', '0', '1', '1', '2', '2', '1', '1', '2', '2', '1', '1', '2', '2', '2', '2', '0', '1', '1', '2', '2', '1', '2', '2', '2', '1', '1', '2', '1', '2', '2', '2', '1', '2', '0', '1', '2', '1', '2', '2', '1', '2', '0', '1', '1', '0', '2', '2', '1', '1', '2', '2', '2', '2', '1', '2', '1', '0', '1', '2', '2', '0', '1', '1', '2', '2', '1', '2', '1', '2', '1', '2', '1', '1', '2', '1', '1', '2', '2', '1', '1', '2', '1', '2', '2', '1', '2', '2', '1', '2', '2', '0', '1', '2', '0', '1', '1', '1', '0', '2', '2', '0', '2', '2', '1', '2', '1', '1', '2', '2', '1', '0', '1', '2', '0', '2', '2', '1', '1', '2', '1', '0', '0', '1', '2', '2', '2', '1', '1', '2', '1', '0', '1', '2', '0', '0', '1', '2', '0', '0', '0', '0', '1', '0', '1', '0', '0', '1', '0', '0', '1', '1', '1', '0', '1', '1', '0', '0', '0', '0', '0', '1', '0', '0', '0', '2', '1', '0', '1', '0', '0', '1', '1', '0', '0', '0', '0', '0', '0', '0', '0', '1', '1', '0', '0', '0', '0', '0', '0', '0', '1', '0', '0', '0', '0', '0', '0', '0', '0', '0', '0', '0', '1', '0', '2', '0', '0', '1', '0', '0', '0', '0', '0', '0', '1', '0', '0', '0', '0']\n"
     ]
    },
    {
     "data": {
      "text/plain": [
       "249"
      ]
     },
     "execution_count": 713,
     "metadata": {},
     "output_type": "execute_result"
    }
   ],
   "source": [
    "parts = open(output+'metis/metis.graph.part.'+str(num_cls)).readlines()\n",
    "parts = [p.strip() for p in parts]\n",
    "print(parts)\n",
    "len(parts)"
   ]
  },
  {
   "cell_type": "markdown",
   "metadata": {},
   "source": [
    "### Save each partition standads into a file"
   ]
  },
  {
   "cell_type": "code",
   "execution_count": 714,
   "metadata": {
    "scrolled": true
   },
   "outputs": [
    {
     "data": {
      "text/plain": [
       "{'0': ['https://w3id.org/i40/sto#IEC_60870_P5_S4_E1',\n",
       "  'https://w3id.org/i40/sto#IEC_61400_P25_S1_E2',\n",
       "  'https://w3id.org/i40/sto#IEC_81714',\n",
       "  'https://w3id.org/i40/sto#IEC_60255_P151_E1',\n",
       "  'https://w3id.org/i40/sto#IEC_60870_P5_S5_E1',\n",
       "  'https://w3id.org/i40/sto#ISO_19770',\n",
       "  'https://w3id.org/i40/sto#IEC_60870_P2_S2_E1',\n",
       "  'https://w3id.org/i40/sto#eClass',\n",
       "  'https://w3id.org/i40/sto#ISO_27019',\n",
       "  'https://w3id.org/i40/sto#IEC_61334_P5_S1_E2',\n",
       "  'https://w3id.org/i40/sto#IEC_61968_P8_E1',\n",
       "  'https://w3id.org/i40/sto#RFC_2616',\n",
       "  'https://w3id.org/i40/sto#BPMN',\n",
       "  'https://w3id.org/i40/sto#IEC_60870_P6_S503_E3',\n",
       "  'https://w3id.org/i40/sto#RFC_7519',\n",
       "  'https://w3id.org/i40/sto#IEC_61334_P4_S42_E1',\n",
       "  'https://w3id.org/i40/sto#IEC_61310_P3_E2',\n",
       "  'https://w3id.org/i40/sto#IEC_61310_P1_E2',\n",
       "  'https://w3id.org/i40/sto#IEC_60870_P6_S802_E3',\n",
       "  'https://w3id.org/i40/sto#IEC_60870_P6_S702_E2',\n",
       "  'https://w3id.org/i40/sto#IEC_60839_P7_S7_E1',\n",
       "  'https://w3id.org/i40/sto#IEC_61334_P4_S41_E1',\n",
       "  'https://w3id.org/i40/sto#IEC_61400_P25_S4_E2',\n",
       "  'https://w3id.org/i40/sto#IEC_60870_P5_S104_E2_1',\n",
       "  'https://w3id.org/i40/sto#IEC_60050_1984',\n",
       "  'https://w3id.org/i40/sto#IEC_61334_P6_E1',\n",
       "  'https://w3id.org/i40/sto#IEC_61968_P9_E2',\n",
       "  'https://w3id.org/i40/sto#IEC_61334_P3_S21_E1',\n",
       "  'https://w3id.org/i40/sto#IEC_60870_P5_S102_E1',\n",
       "  'https://w3id.org/i40/sto#IEC_60870_P5_S6_E1',\n",
       "  'https://w3id.org/i40/sto#IEC_60050_1998',\n",
       "  'https://w3id.org/i40/sto#IEC_61968_P4_E2',\n",
       "  'https://w3id.org/i40/sto#IEC_61690_P2_E1',\n",
       "  'https://w3id.org/i40/sto#IEC_61400_P25_S6_E2',\n",
       "  'https://w3id.org/i40/sto#IEC_61010_P2_S201_E2',\n",
       "  'https://w3id.org/i40/sto#IEC_60839_P7_S2_E1',\n",
       "  'https://w3id.org/i40/sto#IEC_61010_P2_S012_E1',\n",
       "  'https://w3id.org/i40/sto#IEC_61334_P3_S22_E1',\n",
       "  'https://w3id.org/i40/sto#IEC_60870_P5_S3_E1',\n",
       "  'https://w3id.org/i40/sto#IEC_61334_P4_S1_E1',\n",
       "  'https://w3id.org/i40/sto#IEC_61334_P4_S511_E1',\n",
       "  'https://w3id.org/i40/sto#IEC_61400_P25_S2_E2',\n",
       "  'https://w3id.org/i40/sto#IEC_61334_P3_S1_E1',\n",
       "  'https://w3id.org/i40/sto#IEC_61334_P4_S33_E1',\n",
       "  'https://w3id.org/i40/sto#IEC_60839_P7_S3_E1',\n",
       "  'https://w3id.org/i40/sto#IEC_61010_P2_S202_E1',\n",
       "  'https://w3id.org/i40/sto#IEC_61968_P3_E1',\n",
       "  'https://w3id.org/i40/sto#IEC_60870_P5_S1_E1',\n",
       "  'https://w3id.org/i40/sto#RFC_7644',\n",
       "  'https://w3id.org/i40/sto#IEC_60255_P1_E1',\n",
       "  'https://w3id.org/i40/sto#IEC_61400_P25_S3_E2',\n",
       "  'https://w3id.org/i40/sto#IEC_60870_P6_S502_E1',\n",
       "  'https://w3id.org/i40/sto#IEC_60870_P2_S1_E2',\n",
       "  'https://w3id.org/i40/sto#IEC_61334_P4_S512_E1',\n",
       "  'https://w3id.org/i40/sto#IEC_60864_P2_E1',\n",
       "  'https://w3id.org/i40/sto#IEC_61690_P1_E1',\n",
       "  'https://w3id.org/i40/sto#IEC_60050',\n",
       "  'https://w3id.org/i40/sto#IEC_61691_P6_E1',\n",
       "  'https://w3id.org/i40/sto#W3C_SPARQL',\n",
       "  'https://w3id.org/i40/sto#IEC_60255_2010',\n",
       "  'https://w3id.org/i40/sto#IEC_60870_P6_S2_E1',\n",
       "  'https://w3id.org/i40/sto#ISO_15531',\n",
       "  'https://w3id.org/i40/sto#RFC_7642',\n",
       "  'https://w3id.org/i40/sto#IEC_61000_P6_S2_E3',\n",
       "  'https://w3id.org/i40/sto#IEC_61968_P6_E1',\n",
       "  'https://w3id.org/i40/sto#IEC_60255_P149_E1',\n",
       "  'https://w3id.org/i40/sto#IEC_61968_P9_E1',\n",
       "  'https://w3id.org/i40/sto#IEC_61310_P2_E2',\n",
       "  'https://w3id.org/i40/sto#IEC_60050_2013',\n",
       "  'https://w3id.org/i40/sto#ISO_15531-3x',\n",
       "  'https://w3id.org/i40/sto#ISO_20140_5',\n",
       "  'https://w3id.org/i40/sto#IEC_60839_P7_S1_E1',\n",
       "  'https://w3id.org/i40/sto#IEC_60286_P4_E3',\n",
       "  'https://w3id.org/i40/sto#ETSI_DECT',\n",
       "  'https://w3id.org/i40/sto#MTConnect',\n",
       "  'https://w3id.org/i40/sto#RFC_7643',\n",
       "  'https://w3id.org/i40/sto#IEC_61400_P25_S5_E2',\n",
       "  'https://w3id.org/i40/sto#W3C_OWL',\n",
       "  'https://w3id.org/i40/sto#IEC_60864_P1_E1',\n",
       "  'https://w3id.org/i40/sto#IEC_60381_P1_E2'],\n",
       " '1': ['https://w3id.org/i40/sto#IEC_60839_P5_S2_E2',\n",
       "  'https://w3id.org/i40/sto#IEC_62279',\n",
       "  'https://w3id.org/i40/sto#SysML',\n",
       "  'https://w3id.org/i40/sto#IEC_29190',\n",
       "  'https://w3id.org/i40/sto#IEC_29100',\n",
       "  'https://w3id.org/i40/sto#ISO_13485',\n",
       "  'https://w3id.org/i40/sto#IEC_62337',\n",
       "  'https://w3id.org/i40/sto#NIST_500-291',\n",
       "  'https://w3id.org/i40/sto#IEC_60255_P27_E2',\n",
       "  'https://w3id.org/i40/sto#IEC_61850_P7_S1_E1',\n",
       "  'https://w3id.org/i40/sto#IEC_60870_P5_S101_E2_1',\n",
       "  'https://w3id.org/i40/sto#ISO_20140_P1',\n",
       "  'https://w3id.org/i40/sto#RFC_7540',\n",
       "  'https://w3id.org/i40/sto#IEC_29182-1',\n",
       "  'https://w3id.org/i40/sto#DIN_EN_ISO_13849',\n",
       "  'https://w3id.org/i40/sto#ISO_27018',\n",
       "  'https://w3id.org/i40/sto#IEC_61499',\n",
       "  'https://w3id.org/i40/sto#IEC_29182_P1',\n",
       "  'https://w3id.org/i40/sto#ISO_11783',\n",
       "  'https://w3id.org/i40/sto#RFC_768',\n",
       "  'https://w3id.org/i40/sto#IEC_61850_P7_S3_E2',\n",
       "  'https://w3id.org/i40/sto#ISO_19439',\n",
       "  'https://w3id.org/i40/sto#IEC_61804',\n",
       "  'https://w3id.org/i40/sto#ISO_24760',\n",
       "  'https://w3id.org/i40/sto#IEC_61810_P2_E3',\n",
       "  'https://w3id.org/i40/sto#ISO_9594-8',\n",
       "  'https://w3id.org/i40/sto#IEC_61850_P10_E2',\n",
       "  'https://w3id.org/i40/sto#ISO_22745-11',\n",
       "  'https://w3id.org/i40/sto#DIN_EN_61511',\n",
       "  'https://w3id.org/i40/sto#ebXML',\n",
       "  'https://w3id.org/i40/sto#ISO_18828-2',\n",
       "  'https://w3id.org/i40/sto#ISO_18629',\n",
       "  'https://w3id.org/i40/sto#DIN_SPEC_16592',\n",
       "  'https://w3id.org/i40/sto#IEC_62424',\n",
       "  'https://w3id.org/i40/sto#IEC_60870_P6_S502_1995',\n",
       "  'https://w3id.org/i40/sto#IEC_62714',\n",
       "  'https://w3id.org/i40/sto#IEC_60839_P7_S6_E1',\n",
       "  'https://w3id.org/i40/sto#IEC_61158',\n",
       "  'https://w3id.org/i40/sto#ISO_27017',\n",
       "  'https://w3id.org/i40/sto#IEC_62443',\n",
       "  'https://w3id.org/i40/sto#ISO_15704',\n",
       "  'https://w3id.org/i40/sto#IEC_61810_P7_E2',\n",
       "  'https://w3id.org/i40/sto#IEC_62264',\n",
       "  'https://w3id.org/i40/sto#IEC_61850_P4_E2',\n",
       "  'https://w3id.org/i40/sto#ISO_29002',\n",
       "  'https://w3id.org/i40/sto#IEC_60870_P6_S503_2014',\n",
       "  'https://w3id.org/i40/sto#ENISA_CloudComputing',\n",
       "  'https://w3id.org/i40/sto#ModBus',\n",
       "  'https://w3id.org/i40/sto#IEC_61508',\n",
       "  'https://w3id.org/i40/sto#ISO_PAS_17506',\n",
       "  'https://w3id.org/i40/sto#IEC_62794',\n",
       "  'https://w3id.org/i40/sto#ISO_13584',\n",
       "  'https://w3id.org/i40/sto#MathML',\n",
       "  'https://w3id.org/i40/sto#ISO_29190',\n",
       "  'https://w3id.org/i40/sto#IEC_60870_P6_S501_E1',\n",
       "  'https://w3id.org/i40/sto#ISO_19440',\n",
       "  'https://w3id.org/i40/sto#ISO_15926',\n",
       "  'https://w3id.org/i40/sto#ISO_1302',\n",
       "  'https://w3id.org/i40/sto#ISO_27001',\n",
       "  'https://w3id.org/i40/sto#ISO_15531-4x',\n",
       "  'https://w3id.org/i40/sto#BPEL',\n",
       "  'https://w3id.org/i40/sto#ISO_11898-1',\n",
       "  'https://w3id.org/i40/sto#ISO_26262',\n",
       "  'https://w3id.org/i40/sto#IEC_61334',\n",
       "  'https://w3id.org/i40/sto#IEC_61334_P4_S32_E1',\n",
       "  'https://w3id.org/i40/sto#IEC_27031',\n",
       "  'https://w3id.org/i40/sto#ISO_14306',\n",
       "  'https://w3id.org/i40/sto#IEC_61850_P4_E1',\n",
       "  'https://w3id.org/i40/sto#IEC_60870_P5_S103_E1',\n",
       "  'https://w3id.org/i40/sto#ETSI_LTN',\n",
       "  'https://w3id.org/i40/sto#IEC_60286_P3_E5',\n",
       "  'https://w3id.org/i40/sto#NIST_500-293',\n",
       "  'https://w3id.org/i40/sto#IEC_60870_P6_S501_1995',\n",
       "  'https://w3id.org/i40/sto#IEC_60870_P5_S2_E1',\n",
       "  'https://w3id.org/i40/sto#IEC_60839_P7_S5_E1',\n",
       "  'https://w3id.org/i40/sto#ETSI_ULE',\n",
       "  'https://w3id.org/i40/sto#IEC_60839_P7_S4_E1',\n",
       "  'https://w3id.org/i40/sto#W3C_RIF',\n",
       "  'https://w3id.org/i40/sto#IEC_61334_P4_S61_E1',\n",
       "  'https://w3id.org/i40/sto#IEC_61968_P4_E1',\n",
       "  'https://w3id.org/i40/sto#IEC_60286_P5_E3',\n",
       "  'https://w3id.org/i40/sto#ISO_15531-2x',\n",
       "  'https://w3id.org/i40/sto#IEC_60381_P2_E1',\n",
       "  'https://w3id.org/i40/sto#W3C_RDF'],\n",
       " '2': ['https://w3id.org/i40/sto#RFC_2818',\n",
       "  'https://w3id.org/i40/sto#TS-0009',\n",
       "  'https://w3id.org/i40/sto#IEC_61987_X',\n",
       "  'https://w3id.org/i40/sto#ASME_Y1441',\n",
       "  'https://w3id.org/i40/sto#IEC_29115',\n",
       "  'https://w3id.org/i40/sto#DIN_EN_50159',\n",
       "  'https://w3id.org/i40/sto#IEC_61804_P4',\n",
       "  'https://w3id.org/i40/sto#SCOR',\n",
       "  'https://w3id.org/i40/sto#ISA-95',\n",
       "  'https://w3id.org/i40/sto#IEC_61850_P7_S1_E2',\n",
       "  'https://w3id.org/i40/sto#IEC_27018',\n",
       "  'https://w3id.org/i40/sto#NISTIR_8062',\n",
       "  'https://w3id.org/i40/sto#DIN_EN_50128',\n",
       "  'https://w3id.org/i40/sto#ISO_22400',\n",
       "  'https://w3id.org/i40/sto#IEC_62237',\n",
       "  'https://w3id.org/i40/sto#VDI_VDE_2182',\n",
       "  'https://w3id.org/i40/sto#IEC_61850',\n",
       "  'https://w3id.org/i40/sto#DIN_EN_50129',\n",
       "  'https://w3id.org/i40/sto#ISO_29101',\n",
       "  'https://w3id.org/i40/sto#RFC_7252',\n",
       "  'https://w3id.org/i40/sto#IEC_61360',\n",
       "  'https://w3id.org/i40/sto#IEC_62061',\n",
       "  'https://w3id.org/i40/sto#ISO_10303',\n",
       "  'https://w3id.org/i40/sto#ISO_1101',\n",
       "  'https://w3id.org/i40/sto#IEC_61511',\n",
       "  'https://w3id.org/i40/sto#ISO_16792',\n",
       "  'https://w3id.org/i40/sto#IEC_61131',\n",
       "  'https://w3id.org/i40/sto#NIST_800-144',\n",
       "  'https://w3id.org/i40/sto#ISO_13374',\n",
       "  'https://w3id.org/i40/sto#RFC_1122',\n",
       "  'https://w3id.org/i40/sto#ISO_20922',\n",
       "  'https://w3id.org/i40/sto#NIST_500-292',\n",
       "  'https://w3id.org/i40/sto#NIST_800-146',\n",
       "  'https://w3id.org/i40/sto#IEEE_1686',\n",
       "  'https://w3id.org/i40/sto#DIN_EN_50155',\n",
       "  'https://w3id.org/i40/sto#ISO_15746',\n",
       "  'https://w3id.org/i40/sto#ISO_ASTM_52915',\n",
       "  'https://w3id.org/i40/sto#IEC_24760',\n",
       "  'https://w3id.org/i40/sto#ISO_27000',\n",
       "  'https://w3id.org/i40/sto#B2MML',\n",
       "  'https://w3id.org/i40/sto#VDMA_24582',\n",
       "  'https://w3id.org/i40/sto#VDE_2182',\n",
       "  'https://w3id.org/i40/sto#IEC_61784',\n",
       "  'https://w3id.org/i40/sto#IEC_62832',\n",
       "  'https://w3id.org/i40/sto#IEC_60870_P6_S601_E1',\n",
       "  'https://w3id.org/i40/sto#IEC_61850_P7_S2_E1',\n",
       "  'https://w3id.org/i40/sto#ISO_27031',\n",
       "  'https://w3id.org/i40/sto#ISO_5459',\n",
       "  'https://w3id.org/i40/sto#IEC_62541',\n",
       "  'https://w3id.org/i40/sto#ISO_16739',\n",
       "  'https://w3id.org/i40/sto#RFC_6750',\n",
       "  'https://w3id.org/i40/sto#IEC_15408',\n",
       "  'https://w3id.org/i40/sto#ISO_9594',\n",
       "  'https://w3id.org/i40/sto#IEC_61850_P10_E1',\n",
       "  'https://w3id.org/i40/sto#IEC_27036',\n",
       "  'https://w3id.org/i40/sto#IEC_61850_P7_S2_E2',\n",
       "  'https://w3id.org/i40/sto#ISO_50001',\n",
       "  'https://w3id.org/i40/sto#RFC_793',\n",
       "  'https://w3id.org/i40/sto#ISO_8062-4',\n",
       "  'https://w3id.org/i40/sto#OMG_DDS',\n",
       "  'https://w3id.org/i40/sto#IEC_60870_P6_S2_1995',\n",
       "  'https://w3id.org/i40/sto#RFC_5246',\n",
       "  'https://w3id.org/i40/sto#IEC_61804_P5',\n",
       "  'https://w3id.org/i40/sto#IEC_61850_P7_S3_E1',\n",
       "  'https://w3id.org/i40/sto#IEC_61850_P7_S4_E2',\n",
       "  'https://w3id.org/i40/sto#DIN_SPEC_27070',\n",
       "  'https://w3id.org/i40/sto#IEC_61512',\n",
       "  'https://w3id.org/i40/sto#ISO_15408',\n",
       "  'https://w3id.org/i40/sto#ISO_27036',\n",
       "  'https://w3id.org/i40/sto#IEC_62890',\n",
       "  'https://w3id.org/i40/sto#ODRL',\n",
       "  'https://w3id.org/i40/sto#ISO_14739-1',\n",
       "  'https://w3id.org/i40/sto#IEC_61850_P7_S4_E1',\n",
       "  'https://w3id.org/i40/sto#ISO_13849',\n",
       "  'https://w3id.org/i40/sto#IEC_61804_P3',\n",
       "  'https://w3id.org/i40/sto#ISO_29100',\n",
       "  'https://w3id.org/i40/sto#IEC_62453',\n",
       "  'https://w3id.org/i40/sto#ISO_TS_14649-201',\n",
       "  'https://w3id.org/i40/sto#DIN_SPEC_92222',\n",
       "  'https://w3id.org/i40/sto#ISO_29134',\n",
       "  'https://w3id.org/i40/sto#ISO_9000',\n",
       "  'https://w3id.org/i40/sto#DIN_EN_ISO_IEC_17025',\n",
       "  'https://w3id.org/i40/sto#IEC_61513',\n",
       "  'https://w3id.org/i40/sto#IEC_60870_P6_S701_E1',\n",
       "  'https://w3id.org/i40/sto#IEC_61968_P3_E2']}"
      ]
     },
     "execution_count": 714,
     "metadata": {},
     "output_type": "execute_result"
    }
   ],
   "source": [
    "i = 0\n",
    "#partitions = {\"0\":[], \"1\":[], \"2\":[], \"3\":[], \"4\":[], \"5\":[], \"6\":[], \"7\":[], \"8\":[], \"9\":[], \"10\":[], \"11\":[], \"12\":[], \"13\":[], \"14\":[], \"15\":[], \"16\":[], \"17\":[]}\n",
    "partitions = dict((str(k), []) for k in range(num_cls))\n",
    "for p in parts:\n",
    "    name = nodes.iat[i, 0]\n",
    "    i +=1\n",
    "    partitions[str(p)].append(name)\n",
    "    \n",
    "#f = open(output+'metis/metis_10_standards.graph.json', \"w+\")\n",
    "#json.dump(partitions, f)\n",
    "#f.close()\n",
    "partitions"
   ]
  },
  {
   "cell_type": "code",
   "execution_count": 715,
   "metadata": {},
   "outputs": [
    {
     "name": "stdout",
     "output_type": "stream",
     "text": [
      "249\n"
     ]
    }
   ],
   "source": [
    "i = 0\n",
    "count = 0\n",
    "#!mkdir result/metis/clusters\n",
    "for p in partitions:\n",
    "    if len(partitions[p]) == 0:\n",
    "        continue\n",
    "    count += len(partitions[p])\n",
    "    f = open(output+'metis/clusters/cluster-' + str(i) + '.txt', 'w+')\n",
    "    [f.write(l+'\\n') for l in partitions[p]]\n",
    "    f.close()\n",
    "    i+=1\n",
    "print(count)"
   ]
  },
  {
   "cell_type": "markdown",
   "metadata": {},
   "source": [
    "## K-means Analyse "
   ]
  },
  {
   "cell_type": "code",
   "execution_count": 716,
   "metadata": {},
   "outputs": [],
   "source": [
    "vectors = []\n",
    "for key,value in array.items():\n",
    "    vectors.append(value)\n",
    "X = np.array(vectors)"
   ]
  },
  {
   "cell_type": "code",
   "execution_count": 717,
   "metadata": {},
   "outputs": [
    {
     "data": {
      "text/plain": [
       "array([ 0.05052849, -0.0632145 , -0.02205185,  0.17897721,  0.05961932,\n",
       "       -0.26247597, -0.04752398, -0.21396852, -0.10801536,  0.10498372,\n",
       "       -0.01238741, -0.2033399 ,  0.14972863, -0.18790549,  0.07669486,\n",
       "       -0.22222292,  0.31121755,  0.04505344, -0.09402495,  0.10220914,\n",
       "        0.02196834,  0.02441439,  0.21452524, -0.02371767, -0.11564017,\n",
       "       -0.20637375,  0.04606306,  0.17057599,  0.08580468,  0.08668166,\n",
       "        0.05280889, -0.18776137, -0.05231023, -0.06694287,  0.11351549,\n",
       "       -0.07288633,  0.16161516, -0.16456601,  0.26741853,  0.1333665 ,\n",
       "        0.06265617,  0.045915  , -0.0891562 ,  0.24590164, -0.09609527,\n",
       "        0.16745697, -0.05971443,  0.1429031 , -0.11622029, -0.18661995])"
      ]
     },
     "execution_count": 717,
     "metadata": {},
     "output_type": "execute_result"
    }
   ],
   "source": [
    "X[0]"
   ]
  },
  {
   "cell_type": "code",
   "execution_count": 718,
   "metadata": {},
   "outputs": [
    {
     "data": {
      "image/png": "[encoded data removed]",
      "text/plain": [
       "<Figure size 432x288 with 1 Axes>"
      ]
     },
     "metadata": {
      "needs_background": "light"
     },
     "output_type": "display_data"
    }
   ],
   "source": [
    "#X=cosine_matrix\n",
    "Nc = range(1, 50)\n",
    "kmeans = [KMeans(n_clusters=i) for i in Nc]\n",
    "#print(kmeans)\n",
    "score = [kmeans[i].fit(X).score(X) for i in range(len(kmeans))]\n",
    "plt.plot(Nc, score)\n",
    "plt.xlabel('Number of Clusters')\n",
    "plt.ylabel('Score')\n",
    "plt.title('Elbow Curve')\n",
    "plt.show()"
   ]
  },
  {
   "cell_type": "code",
   "execution_count": 719,
   "metadata": {
    "scrolled": true
   },
   "outputs": [
    {
     "data": {
      "image/png": "[encoded data removed]",
      "text/plain": [
       "<Figure size 432x288 with 1 Axes>"
      ]
     },
     "metadata": {
      "needs_background": "light"
     },
     "output_type": "display_data"
    }
   ],
   "source": [
    "from sklearn.decomposition import PCA\n",
    "from sklearn.cluster import KMeans\n",
    "import matplotlib.pyplot as plt\n",
    "\n",
    "pca = PCA(n_components=2).fit(X)\n",
    "pca_c = pca.transform(X)\n",
    "#kmeans = KMeans(n_clusters=7, random_state=0).fit(X)\n",
    "kmeans = KMeans(n_clusters=num_cls, random_state=0).fit(cosine_matrix)\n",
    "\n",
    "plt.scatter(pca_c[:, 0], pca_c[:, 1], c=kmeans.labels_, marker='+')\n",
    "plt.title(\"Clusters of Standard\")\n",
    "\n",
    "plt.show()"
   ]
  },
  {
   "cell_type": "markdown",
   "metadata": {},
   "source": [
    "### Number of standard by clsuter"
   ]
  },
  {
   "cell_type": "code",
   "execution_count": 720,
   "metadata": {},
   "outputs": [
    {
     "data": {
      "text/plain": [
       "0    72\n",
       "1    95\n",
       "2    82\n",
       "dtype: int64"
      ]
     },
     "execution_count": 720,
     "metadata": {},
     "output_type": "execute_result"
    }
   ],
   "source": [
    "pd.value_counts(kmeans.labels_, 0)"
   ]
  },
  {
   "cell_type": "markdown",
   "metadata": {},
   "source": [
    "### Save each partition standads into a file"
   ]
  },
  {
   "cell_type": "code",
   "execution_count": 721,
   "metadata": {},
   "outputs": [],
   "source": [
    "list_cluster = pd.DataFrame()\n",
    "list_cluster.insert(0, 'standards', list_n)\n",
    "list_cluster.insert(1, 'clusters', kmeans.labels_)\n",
    "#list_cluster = list_cluster.sort_values(by=['clusters'], ascending=False)"
   ]
  },
  {
   "cell_type": "code",
   "execution_count": 722,
   "metadata": {},
   "outputs": [
    {
     "data": {
      "text/html": [
       "<div>\n",
       "<style scoped>\n",
       "    .dataframe tbody tr th:only-of-type {\n",
       "        vertical-align: middle;\n",
       "    }\n",
       "\n",
       "    .dataframe tbody tr th {\n",
       "        vertical-align: top;\n",
       "    }\n",
       "\n",
       "    .dataframe thead th {\n",
       "        text-align: right;\n",
       "    }\n",
       "</style>\n",
       "<table border=\"1\" class=\"dataframe\">\n",
       "  <thead>\n",
       "    <tr style=\"text-align: right;\">\n",
       "      <th></th>\n",
       "      <th>standards</th>\n",
       "      <th>clusters</th>\n",
       "    </tr>\n",
       "  </thead>\n",
       "  <tbody>\n",
       "    <tr>\n",
       "      <th>0</th>\n",
       "      <td>https://w3id.org/i40/sto#IEC_60839_P5_S2_E2</td>\n",
       "      <td>2</td>\n",
       "    </tr>\n",
       "    <tr>\n",
       "      <th>1</th>\n",
       "      <td>https://w3id.org/i40/sto#RFC_2818</td>\n",
       "      <td>0</td>\n",
       "    </tr>\n",
       "    <tr>\n",
       "      <th>2</th>\n",
       "      <td>https://w3id.org/i40/sto#TS-0009</td>\n",
       "      <td>0</td>\n",
       "    </tr>\n",
       "    <tr>\n",
       "      <th>3</th>\n",
       "      <td>https://w3id.org/i40/sto#IEC_61987_X</td>\n",
       "      <td>2</td>\n",
       "    </tr>\n",
       "    <tr>\n",
       "      <th>4</th>\n",
       "      <td>https://w3id.org/i40/sto#ASME_Y1441</td>\n",
       "      <td>2</td>\n",
       "    </tr>\n",
       "  </tbody>\n",
       "</table>\n",
       "</div>"
      ],
      "text/plain": [
       "                                     standards  clusters\n",
       "0  https://w3id.org/i40/sto#IEC_60839_P5_S2_E2         2\n",
       "1            https://w3id.org/i40/sto#RFC_2818         0\n",
       "2             https://w3id.org/i40/sto#TS-0009         0\n",
       "3         https://w3id.org/i40/sto#IEC_61987_X         2\n",
       "4          https://w3id.org/i40/sto#ASME_Y1441         2"
      ]
     },
     "execution_count": 722,
     "metadata": {},
     "output_type": "execute_result"
    }
   ],
   "source": [
    "list_cluster.head()"
   ]
  },
  {
   "cell_type": "code",
   "execution_count": 723,
   "metadata": {},
   "outputs": [
    {
     "name": "stderr",
     "output_type": "stream",
     "text": [
      "/usr/local/lib/python3.6/dist-packages/ipykernel_launcher.py:59: FutureWarning: The signature of `Series.to_csv` was aligned to that of `DataFrame.to_csv`, and argument 'header' will change its default value from False to True: please pass an explicit value to suppress this warning.\n",
      "/usr/local/lib/python3.6/dist-packages/ipykernel_launcher.py:60: FutureWarning: The signature of `Series.to_csv` was aligned to that of `DataFrame.to_csv`, and argument 'header' will change its default value from False to True: please pass an explicit value to suppress this warning.\n",
      "/usr/local/lib/python3.6/dist-packages/ipykernel_launcher.py:61: FutureWarning: The signature of `Series.to_csv` was aligned to that of `DataFrame.to_csv`, and argument 'header' will change its default value from False to True: please pass an explicit value to suppress this warning.\n"
     ]
    },
    {
     "data": {
      "text/plain": [
       "\"\\ncls_3['standards'].to_csv(output+'Kmeans/clusters/cluster-3.txt', index=False)\\ncls_4['standards'].to_csv(output+'Kmeans/clusters/cluster-4.txt', index=False)\\ncls_5['standards'].to_csv(output+'Kmeans/clusters/cluster-5.txt', index=False)\\ncls_6['standards'].to_csv(output+'Kmeans/clusters/cluster-6.txt', index=False)\\ncls_7['standards'].to_csv(output+'Kmeans/clusters/cluster-7.txt', index=False)\\ncls_8['standards'].to_csv(output+'Kmeans/clusters/cluster-8.txt', index=False)\\ncls_9['standards'].to_csv(output+'Kmeans/clusters/cluster-9.txt', index=False)\\ncls_10['standards'].to_csv(output+'Kmeans/clusters/cluster-10.txt', index=False)\\ncls_11['standards'].to_csv(output+'Kmeans/clusters/cluster-11.txt', index=False)\\ncls_12['standards'].to_csv(output+'Kmeans/clusters/cluster-12.txt', index=False)\\ncls_13['standards'].to_csv(output+'Kmeans/clusters/cluster-13.txt', index=False)\\ncls_14['standards'].to_csv(output+'Kmeans/clusters/cluster-14.txt', index=False)\\ncls_15['standards'].to_csv(output+'Kmeans/clusters/cluster-15.txt', index=False)\\ncls_16['standards'].to_csv(output+'Kmeans/clusters/cluster-16.txt', index=False)\\ncls_17['standards'].to_csv(output+'Kmeans/clusters/cluster-17.txt', index=False)\\ncls_18['standards'].to_csv(output+'Kmeans/clusters/cluster-18.txt', index=False)\\ncls_19['standards'].to_csv(output+'Kmeans/clusters/cluster-19.txt', index=False)\\ncls_20['standards'].to_csv(output+'Kmeans/clusters/cluster-20.txt', index=False)\\ncls_21['standards'].to_csv(output+'Kmeans/clusters/cluster-21.txt', index=False)\\ncls_22['standards'].to_csv(output+'Kmeans/clusters/cluster-22.txt', index=False)\\ncls_23['standards'].to_csv(output+'Kmeans/clusters/cluster-23.txt', index=False)\\ncls_24['standards'].to_csv(output+'Kmeans/clusters/cluster-24.txt', index=False)\\ncls_25['standards'].to_csv(output+'Kmeans/clusters/cluster-25.txt', index=False)\\ncls_26['standards'].to_csv(output+'Kmeans/clusters/cluster-26.txt', index=False)\\ncls_27['standards'].to_csv(output+'Kmeans/clusters/cluster-27.txt', index=False)\\ncls_28['standards'].to_csv(output+'Kmeans/clusters/cluster-28.txt', index=False)\\ncls_29['standards'].to_csv(output+'Kmeans/clusters/cluster-29.txt', index=False)\\ncls_30['standards'].to_csv(output+'Kmeans/clusters/cluster-30.txt', index=False)\\ncls_31['standards'].to_csv(output+'Kmeans/clusters/cluster-31.txt', index=False)\\ncls_32['standards'].to_csv(output+'Kmeans/clusters/cluster-32.txt', index=False)\\ncls_33['standards'].to_csv(output+'Kmeans/clusters/cluster-33.txt', index=False)\\ncls_34['standards'].to_csv(output+'Kmeans/clusters/cluster-34.txt', index=False)\\ncls_35['standards'].to_csv(output+'Kmeans/clusters/cluster-35.txt', index=False)\\ncls_36['standards'].to_csv(output+'Kmeans/clusters/cluster-36.txt', index=False)\\ncls_37['standards'].to_csv(output+'Kmeans/clusters/cluster-37.txt', index=False)\\ncls_38['standards'].to_csv(output+'Kmeans/clusters/cluster-38.txt', index=False)\\ncls_39['standards'].to_csv(output+'Kmeans/clusters/cluster-39.txt', index=False)\\ncls_40['standards'].to_csv(output+'Kmeans/clusters/cluster-40.txt', index=False)\\ncls_41['standards'].to_csv(output+'Kmeans/clusters/cluster-41.txt', index=False)\\ncls_42['standards'].to_csv(output+'Kmeans/clusters/cluster-42.txt', index=False)\\ncls_43['standards'].to_csv(output+'Kmeans/clusters/cluster-43.txt', index=False)\\ncls_44['standards'].to_csv(output+'Kmeans/clusters/cluster-44.txt', index=False)\\ncls_45['standards'].to_csv(output+'Kmeans/clusters/cluster-45.txt', index=False)\\ncls_46['standards'].to_csv(output+'Kmeans/clusters/cluster-46.txt', index=False)\\ncls_47['standards'].to_csv(output+'Kmeans/clusters/cluster-47.txt', index=False)\\ncls_48['standards'].to_csv(output+'Kmeans/clusters/cluster-48.txt', index=False)\\ncls_49['standards'].to_csv(output+'Kmeans/clusters/cluster-49.txt', index=False)\\ncls_50['standards'].to_csv(output+'Kmeans/clusters/cluster-50.txt', index=False)\\ncls_51['standards'].to_csv(output+'Kmeans/clusters/cluster-51.txt', index=False)\\ncls_52['standards'].to_csv(output+'Kmeans/clusters/cluster-52.txt', index=False)\\n\""
      ]
     },
     "execution_count": 723,
     "metadata": {},
     "output_type": "execute_result"
    }
   ],
   "source": [
    "#!mkdir result/Kmeans\n",
    "#!mkdir result/Kmeans/cluster\n",
    "cls_0 = list_cluster.loc[list_cluster['clusters'] == 0]\n",
    "cls_1 = list_cluster.loc[list_cluster['clusters'] == 1]\n",
    "cls_2 = list_cluster.loc[list_cluster['clusters'] == 2]\n",
    "\"\"\"\n",
    "cls_3 = list_cluster.loc[list_cluster['clusters'] == 3]\n",
    "cls_4 = list_cluster.loc[list_cluster['clusters'] == 4]\n",
    "cls_5 = list_cluster.loc[list_cluster['clusters'] == 5]\n",
    "cls_6 = list_cluster.loc[list_cluster['clusters'] == 6]\n",
    "cls_7 = list_cluster.loc[list_cluster['clusters'] == 7]\n",
    "cls_8 = list_cluster.loc[list_cluster['clusters'] == 8]\n",
    "cls_9 = list_cluster.loc[list_cluster['clusters'] == 9]\n",
    "cls_10 = list_cluster.loc[list_cluster['clusters'] == 10]\n",
    "cls_11 = list_cluster.loc[list_cluster['clusters'] == 11]\n",
    "cls_12 = list_cluster.loc[list_cluster['clusters'] == 12]\n",
    "cls_13 = list_cluster.loc[list_cluster['clusters'] == 13]\n",
    "cls_14 = list_cluster.loc[list_cluster['clusters'] == 14]\n",
    "cls_15 = list_cluster.loc[list_cluster['clusters'] == 15]\n",
    "cls_16 = list_cluster.loc[list_cluster['clusters'] == 16]\n",
    "cls_17 = list_cluster.loc[list_cluster['clusters'] == 17]\n",
    "cls_18 = list_cluster.loc[list_cluster['clusters'] == 18]\n",
    "cls_19 = list_cluster.loc[list_cluster['clusters'] == 19]\n",
    "cls_20 = list_cluster.loc[list_cluster['clusters'] == 20]\n",
    "cls_21 = list_cluster.loc[list_cluster['clusters'] == 21]\n",
    "cls_22 = list_cluster.loc[list_cluster['clusters'] == 22]\n",
    "cls_23 = list_cluster.loc[list_cluster['clusters'] == 23]\n",
    "cls_24 = list_cluster.loc[list_cluster['clusters'] == 24]\n",
    "cls_25 = list_cluster.loc[list_cluster['clusters'] == 25]\n",
    "cls_26 = list_cluster.loc[list_cluster['clusters'] == 26]\n",
    "cls_27 = list_cluster.loc[list_cluster['clusters'] == 27]\n",
    "cls_28 = list_cluster.loc[list_cluster['clusters'] == 28]\n",
    "cls_29 = list_cluster.loc[list_cluster['clusters'] == 29]\n",
    "cls_30 = list_cluster.loc[list_cluster['clusters'] == 30]\n",
    "cls_31 = list_cluster.loc[list_cluster['clusters'] == 31]\n",
    "cls_32 = list_cluster.loc[list_cluster['clusters'] == 32]\n",
    "cls_33 = list_cluster.loc[list_cluster['clusters'] == 33]\n",
    "cls_34 = list_cluster.loc[list_cluster['clusters'] == 34]\n",
    "cls_35 = list_cluster.loc[list_cluster['clusters'] == 35]\n",
    "cls_36 = list_cluster.loc[list_cluster['clusters'] == 36]\n",
    "cls_37 = list_cluster.loc[list_cluster['clusters'] == 37]\n",
    "cls_38 = list_cluster.loc[list_cluster['clusters'] == 38]\n",
    "cls_39 = list_cluster.loc[list_cluster['clusters'] == 39]\n",
    "cls_40 = list_cluster.loc[list_cluster['clusters'] == 40]\n",
    "cls_41 = list_cluster.loc[list_cluster['clusters'] == 41]\n",
    "cls_42 = list_cluster.loc[list_cluster['clusters'] == 42]\n",
    "cls_43 = list_cluster.loc[list_cluster['clusters'] == 43]\n",
    "cls_44 = list_cluster.loc[list_cluster['clusters'] == 44]\n",
    "cls_45 = list_cluster.loc[list_cluster['clusters'] == 45]\n",
    "cls_46 = list_cluster.loc[list_cluster['clusters'] == 46]\n",
    "cls_47 = list_cluster.loc[list_cluster['clusters'] == 47]\n",
    "cls_48 = list_cluster.loc[list_cluster['clusters'] == 48]\n",
    "cls_49 = list_cluster.loc[list_cluster['clusters'] == 49]\n",
    "cls_50 = list_cluster.loc[list_cluster['clusters'] == 50]\n",
    "cls_51 = list_cluster.loc[list_cluster['clusters'] == 51]\n",
    "cls_52 = list_cluster.loc[list_cluster['clusters'] == 52]\n",
    "\"\"\"\n",
    "\n",
    "cls_0['standards'].to_csv(output+'Kmeans/clusters/cluster-0.txt', index=False)\n",
    "cls_1['standards'].to_csv(output+'Kmeans/clusters/cluster-1.txt', index=False)\n",
    "cls_2['standards'].to_csv(output+'Kmeans/clusters/cluster-2.txt', index=False)\n",
    "\"\"\"\n",
    "cls_3['standards'].to_csv(output+'Kmeans/clusters/cluster-3.txt', index=False)\n",
    "cls_4['standards'].to_csv(output+'Kmeans/clusters/cluster-4.txt', index=False)\n",
    "cls_5['standards'].to_csv(output+'Kmeans/clusters/cluster-5.txt', index=False)\n",
    "cls_6['standards'].to_csv(output+'Kmeans/clusters/cluster-6.txt', index=False)\n",
    "cls_7['standards'].to_csv(output+'Kmeans/clusters/cluster-7.txt', index=False)\n",
    "cls_8['standards'].to_csv(output+'Kmeans/clusters/cluster-8.txt', index=False)\n",
    "cls_9['standards'].to_csv(output+'Kmeans/clusters/cluster-9.txt', index=False)\n",
    "cls_10['standards'].to_csv(output+'Kmeans/clusters/cluster-10.txt', index=False)\n",
    "cls_11['standards'].to_csv(output+'Kmeans/clusters/cluster-11.txt', index=False)\n",
    "cls_12['standards'].to_csv(output+'Kmeans/clusters/cluster-12.txt', index=False)\n",
    "cls_13['standards'].to_csv(output+'Kmeans/clusters/cluster-13.txt', index=False)\n",
    "cls_14['standards'].to_csv(output+'Kmeans/clusters/cluster-14.txt', index=False)\n",
    "cls_15['standards'].to_csv(output+'Kmeans/clusters/cluster-15.txt', index=False)\n",
    "cls_16['standards'].to_csv(output+'Kmeans/clusters/cluster-16.txt', index=False)\n",
    "cls_17['standards'].to_csv(output+'Kmeans/clusters/cluster-17.txt', index=False)\n",
    "cls_18['standards'].to_csv(output+'Kmeans/clusters/cluster-18.txt', index=False)\n",
    "cls_19['standards'].to_csv(output+'Kmeans/clusters/cluster-19.txt', index=False)\n",
    "cls_20['standards'].to_csv(output+'Kmeans/clusters/cluster-20.txt', index=False)\n",
    "cls_21['standards'].to_csv(output+'Kmeans/clusters/cluster-21.txt', index=False)\n",
    "cls_22['standards'].to_csv(output+'Kmeans/clusters/cluster-22.txt', index=False)\n",
    "cls_23['standards'].to_csv(output+'Kmeans/clusters/cluster-23.txt', index=False)\n",
    "cls_24['standards'].to_csv(output+'Kmeans/clusters/cluster-24.txt', index=False)\n",
    "cls_25['standards'].to_csv(output+'Kmeans/clusters/cluster-25.txt', index=False)\n",
    "cls_26['standards'].to_csv(output+'Kmeans/clusters/cluster-26.txt', index=False)\n",
    "cls_27['standards'].to_csv(output+'Kmeans/clusters/cluster-27.txt', index=False)\n",
    "cls_28['standards'].to_csv(output+'Kmeans/clusters/cluster-28.txt', index=False)\n",
    "cls_29['standards'].to_csv(output+'Kmeans/clusters/cluster-29.txt', index=False)\n",
    "cls_30['standards'].to_csv(output+'Kmeans/clusters/cluster-30.txt', index=False)\n",
    "cls_31['standards'].to_csv(output+'Kmeans/clusters/cluster-31.txt', index=False)\n",
    "cls_32['standards'].to_csv(output+'Kmeans/clusters/cluster-32.txt', index=False)\n",
    "cls_33['standards'].to_csv(output+'Kmeans/clusters/cluster-33.txt', index=False)\n",
    "cls_34['standards'].to_csv(output+'Kmeans/clusters/cluster-34.txt', index=False)\n",
    "cls_35['standards'].to_csv(output+'Kmeans/clusters/cluster-35.txt', index=False)\n",
    "cls_36['standards'].to_csv(output+'Kmeans/clusters/cluster-36.txt', index=False)\n",
    "cls_37['standards'].to_csv(output+'Kmeans/clusters/cluster-37.txt', index=False)\n",
    "cls_38['standards'].to_csv(output+'Kmeans/clusters/cluster-38.txt', index=False)\n",
    "cls_39['standards'].to_csv(output+'Kmeans/clusters/cluster-39.txt', index=False)\n",
    "cls_40['standards'].to_csv(output+'Kmeans/clusters/cluster-40.txt', index=False)\n",
    "cls_41['standards'].to_csv(output+'Kmeans/clusters/cluster-41.txt', index=False)\n",
    "cls_42['standards'].to_csv(output+'Kmeans/clusters/cluster-42.txt', index=False)\n",
    "cls_43['standards'].to_csv(output+'Kmeans/clusters/cluster-43.txt', index=False)\n",
    "cls_44['standards'].to_csv(output+'Kmeans/clusters/cluster-44.txt', index=False)\n",
    "cls_45['standards'].to_csv(output+'Kmeans/clusters/cluster-45.txt', index=False)\n",
    "cls_46['standards'].to_csv(output+'Kmeans/clusters/cluster-46.txt', index=False)\n",
    "cls_47['standards'].to_csv(output+'Kmeans/clusters/cluster-47.txt', index=False)\n",
    "cls_48['standards'].to_csv(output+'Kmeans/clusters/cluster-48.txt', index=False)\n",
    "cls_49['standards'].to_csv(output+'Kmeans/clusters/cluster-49.txt', index=False)\n",
    "cls_50['standards'].to_csv(output+'Kmeans/clusters/cluster-50.txt', index=False)\n",
    "cls_51['standards'].to_csv(output+'Kmeans/clusters/cluster-51.txt', index=False)\n",
    "cls_52['standards'].to_csv(output+'Kmeans/clusters/cluster-52.txt', index=False)\n",
    "\"\"\""
   ]
  },
  {
   "cell_type": "markdown",
   "metadata": {},
   "source": [
    "### Density plot of standard similarity"
   ]
  },
  {
   "cell_type": "code",
   "execution_count": 724,
   "metadata": {},
   "outputs": [],
   "source": [
    "#i=0\n",
    "similarity=[]\n",
    "#standard_similarity = pd.DataFrame(columns=['std_1', 'std_2', 'similarity'])\n",
    "for key,value in array.items():\n",
    "    for keyC,valueC in array.items():\n",
    "        if key != keyC:\n",
    "            sim = abs(1-scipy.spatial.distance.cosine(value,valueC)) #send the values of the standards/frameworks to cosine similarity function\n",
    "            similarity.append(sim)\n",
    "            #standard_similarity.loc[i]=[key, keyC, sim]\n",
    "            #i+=1\n",
    "standard_similarity = pd.DataFrame()\n",
    "standard_similarity.insert(0, 'similarity', similarity)"
   ]
  },
  {
   "cell_type": "code",
   "execution_count": 749,
   "metadata": {},
   "outputs": [
    {
     "data": {
      "text/plain": [
       "<matplotlib.axes._subplots.AxesSubplot at 0x7f4c0807e9e8>"
      ]
     },
     "execution_count": 749,
     "metadata": {},
     "output_type": "execute_result"
    },
    {
     "data": {
      "image/png": "[encoded data removed]",
      "text/plain": [
       "<Figure size 432x288 with 1 Axes>"
      ]
     },
     "metadata": {
      "needs_background": "light"
     },
     "output_type": "display_data"
    }
   ],
   "source": [
    "standard_similarity[\"similarity\"].plot.kde(bw_method=0.01)"
   ]
  },
  {
   "cell_type": "code",
   "execution_count": 756,
   "metadata": {},
   "outputs": [
    {
     "data": {
      "image/png": "[encoded data removed]",
      "text/plain": [
       "<Figure size 432x288 with 1 Axes>"
      ]
     },
     "metadata": {
      "needs_background": "light"
     },
     "output_type": "display_data"
    }
   ],
   "source": [
    "#plt.savefig(\"Cluster_algorithm_link_prediction.pdf\", format='pdf', bbox_inches = 'tight')\n",
    "ax = standard_similarity[\"similarity\"].plot.kde(bw_method=0.01)\n",
    "fig = ax.get_figure()\n",
    "fig.savefig(\"Density_plot.pdf\", format='pdf', bbox_inches = 'tight')"
   ]
  },
  {
   "cell_type": "code",
   "execution_count": 726,
   "metadata": {},
   "outputs": [],
   "source": [
    "#Format required of the matrix to run clustering Measures\n",
    "#!mkdir result/measures\n",
    "cosine_matrix.to_csv(output+'measures/matrix_undirected_cosine.txt', mode='w+',\n",
    "                     index=False, header=False, float_format='%.5f')\n",
    "with open(output+'measures/'+ENTITIES_FILE, \"w\") as entity:\n",
    "    entity.write(n_ent+\"\\n\"+entities)"
   ]
  },
  {
   "cell_type": "code",
   "execution_count": null,
   "metadata": {},
   "outputs": [],
   "source": [
    "#Run clustering Measures from: https://github.com/SDM-TIB/korona-graph-partitioning/tree/master/utils/clusteringMeasures\n",
    "#!rivas@LXZ15265:/media/rivas/Data1/Data-mining/KCAP-I40KG-Embeddings/korona-graph-partitioning/utils/clusteringMeasures$ ./cma measures/clusters measures/entities.txt measures/matrix_undirected_cosine.txt"
   ]
  },
  {
   "cell_type": "code",
   "execution_count": 731,
   "metadata": {},
   "outputs": [
    {
     "name": "stdout",
     "output_type": "stream",
     "text": [
      "0.554818156067\n",
      "0.647229935684\n",
      "2112.692790000001\n",
      "0.087608420663\n",
      "0.478181461696\n"
     ]
    }
   ],
   "source": [
    "path = '../korona-graph-partitioning/utils/clusteringMeasures/'\n",
    "cls_m = path + \"output.txt\"\n",
    "measure = []\n",
    "static = 16\n",
    "n_metric = 5\n",
    "cls_measures = pd.read_csv(cls_m, delimiter=\",\", header=None)\n",
    "index_start = static + num_cls\n",
    "index_end = index_start + n_metric\n",
    "for pos in range(index_start, index_end):\n",
    "    a = cls_measures.iloc[pos].to_string()\n",
    "    b = a.split('\\\\t')[1]\n",
    "    measure.append(float(b))\n",
    "print(*[measure[0],measure[4], measure[3], measure[2], measure[1]], sep='\\n')"
   ]
  },
  {
   "cell_type": "code",
   "execution_count": 732,
   "metadata": {},
   "outputs": [
    {
     "name": "stdout",
     "output_type": "stream",
     "text": [
      "[4.45, 6.47, 7.47, 3.92, 4.78]\n"
     ]
    }
   ],
   "source": [
    "#Transform these three metric to (Inv. Conductance, Norm.Modularity and Inv.Norm.Total Cut) for each algorithm\n",
    "\n",
    "#conductance = 0.705256059271\n",
    "#modularity = 0.166783425861\n",
    "#total_cut = 1012.587679999999\n",
    "#max_cut = sum(list_sim)\n",
    "\n",
    "max_cut = sum(cosine_matrix.sum(axis = 0, skipna = True))\n",
    "\n",
    "measure[0] = 1.0 - measure[0]\n",
    "measure[2] = (measure[2] + 0.5)/1.5\n",
    "measure[3] = 1-(measure[3]/max_cut)\n",
    "alg = [measure[0],measure[4],measure[3],measure[2],measure[1]]\n",
    "alg = [round(i * 10, 2) for i in alg]\n",
    "print(alg)"
   ]
  },
  {
   "cell_type": "code",
   "execution_count": null,
   "metadata": {},
   "outputs": [],
   "source": [
    "cls_evaluation_TransR_th_60 = {'semep':[3.61, 5.16, 7.77, 3.61, 5.41],\n",
    "                               'metis':[4.19, 6.45, 7.39, 3.81, 4.62],\n",
    "                               'kmeans':[4.45, 6.47, 7.47, 3.92, 4.78]"
   ]
  },
  {
   "cell_type": "code",
   "execution_count": 698,
   "metadata": {},
   "outputs": [],
   "source": [
    "cls_evaluation_TransD_th_85 = {'semep':[4.29, 5.85, 7.78, 3.95, 5.09],\n",
    "                               'metis':[4.79, 6.63, 7.64, 4.3, 4.8],\n",
    "                               'kmeans':[4.65, 6.35, 7.66, 4.18, 4.83]\n",
    "                              }\n",
    "cls_evaluation_TransD_th_90 = {'semep':[2.18, 8.32, 6.48, 3.83, 2.18],\n",
    "                               'metis':[3.2, 8.42, 6.94, 4.51, 3.2],\n",
    "                               'kmeans':[2.85, 7.57, 7.07, 4.19, 3.49]\n",
    "                              }\n",
    "cls_evaluation_TransD_th_95 = {'semep':[1.29, 9.56, 6.4, 4.01, 1.33],\n",
    "                               'metis':[2.28, 9.61, 6.79, 4.65, 2.28],\n",
    "                               'kmeans':[1.89, 9.42, 6.66, 4.37, 1.97]\n",
    "                              }\n",
    "cls_evaluation_TransE_th_85 = {'semep':[3.49, 7.92, 7.1, 4.37, 3.73],\n",
    "                               'metis':[4.04, 8.22, 7.32, 4.86, 4.19],\n",
    "                               'kmeans':[4.23, 7.97, 7.33, 4.96, 4.23]\n",
    "                              }\n",
    "cls_evaluation_TransE_th_90 = {'semep':[1.78, 9.11, 6.33, 4.11, 2.05],\n",
    "                               'metis':[0.55, 9.2, 5.67, 3.45, 0.61],\n",
    "                               'kmeans':[1.38, 8.02, 6.24, 4.14, 1.85]\n",
    "                              }\n",
    "cls_evaluation_TransE_th_95 = {'semep':[3.68, 9.6, 6.71, 4.52, 2.39],\n",
    "                               'metis':[1.2, 9.66, 6.08, 3.81, 0.95],\n",
    "                               'kmeans':[1.13, 7.89, 6.4, 4.17, 1.69]\n",
    "                              }\n",
    "cls_evaluation_TransH_th_85 = {'semep':[10.0, 6.96, 10.0, 10.0, 10.0],\n",
    "                               'metis':[3.2, 7.86, 5.49, 3.43, 0.89],\n",
    "                               'kmeans':[7.18, 7.95, 6.82, 3.56, 3.57]\n",
    "                              }\n",
    "cls_evaluation_TransH_th_90 = {'semep':[2.15, 9.16, 6.48, 4.43, 2.43],\n",
    "                               'metis':[2.42, 9.26, 6.54, 4.62, 2.55],\n",
    "                               'kmeans':[2.39, 8.59, 6.84, 4.91, 3.21]\n",
    "                              }\n",
    "cls_evaluation_TransH_th_95 = {'semep':[3.92, 9.6, 7.29, 5.29, 3.82],\n",
    "                               'metis':[0.93, 9.64, 5.97, 3.71, 0.81],\n",
    "                               'kmeans':[1.85, 8.71, 6.61, 4.57, 2.27]\n",
    "                              }\n",
    "cls_evaluation_TransR_th_85 = {'semep':[1.87, 8.29, 6.11, 3.75, 1.88],\n",
    "                               'metis':[1.19, 8.5, 5.81, 3.68, 1.26],\n",
    "                               'kmeans':[1.24, 7.71, 5.87, 3.78, 1.38]\n",
    "                              }\n",
    "cls_evaluation_TransR_th_90 = {'semep':[1.98, 8.56, 6.41, 3.91, 2.06],\n",
    "                               'metis':[2.77, 8.7, 6.73, 4.44, 2.78],\n",
    "                               'kmeans':[2.67, 8.1, 6.88, 4.34, 3.11]\n",
    "                              }\n",
    "cls_evaluation_TransR_th_95 = {'semep':[1.5, 9.55, 6.47, 4.16, 1.58],\n",
    "                               'metis':[0.62, 9.13, 5.6, 3.54, 0.62],\n",
    "                               'kmeans':[0.73, 7.69, 5.74, 3.71, 0.91]\n",
    "                              }\n"
   ]
  },
  {
   "cell_type": "markdown",
   "metadata": {},
   "source": [
    "### Cluster evaluation in terms of prediction metrics (hasClassification)"
   ]
  },
  {
   "cell_type": "code",
   "execution_count": 989,
   "metadata": {},
   "outputs": [],
   "source": [
    "# Set data\n",
    "\n",
    "cls_evaluation_TransD_th_85 = pd.DataFrame({\n",
    "'group': ['SemEP','Metis','Kmeans'],\n",
    "'C': [0.443, 0.588, 0.574],\n",
    "'P': [0.462, 0.511, 0.507],\n",
    "'T': [0.825, 0.816, 0.817],\n",
    "'M': [0.380, 0.401, 0.402],\n",
    "'Co': [0.621, 0.602, 0.605]\n",
    "})\n",
    "\n",
    "cls_evaluation_TransE_th_85 = pd.DataFrame({\n",
    "'group': ['SemEP','Metis','Kmeans'],\n",
    "'C': [0.373, 0.483, 0.380],\n",
    "'P': [0.551, 0.663, 0.420],\n",
    "'T': [0.778, 0.761, 0.837],\n",
    "'M': [0.386, 0.433, 0.403],\n",
    "'Co': [0.521, 0.485, 0.648]\n",
    "})\n",
    "\n",
    "cls_evaluation_TransH_th_85 = pd.DataFrame({\n",
    "'group': ['SemEP','Metis','Kmeans'],\n",
    "'C': [0.228, 0.308, 0.300],\n",
    "'P': [0.828, 0.851, 0.763],\n",
    "'T': [0.641, 0.683, 0.686],\n",
    "'M': [0.399, 0.461, 0.454],\n",
    "'Co': [0.238, 0.326, 0.332]\n",
    "})\n",
    "\n",
    "cls_evaluation_TransR_th_85 = pd.DataFrame({\n",
    "'group': ['SemEP','Metis','Kmeans'],\n",
    "'C': [0.413, 0.583, 0.458],\n",
    "'P': [0.449, 0.511, 0.453],\n",
    "'T': [0.826, 0.815, 0.838],\n",
    "'M': [0.373, 0.401, 0.392],\n",
    "'Co': [0.624, 0.602, 0.651]\n",
    "})\n",
    "#==========================================================================\n",
    "cls_evaluation_TransD_th_90 = pd.DataFrame({\n",
    "'group': ['SemEP','Metis','Kmeans'],\n",
    "'C': [0.214, 0.314, 0.282],\n",
    "'P': [0.832, 0.841, 0.805],\n",
    "'T': [0.647, 0.691, 0.689],\n",
    "'M': [0.380, 0.447, 0.423],\n",
    "'Co': [0.216, 0.314, 0.310]\n",
    "})\n",
    "\n",
    "cls_evaluation_TransE_th_90 = pd.DataFrame({\n",
    "'group': ['SemEP','Metis','Kmeans'],\n",
    "'C': [0.194, 0.288, 0.278],\n",
    "'P': [0.858, 0.872, 0.804],\n",
    "'T': [0.640, 0.681, 0.690],\n",
    "'M': [0.389, 0.454, 0.437],\n",
    "'Co': [0.203, 0.295, 0.314]\n",
    "})\n",
    "\n",
    "cls_evaluation_TransH_th_90 = pd.DataFrame({\n",
    "'group': ['SemEP','Metis','Kmeans'],\n",
    "'C': [0.197, 0.218, 0.207],\n",
    "'P': [0.908, 0.921, 0.823],\n",
    "'T': [0.647, 0.646, 0.667],\n",
    "'M': [0.431, 0.444, 0.451],\n",
    "'Co': [0.232, 0.229, 0.275]\n",
    "})\n",
    "\n",
    "cls_evaluation_TransR_th_90 = pd.DataFrame({\n",
    "'group': ['SemEP','Metis','Kmeans'],\n",
    "'C': [0.193, 0.293, 0.271],\n",
    "'P': [0.842, 0.858, 0.831],\n",
    "'T': [0.637, 0.681, 0.681],\n",
    "'M': [0.376, 0.445, 0.43],\n",
    "'Co': [0.196, 0.293, 0.293]\n",
    "})\n",
    "#======================================================================\n",
    "\n",
    "cls_evaluation_TransD_th_95 = pd.DataFrame({\n",
    "'group': ['SemEP','Metis','Kmeans'],\n",
    "'C': [0.103, 0.092, 0.194],\n",
    "'P': [0.956, 0.957, 0.950],\n",
    "'T': [0.626, 0.622, 0.666],\n",
    "'M': [0.380, 0.375, 0.441],\n",
    "'Co': [0.101, 0.092, 0.198]\n",
    "})\n",
    "\n",
    "cls_evaluation_TransE_th_95 = pd.DataFrame({\n",
    "'group': ['SemEP','Metis','Kmeans'],\n",
    "'C': [0.126, 0.087, 0.192],\n",
    "'P': [0.958, 0.958, 0.952],\n",
    "'T': [0.638, 0.618, 0.665],\n",
    "'M': [0.403, 0.373, 0.444],\n",
    "'Co': [0.137, 0.087, 0.201]\n",
    "})\n",
    "\n",
    "cls_evaluation_TransH_th_95 = pd.DataFrame({\n",
    "'group': ['SemEP','Metis','Kmeans'],\n",
    "'C': [0.27, 0.115, 0.18],\n",
    "'P': [0.957, 0.961, 0.85],\n",
    "'T': [0.701, 0.617, 0.674],\n",
    "'M': [0.496, 0.389, 0.452],\n",
    "'Co': [0.307, 0.112, 0.244]\n",
    "})\n",
    "\n",
    "cls_evaluation_TransR_th_95 = pd.DataFrame({\n",
    "'group': ['SemEP','Metis','Kmeans'],\n",
    "'C': [0.125, 0.092, 0.197],\n",
    "'P': [0.956, 0.957, 0.951],\n",
    "'T': [0.637, 0.621, 0.667],\n",
    "'M': [0.399, 0.375, 0.444],\n",
    "'Co': [0.131, 0.092, 0.202]\n",
    "})"
   ]
  },
  {
   "cell_type": "markdown",
   "metadata": {},
   "source": [
    "### Cluster evaluation in terms of prediction metrics (relatedTo)"
   ]
  },
  {
   "cell_type": "code",
   "execution_count": 406,
   "metadata": {},
   "outputs": [],
   "source": [
    "# Set data\n",
    "\n",
    "cls_evaluation_TransD_th_85 = pd.DataFrame({\n",
    "'group': ['SemEP','Metis','Kmeans'],\n",
    "'Inv. Conductance': [0.415, 0.592, 0.413],\n",
    "'Inv. Performance': [0.451, 0.512, 0.404],\n",
    "'Inv. Norm.Total Cut': [0.824, 0.817, 0.853],\n",
    "'Norm.Modularity': [0.372, 0.403, 0.385],\n",
    "'Coverage': [0.620, 0.605, 0.682]\n",
    "})\n",
    "\n",
    "cls_evaluation_TransE_th_85 = pd.DataFrame({\n",
    "'group': ['SemEP','Metis','Kmeans'],\n",
    "'Inv. Conductance': [0.553, 0.595, 0.349],\n",
    "'Inv. Performance': [0.505, 0.513, 0.267],\n",
    "'Inv. Norm.Total Cut': [0.806, 0.821, 0.902],\n",
    "'Norm.Modularity': [0.387, 0.409, 0.374],\n",
    "'Coverage': [0.583, 0.615, 0.790]\n",
    "})\n",
    "\n",
    "cls_evaluation_TransH_th_85 = pd.DataFrame({\n",
    "'group': ['SemEP','Metis','Kmeans'],\n",
    "'Inv. Conductance': [0.277, 0.333, 0.329],\n",
    "'Inv. Performance': [0.805, 0.836, 0.709],\n",
    "'Inv. Norm.Total Cut': [0.670, 0.694, 0.694],\n",
    "'Norm.Modularity': [0.417, 0.465, 0.447],\n",
    "'Coverage': [0.297, 0.350, 0.350]\n",
    "})\n",
    "\n",
    "cls_evaluation_TransR_th_85 = pd.DataFrame({\n",
    "'group': ['SemEP','Metis','Kmeans'],\n",
    "'Inv. Conductance': [0.42, 0.585, 0.502],\n",
    "'Inv. Performance': [0.459, 0.511, 0.477],\n",
    "'Inv. Norm.Total Cut': [0.823, 0.816, 0.826],\n",
    "'Norm.Modularity': [0.373, 0.402, 0.397],\n",
    "'Coverage': [0.619, 0.603, 0.626]\n",
    "})\n",
    "#==========================================================================\n",
    "cls_evaluation_TransD_th_90 = pd.DataFrame({\n",
    "'group': ['SemEP','Metis','Kmeans'],\n",
    "'Inv. Conductance': [0.219, 0.311, 0.282],\n",
    "'Inv. Performance': [0.831, 0.841, 0.745],\n",
    "'Inv. Norm.Total Cut': [0.649, 0.690, 0.714],\n",
    "'Norm.Modularity': [0.383, 0.446, 0.417],\n",
    "'Coverage': [0.221, 0.312, 0.365]\n",
    "})\n",
    "\n",
    "cls_evaluation_TransE_th_90 = pd.DataFrame({\n",
    "'group': ['SemEP','Metis','Kmeans'],\n",
    "'Inv. Conductance': [0.201, 0.275, 0.280],\n",
    "'Inv. Performance': [0.862, 0.870, 0.820],\n",
    "'Inv. Norm.Total Cut': [0.640, 0.674, 0.687],\n",
    "'Norm.Modularity': [0.394, 0.444, 0.437],\n",
    "'Coverage': [0.204, 0.278, 0.307]\n",
    "})\n",
    "\n",
    "cls_evaluation_TransH_th_90 = pd.DataFrame({\n",
    "'group': ['SemEP','Metis','Kmeans'],\n",
    "'Inv. Conductance': [0.176, 0.211, 0.194],\n",
    "'Inv. Performance': [0.909, 0.921, 0.833],\n",
    "'Inv. Norm.Total Cut': [0.639, 0.642, 0.667],\n",
    "'Norm.Modularity': [0.422, 0.439, 0.456],\n",
    "'Coverage': [0.214, 0.220, 0.275]\n",
    "})\n",
    "\n",
    "cls_evaluation_TransR_th_90 = pd.DataFrame({\n",
    "'group': ['SemEP','Metis','Kmeans'],\n",
    "'Inv. Conductance': [0.212, 0.318, 0.282],\n",
    "'Inv. Performance': [0.832, 0.842, 0.797],\n",
    "'Inv. Norm.Total Cut': [0.645, 0.693, 0.691],\n",
    "'Norm.Modularity': [0.379, 0.450, 0.424],\n",
    "'Coverage': [0.213, 0.319, 0.315]\n",
    "})\n",
    "#======================================================================\n",
    "cls_evaluation_TransD_th_95 = pd.DataFrame({\n",
    "'group': ['SemEP','Metis','Kmeans'],\n",
    "'Inv. Conductance': [0.138, 0.225, 0.187],\n",
    "'Inv. Performance': [0.955, 0.961, 0.932],\n",
    "'Inv. Norm.Total Cut': [0.644, 0.678, 0.667],\n",
    "'Norm.Modularity': [0.408, 0.463, 0.435],\n",
    "'Coverage': [0.145, 0.226, 0.201]\n",
    "})\n",
    "\n",
    "cls_evaluation_TransE_th_95 = pd.DataFrame({\n",
    "'group': ['SemEP','Metis','Kmeans'],\n",
    "'Inv. Conductance': [0.132, 0.124, 0.197],\n",
    "'Inv. Performance': [0.957, 0.958, 0.958],\n",
    "'Inv. Norm.Total Cut': [0.635, 0.635, 0.665],\n",
    "'Norm.Modularity': [0.397, 0.399, 0.446],\n",
    "'Coverage': [0.127, 0.127, 0.201]\n",
    "})\n",
    "\n",
    "cls_evaluation_TransH_th_95 = pd.DataFrame({\n",
    "'group': ['SemEP','Metis','Kmeans'],\n",
    "'Inv. Conductance': [0.284, 0.093, 0.167],\n",
    "'Inv. Performance': [0.954, 0.959, 0.804],\n",
    "'Inv. Norm.Total Cut': [0.689, 0.607, 0.696],\n",
    "'Norm.Modularity': [0.474, 0.373, 0.468],\n",
    "'Coverage': [0.277, 0.088, 0.293]\n",
    "})\n",
    "\n",
    "cls_evaluation_TransR_th_95 = pd.DataFrame({\n",
    "'group': ['SemEP','Metis','Kmeans'],\n",
    "'Inv. Conductance': [0.140, 0.084, 0.189],\n",
    "'Inv. Performance': [0.957, 0.956, 0.950],\n",
    "'Inv. Norm.Total Cut': [0.643, 0.617, 0.664],\n",
    "'Norm.Modularity': [0.409, 0.369, 0.440],\n",
    "'Coverage': [0.146, 0.084, 0.196]\n",
    "})"
   ]
  },
  {
   "cell_type": "code",
   "execution_count": 702,
   "metadata": {},
   "outputs": [
    {
     "data": {
      "image/png": "[encoded data removed]",
      "text/plain": [
       "<Figure size 360x360 with 5 Axes>"
      ]
     },
     "metadata": {
      "needs_background": "light"
     },
     "output_type": "display_data"
    }
   ],
   "source": [
    "import numpy as np\n",
    "import matplotlib.pyplot as plt\n",
    "\n",
    "# Optionally use different styles for the graph\n",
    "# Gallery: http://tonysyu.github.io/raw_content/matplotlib-style-gallery/gallery.html\n",
    "# import matplotlib\n",
    "# matplotlib.style.use('dark_background')  # interesting: 'bmh' / 'ggplot' / 'dark_background'\n",
    "\n",
    "\n",
    "class Radar(object):\n",
    "    def __init__(self, figure, title, labels, rect=None):\n",
    "        if rect is None:\n",
    "            rect = [0.05, 0.05, 0.9, 0.9]\n",
    "\n",
    "        self.n = len(title)\n",
    "        self.angles = np.arange(0, 360, 360.0/self.n)\n",
    "\n",
    "        self.axes = [figure.add_axes(rect, projection='polar', label='axes%d' % i) for i in range(self.n)]\n",
    "\n",
    "        self.ax = self.axes[0]\n",
    "        self.ax.set_thetagrids(self.angles, labels=title, fontsize=14)\n",
    "\n",
    "        for ax in self.axes[1:]:\n",
    "            ax.patch.set_visible(False)\n",
    "            ax.grid(False)\n",
    "            ax.xaxis.set_visible(False)\n",
    "\n",
    "        for ax, angle, label in zip(self.axes, self.angles, labels):\n",
    "            ax.set_rgrids(range(0, 12), angle=angle, labels=label)\n",
    "            ax.spines['polar'].set_visible(False)\n",
    "            ax.set_ylim(0, 10)\n",
    "\n",
    "    def plot(self, values, *args, **kw):\n",
    "        angle = np.deg2rad(np.r_[self.angles, self.angles[0]])\n",
    "        values = np.r_[values, values[0]]\n",
    "        self.ax.plot(angle, values, *args, **kw)\n",
    "        self.ax.fill(angle, values, 'r', alpha=0.1)\n",
    "\n",
    "\n",
    "if __name__ == '__main__':\n",
    "    fig = plt.figure(figsize=(5, 5))\n",
    "\n",
    "    tit = ['C','P','T','M','Co']  # 12x\n",
    "\n",
    "    lab = [\n",
    "        ['0','0.1','0.2','0.3','0.4','0.5','0.6','0.7','0.8','0.9'],\n",
    "        ['0','0.1','0.2','0.3','0.4','0.5','0.6','0.7','0.8','0.9'],\n",
    "        ['0','0.1','0.2','0.3','0.4','0.5','0.6','0.7','0.8','0.9'],\n",
    "        ['0','0.1','0.2','0.3','0.4','0.5','0.6','0.7','0.8','0.9'],\n",
    "        ['0','0.1','0.2','0.3','0.4','0.5','0.6','0.7','0.8','0.9']\n",
    "    ]\n",
    "\n",
    "    radar = Radar(fig, tit, lab)\n",
    "    radar.plot(cls_evaluation_TransR_th_85['semep'], linestyle='solid', linewidth=2, color='b', alpha=0.7, label='SemEP')\n",
    "    radar.plot(cls_evaluation_TransR_th_85['metis'], linestyle='solid', linewidth=2, color='r', alpha=0.7, label='METIS')\n",
    "    radar.plot(cls_evaluation_TransR_th_85['kmeans'], linestyle='solid', linewidth=2, color='g', alpha=0.7, label='KMeans')\n",
    "\n",
    "    radar.ax.legend(loc = (0.15, 1.04), ncol=3, fontsize='large')\n",
    "    #fig.savefig(\"TransD-Threshold85_01.pdf\", format='pdf', bbox_inches = 'tight')"
   ]
  },
  {
   "cell_type": "code",
   "execution_count": 1030,
   "metadata": {},
   "outputs": [
    {
     "name": "stdout",
     "output_type": "stream",
     "text": [
      "[4.43, 4.62, 8.25, 3.8, 6.21]\n",
      "[5.88, 5.11, 8.16, 4.01, 6.02]\n",
      "[5.739999999999999, 5.07, 8.17, 4.0200000000000005, 6.05]\n"
     ]
    }
   ],
   "source": [
    "measure = cls_evaluation_TransD_th_85\n",
    "array_semep = measure.iloc[0].tolist()[1:]\n",
    "semep = [i * 10 for i in array_semep]\n",
    "array_metis = measure.iloc[1].tolist()[1:]\n",
    "metis = [i * 10 for i in array_metis]\n",
    "array_kmeans = measure.iloc[2].tolist()[1:]\n",
    "kmeans = [i * 10 for i in array_kmeans]\n",
    "print(*[semep, metis, kmeans], sep='\\n')"
   ]
  },
  {
   "cell_type": "code",
   "execution_count": null,
   "metadata": {},
   "outputs": [],
   "source": []
  }
 ],
 "metadata": {
  "colab": {
   "collapsed_sections": [],
   "include_colab_link": true,
   "name": "Similarity-Analysis.ipynb",
   "provenance": [],
   "version": "0.3.2"
  },
  "kernelspec": {
   "display_name": "Python 3",
   "language": "python",
   "name": "python3"
  },
  "language_info": {
   "codemirror_mode": {
    "name": "ipython",
    "version": 3
   },
   "file_extension": ".py",
   "mimetype": "text/x-python",
   "name": "python",
   "nbconvert_exporter": "python",
   "pygments_lexer": "ipython3",
   "version": "3.6.8"
  }
 },
 "nbformat": 4,
 "nbformat_minor": 1
}
