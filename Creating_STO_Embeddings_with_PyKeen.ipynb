{
 "cells": [
  {
   "cell_type": "markdown",
   "metadata": {
    "colab_type": "text",
    "id": "view-in-github"
   },
   "source": [
    "<a href=\"https://colab.research.google.com/github/i40-Tools/I40KG-Embeddings/blob/master/Creating_STO_Embeddings_with_PyKeen.ipynb\" target=\"_parent\"><img src=\"https://colab.research.google.com/assets/colab-badge.svg\" alt=\"Open In Colab\"/></a>"
   ]
  },
<<<<<<< HEAD
  {
   "cell_type": "markdown",
   "metadata": {
    "colab_type": "text",
    "id": "jSxWEa-m_jTr"
   },
   "source": [
    "Installing PyKeen"
   ]
  },
  {
   "cell_type": "code",
   "execution_count": 2,
   "metadata": {
    "colab": {
     "base_uri": "https://localhost:8080/",
     "height": 921
=======
  "cells": [
    {
      "cell_type": "markdown",
      "metadata": {
        "id": "view-in-github",
        "colab_type": "text"
      },
      "source": [
        "<a href=\"https://colab.research.google.com/github/i40-Tools/I40KG-Embeddings/blob/master/Creating_STO_Embeddings_with_PyKeen.ipynb\" target=\"_parent\"><img src=\"https://colab.research.google.com/assets/colab-badge.svg\" alt=\"Open In Colab\"/></a>"
      ]
    },
    {
      "cell_type": "markdown",
      "metadata": {
        "id": "jSxWEa-m_jTr",
        "colab_type": "text"
      },
      "source": [
        "Installing PyKeen"
      ]
    },
    {
      "cell_type": "code",
      "metadata": {
        "id": "H2fwHivf_ZwY",
        "colab_type": "code",
        "outputId": "9edf9554-103c-4c3a-855c-f82c61c8bbc1",
        "colab": {
          "base_uri": "https://localhost:8080/",
          "height": 901
        }
      },
      "source": [
        "!pip install pykeen"
      ],
      "execution_count": 1,
      "outputs": [
        {
          "output_type": "stream",
          "text": [
            "Collecting pykeen\n",
            "\u001b[?25l  Downloading https://files.pythonhosted.org/packages/65/b7/89184a6ed4b1f02aaea33a2d39d7414a5c0339e2cb6a7fe8183eace0136c/pykeen-0.0.25-py36-none-any.whl (77kB)\n",
            "\u001b[K     |████████████████████████████████| 81kB 3.0MB/s \n",
            "\u001b[?25hRequirement already satisfied: tqdm in /usr/local/lib/python3.6/dist-packages (from pykeen) (4.28.1)\n",
            "Requirement already satisfied: scipy in /usr/local/lib/python3.6/dist-packages (from pykeen) (1.3.0)\n",
            "Requirement already satisfied: click in /usr/local/lib/python3.6/dist-packages (from pykeen) (7.0)\n",
            "Requirement already satisfied: numpy in /usr/local/lib/python3.6/dist-packages (from pykeen) (1.16.4)\n",
            "Requirement already satisfied: pandas in /usr/local/lib/python3.6/dist-packages (from pykeen) (0.24.2)\n",
            "Requirement already satisfied: dataclasses; python_version < \"3.7\" in /usr/local/lib/python3.6/dist-packages (from pykeen) (0.6)\n",
            "Requirement already satisfied: prompt-toolkit in /usr/local/lib/python3.6/dist-packages (from pykeen) (1.0.16)\n",
            "Collecting torch==0.4.0; python_version == \"3.6\" (from pykeen)\n",
            "\u001b[?25l  Downloading https://files.pythonhosted.org/packages/69/43/380514bd9663f1bf708abeb359b8b48d3fabb1c8e95bb3427a980a064c57/torch-0.4.0-cp36-cp36m-manylinux1_x86_64.whl (484.0MB)\n",
            "\u001b[K     |████████████████████████████████| 484.0MB 34kB/s \n",
            "\u001b[?25hCollecting click-default-group (from pykeen)\n",
            "  Downloading https://files.pythonhosted.org/packages/4a/fa/90df01e47e3457d8db9e9875932189710206b4f067a8eedc47e999794ec7/click-default-group-1.2.1.tar.gz\n",
            "Collecting rdflib (from pykeen)\n",
            "\u001b[?25l  Downloading https://files.pythonhosted.org/packages/3c/fe/630bacb652680f6d481b9febbb3e2c3869194a1a5fc3401a4a41195a2f8f/rdflib-4.2.2-py3-none-any.whl (344kB)\n",
            "\u001b[K     |████████████████████████████████| 348kB 37.7MB/s \n",
            "\u001b[?25hCollecting scikit-learn==0.19.1; python_version == \"3.6\" (from pykeen)\n",
            "\u001b[?25l  Downloading https://files.pythonhosted.org/packages/3d/2d/9fbc7baa5f44bc9e88ffb7ed32721b879bfa416573e85031e16f52569bc9/scikit_learn-0.19.1-cp36-cp36m-manylinux1_x86_64.whl (12.4MB)\n",
            "\u001b[K     |████████████████████████████████| 12.4MB 26.5MB/s \n",
            "\u001b[?25hCollecting torchvision==0.2.1 (from pykeen)\n",
            "\u001b[?25l  Downloading https://files.pythonhosted.org/packages/ca/0d/f00b2885711e08bd71242ebe7b96561e6f6d01fdb4b9dcf4d37e2e13c5e1/torchvision-0.2.1-py2.py3-none-any.whl (54kB)\n",
            "\u001b[K     |████████████████████████████████| 61kB 22.8MB/s \n",
            "\u001b[?25hRequirement already satisfied: python-dateutil>=2.5.0 in /usr/local/lib/python3.6/dist-packages (from pandas->pykeen) (2.5.3)\n",
            "Requirement already satisfied: pytz>=2011k in /usr/local/lib/python3.6/dist-packages (from pandas->pykeen) (2018.9)\n",
            "Requirement already satisfied: six>=1.9.0 in /usr/local/lib/python3.6/dist-packages (from prompt-toolkit->pykeen) (1.12.0)\n",
            "Requirement already satisfied: wcwidth in /usr/local/lib/python3.6/dist-packages (from prompt-toolkit->pykeen) (0.1.7)\n",
            "Collecting isodate (from rdflib->pykeen)\n",
            "\u001b[?25l  Downloading https://files.pythonhosted.org/packages/9b/9f/b36f7774ff5ea8e428fdcfc4bb332c39ee5b9362ddd3d40d9516a55221b2/isodate-0.6.0-py2.py3-none-any.whl (45kB)\n",
            "\u001b[K     |████████████████████████████████| 51kB 20.4MB/s \n",
            "\u001b[?25hRequirement already satisfied: pyparsing in /usr/local/lib/python3.6/dist-packages (from rdflib->pykeen) (2.4.0)\n",
            "Requirement already satisfied: pillow>=4.1.1 in /usr/local/lib/python3.6/dist-packages (from torchvision==0.2.1->pykeen) (4.3.0)\n",
            "Requirement already satisfied: olefile in /usr/local/lib/python3.6/dist-packages (from pillow>=4.1.1->torchvision==0.2.1->pykeen) (0.46)\n",
            "Building wheels for collected packages: click-default-group\n",
            "  Building wheel for click-default-group (setup.py) ... \u001b[?25l\u001b[?25hdone\n",
            "  Stored in directory: /root/.cache/pip/wheels/48/78/93/a683360b7b5e8017ca55cee728d84338cc8b4972d1832bae5a\n",
            "Successfully built click-default-group\n",
            "\u001b[31mERROR: yellowbrick 0.9.1 has requirement scikit-learn>=0.20, but you'll have scikit-learn 0.19.1 which is incompatible.\u001b[0m\n",
            "\u001b[31mERROR: imbalanced-learn 0.4.3 has requirement scikit-learn>=0.20, but you'll have scikit-learn 0.19.1 which is incompatible.\u001b[0m\n",
            "\u001b[31mERROR: fastai 1.0.54 has requirement torch>=1.0.0, but you'll have torch 0.4.0 which is incompatible.\u001b[0m\n",
            "Installing collected packages: torch, click-default-group, isodate, rdflib, scikit-learn, torchvision, pykeen\n",
            "  Found existing installation: torch 1.1.0\n",
            "    Uninstalling torch-1.1.0:\n",
            "      Successfully uninstalled torch-1.1.0\n",
            "  Found existing installation: scikit-learn 0.21.2\n",
            "    Uninstalling scikit-learn-0.21.2:\n",
            "      Successfully uninstalled scikit-learn-0.21.2\n",
            "  Found existing installation: torchvision 0.3.0\n",
            "    Uninstalling torchvision-0.3.0:\n",
            "      Successfully uninstalled torchvision-0.3.0\n",
            "Successfully installed click-default-group-1.2.1 isodate-0.6.0 pykeen-0.0.25 rdflib-4.2.2 scikit-learn-0.19.1 torch-0.4.0 torchvision-0.2.1\n"
          ],
          "name": "stdout"
        }
      ]
    },
    {
      "cell_type": "code",
      "metadata": {
        "id": "CFgdNQBGImLw",
        "colab_type": "code",
        "outputId": "9d427d96-606e-455c-c641-c639d41d5a25",
        "colab": {
          "base_uri": "https://localhost:8080/",
          "height": 136
        }
      },
      "source": [
        "!git clone https://github.com/i40-Tools/I40KG-Embeddings.git"
      ],
      "execution_count": 2,
      "outputs": [
        {
          "output_type": "stream",
          "text": [
            "Cloning into 'I40KG-Embeddings'...\n",
            "remote: Enumerating objects: 9, done.\u001b[K\n",
            "remote: Counting objects:  11% (1/9)   \u001b[K\rremote: Counting objects:  22% (2/9)   \u001b[K\rremote: Counting objects:  33% (3/9)   \u001b[K\rremote: Counting objects:  44% (4/9)   \u001b[K\rremote: Counting objects:  55% (5/9)   \u001b[K\rremote: Counting objects:  66% (6/9)   \u001b[K\rremote: Counting objects:  77% (7/9)   \u001b[K\rremote: Counting objects:  88% (8/9)   \u001b[K\rremote: Counting objects: 100% (9/9)   \u001b[K\rremote: Counting objects: 100% (9/9), done.\u001b[K\n",
            "remote: Compressing objects: 100% (7/7), done.\u001b[K\n",
            "remote: Total 308 (delta 1), reused 5 (delta 0), pack-reused 299\u001b[K\n",
            "Receiving objects: 100% (308/308), 75.97 MiB | 11.72 MiB/s, done.\n",
            "Resolving deltas: 100% (146/146), done.\n"
          ],
          "name": "stdout"
        }
      ]
    },
    {
      "cell_type": "code",
      "metadata": {
        "id": "cIxPa8OIJJog",
        "colab_type": "code",
        "colab": {}
      },
      "source": [
        "%mkdir I40KG-Embeddings/transe"
      ],
      "execution_count": 0,
      "outputs": []
    },
    {
      "cell_type": "code",
      "metadata": {
        "id": "74GeMHuhIoWv",
        "colab_type": "code",
        "colab": {}
      },
      "source": [
        "%ls I40KG-Embeddings"
      ],
      "execution_count": 0,
      "outputs": []
>>>>>>> 9b0d8cf18f151880a5dd55927f6eae458dc3acf7
    },
    "colab_type": "code",
    "id": "H2fwHivf_ZwY",
    "outputId": "a876daf3-a58a-4f85-98ec-dc23d11fe8e3"
   },
   "outputs": [
    {
     "name": "stdout",
     "output_type": "stream",
     "text": [
      "Collecting pykeen\n",
      "\u001b[?25l  Downloading https://files.pythonhosted.org/packages/65/b7/89184a6ed4b1f02aaea33a2d39d7414a5c0339e2cb6a7fe8183eace0136c/pykeen-0.0.25-py36-none-any.whl (77kB)\n",
      "\u001b[K     |████████████████████████████████| 81kB 3.7MB/s \n",
      "\u001b[?25hCollecting rdflib (from pykeen)\n",
      "\u001b[?25l  Downloading https://files.pythonhosted.org/packages/3c/fe/630bacb652680f6d481b9febbb3e2c3869194a1a5fc3401a4a41195a2f8f/rdflib-4.2.2-py3-none-any.whl (344kB)\n",
      "\u001b[K     |████████████████████████████████| 348kB 10.3MB/s \n",
      "\u001b[?25hRequirement already satisfied: tqdm in /usr/local/lib/python3.6/dist-packages (from pykeen) (4.28.1)\n",
      "Requirement already satisfied: prompt-toolkit in /usr/local/lib/python3.6/dist-packages (from pykeen) (1.0.16)\n",
      "Collecting click-default-group (from pykeen)\n",
      "  Downloading https://files.pythonhosted.org/packages/86/3e/389d8bbe3033613b17ce4136dbcf3e69c785c9c54d08f3adb95336b52040/click-default-group-1.2.tar.gz\n",
      "Collecting torch==0.4.0; python_version == \"3.6\" (from pykeen)\n",
      "\u001b[?25l  Downloading https://files.pythonhosted.org/packages/69/43/380514bd9663f1bf708abeb359b8b48d3fabb1c8e95bb3427a980a064c57/torch-0.4.0-cp36-cp36m-manylinux1_x86_64.whl (484.0MB)\n",
      "\u001b[K     |████████████████████████████████| 484.0MB 33kB/s \n",
      "\u001b[?25hRequirement already satisfied: dataclasses; python_version < \"3.7\" in /usr/local/lib/python3.6/dist-packages (from pykeen) (0.6)\n",
      "Collecting torchvision==0.2.1 (from pykeen)\n",
      "\u001b[?25l  Downloading https://files.pythonhosted.org/packages/ca/0d/f00b2885711e08bd71242ebe7b96561e6f6d01fdb4b9dcf4d37e2e13c5e1/torchvision-0.2.1-py2.py3-none-any.whl (54kB)\n",
      "\u001b[K     |████████████████████████████████| 61kB 25.4MB/s \n",
      "\u001b[?25hRequirement already satisfied: click in /usr/local/lib/python3.6/dist-packages (from pykeen) (7.0)\n",
      "Requirement already satisfied: scipy in /usr/local/lib/python3.6/dist-packages (from pykeen) (1.3.0)\n",
      "Requirement already satisfied: pandas in /usr/local/lib/python3.6/dist-packages (from pykeen) (0.24.2)\n",
      "Requirement already satisfied: numpy in /usr/local/lib/python3.6/dist-packages (from pykeen) (1.16.4)\n",
      "Collecting scikit-learn==0.19.1; python_version == \"3.6\" (from pykeen)\n",
      "\u001b[?25l  Downloading https://files.pythonhosted.org/packages/3d/2d/9fbc7baa5f44bc9e88ffb7ed32721b879bfa416573e85031e16f52569bc9/scikit_learn-0.19.1-cp36-cp36m-manylinux1_x86_64.whl (12.4MB)\n",
      "\u001b[K     |████████████████████████████████| 12.4MB 42.2MB/s \n",
      "\u001b[?25hCollecting isodate (from rdflib->pykeen)\n",
      "\u001b[?25l  Downloading https://files.pythonhosted.org/packages/9b/9f/b36f7774ff5ea8e428fdcfc4bb332c39ee5b9362ddd3d40d9516a55221b2/isodate-0.6.0-py2.py3-none-any.whl (45kB)\n",
      "\u001b[K     |████████████████████████████████| 51kB 29.1MB/s \n",
      "\u001b[?25hRequirement already satisfied: pyparsing in /usr/local/lib/python3.6/dist-packages (from rdflib->pykeen) (2.4.0)\n",
      "Requirement already satisfied: wcwidth in /usr/local/lib/python3.6/dist-packages (from prompt-toolkit->pykeen) (0.1.7)\n",
      "Requirement already satisfied: six>=1.9.0 in /usr/local/lib/python3.6/dist-packages (from prompt-toolkit->pykeen) (1.12.0)\n",
      "Requirement already satisfied: pillow>=4.1.1 in /usr/local/lib/python3.6/dist-packages (from torchvision==0.2.1->pykeen) (4.3.0)\n",
      "Requirement already satisfied: pytz>=2011k in /usr/local/lib/python3.6/dist-packages (from pandas->pykeen) (2018.9)\n",
      "Requirement already satisfied: python-dateutil>=2.5.0 in /usr/local/lib/python3.6/dist-packages (from pandas->pykeen) (2.5.3)\n",
      "Requirement already satisfied: olefile in /usr/local/lib/python3.6/dist-packages (from pillow>=4.1.1->torchvision==0.2.1->pykeen) (0.46)\n",
      "Building wheels for collected packages: click-default-group\n",
      "  Building wheel for click-default-group (setup.py) ... \u001b[?25l\u001b[?25hdone\n",
      "  Stored in directory: /root/.cache/pip/wheels/a0/ea/f9/462f99e2f22c3ff2dd009592ef9258eb3e5ed02cf3fcb31576\n",
      "Successfully built click-default-group\n",
      "\u001b[31mERROR: yellowbrick 0.9.1 has requirement scikit-learn>=0.20, but you'll have scikit-learn 0.19.1 which is incompatible.\u001b[0m\n",
      "\u001b[31mERROR: imbalanced-learn 0.4.3 has requirement scikit-learn>=0.20, but you'll have scikit-learn 0.19.1 which is incompatible.\u001b[0m\n",
      "\u001b[31mERROR: fastai 1.0.52 has requirement torch>=1.0.0, but you'll have torch 0.4.0 which is incompatible.\u001b[0m\n",
      "Installing collected packages: isodate, rdflib, click-default-group, torch, torchvision, scikit-learn, pykeen\n",
      "  Found existing installation: torch 1.1.0\n",
      "    Uninstalling torch-1.1.0:\n",
      "      Successfully uninstalled torch-1.1.0\n",
      "  Found existing installation: torchvision 0.3.0\n",
      "    Uninstalling torchvision-0.3.0:\n",
      "      Successfully uninstalled torchvision-0.3.0\n",
      "  Found existing installation: scikit-learn 0.21.2\n",
      "    Uninstalling scikit-learn-0.21.2:\n",
      "      Successfully uninstalled scikit-learn-0.21.2\n",
      "Successfully installed click-default-group-1.2 isodate-0.6.0 pykeen-0.0.25 rdflib-4.2.2 scikit-learn-0.19.1 torch-0.4.0 torchvision-0.2.1\n"
     ]
    }
   ],
   "source": [
    "!pip install pykeen"
   ]
  },
  {
   "cell_type": "code",
   "execution_count": 3,
   "metadata": {
    "colab": {
     "base_uri": "https://localhost:8080/",
     "height": 119
    },
    "colab_type": "code",
    "id": "CFgdNQBGImLw",
    "outputId": "b0b27e4b-79a7-4692-efee-7592f8dd5321"
   },
   "outputs": [
    {
     "name": "stdout",
     "output_type": "stream",
     "text": [
      "Cloning into 'I40KG-Embeddings'...\n",
      "remote: Enumerating objects: 88, done.\u001b[K\n",
      "remote: Counting objects: 100% (88/88), done.\u001b[K\n",
      "remote: Compressing objects: 100% (72/72), done.\u001b[K\n",
      "remote: Total 88 (delta 38), reused 37 (delta 9), pack-reused 0\u001b[K\n",
      "Unpacking objects: 100% (88/88), done.\n"
     ]
    }
   ],
   "source": [
    "!git clone https://github.com/i40-Tools/I40KG-Embeddings.git"
   ]
  },
  {
   "cell_type": "code",
   "execution_count": 0,
   "metadata": {
    "colab": {},
    "colab_type": "code",
    "id": "cIxPa8OIJJog"
   },
   "outputs": [],
   "source": [
    "%mkdir I40KG-Embeddings/transe"
   ]
  },
  {
   "cell_type": "code",
   "execution_count": 5,
   "metadata": {
    "colab": {
     "base_uri": "https://localhost:8080/",
     "height": 68
    },
    "colab_type": "code",
    "id": "74GeMHuhIoWv",
    "outputId": "7de273a4-b7c4-42cd-b6d2-0b989da70470"
   },
   "outputs": [
    {
     "name": "stdout",
     "output_type": "stream",
     "text": [
      "Analogy.ipynb  Framework.py  \u001b[0m\u001b[01;34mnt\u001b[0m/                        \u001b[01;34msto\u001b[0m/          \u001b[01;34myago\u001b[0m/\n",
      "cosine.py      \u001b[01;34mlogs_sto\u001b[0m/     README.md                  \u001b[01;34mtranse\u001b[0m/\n",
      "\u001b[01;34mfb\u001b[0m/            main.py       Similarity_Analysis.ipynb  tunninghp.py\n"
     ]
    }
   ],
   "source": [
    "%ls I40KG-Embeddings"
   ]
  },
  {
   "cell_type": "code",
   "execution_count": 0,
   "metadata": {
    "colab": {},
    "colab_type": "code",
    "id": "s6Z3efR5BX6I"
   },
   "outputs": [],
   "source": [
    "import logging\n",
    "import os\n",
    "import sys\n",
    "import time\n",
    "\n",
    "import numpy as np\n",
    "import matplotlib.pyplot as plt\n",
    "import pykeen\n",
    "from pykeen.kge_models import TransE"
   ]
  },
  {
   "cell_type": "code",
   "execution_count": 0,
   "metadata": {
    "colab": {},
    "colab_type": "code",
    "id": "7Mr2CrDlBcyG"
   },
   "outputs": [],
   "source": [
    "%matplotlib inline"
   ]
  },
  {
   "cell_type": "code",
   "execution_count": 0,
   "metadata": {
    "colab": {},
    "colab_type": "code",
    "id": "Q3h3ULwNBgMV"
   },
   "outputs": [],
   "source": [
    "logging.basicConfig(level=logging.INFO)\n",
    "logging.getLogger('pykeen').setLevel(logging.INFO)"
   ]
  },
  {
   "cell_type": "code",
   "execution_count": 9,
   "metadata": {
    "colab": {
     "base_uri": "https://localhost:8080/",
     "height": 85
    },
    "colab_type": "code",
    "id": "q0is3sOnBkvL",
    "outputId": "1c82d205-a5a8-447f-839e-e0590384d78f"
   },
   "outputs": [
    {
<<<<<<< HEAD
     "name": "stdout",
     "output_type": "stream",
     "text": [
      "3.6.7 (default, Oct 22 2018, 11:32:17) \n",
      "[GCC 8.2.0]\n",
      "Mon Jun 10 20:52:46 2019\n",
      "0.0.25\n"
     ]
    }
   ],
   "source": [
    "print(sys.version)\n",
    "print(time.asctime())\n",
    "print(pykeen.get_version())"
   ]
  },
  {
   "cell_type": "code",
   "execution_count": 10,
   "metadata": {
    "colab": {
     "base_uri": "https://localhost:8080/",
     "height": 102
=======
      "cell_type": "code",
      "metadata": {
        "id": "q0is3sOnBkvL",
        "colab_type": "code",
        "outputId": "62e56240-d50a-4f86-87be-b8f134b6977d",
        "colab": {
          "base_uri": "https://localhost:8080/",
          "height": 85
        }
      },
      "source": [
        "print(sys.version)\n",
        "print(time.asctime())\n",
        "print(pykeen.get_version())"
      ],
      "execution_count": 5,
      "outputs": [
        {
          "output_type": "stream",
          "text": [
            "3.6.8 (default, Jan 14 2019, 11:02:34) \n",
            "[GCC 8.0.1 20180414 (experimental) [trunk revision 259383]]\n",
            "Thu Jul 11 16:22:21 2019\n",
            "0.0.25\n"
          ],
          "name": "stdout"
        }
      ]
>>>>>>> 9b0d8cf18f151880a5dd55927f6eae458dc3acf7
    },
    "colab_type": "code",
    "id": "k_2TKcCdBvwA",
    "outputId": "7b146651-1422-4402-ae57-3488de5a9065"
   },
   "outputs": [
    {
<<<<<<< HEAD
     "data": {
      "text/plain": [
       "['embedding_dim',\n",
       " 'margin_loss',\n",
       " 'learning_rate',\n",
       " 'scoring_function',\n",
       " 'normalization_of_entities']"
=======
      "cell_type": "code",
      "metadata": {
        "id": "k_2TKcCdBvwA",
        "colab_type": "code",
        "outputId": "78d0bfb6-81eb-4f03-c8f2-890624bba6fc",
        "colab": {
          "base_uri": "https://localhost:8080/",
          "height": 102
        }
      },
      "source": [
        "TransE.hyper_params"
      ],
      "execution_count": 6,
      "outputs": [
        {
          "output_type": "execute_result",
          "data": {
            "text/plain": [
              "['embedding_dim',\n",
              " 'margin_loss',\n",
              " 'learning_rate',\n",
              " 'scoring_function',\n",
              " 'normalization_of_entities']"
            ]
          },
          "metadata": {
            "tags": []
          },
          "execution_count": 6
        }
>>>>>>> 9b0d8cf18f151880a5dd55927f6eae458dc3acf7
      ]
     },
     "execution_count": 10,
     "metadata": {
      "tags": []
     },
     "output_type": "execute_result"
    }
   ],
   "source": [
    "TransE.hyper_params"
   ]
  },
  {
   "cell_type": "code",
   "execution_count": 0,
   "metadata": {
    "colab": {},
    "colab_type": "code",
    "id": "Ulvk4NRFI5Zs"
   },
   "outputs": [],
   "source": [
    "output_directory = '/content/I40KG-Embeddings/transe'"
   ]
  },
  {
   "cell_type": "code",
   "execution_count": 0,
   "metadata": {
    "colab": {},
    "colab_type": "code",
    "id": "HNrFixxfJVbm"
   },
   "outputs": [],
   "source": [
    "config = dict(\n",
    "    training_set_path           = '/content/I40KG-Embeddings/sto/sto.nt',\n",
    "    execution_mode              = 'Training_mode',\n",
    "    random_seed                 = 0,\n",
    "    kg_embedding_model_name     = 'TransE',\n",
    "    embedding_dim               = 50,\n",
    "    scoring_function            = 1,  # corresponds to L1\n",
    "    normalization_of_entities   = 2,  # corresponds to L2\n",
    "    margin_loss                 = 1,\n",
    "    learning_rate               = 0.01,\n",
    "    num_epochs                  = 30,\n",
    "    batch_size                  = 64,\n",
    "    test_set_ratio              = 0.1, # 10% of training set will be used as a test set\n",
    "    filter_negative_triples     = True,\n",
    "    preferred_device            = 'gpu'\n",
    ")"
   ]
  },
  {
   "cell_type": "code",
   "execution_count": 0,
   "metadata": {
    "colab": {
     "base_uri": "https://localhost:8080/",
     "height": 34
    },
    "colab_type": "code",
    "id": "NqEDakKzJiYf",
    "outputId": "1813c88d-030b-4c7e-fe8a-ce715199c1f2"
   },
   "outputs": [
    {
<<<<<<< HEAD
     "name": "stdout",
     "output_type": "stream",
     "text": [
      "Starting the training...\n"
     ]
=======
      "cell_type": "code",
      "metadata": {
        "id": "Ulvk4NRFI5Zs",
        "colab_type": "code",
        "colab": {}
      },
      "source": [
        "output_directory = '/content/I40KG-Embeddings/transe'"
      ],
      "execution_count": 0,
      "outputs": []
    },
    {
      "cell_type": "code",
      "metadata": {
        "id": "HNrFixxfJVbm",
        "colab_type": "code",
        "colab": {}
      },
      "source": [
        "config = dict(\n",
        "    training_set_path           = '/content/I40KG-Embeddings/sto/sto.nt',\n",
        "    execution_mode              = 'Training_mode',\n",
        "    random_seed                 = 0,\n",
        "    kg_embedding_model_name     = 'TransE',\n",
        "    embedding_dim               = 50,\n",
        "    scoring_function            = 1,  # corresponds to L1\n",
        "    normalization_of_entities   = 2,  # corresponds to L2\n",
        "    margin_loss                 = 1,\n",
        "    learning_rate               = 0.01,\n",
        "    num_epochs                  = 30,\n",
        "    batch_size                  = 64,\n",
        "    test_set_ratio              = 0.1, # 10% of training set will be used as a test set\n",
        "    filter_negative_triples     = True,\n",
        "    preferred_device            = 'gpu'\n",
        ")"
      ],
      "execution_count": 0,
      "outputs": []
    },
    {
      "cell_type": "code",
      "metadata": {
        "id": "NqEDakKzJiYf",
        "colab_type": "code",
        "outputId": "39b90daa-0a00-4d72-c5f4-155cc87322fa",
        "colab": {
          "base_uri": "https://localhost:8080/",
          "height": 119
        }
      },
      "source": [
        "print('Starting the training...')\n",
        "results = pykeen.run(\n",
        "    config=config,\n",
        "    output_directory=output_directory,\n",
        ")\n",
        "print('Training is finished')"
      ],
      "execution_count": 9,
      "outputs": [
        {
          "output_type": "stream",
          "text": [
            "Starting the training...\n"
          ],
          "name": "stdout"
        },
        {
          "output_type": "stream",
          "text": [
            "INFO:pykeen.utilities.pipeline:-------------Train KG Embeddings-------------\n",
            "Training epoch: 100%|██████████| 30/30 [00:05<00:00,  5.48it/s]\n",
            "INFO:pykeen.utilities.pipeline:-------------Start Evaluation-------------\n",
            "INFO:pykeen.utilities.evaluation_utils.metrics_computations:Evaluation took 23.67s seconds\n"
          ],
          "name": "stderr"
        },
        {
          "output_type": "stream",
          "text": [
            "Training is finished\n"
          ],
          "name": "stdout"
        }
      ]
    },
    {
      "cell_type": "code",
      "metadata": {
        "id": "Zv0GR7i8222L",
        "colab_type": "code",
        "colab": {
          "base_uri": "https://localhost:8080/",
          "height": 85
        },
        "outputId": "25de06ed-3230-46e9-e7ce-f61cbd459a1e"
      },
      "source": [
        "%ls /content/I40KG-Embeddings/transe"
      ],
      "execution_count": 13,
      "outputs": [
        {
          "output_type": "stream",
          "text": [
            "configuration.json           evaluation_summary.json       relation_to_id.json\n",
            "entities_to_embeddings.json  losses.json                   trained_model.pkl\n",
            "entities_to_embeddings.pkl   relations_to_embeddings.json\n",
            "entity_to_id.json            relations_to_embeddings.pkl\n"
          ],
          "name": "stdout"
        }
      ]
>>>>>>> 9b0d8cf18f151880a5dd55927f6eae458dc3acf7
    }
   ],
   "source": [
    "print('Starting the training...')\n",
    "results = pykeen.run(\n",
    "    config=config,\n",
    "    output_directory=output_directory,\n",
    ")\n",
    "print('Training is finished')"
   ]
  }
 ],
 "metadata": {
  "accelerator": "GPU",
  "colab": {
   "include_colab_link": true,
   "name": "Creating STO Embeddings with PyKeen.ipynb",
   "provenance": [],
   "version": "0.3.2"
  },
  "kernelspec": {
   "display_name": "Python 3",
   "language": "python",
   "name": "python3"
  },
  "language_info": {
   "codemirror_mode": {
    "name": "ipython",
    "version": 3
   },
   "file_extension": ".py",
   "mimetype": "text/x-python",
   "name": "python",
   "nbconvert_exporter": "python",
   "pygments_lexer": "ipython3",
   "version": "3.6.8"
  }
 },
 "nbformat": 4,
 "nbformat_minor": 1
}
