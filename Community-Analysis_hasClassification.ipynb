{
 "cells": [
  {
   "cell_type": "code",
   "execution_count": 1,
   "metadata": {},
   "outputs": [],
   "source": [
    "import numpy as np\n",
    "import pandas as pd\n",
    "from rdflib import Graph"
   ]
  },
  {
   "cell_type": "code",
   "execution_count": 2,
   "metadata": {},
   "outputs": [
    {
     "data": {
      "text/plain": [
       "279"
      ]
     },
     "execution_count": 2,
     "metadata": {},
     "output_type": "execute_result"
    }
   ],
   "source": [
    "output = 'Plot_Community_Analysis/'\n",
    "\n",
    "input_path = 'result/TransE/Kmeans/th_85/'\n",
    "\n",
    "cls_0 = input_path + \"cluster-0.txt\"\n",
    "cls_1 = input_path + \"cluster-1.txt\"\n",
    "\n",
    "cluster_0 = pd.read_csv(cls_0, delimiter=\",\", header=None)\n",
    "cluster_1 =pd.read_csv(cls_1, delimiter=\",\", header=None)\n",
    "\n",
    "cluster_0.columns = ['s']\n",
    "cluster_1.columns = ['s']\n",
    "\n",
    "cluster_0.shape[0]"
   ]
  },
  {
   "cell_type": "code",
   "execution_count": 3,
   "metadata": {},
   "outputs": [
    {
     "data": {
      "text/html": [
       "<div>\n",
       "<style scoped>\n",
       "    .dataframe tbody tr th:only-of-type {\n",
       "        vertical-align: middle;\n",
       "    }\n",
       "\n",
       "    .dataframe tbody tr th {\n",
       "        vertical-align: top;\n",
       "    }\n",
       "\n",
       "    .dataframe thead th {\n",
       "        text-align: right;\n",
       "    }\n",
       "</style>\n",
       "<table border=\"1\" class=\"dataframe\">\n",
       "  <thead>\n",
       "    <tr style=\"text-align: right;\">\n",
       "      <th></th>\n",
       "      <th>s</th>\n",
       "    </tr>\n",
       "  </thead>\n",
       "  <tbody>\n",
       "    <tr>\n",
       "      <th>0</th>\n",
       "      <td>https://w3id.org/i40/sto#IEC_61400_P25_S6_E2</td>\n",
       "    </tr>\n",
       "    <tr>\n",
       "      <th>1</th>\n",
       "      <td>https://w3id.org/i40/sto#ISO_9000</td>\n",
       "    </tr>\n",
       "    <tr>\n",
       "      <th>2</th>\n",
       "      <td>https://w3id.org/i40/sto#NIST_500-291</td>\n",
       "    </tr>\n",
       "    <tr>\n",
       "      <th>3</th>\n",
       "      <td>https://w3id.org/i40/sto#IEC_60839_P7_S4_E1</td>\n",
       "    </tr>\n",
       "    <tr>\n",
       "      <th>4</th>\n",
       "      <td>https://w3id.org/i40/sto#W3C_RDF</td>\n",
       "    </tr>\n",
       "  </tbody>\n",
       "</table>\n",
       "</div>"
      ],
      "text/plain": [
       "                                              s\n",
       "0  https://w3id.org/i40/sto#IEC_61400_P25_S6_E2\n",
       "1             https://w3id.org/i40/sto#ISO_9000\n",
       "2         https://w3id.org/i40/sto#NIST_500-291\n",
       "3   https://w3id.org/i40/sto#IEC_60839_P7_S4_E1\n",
       "4              https://w3id.org/i40/sto#W3C_RDF"
      ]
     },
     "execution_count": 3,
     "metadata": {},
     "output_type": "execute_result"
    }
   ],
   "source": [
    "cluster_0.head()"
   ]
  },
  {
   "cell_type": "markdown",
   "metadata": {},
   "source": [
    "## Load the Test-Set"
   ]
  },
  {
   "cell_type": "code",
   "execution_count": 4,
   "metadata": {},
   "outputs": [
    {
     "data": {
      "text/html": [
       "<div>\n",
       "<style scoped>\n",
       "    .dataframe tbody tr th:only-of-type {\n",
       "        vertical-align: middle;\n",
       "    }\n",
       "\n",
       "    .dataframe tbody tr th {\n",
       "        vertical-align: top;\n",
       "    }\n",
       "\n",
       "    .dataframe thead th {\n",
       "        text-align: right;\n",
       "    }\n",
       "</style>\n",
       "<table border=\"1\" class=\"dataframe\">\n",
       "  <thead>\n",
       "    <tr style=\"text-align: right;\">\n",
       "      <th></th>\n",
       "      <th>s</th>\n",
       "      <th>p</th>\n",
       "      <th>o</th>\n",
       "    </tr>\n",
       "  </thead>\n",
       "  <tbody>\n",
       "    <tr>\n",
       "      <th>0</th>\n",
       "      <td>https://w3id.org/i40/sto#ISO_18629</td>\n",
       "      <td>https://w3id.org/i40/sto#hasClassification</td>\n",
       "      <td>https://w3id.org/i40/rami#ControlDevice</td>\n",
       "    </tr>\n",
       "    <tr>\n",
       "      <th>1</th>\n",
       "      <td>https://w3id.org/i40/sto#IEC_61131</td>\n",
       "      <td>https://w3id.org/i40/sto#hasClassification</td>\n",
       "      <td>https://w3id.org/i40/sto#RAMIStation</td>\n",
       "    </tr>\n",
       "    <tr>\n",
       "      <th>2</th>\n",
       "      <td>https://w3id.org/i40/sto#IEC_27018</td>\n",
       "      <td>https://w3id.org/i40/sto#hasClassification</td>\n",
       "      <td>https://w3id.org/i40/sto#IIRASecurity</td>\n",
       "    </tr>\n",
       "    <tr>\n",
       "      <th>3</th>\n",
       "      <td>https://w3id.org/i40/sto#ISO_27018</td>\n",
       "      <td>https://w3id.org/i40/sto#hasClassification</td>\n",
       "      <td>https://w3id.org/i40/sto#IIRAPrivacy</td>\n",
       "    </tr>\n",
       "    <tr>\n",
       "      <th>4</th>\n",
       "      <td>https://w3id.org/i40/sto#ISO_5459</td>\n",
       "      <td>https://w3id.org/i40/sto#hasClassification</td>\n",
       "      <td>https://w3id.org/i40/sto#ModelingPractice</td>\n",
       "    </tr>\n",
       "  </tbody>\n",
       "</table>\n",
       "</div>"
      ],
      "text/plain": [
       "                                    s  \\\n",
       "0  https://w3id.org/i40/sto#ISO_18629   \n",
       "1  https://w3id.org/i40/sto#IEC_61131   \n",
       "2  https://w3id.org/i40/sto#IEC_27018   \n",
       "3  https://w3id.org/i40/sto#ISO_27018   \n",
       "4   https://w3id.org/i40/sto#ISO_5459   \n",
       "\n",
       "                                            p  \\\n",
       "0  https://w3id.org/i40/sto#hasClassification   \n",
       "1  https://w3id.org/i40/sto#hasClassification   \n",
       "2  https://w3id.org/i40/sto#hasClassification   \n",
       "3  https://w3id.org/i40/sto#hasClassification   \n",
       "4  https://w3id.org/i40/sto#hasClassification   \n",
       "\n",
       "                                           o  \n",
       "0    https://w3id.org/i40/rami#ControlDevice  \n",
       "1       https://w3id.org/i40/sto#RAMIStation  \n",
       "2      https://w3id.org/i40/sto#IIRASecurity  \n",
       "3       https://w3id.org/i40/sto#IIRAPrivacy  \n",
       "4  https://w3id.org/i40/sto#ModelingPractice  "
      ]
     },
     "execution_count": 4,
     "metadata": {},
     "output_type": "execute_result"
    }
   ],
   "source": [
    "input_ = 'sto/hasClassification/'\n",
    "g = Graph()\n",
    "g.parse(input_+'test_set_hasClassification.nt', format=\"nt\")\n",
    "\n",
    "test_set = pd.DataFrame(columns=['s', 'p', 'o'])\n",
    "qres = g.query(\n",
    "    \"\"\"PREFIX owl: <http://www.w3.org/2002/07/owl#>\n",
    "        PREFIX rdf: <http://www.w3.org/1999/02/22-rdf-syntax-ns#>\n",
    "        PREFIX sto: <https://w3id.org/i40/sto#>\n",
    "        select distinct ?s ?p ?o where {\n",
    "            ?s ?p ?o .\n",
    "        }\"\"\")\n",
    "sub = []\n",
    "pre = []\n",
    "obj = []\n",
    "for row in qres:\n",
    "    sub.append(str(\"%s\" %row['s']))\n",
    "    pre.append(str(\"%s\" %row['p']))\n",
    "    obj.append(str(\"%s\" %row['o']))\n",
    "test_set.s=sub\n",
    "test_set.p=pre\n",
    "test_set.o=obj\n",
    "test_set.head()"
   ]
  },
  {
   "cell_type": "code",
   "execution_count": 5,
   "metadata": {},
   "outputs": [
    {
     "name": "stdout",
     "output_type": "stream",
     "text": [
      "56\n"
     ]
    },
    {
     "data": {
      "text/html": [
       "<div>\n",
       "<style scoped>\n",
       "    .dataframe tbody tr th:only-of-type {\n",
       "        vertical-align: middle;\n",
       "    }\n",
       "\n",
       "    .dataframe tbody tr th {\n",
       "        vertical-align: top;\n",
       "    }\n",
       "\n",
       "    .dataframe thead th {\n",
       "        text-align: right;\n",
       "    }\n",
       "</style>\n",
       "<table border=\"1\" class=\"dataframe\">\n",
       "  <thead>\n",
       "    <tr style=\"text-align: right;\">\n",
       "      <th></th>\n",
       "      <th>s</th>\n",
       "    </tr>\n",
       "  </thead>\n",
       "  <tbody>\n",
       "    <tr>\n",
       "      <th>0</th>\n",
       "      <td>https://w3id.org/i40/sto#ISO_18629</td>\n",
       "    </tr>\n",
       "    <tr>\n",
       "      <th>1</th>\n",
       "      <td>https://w3id.org/i40/sto#IEC_61131</td>\n",
       "    </tr>\n",
       "    <tr>\n",
       "      <th>2</th>\n",
       "      <td>https://w3id.org/i40/sto#IEC_27018</td>\n",
       "    </tr>\n",
       "    <tr>\n",
       "      <th>3</th>\n",
       "      <td>https://w3id.org/i40/sto#ISO_27018</td>\n",
       "    </tr>\n",
       "    <tr>\n",
       "      <th>4</th>\n",
       "      <td>https://w3id.org/i40/sto#ISO_5459</td>\n",
       "    </tr>\n",
       "  </tbody>\n",
       "</table>\n",
       "</div>"
      ],
      "text/plain": [
       "                                    s\n",
       "0  https://w3id.org/i40/sto#ISO_18629\n",
       "1  https://w3id.org/i40/sto#IEC_61131\n",
       "2  https://w3id.org/i40/sto#IEC_27018\n",
       "3  https://w3id.org/i40/sto#ISO_27018\n",
       "4   https://w3id.org/i40/sto#ISO_5459"
      ]
     },
     "execution_count": 5,
     "metadata": {},
     "output_type": "execute_result"
    }
   ],
   "source": [
    "cls = cluster_0\n",
    "sub = pd.DataFrame(test_set['s'])\n",
    "sub = sub.drop_duplicates().reset_index(drop=True)\n",
    "print(sub.shape[0])\n",
    "sub.head()"
   ]
  },
  {
   "cell_type": "markdown",
   "metadata": {},
   "source": [
    "## Intersected cluster standards and test-set standards"
   ]
  },
  {
   "cell_type": "code",
   "execution_count": 6,
   "metadata": {},
   "outputs": [
    {
     "name": "stdout",
     "output_type": "stream",
     "text": [
      "41\n"
     ]
    },
    {
     "data": {
      "text/html": [
       "<div>\n",
       "<style scoped>\n",
       "    .dataframe tbody tr th:only-of-type {\n",
       "        vertical-align: middle;\n",
       "    }\n",
       "\n",
       "    .dataframe tbody tr th {\n",
       "        vertical-align: top;\n",
       "    }\n",
       "\n",
       "    .dataframe thead th {\n",
       "        text-align: right;\n",
       "    }\n",
       "</style>\n",
       "<table border=\"1\" class=\"dataframe\">\n",
       "  <thead>\n",
       "    <tr style=\"text-align: right;\">\n",
       "      <th></th>\n",
       "      <th>s</th>\n",
       "    </tr>\n",
       "  </thead>\n",
       "  <tbody>\n",
       "    <tr>\n",
       "      <th>0</th>\n",
       "      <td>https://w3id.org/i40/sto#ISO_9000</td>\n",
       "    </tr>\n",
       "    <tr>\n",
       "      <th>1</th>\n",
       "      <td>https://w3id.org/i40/sto#ISO_9594</td>\n",
       "    </tr>\n",
       "    <tr>\n",
       "      <th>2</th>\n",
       "      <td>https://w3id.org/i40/sto#ISO_16739</td>\n",
       "    </tr>\n",
       "    <tr>\n",
       "      <th>3</th>\n",
       "      <td>https://w3id.org/i40/sto#ISO_14739-1</td>\n",
       "    </tr>\n",
       "    <tr>\n",
       "      <th>4</th>\n",
       "      <td>https://w3id.org/i40/sto#IEC_27018</td>\n",
       "    </tr>\n",
       "  </tbody>\n",
       "</table>\n",
       "</div>"
      ],
      "text/plain": [
       "                                      s\n",
       "0     https://w3id.org/i40/sto#ISO_9000\n",
       "1     https://w3id.org/i40/sto#ISO_9594\n",
       "2    https://w3id.org/i40/sto#ISO_16739\n",
       "3  https://w3id.org/i40/sto#ISO_14739-1\n",
       "4    https://w3id.org/i40/sto#IEC_27018"
      ]
     },
     "execution_count": 6,
     "metadata": {},
     "output_type": "execute_result"
    }
   ],
   "source": [
    "intersected_df = pd.merge(cls, sub, how='inner', on='s')\n",
    "intersected_df = intersected_df.drop_duplicates().reset_index(drop=True)\n",
    "print(intersected_df.shape[0])\n",
    "intersected_df.head()"
   ]
  },
  {
   "cell_type": "markdown",
   "metadata": {},
   "source": [
    "## Select the classification standards of intersected between cluster and Test-Set"
   ]
  },
  {
   "cell_type": "code",
   "execution_count": 7,
   "metadata": {},
   "outputs": [
    {
     "name": "stdout",
     "output_type": "stream",
     "text": [
      "29\n"
     ]
    },
    {
     "data": {
      "text/html": [
       "<div>\n",
       "<style scoped>\n",
       "    .dataframe tbody tr th:only-of-type {\n",
       "        vertical-align: middle;\n",
       "    }\n",
       "\n",
       "    .dataframe tbody tr th {\n",
       "        vertical-align: top;\n",
       "    }\n",
       "\n",
       "    .dataframe thead th {\n",
       "        text-align: right;\n",
       "    }\n",
       "</style>\n",
       "<table border=\"1\" class=\"dataframe\">\n",
       "  <thead>\n",
       "    <tr style=\"text-align: right;\">\n",
       "      <th></th>\n",
       "      <th>o</th>\n",
       "    </tr>\n",
       "  </thead>\n",
       "  <tbody>\n",
       "    <tr>\n",
       "      <th>0</th>\n",
       "      <td>https://w3id.org/i40/sto#IIRASecurity</td>\n",
       "    </tr>\n",
       "    <tr>\n",
       "      <th>1</th>\n",
       "      <td>https://w3id.org/i40/sto#IIRAPrivacy</td>\n",
       "    </tr>\n",
       "    <tr>\n",
       "      <th>2</th>\n",
       "      <td>https://w3id.org/i40/sto#ModelingPractice</td>\n",
       "    </tr>\n",
       "    <tr>\n",
       "      <th>3</th>\n",
       "      <td>https://w3id.org/i40/sto#IDSRAMSecurity</td>\n",
       "    </tr>\n",
       "    <tr>\n",
       "      <th>4</th>\n",
       "      <td>https://w3id.org/i40/sto#RAMIEnterprise</td>\n",
       "    </tr>\n",
       "    <tr>\n",
       "      <th>5</th>\n",
       "      <td>https://w3id.org/i40/sto#ProductModelDataExchange</td>\n",
       "    </tr>\n",
       "    <tr>\n",
       "      <th>6</th>\n",
       "      <td>https://w3id.org/i40/sto#FiwareSecurity</td>\n",
       "    </tr>\n",
       "    <tr>\n",
       "      <th>7</th>\n",
       "      <td>https://w3id.org/i40/sto#IDSRAMCertification</td>\n",
       "    </tr>\n",
       "    <tr>\n",
       "      <th>8</th>\n",
       "      <td>https://w3id.org/i40/sto#ProductionLifeCycleDa...</td>\n",
       "    </tr>\n",
       "    <tr>\n",
       "      <th>9</th>\n",
       "      <td>https://w3id.org/i40/sto#RAMIControlDevice</td>\n",
       "    </tr>\n",
       "  </tbody>\n",
       "</table>\n",
       "</div>"
      ],
      "text/plain": [
       "                                                   o\n",
       "0              https://w3id.org/i40/sto#IIRASecurity\n",
       "1               https://w3id.org/i40/sto#IIRAPrivacy\n",
       "2          https://w3id.org/i40/sto#ModelingPractice\n",
       "3            https://w3id.org/i40/sto#IDSRAMSecurity\n",
       "4            https://w3id.org/i40/sto#RAMIEnterprise\n",
       "5  https://w3id.org/i40/sto#ProductModelDataExchange\n",
       "6            https://w3id.org/i40/sto#FiwareSecurity\n",
       "7       https://w3id.org/i40/sto#IDSRAMCertification\n",
       "8  https://w3id.org/i40/sto#ProductionLifeCycleDa...\n",
       "9         https://w3id.org/i40/sto#RAMIControlDevice"
      ]
     },
     "execution_count": 7,
     "metadata": {},
     "output_type": "execute_result"
    }
   ],
   "source": [
    "classification_test_set = test_set.loc[test_set['s'].isin(intersected_df.s)]\n",
    "classification_test_set = pd.DataFrame(classification_test_set['o']).drop_duplicates().reset_index(drop=True)\n",
    "print(classification_test_set.shape[0])\n",
    "classification_test_set.head(10)"
   ]
  },
  {
   "cell_type": "markdown",
   "metadata": {},
   "source": [
    "## Select the standards classification of the cluster "
   ]
  },
  {
   "cell_type": "code",
   "execution_count": 8,
   "metadata": {},
   "outputs": [
    {
     "name": "stdout",
     "output_type": "stream",
     "text": [
      "52\n"
     ]
    },
    {
     "data": {
      "text/html": [
       "<div>\n",
       "<style scoped>\n",
       "    .dataframe tbody tr th:only-of-type {\n",
       "        vertical-align: middle;\n",
       "    }\n",
       "\n",
       "    .dataframe tbody tr th {\n",
       "        vertical-align: top;\n",
       "    }\n",
       "\n",
       "    .dataframe thead th {\n",
       "        text-align: right;\n",
       "    }\n",
       "</style>\n",
       "<table border=\"1\" class=\"dataframe\">\n",
       "  <thead>\n",
       "    <tr style=\"text-align: right;\">\n",
       "      <th></th>\n",
       "      <th>o</th>\n",
       "    </tr>\n",
       "  </thead>\n",
       "  <tbody>\n",
       "    <tr>\n",
       "      <th>0</th>\n",
       "      <td>https://w3id.org/i40/sto#CrossLevel</td>\n",
       "    </tr>\n",
       "    <tr>\n",
       "      <th>1</th>\n",
       "      <td>https://w3id.org/i40/sto#IIRASecurity</td>\n",
       "    </tr>\n",
       "    <tr>\n",
       "      <th>2</th>\n",
       "      <td>https://w3id.org/i40/sto#IDSRAMCertification</td>\n",
       "    </tr>\n",
       "    <tr>\n",
       "      <th>3</th>\n",
       "      <td>https://w3id.org/i40/sto#RAMICommunicationlayer</td>\n",
       "    </tr>\n",
       "    <tr>\n",
       "      <th>4</th>\n",
       "      <td>https://w3id.org/i40/sto#RAMIControlDevice</td>\n",
       "    </tr>\n",
       "    <tr>\n",
       "      <th>5</th>\n",
       "      <td>https://w3id.org/i40/sto#RAMIFieldDevice</td>\n",
       "    </tr>\n",
       "    <tr>\n",
       "      <th>6</th>\n",
       "      <td>https://w3id.org/i40/sto#ProductLifeCycleManag...</td>\n",
       "    </tr>\n",
       "    <tr>\n",
       "      <th>7</th>\n",
       "      <td>https://w3id.org/i40/sto#RAMIWorkCenter</td>\n",
       "    </tr>\n",
       "    <tr>\n",
       "      <th>8</th>\n",
       "      <td>https://w3id.org/i40/rami#Lifecycle_Status</td>\n",
       "    </tr>\n",
       "    <tr>\n",
       "      <th>9</th>\n",
       "      <td>https://w3id.org/i40/sto#Security</td>\n",
       "    </tr>\n",
       "  </tbody>\n",
       "</table>\n",
       "</div>"
      ],
      "text/plain": [
       "                                                   o\n",
       "0                https://w3id.org/i40/sto#CrossLevel\n",
       "1              https://w3id.org/i40/sto#IIRASecurity\n",
       "2       https://w3id.org/i40/sto#IDSRAMCertification\n",
       "3    https://w3id.org/i40/sto#RAMICommunicationlayer\n",
       "4         https://w3id.org/i40/sto#RAMIControlDevice\n",
       "5           https://w3id.org/i40/sto#RAMIFieldDevice\n",
       "6  https://w3id.org/i40/sto#ProductLifeCycleManag...\n",
       "7            https://w3id.org/i40/sto#RAMIWorkCenter\n",
       "8         https://w3id.org/i40/rami#Lifecycle_Status\n",
       "9                  https://w3id.org/i40/sto#Security"
      ]
     },
     "execution_count": 8,
     "metadata": {},
     "output_type": "execute_result"
    }
   ],
   "source": [
    "input_ = 'sto/hasClassification/'\n",
    "g = Graph()\n",
    "g.parse(input_+'training_set_hasClassification.nt', format='nt')\n",
    "\n",
    "list_pd = pd.DataFrame(columns=['o'])\n",
    "obj = []\n",
    "for standard in cls['s']:\n",
    "    qres = g.query(\n",
    "        \"\"\"PREFIX owl: <http://www.w3.org/2002/07/owl#>\n",
    "                PREFIX rdf: <http://www.w3.org/1999/02/22-rdf-syntax-ns#>\n",
    "                PREFIX sto: <https://w3id.org/i40/sto#>\n",
    "\n",
    "            select distinct ?o where {\n",
    "                    <\"\"\" +standard+ \"\"\"> sto:hasClassification ?o .\n",
    "            }\"\"\")\n",
    "\n",
    "    for row in qres:\n",
    "        obj.append(str(\"%s\" %row['o']))\n",
    "\n",
    "list_pd.o=obj\n",
    "list_pd = list_pd.drop_duplicates().reset_index(drop=True)\n",
    "print(list_pd.shape[0])\n",
    "list_pd.head(10)"
   ]
  },
  {
   "cell_type": "markdown",
   "metadata": {},
   "source": [
    "### The intersection of classification of standards that belong to test_set and cluster with standards classification of the cluster"
   ]
  },
  {
   "cell_type": "code",
   "execution_count": 9,
   "metadata": {},
   "outputs": [
    {
     "data": {
      "text/plain": [
       "24"
      ]
     },
     "execution_count": 9,
     "metadata": {},
     "output_type": "execute_result"
    }
   ],
   "source": [
    "intersected_cls = pd.merge(classification_test_set, list_pd, how='inner', on='o')\n",
    "#intersected_cls = intersected_cls.drop_duplicates().reset_index(drop=True)\n",
    "intersected_cls.shape[0]"
   ]
  },
  {
   "cell_type": "markdown",
   "metadata": {},
   "source": [
    "## Accuracy"
   ]
  },
  {
   "cell_type": "code",
   "execution_count": 10,
   "metadata": {},
   "outputs": [
    {
     "data": {
      "text/plain": [
       "0.8275862068965517"
      ]
     },
     "execution_count": 10,
     "metadata": {},
     "output_type": "execute_result"
    }
   ],
   "source": [
    "intersected_cls.shape[0]/classification_test_set.shape[0]"
   ]
  },
  {
   "cell_type": "markdown",
   "metadata": {},
   "source": [
    "## Plot the accuracy"
   ]
  },
  {
   "cell_type": "code",
   "execution_count": null,
   "metadata": {},
   "outputs": [],
   "source": [
    "# libraries\n",
    "import numpy as np\n",
    "import matplotlib.pyplot as plt\n",
    " \n",
    "# set width of bar\n",
    "barWidth = 0.1\n",
    " \n",
    "# set height of bar (TransD_th85)\n",
    "#bars1 = [0.43, 0.42, 0.39]\n",
    "#bars2 = [0.72, 0.67, 0.65]\n",
    "\n",
    "# set height of bar (TransE_th85)\n",
    "#bars1 = [0.85, 0.49, 0.64]\n",
    "#bars2 = [0.57, 0.67, 0.78]\n",
    "\n",
    "# set height of bar (TransR_th85)\n",
    "bars1 = [0.61, 0.82, 0.53]\n",
    "bars2 = [0.56, 0.32, 0.64]\n",
    "\n",
    "# Set position of bar on X axis\n",
    "#r1 = np.arange(len(bars1))\n",
    "r1 = [0,0.4,0.8]\n",
    "#r1 = [0,0.9,1.9]\n",
    "r2 = [x + barWidth for x in r1]\n",
    "\n",
    "\n",
    "# Make the plot\n",
    "plt.bar(r1, bars1, color='#13505b', width=barWidth, edgecolor='white', label='Cluster 1')\n",
    "plt.bar(r2, bars2, color='#90bfc9', width=barWidth, edgecolor='white', label='Cluster 2')\n",
    "\n",
    "# Add xticks on the middle of the group bars\n",
    "plt.xlabel('Communities', fontweight='bold')\n",
    "plt.xticks([0,0.4,0.8], ['Metis', 'SemEp', 'Kmeans'])\n",
    "#plt.xticks([0.3,1.3,2.2], ['Metis', 'SemEp', 'Kmeans'])\n",
    "plt.title('Accuracy of related standards in each cluster')\n",
    "\n",
    "for i, v in enumerate(bars1):\n",
    "    plt.text(r1[i]-0.03, v+0.01, str(v), color='black', fontweight='bold', fontsize='small')\n",
    "for i, v in enumerate(bars2):\n",
    "    plt.text(r2[i]-0.03, v+0.01, str(v), color='black', fontweight='bold', fontsize='small')\n",
    "\n",
    "\n",
    "#plt.ylabel('Number of link prediction')\n",
    "# Create legend & Show graphic\n",
    "legend = plt.legend(loc='upper right', shadow=False, fontsize='small', ncol=2)\n",
    "\n",
    "plt.savefig(output+\"Accuracy of related standards(TransR_th85).pdf\", format='pdf', bbox_inches = 'tight')\n",
    "plt.show()"
   ]
  },
  {
   "cell_type": "code",
   "execution_count": null,
   "metadata": {},
   "outputs": [],
   "source": [
    "# libraries\n",
    "import numpy as np\n",
    "import matplotlib.pyplot as plt\n",
    " \n",
    "# set width of bar\n",
    "barWidth = 0.1\n",
    " \n",
    "# set height of bar (TransD_th90)\n",
    "\"\"\"\n",
    "bars1 = [0.17, 0.00, 0.17]\n",
    "bars2 = [0.17, 0.17, 0.49]\n",
    "bars3 = [0.20, 0.24, 0.25]\n",
    "bars4 = [0.33, 0.26, 0.09]\n",
    "bars5 = [0.25, 0.21, 0.40]\n",
    "bars6 = [0.17, 0.39, 0.13]\n",
    "bars7 = [0.18, 0.20, 0.00]\n",
    "\"\"\"\n",
    "# set height of bar (TransH_th85)\n",
    "bars1 = [0.50, 1.00, 0.96]\n",
    "bars2 = [0.40, 0.50, 0.67]\n",
    "bars3 = [0.67, 0.00, 0.58]\n",
    "bars4 = [0.50, 0.89, 0.50]\n",
    "bars5 = [0.00, 0.40, 0.50]\n",
    "bars6 = [0.88, 0.30, 0.00]\n",
    "bars7 = [0.38, 0.22, 0.00]\n",
    "\n",
    "# Set position of bar on X axis\n",
    "#r1 = np.arange(len(bars1))\n",
    "#r1 = [0,0.4,0.8]\n",
    "r1 = [0,0.8,1.6]\n",
    "r2 = [x + barWidth for x in r1]\n",
    "r3 = [x + barWidth for x in r2]\n",
    "r4 = [x + barWidth for x in r3]\n",
    "r5 = [x + barWidth for x in r4]\n",
    "r6 = [x + barWidth for x in r5]\n",
    "r7 = [x + barWidth for x in r6]\n",
    "\n",
    "# Make the plot\n",
    "plt.bar(r1, bars1, color='#13505b', width=barWidth, edgecolor='white', label='Cluster 1')\n",
    "plt.bar(r2, bars2, color='#90bfc9', width=barWidth, edgecolor='white', label='Cluster 2')\n",
    "plt.bar(r3, bars3, color='#2d7f5e', width=barWidth, edgecolor='white', label='Cluster 3')\n",
    "plt.bar(r4, bars4, color='black', width=barWidth, edgecolor='white', label='Cluster 4')\n",
    "plt.bar(r5, bars5, color='blue', width=barWidth, edgecolor='white', label='Cluster 5')\n",
    "plt.bar(r6, bars6, color='red', width=barWidth, edgecolor='white', label='Cluster 6')\n",
    "plt.bar(r7, bars7, color='green', width=barWidth, edgecolor='white', label='Cluster 7')\n",
    "#plt.bar(r3, bars3, color='#2d7f5e', width=barWidth, edgecolor='white', label='N_relatedTo')\n",
    "\n",
    "# Add xticks on the middle of the group bars\n",
    "plt.xlabel('Communities', fontweight='bold')\n",
    "#plt.xticks([0,0.4,0.8], ['Metis', 'SemEp', 'Kmeans'])\n",
    "plt.xticks([0.3,1.3,2.2], ['Metis', 'SemEp', 'Kmeans'])\n",
    "plt.title('Accuracy of related standards in each cluster')\n",
    "\n",
    "for i, v in enumerate(bars1):\n",
    "    plt.text(r1[i]-0.06, v+0.01, str(v), color='black', fontweight='bold', fontsize='xx-small')\n",
    "for i, v in enumerate(bars2):\n",
    "    plt.text(r2[i]-0.06, v+0.01, str(v), color='black', fontweight='bold', fontsize='xx-small')\n",
    "for i, v in enumerate(bars3):\n",
    "    plt.text(r3[i]-0.06, v+0.01, str(v), color='black', fontweight='bold', fontsize='xx-small')\n",
    "for i, v in enumerate(bars4):\n",
    "    plt.text(r4[i]-0.06, v+0.01, str(v), color='black', fontweight='bold', fontsize='xx-small')\n",
    "for i, v in enumerate(bars5):\n",
    "    plt.text(r5[i]-0.06, v+0.01, str(v), color='black', fontweight='bold', fontsize='xx-small')\n",
    "for i, v in enumerate(bars6):\n",
    "    if v!=0:\n",
    "        plt.text(r6[i]-0.06, v+0.01, str(v), color='black', fontweight='bold', fontsize='xx-small')\n",
    "for i, v in enumerate(bars7):\n",
    "    if v!=0:\n",
    "        plt.text(r7[i]-0.06, v+0.01, str(v), color='black', fontweight='bold', fontsize='xx-small')\n",
    "\n",
    "#plt.ylabel('Number of link prediction')\n",
    "# Create legend & Show graphic\n",
    "legend = plt.legend(loc='upper right', shadow=False, fontsize='small', ncol=1)\n",
    "\n",
    "#plt.legend(loc='upper left')\n",
    "#plt.savefig(output+\"Accuracy of related standards(TransH_th85).pdf\", format='pdf', bbox_inches = 'tight')\n",
    "plt.show()"
   ]
  },
  {
   "cell_type": "code",
   "execution_count": null,
   "metadata": {},
   "outputs": [],
   "source": []
  },
  {
   "cell_type": "code",
   "execution_count": null,
   "metadata": {},
   "outputs": [],
   "source": []
  },
  {
   "cell_type": "code",
   "execution_count": null,
   "metadata": {},
   "outputs": [],
   "source": [
    "g = Graph()\n",
    "g.parse(\"sto/hasClassification/training_set_hasClassification.nt\", format=\"nt\")\n",
    "\n",
    "qres = g.query(\n",
    "    \"\"\"PREFIX owl: <http://www.w3.org/2002/07/owl#>\n",
    "       PREFIX rdf: <http://www.w3.org/1999/02/22-rdf-syntax-ns#>\n",
    "       PREFIX sto: <https://w3id.org/i40/sto#>\n",
    "    \n",
    "    select ?o where {\n",
    "            ?s rdf:type sto:Standard .\n",
    "            ?s sto:hasClassification ?o .\n",
    "    }\"\"\")\n",
    "        \n",
    "classification = pd.DataFrame(columns=['o'])\n",
    "obj = []\n",
    "for row in qres:\n",
    "    obj.append(str(\"%s\" %row))\n",
    "classification.o=obj"
   ]
  },
  {
   "cell_type": "code",
   "execution_count": null,
   "metadata": {},
   "outputs": [],
   "source": [
    "classification.shape[0]"
   ]
  },
  {
   "cell_type": "code",
   "execution_count": null,
   "metadata": {},
   "outputs": [],
   "source": [
    "classification_sto = pd.DataFrame(columns=['classification',  'number_standard'])\n",
    "classification_sto.classification=list(pd.value_counts(classification['o'].values, 0).index)\n",
    "classification_sto.number_standard = list(pd.value_counts(classification['o'].values, 0))\n",
    "classification_sto = classification_sto.sort_values(by='number_standard', ascending=False).reset_index(drop=True)\n",
    "\n",
    "classification_sto\n",
    "classification_sto.to_csv(output+'classification_sto(training-set).csv', index=None)"
   ]
  }
 ],
 "metadata": {
  "kernelspec": {
   "display_name": "Python 3",
   "language": "python",
   "name": "python3"
  },
  "language_info": {
   "codemirror_mode": {
    "name": "ipython",
    "version": 3
   },
   "file_extension": ".py",
   "mimetype": "text/x-python",
   "name": "python",
   "nbconvert_exporter": "python",
   "pygments_lexer": "ipython3",
   "version": "3.6.8"
  }
 },
 "nbformat": 4,
 "nbformat_minor": 2
}
