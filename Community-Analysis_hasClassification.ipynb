{
 "cells": [
  {
   "cell_type": "code",
   "execution_count": 1,
   "metadata": {},
   "outputs": [],
   "source": [
    "import numpy as np\n",
    "import pandas as pd\n",
    "from rdflib import Graph"
   ]
  },
  {
   "cell_type": "code",
   "execution_count": 298,
   "metadata": {},
   "outputs": [
    {
     "data": {
      "text/plain": [
       "13"
      ]
     },
     "execution_count": 298,
     "metadata": {},
     "output_type": "execute_result"
    }
   ],
   "source": [
    "output = 'Plot_Community_Analysis/'\n",
    "\n",
    "input_path = 'result/TransH/Kmeans/th_85/'\n",
    "\n",
    "cls_0 = input_path + \"cluster-0.txt\"\n",
    "cls_1 = input_path + \"cluster-1.txt\"\n",
    "cls_2 = input_path + \"cluster-2.txt\"\n",
    "cls_3 = input_path + \"cluster-3.txt\"\n",
    "cls_4 = input_path + \"cluster-4.txt\"\n",
    "cls_5 = input_path + \"cluster-5.txt\"\n",
    "cls_6 = input_path + \"cluster-6.txt\"\n",
    "cls_7 = input_path + \"cluster-7.txt\"\n",
    "\n",
    "cluster_0 = pd.read_csv(cls_0, delimiter=\",\", header=None)\n",
    "cluster_1 =pd.read_csv(cls_1, delimiter=\",\", header=None)\n",
    "cluster_2 =pd.read_csv(cls_2, delimiter=\",\", header=None)\n",
    "cluster_3 =pd.read_csv(cls_3, delimiter=\",\", header=None)\n",
    "cluster_4 =pd.read_csv(cls_4, delimiter=\",\", header=None)\n",
    "cluster_5 =pd.read_csv(cls_5, delimiter=\",\", header=None)\n",
    "cluster_6 =pd.read_csv(cls_6, delimiter=\",\", header=None)\n",
    "cluster_7 =pd.read_csv(cls_7, delimiter=\",\", header=None)\n",
    "\n",
    "cluster_0.columns = ['s']\n",
    "cluster_1.columns = ['s']\n",
    "cluster_2.columns = ['s']\n",
    "cluster_3.columns = ['s']\n",
    "cluster_4.columns = ['s']\n",
    "cluster_5.columns = ['s']\n",
    "cluster_6.columns = ['s']\n",
    "cluster_7.columns = ['s']\n",
    "\n",
    "cluster_0.shape[0]"
   ]
  },
  {
   "cell_type": "code",
   "execution_count": 299,
   "metadata": {},
   "outputs": [
    {
     "data": {
      "text/html": [
       "<div>\n",
       "<style scoped>\n",
       "    .dataframe tbody tr th:only-of-type {\n",
       "        vertical-align: middle;\n",
       "    }\n",
       "\n",
       "    .dataframe tbody tr th {\n",
       "        vertical-align: top;\n",
       "    }\n",
       "\n",
       "    .dataframe thead th {\n",
       "        text-align: right;\n",
       "    }\n",
       "</style>\n",
       "<table border=\"1\" class=\"dataframe\">\n",
       "  <thead>\n",
       "    <tr style=\"text-align: right;\">\n",
       "      <th></th>\n",
       "      <th>s</th>\n",
       "    </tr>\n",
       "  </thead>\n",
       "  <tbody>\n",
       "    <tr>\n",
       "      <th>0</th>\n",
       "      <td>https://w3id.org/i40/sto#ISO_13374</td>\n",
       "    </tr>\n",
       "    <tr>\n",
       "      <th>1</th>\n",
       "      <td>https://w3id.org/i40/sto#ISO_19439</td>\n",
       "    </tr>\n",
       "    <tr>\n",
       "      <th>2</th>\n",
       "      <td>https://w3id.org/i40/sto#RFC_768</td>\n",
       "    </tr>\n",
       "    <tr>\n",
       "      <th>3</th>\n",
       "      <td>https://w3id.org/i40/sto#IEC_60027_P6_E1</td>\n",
       "    </tr>\n",
       "    <tr>\n",
       "      <th>4</th>\n",
       "      <td>https://w3id.org/i40/sto#IEC_62337</td>\n",
       "    </tr>\n",
       "  </tbody>\n",
       "</table>\n",
       "</div>"
      ],
      "text/plain": [
       "                                          s\n",
       "0        https://w3id.org/i40/sto#ISO_13374\n",
       "1        https://w3id.org/i40/sto#ISO_19439\n",
       "2          https://w3id.org/i40/sto#RFC_768\n",
       "3  https://w3id.org/i40/sto#IEC_60027_P6_E1\n",
       "4        https://w3id.org/i40/sto#IEC_62337"
      ]
     },
     "execution_count": 299,
     "metadata": {},
     "output_type": "execute_result"
    }
   ],
   "source": [
    "cluster_0.head()"
   ]
  },
  {
   "cell_type": "markdown",
   "metadata": {},
   "source": [
    "## Load the Test-Set"
   ]
  },
  {
   "cell_type": "code",
   "execution_count": 300,
   "metadata": {},
   "outputs": [
    {
     "data": {
      "text/html": [
       "<div>\n",
       "<style scoped>\n",
       "    .dataframe tbody tr th:only-of-type {\n",
       "        vertical-align: middle;\n",
       "    }\n",
       "\n",
       "    .dataframe tbody tr th {\n",
       "        vertical-align: top;\n",
       "    }\n",
       "\n",
       "    .dataframe thead th {\n",
       "        text-align: right;\n",
       "    }\n",
       "</style>\n",
       "<table border=\"1\" class=\"dataframe\">\n",
       "  <thead>\n",
       "    <tr style=\"text-align: right;\">\n",
       "      <th></th>\n",
       "      <th>s</th>\n",
       "      <th>p</th>\n",
       "      <th>o</th>\n",
       "    </tr>\n",
       "  </thead>\n",
       "  <tbody>\n",
       "    <tr>\n",
       "      <th>0</th>\n",
       "      <td>https://w3id.org/i40/sto#ISO_TS_14649-201</td>\n",
       "      <td>https://w3id.org/i40/sto#hasClassification</td>\n",
       "      <td>https://w3id.org/i40/rami#Engineering</td>\n",
       "    </tr>\n",
       "    <tr>\n",
       "      <th>1</th>\n",
       "      <td>https://w3id.org/i40/sto#IEC_62714</td>\n",
       "      <td>https://w3id.org/i40/sto#hasClassification</td>\n",
       "      <td>https://w3id.org/i40/sto#ProductionSystemEngin...</td>\n",
       "    </tr>\n",
       "    <tr>\n",
       "      <th>2</th>\n",
       "      <td>https://w3id.org/i40/sto#ISO_9594</td>\n",
       "      <td>https://w3id.org/i40/sto#hasClassification</td>\n",
       "      <td>https://w3id.org/i40/sto#IDSRAMSecurity</td>\n",
       "    </tr>\n",
       "    <tr>\n",
       "      <th>3</th>\n",
       "      <td>https://w3id.org/i40/sto#DIN_EN_ISO_IEC_17025</td>\n",
       "      <td>https://w3id.org/i40/sto#hasClassification</td>\n",
       "      <td>https://w3id.org/i40/sto#IDSRAMCertification</td>\n",
       "    </tr>\n",
       "    <tr>\n",
       "      <th>4</th>\n",
       "      <td>https://w3id.org/i40/sto#ISO_ASTM_52915</td>\n",
       "      <td>https://w3id.org/i40/sto#hasClassification</td>\n",
       "      <td>https://w3id.org/i40/rami#Engineering</td>\n",
       "    </tr>\n",
       "  </tbody>\n",
       "</table>\n",
       "</div>"
      ],
      "text/plain": [
       "                                               s  \\\n",
       "0      https://w3id.org/i40/sto#ISO_TS_14649-201   \n",
       "1             https://w3id.org/i40/sto#IEC_62714   \n",
       "2              https://w3id.org/i40/sto#ISO_9594   \n",
       "3  https://w3id.org/i40/sto#DIN_EN_ISO_IEC_17025   \n",
       "4        https://w3id.org/i40/sto#ISO_ASTM_52915   \n",
       "\n",
       "                                            p  \\\n",
       "0  https://w3id.org/i40/sto#hasClassification   \n",
       "1  https://w3id.org/i40/sto#hasClassification   \n",
       "2  https://w3id.org/i40/sto#hasClassification   \n",
       "3  https://w3id.org/i40/sto#hasClassification   \n",
       "4  https://w3id.org/i40/sto#hasClassification   \n",
       "\n",
       "                                                   o  \n",
       "0              https://w3id.org/i40/rami#Engineering  \n",
       "1  https://w3id.org/i40/sto#ProductionSystemEngin...  \n",
       "2            https://w3id.org/i40/sto#IDSRAMSecurity  \n",
       "3       https://w3id.org/i40/sto#IDSRAMCertification  \n",
       "4              https://w3id.org/i40/rami#Engineering  "
      ]
     },
     "execution_count": 300,
     "metadata": {},
     "output_type": "execute_result"
    }
   ],
   "source": [
    "input_ = 'sto/hasClassification/'\n",
    "g = Graph()\n",
    "g.parse(input_+'test_set_hasClassification.nt', format=\"nt\")\n",
    "\n",
    "test_set = pd.DataFrame(columns=['s', 'p', 'o'])\n",
    "qres = g.query(\n",
    "    \"\"\"PREFIX owl: <http://www.w3.org/2002/07/owl#>\n",
    "        PREFIX rdf: <http://www.w3.org/1999/02/22-rdf-syntax-ns#>\n",
    "        PREFIX sto: <https://w3id.org/i40/sto#>\n",
    "        select distinct ?s ?p ?o where {\n",
    "            ?s ?p ?o .\n",
    "        }\"\"\")\n",
    "sub = []\n",
    "pre = []\n",
    "obj = []\n",
    "for row in qres:\n",
    "    sub.append(str(\"%s\" %row['s']))\n",
    "    pre.append(str(\"%s\" %row['p']))\n",
    "    obj.append(str(\"%s\" %row['o']))\n",
    "test_set.s=sub\n",
    "test_set.p=pre\n",
    "test_set.o=obj\n",
    "test_set.head()"
   ]
  },
  {
   "cell_type": "code",
   "execution_count": 342,
   "metadata": {},
   "outputs": [
    {
     "name": "stdout",
     "output_type": "stream",
     "text": [
      "56\n"
     ]
    },
    {
     "data": {
      "text/html": [
       "<div>\n",
       "<style scoped>\n",
       "    .dataframe tbody tr th:only-of-type {\n",
       "        vertical-align: middle;\n",
       "    }\n",
       "\n",
       "    .dataframe tbody tr th {\n",
       "        vertical-align: top;\n",
       "    }\n",
       "\n",
       "    .dataframe thead th {\n",
       "        text-align: right;\n",
       "    }\n",
       "</style>\n",
       "<table border=\"1\" class=\"dataframe\">\n",
       "  <thead>\n",
       "    <tr style=\"text-align: right;\">\n",
       "      <th></th>\n",
       "      <th>s</th>\n",
       "    </tr>\n",
       "  </thead>\n",
       "  <tbody>\n",
       "    <tr>\n",
       "      <th>0</th>\n",
       "      <td>https://w3id.org/i40/sto#ISO_TS_14649-201</td>\n",
       "    </tr>\n",
       "    <tr>\n",
       "      <th>1</th>\n",
       "      <td>https://w3id.org/i40/sto#IEC_62714</td>\n",
       "    </tr>\n",
       "    <tr>\n",
       "      <th>2</th>\n",
       "      <td>https://w3id.org/i40/sto#ISO_9594</td>\n",
       "    </tr>\n",
       "    <tr>\n",
       "      <th>3</th>\n",
       "      <td>https://w3id.org/i40/sto#DIN_EN_ISO_IEC_17025</td>\n",
       "    </tr>\n",
       "    <tr>\n",
       "      <th>4</th>\n",
       "      <td>https://w3id.org/i40/sto#ISO_ASTM_52915</td>\n",
       "    </tr>\n",
       "  </tbody>\n",
       "</table>\n",
       "</div>"
      ],
      "text/plain": [
       "                                               s\n",
       "0      https://w3id.org/i40/sto#ISO_TS_14649-201\n",
       "1             https://w3id.org/i40/sto#IEC_62714\n",
       "2              https://w3id.org/i40/sto#ISO_9594\n",
       "3  https://w3id.org/i40/sto#DIN_EN_ISO_IEC_17025\n",
       "4        https://w3id.org/i40/sto#ISO_ASTM_52915"
      ]
     },
     "execution_count": 342,
     "metadata": {},
     "output_type": "execute_result"
    }
   ],
   "source": [
    "cls = cluster_7\n",
    "sub = pd.DataFrame(test_set['s'])\n",
    "sub = sub.drop_duplicates().reset_index(drop=True)\n",
    "print(sub.shape[0])\n",
    "sub.head()"
   ]
  },
  {
   "cell_type": "markdown",
   "metadata": {},
   "source": [
    "## Intersected cluster standards and test-set standards"
   ]
  },
  {
   "cell_type": "code",
   "execution_count": 343,
   "metadata": {},
   "outputs": [
    {
     "name": "stdout",
     "output_type": "stream",
     "text": [
      "16\n"
     ]
    },
    {
     "data": {
      "text/html": [
       "<div>\n",
       "<style scoped>\n",
       "    .dataframe tbody tr th:only-of-type {\n",
       "        vertical-align: middle;\n",
       "    }\n",
       "\n",
       "    .dataframe tbody tr th {\n",
       "        vertical-align: top;\n",
       "    }\n",
       "\n",
       "    .dataframe thead th {\n",
       "        text-align: right;\n",
       "    }\n",
       "</style>\n",
       "<table border=\"1\" class=\"dataframe\">\n",
       "  <thead>\n",
       "    <tr style=\"text-align: right;\">\n",
       "      <th></th>\n",
       "      <th>s</th>\n",
       "    </tr>\n",
       "  </thead>\n",
       "  <tbody>\n",
       "    <tr>\n",
       "      <th>0</th>\n",
       "      <td>https://w3id.org/i40/sto#IEC_62541</td>\n",
       "    </tr>\n",
       "    <tr>\n",
       "      <th>1</th>\n",
       "      <td>https://w3id.org/i40/sto#ISO_22400</td>\n",
       "    </tr>\n",
       "    <tr>\n",
       "      <th>2</th>\n",
       "      <td>https://w3id.org/i40/sto#IEC_62714</td>\n",
       "    </tr>\n",
       "    <tr>\n",
       "      <th>3</th>\n",
       "      <td>https://w3id.org/i40/sto#ISO_ASTM_52915</td>\n",
       "    </tr>\n",
       "    <tr>\n",
       "      <th>4</th>\n",
       "      <td>https://w3id.org/i40/sto#IEC_61987_X</td>\n",
       "    </tr>\n",
       "  </tbody>\n",
       "</table>\n",
       "</div>"
      ],
      "text/plain": [
       "                                         s\n",
       "0       https://w3id.org/i40/sto#IEC_62541\n",
       "1       https://w3id.org/i40/sto#ISO_22400\n",
       "2       https://w3id.org/i40/sto#IEC_62714\n",
       "3  https://w3id.org/i40/sto#ISO_ASTM_52915\n",
       "4     https://w3id.org/i40/sto#IEC_61987_X"
      ]
     },
     "execution_count": 343,
     "metadata": {},
     "output_type": "execute_result"
    }
   ],
   "source": [
    "intersected_df = pd.merge(cls, sub, how='inner', on='s')\n",
    "intersected_df = intersected_df.drop_duplicates().reset_index(drop=True)\n",
    "print(intersected_df.shape[0])\n",
    "intersected_df.head()"
   ]
  },
  {
   "cell_type": "markdown",
   "metadata": {},
   "source": [
    "## Select the classification standards of intersected between cluster and Test-Set"
   ]
  },
  {
   "cell_type": "code",
   "execution_count": 344,
   "metadata": {},
   "outputs": [
    {
     "name": "stdout",
     "output_type": "stream",
     "text": [
      "23\n"
     ]
    },
    {
     "data": {
      "text/html": [
       "<div>\n",
       "<style scoped>\n",
       "    .dataframe tbody tr th:only-of-type {\n",
       "        vertical-align: middle;\n",
       "    }\n",
       "\n",
       "    .dataframe tbody tr th {\n",
       "        vertical-align: top;\n",
       "    }\n",
       "\n",
       "    .dataframe thead th {\n",
       "        text-align: right;\n",
       "    }\n",
       "</style>\n",
       "<table border=\"1\" class=\"dataframe\">\n",
       "  <thead>\n",
       "    <tr style=\"text-align: right;\">\n",
       "      <th></th>\n",
       "      <th>o</th>\n",
       "    </tr>\n",
       "  </thead>\n",
       "  <tbody>\n",
       "    <tr>\n",
       "      <th>0</th>\n",
       "      <td>https://w3id.org/i40/sto#ProductionSystemEngin...</td>\n",
       "    </tr>\n",
       "    <tr>\n",
       "      <th>1</th>\n",
       "      <td>https://w3id.org/i40/rami#Engineering</td>\n",
       "    </tr>\n",
       "    <tr>\n",
       "      <th>2</th>\n",
       "      <td>https://w3id.org/i40/sto#Communication</td>\n",
       "    </tr>\n",
       "    <tr>\n",
       "      <th>3</th>\n",
       "      <td>https://w3id.org/i40/sto#IICFFrameworkLayer</td>\n",
       "    </tr>\n",
       "    <tr>\n",
       "      <th>4</th>\n",
       "      <td>https://w3id.org/i40/sto#IIRAApplicationDomain</td>\n",
       "    </tr>\n",
       "    <tr>\n",
       "      <th>5</th>\n",
       "      <td>https://w3id.org/i40/sto#RAMIProduct</td>\n",
       "    </tr>\n",
       "    <tr>\n",
       "      <th>6</th>\n",
       "      <td>https://w3id.org/i40/sto#RAMIAssetlayer</td>\n",
       "    </tr>\n",
       "    <tr>\n",
       "      <th>7</th>\n",
       "      <td>https://w3id.org/i40/sto#RAMIFieldDevice</td>\n",
       "    </tr>\n",
       "    <tr>\n",
       "      <th>8</th>\n",
       "      <td>https://w3id.org/i40/sto#RAMIWorkCenter</td>\n",
       "    </tr>\n",
       "    <tr>\n",
       "      <th>9</th>\n",
       "      <td>https://w3id.org/i40/sto#ProductCatalogData</td>\n",
       "    </tr>\n",
       "  </tbody>\n",
       "</table>\n",
       "</div>"
      ],
      "text/plain": [
       "                                                   o\n",
       "0  https://w3id.org/i40/sto#ProductionSystemEngin...\n",
       "1              https://w3id.org/i40/rami#Engineering\n",
       "2             https://w3id.org/i40/sto#Communication\n",
       "3        https://w3id.org/i40/sto#IICFFrameworkLayer\n",
       "4     https://w3id.org/i40/sto#IIRAApplicationDomain\n",
       "5               https://w3id.org/i40/sto#RAMIProduct\n",
       "6            https://w3id.org/i40/sto#RAMIAssetlayer\n",
       "7           https://w3id.org/i40/sto#RAMIFieldDevice\n",
       "8            https://w3id.org/i40/sto#RAMIWorkCenter\n",
       "9        https://w3id.org/i40/sto#ProductCatalogData"
      ]
     },
     "execution_count": 344,
     "metadata": {},
     "output_type": "execute_result"
    }
   ],
   "source": [
    "classification_test_set = test_set.loc[test_set['s'].isin(intersected_df.s)]\n",
    "classification_test_set = pd.DataFrame(classification_test_set['o']).drop_duplicates().reset_index(drop=True)\n",
    "print(classification_test_set.shape[0])\n",
    "classification_test_set.head(10)"
   ]
  },
  {
   "cell_type": "markdown",
   "metadata": {},
   "source": [
    "## Select the standards classification of the cluster "
   ]
  },
  {
   "cell_type": "code",
   "execution_count": 345,
   "metadata": {},
   "outputs": [
    {
     "name": "stdout",
     "output_type": "stream",
     "text": [
      "25\n"
     ]
    },
    {
     "data": {
      "text/html": [
       "<div>\n",
       "<style scoped>\n",
       "    .dataframe tbody tr th:only-of-type {\n",
       "        vertical-align: middle;\n",
       "    }\n",
       "\n",
       "    .dataframe tbody tr th {\n",
       "        vertical-align: top;\n",
       "    }\n",
       "\n",
       "    .dataframe thead th {\n",
       "        text-align: right;\n",
       "    }\n",
       "</style>\n",
       "<table border=\"1\" class=\"dataframe\">\n",
       "  <thead>\n",
       "    <tr style=\"text-align: right;\">\n",
       "      <th></th>\n",
       "      <th>o</th>\n",
       "    </tr>\n",
       "  </thead>\n",
       "  <tbody>\n",
       "    <tr>\n",
       "      <th>0</th>\n",
       "      <td>https://w3id.org/i40/sto#RAMIFieldDevice</td>\n",
       "    </tr>\n",
       "    <tr>\n",
       "      <th>1</th>\n",
       "      <td>https://w3id.org/i40/sto#RAMIWorkCenter</td>\n",
       "    </tr>\n",
       "    <tr>\n",
       "      <th>2</th>\n",
       "      <td>https://w3id.org/i40/sto#SCADALevel</td>\n",
       "    </tr>\n",
       "    <tr>\n",
       "      <th>3</th>\n",
       "      <td>https://w3id.org/i40/sto#RAMIControlDevice</td>\n",
       "    </tr>\n",
       "    <tr>\n",
       "      <th>4</th>\n",
       "      <td>https://w3id.org/i40/sto#RAMIStation</td>\n",
       "    </tr>\n",
       "    <tr>\n",
       "      <th>5</th>\n",
       "      <td>https://w3id.org/i40/sto#DataSovereignty</td>\n",
       "    </tr>\n",
       "    <tr>\n",
       "      <th>6</th>\n",
       "      <td>https://w3id.org/i40/sto#RAMIEnterprise</td>\n",
       "    </tr>\n",
       "    <tr>\n",
       "      <th>7</th>\n",
       "      <td>https://w3id.org/i40/sto#RAMICommunicationlayer</td>\n",
       "    </tr>\n",
       "    <tr>\n",
       "      <th>8</th>\n",
       "      <td>https://w3id.org/i40/sto#RAMIConnectedWorld</td>\n",
       "    </tr>\n",
       "    <tr>\n",
       "      <th>9</th>\n",
       "      <td>https://w3id.org/i40/sto#RAMIBusinessLayer</td>\n",
       "    </tr>\n",
       "  </tbody>\n",
       "</table>\n",
       "</div>"
      ],
      "text/plain": [
       "                                                 o\n",
       "0         https://w3id.org/i40/sto#RAMIFieldDevice\n",
       "1          https://w3id.org/i40/sto#RAMIWorkCenter\n",
       "2              https://w3id.org/i40/sto#SCADALevel\n",
       "3       https://w3id.org/i40/sto#RAMIControlDevice\n",
       "4             https://w3id.org/i40/sto#RAMIStation\n",
       "5         https://w3id.org/i40/sto#DataSovereignty\n",
       "6          https://w3id.org/i40/sto#RAMIEnterprise\n",
       "7  https://w3id.org/i40/sto#RAMICommunicationlayer\n",
       "8      https://w3id.org/i40/sto#RAMIConnectedWorld\n",
       "9       https://w3id.org/i40/sto#RAMIBusinessLayer"
      ]
     },
     "execution_count": 345,
     "metadata": {},
     "output_type": "execute_result"
    }
   ],
   "source": [
    "input_ = 'sto/hasClassification/'\n",
    "g = Graph()\n",
    "g.parse(input_+'training_set_hasClassification.nt', format='nt')\n",
    "\n",
    "list_pd = pd.DataFrame(columns=['o'])\n",
    "obj = []\n",
    "for standard in cls['s']:\n",
    "    qres = g.query(\n",
    "        \"\"\"PREFIX owl: <http://www.w3.org/2002/07/owl#>\n",
    "                PREFIX rdf: <http://www.w3.org/1999/02/22-rdf-syntax-ns#>\n",
    "                PREFIX sto: <https://w3id.org/i40/sto#>\n",
    "\n",
    "            select distinct ?o where {\n",
    "                    <\"\"\" +standard+ \"\"\"> sto:hasClassification ?o .\n",
    "            }\"\"\")\n",
    "\n",
    "    for row in qres:\n",
    "        obj.append(str(\"%s\" %row['o']))\n",
    "\n",
    "list_pd.o=obj\n",
    "list_pd = list_pd.drop_duplicates().reset_index(drop=True)\n",
    "print(list_pd.shape[0])\n",
    "list_pd.head(10)"
   ]
  },
  {
   "cell_type": "markdown",
   "metadata": {},
   "source": [
    "### The intersection of classification of standards that belong to test_set and cluster with standards classification of the cluster"
   ]
  },
  {
   "cell_type": "code",
   "execution_count": 346,
   "metadata": {},
   "outputs": [
    {
     "data": {
      "text/plain": [
       "12"
      ]
     },
     "execution_count": 346,
     "metadata": {},
     "output_type": "execute_result"
    }
   ],
   "source": [
    "intersected_cls = pd.merge(classification_test_set, list_pd, how='inner', on='o')\n",
    "#intersected_cls = intersected_cls.drop_duplicates().reset_index(drop=True)\n",
    "intersected_cls.shape[0]"
   ]
  },
  {
   "cell_type": "markdown",
   "metadata": {},
   "source": [
    "## Accuracy"
   ]
  },
  {
   "cell_type": "code",
   "execution_count": 347,
   "metadata": {},
   "outputs": [
    {
     "data": {
      "text/plain": [
       "52.17"
      ]
     },
     "execution_count": 347,
     "metadata": {},
     "output_type": "execute_result"
    }
   ],
   "source": [
    "round(100*(intersected_cls.shape[0]/classification_test_set.shape[0]),2)"
   ]
  },
  {
   "cell_type": "markdown",
   "metadata": {},
   "source": [
    "## Plot the accuracy"
   ]
  },
  {
   "cell_type": "code",
   "execution_count": 362,
   "metadata": {},
   "outputs": [
    {
     "data": {
      "image/png": "[encoded data removed]",
      "text/plain": [
       "<Figure size 432x288 with 1 Axes>"
      ]
     },
     "metadata": {
      "needs_background": "light"
     },
     "output_type": "display_data"
    }
   ],
   "source": [
    "# libraries\n",
    "import numpy as np\n",
    "import matplotlib.pyplot as plt\n",
    " \n",
    "# set width of bar\n",
    "barWidth = 0.1\n",
    " \n",
    "# set height of bar (TransH_th85)\n",
    "bars1 = [0.0, 50.00, 16.67]\n",
    "bars2 = [100.0, 0.0, 68.75]\n",
    "bars3 = [85.71, 42.86, 50.0]\n",
    "bars4 = [50.0, 25.0, 0]\n",
    "bars5 = [54.55, 53.85, 0]\n",
    "bars6 = [0.0, 66.67, 50.0]\n",
    "bars7 = [52.0, 77.27, 40.0]\n",
    "bars8 = [50.0, 57.14, 52.17]\n",
    "\n",
    "# Set position of bar on X axis\n",
    "#r1 = np.arange(len(bars1))\n",
    "#r1 = [0,0.4,0.8]\n",
    "r1 = [0,0.9,1.8]\n",
    "r2 = [x + barWidth for x in r1]\n",
    "r3 = [x + barWidth for x in r2]\n",
    "r4 = [x + barWidth for x in r3]\n",
    "r5 = [x + barWidth for x in r4]\n",
    "r6 = [x + barWidth for x in r5]\n",
    "r7 = [x + barWidth for x in r6]\n",
    "r8 = [x + barWidth for x in r7]\n",
    "\n",
    "# Make the plot\n",
    "plt.bar(r1, bars1, color='#13505b', width=barWidth, edgecolor='white', label='Cluster 1')\n",
    "plt.bar(r2, bars2, color='#90bfc9', width=barWidth, edgecolor='white', label='Cluster 2')\n",
    "plt.bar(r3, bars3, color='#2d7f5e', width=barWidth, edgecolor='white', label='Cluster 3')\n",
    "plt.bar(r4, bars4, color='black', width=barWidth, edgecolor='white', label='Cluster 4')\n",
    "plt.bar(r5, bars5, color='blue', width=barWidth, edgecolor='white', label='Cluster 5')\n",
    "plt.bar(r6, bars6, color='red', width=barWidth, edgecolor='white', label='Cluster 6')\n",
    "plt.bar(r7, bars7, color='green', width=barWidth, edgecolor='white', label='Cluster 7')\n",
    "plt.bar(r8, bars8, color='gray', width=barWidth, edgecolor='white', label='Cluster 8')\n",
    "\n",
    "# Add xticks on the middle of the group bars\n",
    "plt.xlabel('Communities', fontweight='bold')\n",
    "plt.ylim(0,105)\n",
    "plt.xticks([0.3,1.2,2.1], ['Metis', 'SemEp', 'Kmeans'])\n",
    "#plt.title('Accuracy of related standards in each cluster')\n",
    "\n",
    "for i, v in enumerate(bars1):\n",
    "    plt.text(r1[i]-0.06, v+0.01, str(v), color='black', fontweight='bold', fontsize='xx-small')\n",
    "for i, v in enumerate(bars2):\n",
    "    plt.text(r2[i]-0.06, v+0.01, str(v), color='black', fontweight='bold', fontsize='xx-small')\n",
    "for i, v in enumerate(bars3):\n",
    "    plt.text(r3[i]-0.06, v+0.01, str(v), color='black', fontweight='bold', fontsize='xx-small')\n",
    "for i, v in enumerate(bars4):\n",
    "    if v!=0:\n",
    "        plt.text(r4[i]-0.06, v+0.01, str(v), color='black', fontweight='bold', fontsize='xx-small')\n",
    "for i, v in enumerate(bars5):\n",
    "    if v!=0:\n",
    "        plt.text(r5[i]-0.06, v+0.01, str(v), color='black', fontweight='bold', fontsize='xx-small')\n",
    "for i, v in enumerate(bars6):\n",
    "    plt.text(r6[i]-0.06, v+0.01, str(v), color='black', fontweight='bold', fontsize='xx-small')\n",
    "for i, v in enumerate(bars7):\n",
    "    plt.text(r7[i]-0.06, v+0.01, str(v), color='black', fontweight='bold', fontsize='xx-small')\n",
    "for i, v in enumerate(bars8):\n",
    "    plt.text(r8[i]-0.06, v+0.01, str(v), color='black', fontweight='bold', fontsize='xx-small')\n",
    "\n",
    "#plt.ylabel('Number of link prediction')\n",
    "# Create legend & Show graphic\n",
    "legend = plt.legend(loc='upper right', shadow=False, fontsize='small', ncol=3)\n",
    "\n",
    "\n",
    "plt.savefig(output+\"Accuracy_Communities_with_test_set_hasClassification_(TransH_th85).pdf\",\n",
    "            format='pdf', bbox_inches = 'tight')\n",
    "plt.show()"
   ]
  },
  {
   "cell_type": "code",
   "execution_count": 191,
   "metadata": {},
   "outputs": [
    {
     "data": {
      "image/png": "[encoded data removed]",
      "text/plain": [
       "<Figure size 432x288 with 1 Axes>"
      ]
     },
     "metadata": {
      "needs_background": "light"
     },
     "output_type": "display_data"
    }
   ],
   "source": [
    "# libraries\n",
    "import numpy as np\n",
    "import matplotlib.pyplot as plt\n",
    " \n",
    "# set width of bar\n",
    "barWidth = 0.1\n",
    " \n",
    "\n",
    "# set height of bar (TransD_th85)\n",
    "bars1 = [88.0, 70.83, 77.42]\n",
    "bars2 = [71.88, 81.25, 85.71]\n",
    "\n",
    "# set height of bar (TransR_th85)\n",
    "#bars1 = [72.41, 65.0, 77.78]\n",
    "#bars2 = [84.0, 81.82, 77.78]\n",
    "\n",
    "# Set position of bar on X axis\n",
    "#r1 = np.arange(len(bars1))\n",
    "r1 = [0,0.4,0.8]\n",
    "r2 = [x + barWidth for x in r1]\n",
    "\n",
    "# Make the plot\n",
    "plt.bar(r1, bars1, color='#13505b', width=barWidth, edgecolor='white', label='Cluster 1')\n",
    "plt.bar(r2, bars2, color='#90bfc9', width=barWidth, edgecolor='white', label='Cluster 2')\n",
    "\n",
    "# Add xticks on the middle of the group bars\n",
    "plt.xlabel('Communities', fontweight='bold')\n",
    "plt.xticks([0,0.4,0.8], ['Metis', 'SemEp', 'Kmeans'])\n",
    "plt.ylim(0,100)\n",
    "#plt.title('Accuracy of related standards in each cluster')\n",
    "\n",
    "for i, v in enumerate(bars1):\n",
    "    plt.text(r1[i]-0.03, v+0.01, str(v), color='black', fontweight='bold', fontsize='small')\n",
    "for i, v in enumerate(bars2):\n",
    "    plt.text(r2[i]-0.03, v+0.01, str(v), color='black', fontweight='bold', fontsize='small')\n",
    "\n",
    "#plt.ylabel('Number of link prediction')\n",
    "# Create legend & Show graphic\n",
    "legend = plt.legend(loc='upper right', shadow=False, fontsize='small', ncol=2)\n",
    "\n",
    "plt.savefig(output+\"Accuracy_Communities_with_test_set_hasClassification_(TransD_th85).pdf\",\n",
    "            format='pdf', bbox_inches = 'tight')\n",
    "plt.show()"
   ]
  },
  {
   "cell_type": "code",
   "execution_count": 194,
   "metadata": {},
   "outputs": [
    {
     "data": {
      "image/png": "[encoded data removed]",
      "text/plain": [
       "<Figure size 432x288 with 1 Axes>"
      ]
     },
     "metadata": {
      "needs_background": "light"
     },
     "output_type": "display_data"
    }
   ],
   "source": [
    "# libraries\n",
    "import numpy as np\n",
    "import matplotlib.pyplot as plt\n",
    " \n",
    "# set width of bar\n",
    "barWidth = 0.1\n",
    " \n",
    "# set height of bar (TransE_th85)\n",
    "bars1 = [81.25, 60.0, 63.64]\n",
    "bars2 = [62.5, 81.82, 77.78]\n",
    "bars3 = [70.37, 70.0, 52.17]\n",
    "\n",
    "# Set position of bar on X axis\n",
    "#r1 = np.arange(len(bars1))\n",
    "r1 = [0,0.4,0.8]\n",
    "r2 = [x + barWidth for x in r1]\n",
    "r3 = [x + barWidth for x in r2]\n",
    "\n",
    "\n",
    "# Make the plot\n",
    "plt.bar(r1, bars1, color='#13505b', width=barWidth, edgecolor='white', label='Cluster 1')\n",
    "plt.bar(r2, bars2, color='#90bfc9', width=barWidth, edgecolor='white', label='Cluster 2')\n",
    "plt.bar(r3, bars3, color='gray', width=barWidth, edgecolor='white', label='Cluster 3')\n",
    "\n",
    "# Add xticks on the middle of the group bars\n",
    "plt.xlabel('Communities', fontweight='bold')\n",
    "plt.xticks([0,0.4,0.8], ['Metis', 'SemEp', 'Kmeans'])\n",
    "plt.ylim(0,100)\n",
    "#plt.title('Accuracy of related standards in each cluster')\n",
    "\n",
    "for i, v in enumerate(bars1):\n",
    "    plt.text(r1[i]-0.04, v+0.01, str(v), color='black', fontweight='bold', fontsize='small')\n",
    "for i, v in enumerate(bars2):\n",
    "    plt.text(r2[i]-0.04, v+0.01, str(v), color='black', fontweight='bold', fontsize='small')\n",
    "for i, v in enumerate(bars3):\n",
    "    plt.text(r3[i]-0.04, v+0.01, str(v), color='black', fontweight='bold', fontsize='small')\n",
    "\n",
    "#plt.ylabel('Number of link prediction')\n",
    "# Create legend & Show graphic\n",
    "legend = plt.legend(loc='upper right', shadow=False, fontsize='small', ncol=3)\n",
    "\n",
    "plt.savefig(output+\"Accuracy_Communities_with_test_set_hasClassification_(TransE_th85).pdf\",\n",
    "            format='pdf', bbox_inches = 'tight')\n",
    "plt.show()"
   ]
  },
  {
   "cell_type": "code",
   "execution_count": null,
   "metadata": {},
   "outputs": [],
   "source": []
  },
  {
   "cell_type": "code",
   "execution_count": null,
   "metadata": {},
   "outputs": [],
   "source": []
  },
  {
   "cell_type": "code",
   "execution_count": null,
   "metadata": {},
   "outputs": [],
   "source": []
  },
  {
   "cell_type": "code",
   "execution_count": null,
   "metadata": {},
   "outputs": [],
   "source": [
    "g = Graph()\n",
    "g.parse(\"sto/hasClassification/training_set_hasClassification.nt\", format=\"nt\")\n",
    "\n",
    "qres = g.query(\n",
    "    \"\"\"PREFIX owl: <http://www.w3.org/2002/07/owl#>\n",
    "       PREFIX rdf: <http://www.w3.org/1999/02/22-rdf-syntax-ns#>\n",
    "       PREFIX sto: <https://w3id.org/i40/sto#>\n",
    "    \n",
    "    select ?o where {\n",
    "            ?s rdf:type sto:Standard .\n",
    "            ?s sto:hasClassification ?o .\n",
    "    }\"\"\")\n",
    "        \n",
    "classification = pd.DataFrame(columns=['o'])\n",
    "obj = []\n",
    "for row in qres:\n",
    "    obj.append(str(\"%s\" %row))\n",
    "classification.o=obj"
   ]
  },
  {
   "cell_type": "code",
   "execution_count": null,
   "metadata": {},
   "outputs": [],
   "source": [
    "classification.shape[0]"
   ]
  },
  {
   "cell_type": "code",
   "execution_count": null,
   "metadata": {},
   "outputs": [],
   "source": [
    "classification_sto = pd.DataFrame(columns=['classification',  'number_standard'])\n",
    "classification_sto.classification=list(pd.value_counts(classification['o'].values, 0).index)\n",
    "classification_sto.number_standard = list(pd.value_counts(classification['o'].values, 0))\n",
    "classification_sto = classification_sto.sort_values(by='number_standard', ascending=False).reset_index(drop=True)\n",
    "\n",
    "classification_sto\n",
    "classification_sto.to_csv(output+'classification_sto(training-set).csv', index=None)"
   ]
  }
 ],
 "metadata": {
  "kernelspec": {
   "display_name": "Python 3",
   "language": "python",
   "name": "python3"
  },
  "language_info": {
   "codemirror_mode": {
    "name": "ipython",
    "version": 3
   },
   "file_extension": ".py",
   "mimetype": "text/x-python",
   "name": "python",
   "nbconvert_exporter": "python",
   "pygments_lexer": "ipython3",
   "version": "3.6.8"
  }
 },
 "nbformat": 4,
 "nbformat_minor": 2
}
