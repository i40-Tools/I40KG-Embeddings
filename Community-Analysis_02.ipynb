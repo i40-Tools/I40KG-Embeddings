{
 "cells": [
  {
   "cell_type": "code",
   "execution_count": 1,
   "metadata": {},
   "outputs": [],
   "source": [
    "import numpy as np\n",
    "import pandas as pd\n",
    "from rdflib import Graph"
   ]
  },
  {
   "cell_type": "code",
   "execution_count": 277,
   "metadata": {},
   "outputs": [
    {
     "data": {
      "text/plain": [
       "24"
      ]
     },
     "execution_count": 277,
     "metadata": {},
     "output_type": "execute_result"
    }
   ],
   "source": [
    "#input_path = 'result/TransD/metis/th_85/'\n",
    "#input_path = 'result/TransD/metis/th_90/'\n",
    "\n",
    "#input_path = 'result/TransD/semep/th_85/'\n",
    "#input_path = 'result/TransD/semep/th_90/'\n",
    "\n",
    "#input_path = 'result/TransD/Kmeans/th_85/'\n",
    "input_path = 'result/TransD/Kmeans/th_90/'\n",
    "\"\"\"\n",
    "cls_0 = input_path + \"standards-part0.txt\"\n",
    "cls_1 = input_path + \"standards-part1.txt\"\n",
    "\n",
    "cls_2 = input_path + \"standards-part2.txt\"\n",
    "cls_3 = input_path + \"standards-part3.txt\"\n",
    "cls_4 = input_path + \"standards-part4.txt\"\n",
    "cls_5 = input_path + \"standards-part5.txt\"\n",
    "cls_6 = input_path + \"standards-part6.txt\"\n",
    "\"\"\"\n",
    "cls_0 = input_path + \"cluster-0.txt\"\n",
    "cls_1 = input_path + \"cluster-1.txt\"\n",
    "\n",
    "cls_2 = input_path + \"cluster-2.txt\"\n",
    "cls_3 = input_path + \"cluster-3.txt\"\n",
    "cls_4 = input_path + \"cluster-4.txt\"\n",
    "cls_5 = input_path + \"cluster-5.txt\"\n",
    "cls_6 = input_path + \"cluster-6.txt\"\n",
    "\n",
    "cluster_0 = pd.read_csv(cls_0, delimiter=\",\", header=None)\n",
    "cluster_1 =pd.read_csv(cls_1, delimiter=\",\", header=None)\n",
    "\n",
    "cluster_2 =pd.read_csv(cls_2, delimiter=\",\", header=None)\n",
    "cluster_3 =pd.read_csv(cls_3, delimiter=\",\", header=None)\n",
    "cluster_4 =pd.read_csv(cls_4, delimiter=\",\", header=None)\n",
    "cluster_5 =pd.read_csv(cls_5, delimiter=\",\", header=None)\n",
    "cluster_6 =pd.read_csv(cls_6, delimiter=\",\", header=None)\n",
    "\n",
    "cluster_0.columns = ['o']\n",
    "cluster_1.columns = ['o']\n",
    "\n",
    "cluster_2.columns = ['o']\n",
    "cluster_3.columns = ['o']\n",
    "cluster_4.columns = ['o']\n",
    "cluster_5.columns = ['o']\n",
    "cluster_6.columns = ['o']\n",
    "\n",
    "cluster_0.shape[0]"
   ]
  },
  {
   "cell_type": "code",
   "execution_count": 278,
   "metadata": {},
   "outputs": [
    {
     "data": {
      "text/html": [
       "<div>\n",
       "<style scoped>\n",
       "    .dataframe tbody tr th:only-of-type {\n",
       "        vertical-align: middle;\n",
       "    }\n",
       "\n",
       "    .dataframe tbody tr th {\n",
       "        vertical-align: top;\n",
       "    }\n",
       "\n",
       "    .dataframe thead th {\n",
       "        text-align: right;\n",
       "    }\n",
       "</style>\n",
       "<table border=\"1\" class=\"dataframe\">\n",
       "  <thead>\n",
       "    <tr style=\"text-align: right;\">\n",
       "      <th></th>\n",
       "      <th>o</th>\n",
       "    </tr>\n",
       "  </thead>\n",
       "  <tbody>\n",
       "    <tr>\n",
       "      <th>0</th>\n",
       "      <td>https://w3id.org/i40/sto#IEC_61970_P1_E1</td>\n",
       "    </tr>\n",
       "    <tr>\n",
       "      <th>1</th>\n",
       "      <td>https://w3id.org/i40/sto#IEC_60864_P2_E1</td>\n",
       "    </tr>\n",
       "    <tr>\n",
       "      <th>2</th>\n",
       "      <td>https://w3id.org/i40/sto#IEC_61334_P4_S61_E1</td>\n",
       "    </tr>\n",
       "    <tr>\n",
       "      <th>3</th>\n",
       "      <td>https://w3id.org/i40/sto#ISO_24760</td>\n",
       "    </tr>\n",
       "    <tr>\n",
       "      <th>4</th>\n",
       "      <td>https://w3id.org/i40/sto#RFC_768</td>\n",
       "    </tr>\n",
       "  </tbody>\n",
       "</table>\n",
       "</div>"
      ],
      "text/plain": [
       "                                              o\n",
       "0      https://w3id.org/i40/sto#IEC_61970_P1_E1\n",
       "1      https://w3id.org/i40/sto#IEC_60864_P2_E1\n",
       "2  https://w3id.org/i40/sto#IEC_61334_P4_S61_E1\n",
       "3            https://w3id.org/i40/sto#ISO_24760\n",
       "4              https://w3id.org/i40/sto#RFC_768"
      ]
     },
     "execution_count": 278,
     "metadata": {},
     "output_type": "execute_result"
    }
   ],
   "source": [
    "cluster_0.head()"
   ]
  },
  {
   "cell_type": "code",
   "execution_count": 279,
   "metadata": {},
   "outputs": [
    {
     "data": {
      "text/html": [
       "<div>\n",
       "<style scoped>\n",
       "    .dataframe tbody tr th:only-of-type {\n",
       "        vertical-align: middle;\n",
       "    }\n",
       "\n",
       "    .dataframe tbody tr th {\n",
       "        vertical-align: top;\n",
       "    }\n",
       "\n",
       "    .dataframe thead th {\n",
       "        text-align: right;\n",
       "    }\n",
       "</style>\n",
       "<table border=\"1\" class=\"dataframe\">\n",
       "  <thead>\n",
       "    <tr style=\"text-align: right;\">\n",
       "      <th></th>\n",
       "      <th>s</th>\n",
       "      <th>p</th>\n",
       "      <th>o</th>\n",
       "    </tr>\n",
       "  </thead>\n",
       "  <tbody>\n",
       "    <tr>\n",
       "      <th>0</th>\n",
       "      <td>https://w3id.org/i40/sto#ISO_20922</td>\n",
       "      <td>https://w3id.org/i40/sto#relatedTo</td>\n",
       "      <td>https://w3id.org/i40/sto#ISO_PAS_17506</td>\n",
       "    </tr>\n",
       "    <tr>\n",
       "      <th>1</th>\n",
       "      <td>https://w3id.org/i40/sto#IEC_61804</td>\n",
       "      <td>https://w3id.org/i40/sto#relatedTo</td>\n",
       "      <td>https://w3id.org/i40/sto#ISO_18629</td>\n",
       "    </tr>\n",
       "    <tr>\n",
       "      <th>2</th>\n",
       "      <td>https://w3id.org/i40/sto#ISO_15531</td>\n",
       "      <td>https://w3id.org/i40/sto#relatedTo</td>\n",
       "      <td>https://w3id.org/i40/sto#ISO_15531-2x</td>\n",
       "    </tr>\n",
       "    <tr>\n",
       "      <th>3</th>\n",
       "      <td>https://w3id.org/i40/sto#IEC_61508</td>\n",
       "      <td>https://w3id.org/i40/sto#relatedTo</td>\n",
       "      <td>https://w3id.org/i40/sto#IEC_61508</td>\n",
       "    </tr>\n",
       "    <tr>\n",
       "      <th>4</th>\n",
       "      <td>https://w3id.org/i40/sto#IEC_61511</td>\n",
       "      <td>https://w3id.org/i40/sto#relatedTo</td>\n",
       "      <td>https://w3id.org/i40/sto#IEC_62061</td>\n",
       "    </tr>\n",
       "  </tbody>\n",
       "</table>\n",
       "</div>"
      ],
      "text/plain": [
       "                                    s                                   p  \\\n",
       "0  https://w3id.org/i40/sto#ISO_20922  https://w3id.org/i40/sto#relatedTo   \n",
       "1  https://w3id.org/i40/sto#IEC_61804  https://w3id.org/i40/sto#relatedTo   \n",
       "2  https://w3id.org/i40/sto#ISO_15531  https://w3id.org/i40/sto#relatedTo   \n",
       "3  https://w3id.org/i40/sto#IEC_61508  https://w3id.org/i40/sto#relatedTo   \n",
       "4  https://w3id.org/i40/sto#IEC_61511  https://w3id.org/i40/sto#relatedTo   \n",
       "\n",
       "                                        o  \n",
       "0  https://w3id.org/i40/sto#ISO_PAS_17506  \n",
       "1      https://w3id.org/i40/sto#ISO_18629  \n",
       "2   https://w3id.org/i40/sto#ISO_15531-2x  \n",
       "3      https://w3id.org/i40/sto#IEC_61508  \n",
       "4      https://w3id.org/i40/sto#IEC_62061  "
      ]
     },
     "execution_count": 279,
     "metadata": {},
     "output_type": "execute_result"
    }
   ],
   "source": [
    "#hasClassification\n",
    "input_ = 'sto/relatedTo/'\n",
    "g = Graph()\n",
    "g.parse(input_+'test_set_relatedTo.nt', format=\"nt\")\n",
    "\n",
    "test_set = pd.DataFrame(columns=['s', 'p', 'o'])\n",
    "qres = g.query(\n",
    "    \"\"\"PREFIX owl: <http://www.w3.org/2002/07/owl#>\n",
    "        PREFIX rdf: <http://www.w3.org/1999/02/22-rdf-syntax-ns#>\n",
    "        PREFIX sto: <https://w3id.org/i40/sto#>\n",
    "        select distinct ?s ?p ?o where {\n",
    "            ?s ?p ?o .\n",
    "        }\"\"\")\n",
    "sub = []\n",
    "pre = []\n",
    "obj = []\n",
    "for row in qres:\n",
    "    sub.append(str(\"%s\" %row['s']))\n",
    "    pre.append(str(\"%s\" %row['p']))\n",
    "    obj.append(str(\"%s\" %row['o']))\n",
    "test_set.s=sub\n",
    "test_set.p=pre\n",
    "test_set.o=obj\n",
    "test_set.head()"
   ]
  },
  {
   "cell_type": "code",
   "execution_count": 280,
   "metadata": {
    "scrolled": true
   },
   "outputs": [
    {
     "data": {
      "text/html": [
       "<div>\n",
       "<style scoped>\n",
       "    .dataframe tbody tr th:only-of-type {\n",
       "        vertical-align: middle;\n",
       "    }\n",
       "\n",
       "    .dataframe tbody tr th {\n",
       "        vertical-align: top;\n",
       "    }\n",
       "\n",
       "    .dataframe thead th {\n",
       "        text-align: right;\n",
       "    }\n",
       "</style>\n",
       "<table border=\"1\" class=\"dataframe\">\n",
       "  <thead>\n",
       "    <tr style=\"text-align: right;\">\n",
       "      <th></th>\n",
       "      <th>o</th>\n",
       "    </tr>\n",
       "  </thead>\n",
       "  <tbody>\n",
       "    <tr>\n",
       "      <th>0</th>\n",
       "      <td>https://w3id.org/i40/sto#ISO_20922</td>\n",
       "    </tr>\n",
       "    <tr>\n",
       "      <th>1</th>\n",
       "      <td>https://w3id.org/i40/sto#IEC_61804</td>\n",
       "    </tr>\n",
       "    <tr>\n",
       "      <th>2</th>\n",
       "      <td>https://w3id.org/i40/sto#ISO_15531</td>\n",
       "    </tr>\n",
       "    <tr>\n",
       "      <th>3</th>\n",
       "      <td>https://w3id.org/i40/sto#IEC_61508</td>\n",
       "    </tr>\n",
       "    <tr>\n",
       "      <th>4</th>\n",
       "      <td>https://w3id.org/i40/sto#IEC_61511</td>\n",
       "    </tr>\n",
       "  </tbody>\n",
       "</table>\n",
       "</div>"
      ],
      "text/plain": [
       "                                    o\n",
       "0  https://w3id.org/i40/sto#ISO_20922\n",
       "1  https://w3id.org/i40/sto#IEC_61804\n",
       "2  https://w3id.org/i40/sto#ISO_15531\n",
       "3  https://w3id.org/i40/sto#IEC_61508\n",
       "4  https://w3id.org/i40/sto#IEC_61511"
      ]
     },
     "execution_count": 280,
     "metadata": {},
     "output_type": "execute_result"
    }
   ],
   "source": [
    "sub=pd.DataFrame(test_set['s'])\n",
    "sub.columns = ['o']\n",
    "sub.head()"
   ]
  },
  {
   "cell_type": "code",
   "execution_count": 323,
   "metadata": {},
   "outputs": [],
   "source": [
    "cls = cluster_6"
   ]
  },
  {
   "cell_type": "code",
   "execution_count": 324,
   "metadata": {},
   "outputs": [
    {
     "data": {
      "text/plain": [
       "2"
      ]
     },
     "execution_count": 324,
     "metadata": {},
     "output_type": "execute_result"
    }
   ],
   "source": [
    "intersected_df = pd.merge(cls, sub, how='inner', on='o')\n",
    "intersected_df = intersected_df.drop_duplicates().reset_index(drop=True)\n",
    "intersected_df.shape[0]"
   ]
  },
  {
   "cell_type": "code",
   "execution_count": 325,
   "metadata": {},
   "outputs": [
    {
     "data": {
      "text/html": [
       "<div>\n",
       "<style scoped>\n",
       "    .dataframe tbody tr th:only-of-type {\n",
       "        vertical-align: middle;\n",
       "    }\n",
       "\n",
       "    .dataframe tbody tr th {\n",
       "        vertical-align: top;\n",
       "    }\n",
       "\n",
       "    .dataframe thead th {\n",
       "        text-align: right;\n",
       "    }\n",
       "</style>\n",
       "<table border=\"1\" class=\"dataframe\">\n",
       "  <thead>\n",
       "    <tr style=\"text-align: right;\">\n",
       "      <th></th>\n",
       "      <th>o</th>\n",
       "    </tr>\n",
       "  </thead>\n",
       "  <tbody>\n",
       "    <tr>\n",
       "      <th>0</th>\n",
       "      <td>https://w3id.org/i40/sto#ISO_15531-2x</td>\n",
       "    </tr>\n",
       "    <tr>\n",
       "      <th>1</th>\n",
       "      <td>https://w3id.org/i40/sto#ISO_ASTM_52915</td>\n",
       "    </tr>\n",
       "  </tbody>\n",
       "</table>\n",
       "</div>"
      ],
      "text/plain": [
       "                                         o\n",
       "0    https://w3id.org/i40/sto#ISO_15531-2x\n",
       "1  https://w3id.org/i40/sto#ISO_ASTM_52915"
      ]
     },
     "execution_count": 325,
     "metadata": {},
     "output_type": "execute_result"
    }
   ],
   "source": [
    "intersected_df.head()"
   ]
  },
  {
   "cell_type": "code",
   "execution_count": 326,
   "metadata": {},
   "outputs": [
    {
     "data": {
      "text/html": [
       "<div>\n",
       "<style scoped>\n",
       "    .dataframe tbody tr th:only-of-type {\n",
       "        vertical-align: middle;\n",
       "    }\n",
       "\n",
       "    .dataframe tbody tr th {\n",
       "        vertical-align: top;\n",
       "    }\n",
       "\n",
       "    .dataframe thead th {\n",
       "        text-align: right;\n",
       "    }\n",
       "</style>\n",
       "<table border=\"1\" class=\"dataframe\">\n",
       "  <thead>\n",
       "    <tr style=\"text-align: right;\">\n",
       "      <th></th>\n",
       "      <th>o</th>\n",
       "    </tr>\n",
       "  </thead>\n",
       "  <tbody>\n",
       "    <tr>\n",
       "      <th>0</th>\n",
       "      <td>https://w3id.org/i40/sto#ISO_15531-3x</td>\n",
       "    </tr>\n",
       "    <tr>\n",
       "      <th>1</th>\n",
       "      <td>https://w3id.org/i40/sto#ISO_29002</td>\n",
       "    </tr>\n",
       "    <tr>\n",
       "      <th>2</th>\n",
       "      <td>https://w3id.org/i40/sto#DIN_SPEC_16592</td>\n",
       "    </tr>\n",
       "    <tr>\n",
       "      <th>3</th>\n",
       "      <td>https://w3id.org/i40/sto#IEC_62541</td>\n",
       "    </tr>\n",
       "    <tr>\n",
       "      <th>4</th>\n",
       "      <td>https://w3id.org/i40/sto#IEC_61804</td>\n",
       "    </tr>\n",
       "  </tbody>\n",
       "</table>\n",
       "</div>"
      ],
      "text/plain": [
       "                                         o\n",
       "0    https://w3id.org/i40/sto#ISO_15531-3x\n",
       "1       https://w3id.org/i40/sto#ISO_29002\n",
       "2  https://w3id.org/i40/sto#DIN_SPEC_16592\n",
       "3       https://w3id.org/i40/sto#IEC_62541\n",
       "4       https://w3id.org/i40/sto#IEC_61804"
      ]
     },
     "execution_count": 326,
     "metadata": {},
     "output_type": "execute_result"
    }
   ],
   "source": [
    "relation = pd.DataFrame(columns=['s', 'p', 'o'])\n",
    "for i in range(intersected_df.shape[0]):\n",
    "    if intersected_df.o.iloc[i] in list(test_set.s):\n",
    "        index_0 = test_set[test_set.s == intersected_df.o.iloc[i]].index\n",
    "        lst = test_set.loc[index_0]\n",
    "        relation = pd.concat([relation, lst], ignore_index=True)\n",
    "relation = pd.DataFrame(relation['o'])\n",
    "relation.head()"
   ]
  },
  {
   "cell_type": "code",
   "execution_count": 327,
   "metadata": {},
   "outputs": [
    {
     "data": {
      "text/plain": [
       "9"
      ]
     },
     "execution_count": 327,
     "metadata": {},
     "output_type": "execute_result"
    }
   ],
   "source": [
    "relation = relation.drop_duplicates().reset_index(drop=True)\n",
    "relation.shape[0]"
   ]
  },
  {
   "cell_type": "code",
   "execution_count": 328,
   "metadata": {},
   "outputs": [
    {
     "data": {
      "text/plain": [
       "0"
      ]
     },
     "execution_count": 328,
     "metadata": {},
     "output_type": "execute_result"
    }
   ],
   "source": [
    "intersected_relatedTo = pd.merge(cls, relation, how='inner', on='o')\n",
    "intersected_relatedTo = intersected_relatedTo.drop_duplicates().reset_index(drop=True)\n",
    "intersected_relatedTo.shape[0]"
   ]
  },
  {
   "cell_type": "code",
   "execution_count": 329,
   "metadata": {},
   "outputs": [
    {
     "data": {
      "text/plain": [
       "0.0"
      ]
     },
     "execution_count": 329,
     "metadata": {},
     "output_type": "execute_result"
    }
   ],
   "source": [
    "intersected_relatedTo.shape[0]/relation.shape[0]"
   ]
  },
  {
   "cell_type": "code",
   "execution_count": 367,
   "metadata": {},
   "outputs": [
    {
     "data": {
      "image/png": "[encoded data removed]",
      "text/plain": [
       "<Figure size 432x288 with 1 Axes>"
      ]
     },
     "metadata": {
      "needs_background": "light"
     },
     "output_type": "display_data"
    }
   ],
   "source": [
    "# libraries\n",
    "import numpy as np\n",
    "import matplotlib.pyplot as plt\n",
    " \n",
    "# set width of bar\n",
    "barWidth = 0.1\n",
    " \n",
    "# set height of bar (TransD_th85)\n",
    "#bars1 = [0.43, 0.42, 0.39]\n",
    "#bars2 = [0.72, 0.67, 0.65]\n",
    "\n",
    "# set height of bar (TransD_th85)\n",
    "bars1 = [0.17, 0.00, 0.17]\n",
    "bars2 = [0.17, 0.17, 0.49]\n",
    "bars3 = [0.20, 0.24, 0.25]\n",
    "bars4 = [0.33, 0.26, 0.09]\n",
    "bars5 = [0.25, 0.21, 0.40]\n",
    "bars6 = [0.17, 0.39, 0.13]\n",
    "bars7 = [0.18, 0.20, 0.00]\n",
    "\n",
    "# Set position of bar on X axis\n",
    "#r1 = np.arange(len(bars1))\n",
    "#r1 = [0,0.4,0.8]\n",
    "r1 = [0,0.9,1.9]\n",
    "r2 = [x + barWidth for x in r1]\n",
    "r3 = [x + barWidth for x in r2]\n",
    "r4 = [x + barWidth for x in r3]\n",
    "r5 = [x + barWidth for x in r4]\n",
    "r6 = [x + barWidth for x in r5]\n",
    "r7 = [x + barWidth for x in r6]\n",
    "\n",
    "# Make the plot\n",
    "plt.bar(r1, bars1, color='#13505b', width=barWidth, edgecolor='white', label='Cluster 1')\n",
    "plt.bar(r2, bars2, color='#90bfc9', width=barWidth, edgecolor='white', label='Cluster 2')\n",
    "plt.bar(r3, bars3, color='#2d7f5e', width=barWidth, edgecolor='white', label='Cluster 3')\n",
    "plt.bar(r4, bars4, color='black', width=barWidth, edgecolor='white', label='Cluster 4')\n",
    "plt.bar(r5, bars5, color='blue', width=barWidth, edgecolor='white', label='Cluster 5')\n",
    "plt.bar(r6, bars6, color='red', width=barWidth, edgecolor='white', label='Cluster 6')\n",
    "plt.bar(r7, bars7, color='green', width=barWidth, edgecolor='white', label='Cluster 7')\n",
    "#plt.bar(r3, bars3, color='#2d7f5e', width=barWidth, edgecolor='white', label='N_relatedTo')\n",
    "\n",
    "# Add xticks on the middle of the group bars\n",
    "plt.xlabel('Communities', fontweight='bold')\n",
    "#plt.xticks([0,0.4,0.8], ['Metis', 'SemEp', 'Kmeans'])\n",
    "plt.xticks([0.3,1.3,2.2], ['Metis', 'SemEp', 'Kmeans'])\n",
    "plt.title('Accuracy of related standards in each cluster')\n",
    "\n",
    "for i, v in enumerate(bars1):\n",
    "    plt.text(r1[i]-0.06, v+0.01, str(v), color='black', fontweight='bold', fontsize='xx-small')\n",
    "for i, v in enumerate(bars2):\n",
    "    plt.text(r2[i]-0.06, v+0.01, str(v), color='black', fontweight='bold', fontsize='xx-small')\n",
    "for i, v in enumerate(bars3):\n",
    "    plt.text(r3[i]-0.06, v+0.01, str(v), color='black', fontweight='bold', fontsize='xx-small')\n",
    "for i, v in enumerate(bars4):\n",
    "    plt.text(r4[i]-0.06, v+0.01, str(v), color='black', fontweight='bold', fontsize='xx-small')\n",
    "for i, v in enumerate(bars5):\n",
    "    plt.text(r5[i]-0.06, v+0.01, str(v), color='black', fontweight='bold', fontsize='xx-small')\n",
    "for i, v in enumerate(bars6):\n",
    "    plt.text(r6[i]-0.06, v+0.01, str(v), color='black', fontweight='bold', fontsize='xx-small')\n",
    "for i, v in enumerate(bars7):\n",
    "    plt.text(r7[i]-0.06, v+0.01, str(v), color='black', fontweight='bold', fontsize='xx-small')\n",
    "\n",
    "#plt.ylabel('Number of link prediction')\n",
    "# Create legend & Show graphic\n",
    "legend = plt.legend(loc='upper center', shadow=False, fontsize='small', ncol=2)\n",
    "\n",
    "#plt.legend(loc='upper left')\n",
    "plt.savefig(\"Accuracy of related standards(TransD_th90).pdf\", format='pdf', bbox_inches = 'tight')\n",
    "plt.show()"
   ]
  },
  {
   "cell_type": "code",
   "execution_count": 129,
   "metadata": {},
   "outputs": [
    {
     "data": {
      "image/png": "[encoded data removed]",
      "text/plain": [
       "<Figure size 432x288 with 1 Axes>"
      ]
     },
     "metadata": {
      "needs_background": "light"
     },
     "output_type": "display_data"
    }
   ],
   "source": [
    "import numpy as np\n",
    "import matplotlib.pyplot as plt\n",
    "\n",
    "N = 5\n",
    "men_means = (20, 35, 30, 35, 27)\n",
    "\n",
    "ind = np.arange(N)  # the x locations for the groups\n",
    "width = 0.35       # the width of the bars\n",
    "\n",
    "fig, ax = plt.subplots()\n",
    "rects1 = ax.bar(ind, men_means, width, color='r')\n",
    "\n",
    "women_means = (25, 32, 34, 20, 25)\n",
    "rects2 = ax.bar(ind + width, women_means, width, color='y')\n",
    "\n",
    "# add some text for labels, title and axes ticks\n",
    "ax.set_ylabel('Scores')\n",
    "ax.set_title('Scores by group and gender')\n",
    "ax.set_xticks(ind + width / 2)\n",
    "ax.set_xticklabels(('G1', 'G2', 'G3', 'G4', 'G5'))\n",
    "\n",
    "ax.legend((rects1[0], rects2[0]), ('Men', 'Women'))\n",
    "\n",
    "\n",
    "def autolabel(rects):\n",
    "    \"\"\"\n",
    "    Attach a text label above each bar displaying its height\n",
    "    \"\"\"\n",
    "    for rect in rects:\n",
    "        height = rect.get_height()\n",
    "        ax.text(rect.get_x() + rect.get_width()/2., 1.05*height,\n",
    "                '%d' % int(height),\n",
    "                ha='center', va='bottom')\n",
    "\n",
    "autolabel(rects1)\n",
    "autolabel(rects2)\n",
    "\n",
    "plt.show()"
   ]
  },
  {
   "cell_type": "code",
   "execution_count": null,
   "metadata": {},
   "outputs": [],
   "source": []
  },
  {
   "cell_type": "code",
   "execution_count": null,
   "metadata": {},
   "outputs": [],
   "source": []
  },
  {
   "cell_type": "code",
   "execution_count": 183,
   "metadata": {},
   "outputs": [
    {
     "name": "stdout",
     "output_type": "stream",
     "text": [
      "61\n"
     ]
    }
   ],
   "source": [
    "from rdflib import Graph,URIRef, tools\n",
    "from gastrodon import LocalEndpoint,one,QName\n",
    "g = Graph()\n",
    "g.parse(\"sto/sto-enriched.nt\", format=\"nt\")\n",
    "sto_endpoint=LocalEndpoint(g)\n",
    "\n",
    "#data = [cluster_0,cluster_1,cluster_2,cluster_3,cluster_4,cluster_5,cluster_6]\n",
    "data = [cluster_0,cluster_1]\n",
    "list_pd = {}\n",
    "\n",
    "for i in range(len(data)):\n",
    "    list_pd[i] = pd.DataFrame(columns=['o'])\n",
    "i=0\n",
    "count = 0\n",
    "for cls in data:\n",
    "    for standard in cls['o']:\n",
    "        qres_tc = sto_endpoint.select(\n",
    "            \"\"\"PREFIX owl: <http://www.w3.org/2002/07/owl#>\n",
    "                   PREFIX rdf: <http://www.w3.org/1999/02/22-rdf-syntax-ns#>\n",
    "                   PREFIX tc: <https://w3id.org/i40/sto/iot#>\n",
    "\n",
    "                select distinct ?o where {\n",
    "                        <\"\"\" +standard+ \"\"\"> tc:hasTargetConcern ?o .\n",
    "                }\"\"\")\n",
    "        qres = sto_endpoint.select(\n",
    "            \"\"\"PREFIX owl: <http://www.w3.org/2002/07/owl#>\n",
    "                   PREFIX rdf: <http://www.w3.org/1999/02/22-rdf-syntax-ns#>\n",
    "                   PREFIX dom: <https://w3id.org/i40/sto#>\n",
    "\n",
    "                select distinct ?o where {\n",
    "                        <\"\"\" +standard+ \"\"\"> dom:hasDomain ?o .\n",
    "                }\"\"\")\n",
    "        if len(qres_tc)>0:\n",
    "            list_pd[i] = pd.concat([list_pd[i], qres_tc], ignore_index=True)\n",
    "        if len(qres)>0:\n",
    "            list_pd[i] = pd.concat([list_pd[i], qres], ignore_index=True)\n",
    "        count+=(len(qres_tc) + len(qres))\n",
    "    i+=1\n",
    "print(count)"
   ]
  },
  {
   "cell_type": "code",
   "execution_count": 150,
   "metadata": {},
   "outputs": [
    {
     "data": {
      "text/plain": [
       "61"
      ]
     },
     "execution_count": 150,
     "metadata": {},
     "output_type": "execute_result"
    }
   ],
   "source": [
    "#15+2+1+32+3+3+5\n",
    "#sum(domain_sto.number_standard)"
   ]
  },
  {
   "cell_type": "code",
   "execution_count": 177,
   "metadata": {},
   "outputs": [
    {
     "data": {
      "text/html": [
       "<div>\n",
       "<style scoped>\n",
       "    .dataframe tbody tr th:only-of-type {\n",
       "        vertical-align: middle;\n",
       "    }\n",
       "\n",
       "    .dataframe tbody tr th {\n",
       "        vertical-align: top;\n",
       "    }\n",
       "\n",
       "    .dataframe thead th {\n",
       "        text-align: right;\n",
       "    }\n",
       "</style>\n",
       "<table border=\"1\" class=\"dataframe\">\n",
       "  <thead>\n",
       "    <tr style=\"text-align: right;\">\n",
       "      <th></th>\n",
       "      <th>domain</th>\n",
       "      <th>number_standard</th>\n",
       "    </tr>\n",
       "  </thead>\n",
       "  <tbody>\n",
       "    <tr>\n",
       "      <th>7</th>\n",
       "      <td>https://w3id.org/i40/sto#IndustrialAutomation</td>\n",
       "      <td>5</td>\n",
       "    </tr>\n",
       "    <tr>\n",
       "      <th>8</th>\n",
       "      <td>https://w3id.org/i40/sto#ITSecurity</td>\n",
       "      <td>5</td>\n",
       "    </tr>\n",
       "    <tr>\n",
       "      <th>0</th>\n",
       "      <td>https://w3id.org/i40/sto#Safety</td>\n",
       "      <td>3</td>\n",
       "    </tr>\n",
       "    <tr>\n",
       "      <th>1</th>\n",
       "      <td>https://w3id.org/i40/sto#CloudComputing</td>\n",
       "      <td>2</td>\n",
       "    </tr>\n",
       "    <tr>\n",
       "      <th>2</th>\n",
       "      <td>https://w3id.org/i40/sto#IdentityManagement</td>\n",
       "      <td>2</td>\n",
       "    </tr>\n",
       "    <tr>\n",
       "      <th>4</th>\n",
       "      <td>https://w3id.org/i40/sto#QualityOfService</td>\n",
       "      <td>2</td>\n",
       "    </tr>\n",
       "    <tr>\n",
       "      <th>9</th>\n",
       "      <td>https://w3id.org/i40/sto#CAD</td>\n",
       "      <td>2</td>\n",
       "    </tr>\n",
       "    <tr>\n",
       "      <th>11</th>\n",
       "      <td>https://w3id.org/i40/sto#IndustrialProcessMeas...</td>\n",
       "      <td>2</td>\n",
       "    </tr>\n",
       "    <tr>\n",
       "      <th>3</th>\n",
       "      <td>https://w3id.org/i40/sto#Safety_Machinery</td>\n",
       "      <td>1</td>\n",
       "    </tr>\n",
       "    <tr>\n",
       "      <th>5</th>\n",
       "      <td>https://w3id.org/i40/sto#EnterpriseIntegration</td>\n",
       "      <td>1</td>\n",
       "    </tr>\n",
       "    <tr>\n",
       "      <th>6</th>\n",
       "      <td>https://w3id.org/i40/sto#Automatic_Id_Data_Cap...</td>\n",
       "      <td>1</td>\n",
       "    </tr>\n",
       "    <tr>\n",
       "      <th>10</th>\n",
       "      <td>https://w3id.org/i40/sto#Energy_management</td>\n",
       "      <td>1</td>\n",
       "    </tr>\n",
       "  </tbody>\n",
       "</table>\n",
       "</div>"
      ],
      "text/plain": [
       "                                               domain  number_standard\n",
       "7       https://w3id.org/i40/sto#IndustrialAutomation                5\n",
       "8                 https://w3id.org/i40/sto#ITSecurity                5\n",
       "0                     https://w3id.org/i40/sto#Safety                3\n",
       "1             https://w3id.org/i40/sto#CloudComputing                2\n",
       "2         https://w3id.org/i40/sto#IdentityManagement                2\n",
       "4           https://w3id.org/i40/sto#QualityOfService                2\n",
       "9                        https://w3id.org/i40/sto#CAD                2\n",
       "11  https://w3id.org/i40/sto#IndustrialProcessMeas...                2\n",
       "3           https://w3id.org/i40/sto#Safety_Machinery                1\n",
       "5      https://w3id.org/i40/sto#EnterpriseIntegration                1\n",
       "6   https://w3id.org/i40/sto#Automatic_Id_Data_Cap...                1\n",
       "10         https://w3id.org/i40/sto#Energy_management                1"
      ]
     },
     "execution_count": 177,
     "metadata": {},
     "output_type": "execute_result"
    }
   ],
   "source": [
    "j=1\n",
    "domain_sto = pd.DataFrame(columns=['domain',  'number_standard'])\n",
    "domain_sto.domain=list(pd.value_counts(list_pd[j]['o'].values, 0).index)\n",
    "domain_sto.number_standard = list(pd.value_counts(list_pd[j]['o'].values, 0))\n",
    "domain_sto = domain_sto.sort_values(by='number_standard', ascending=False)\n",
    "\n",
    "domain_sto"
   ]
  },
  {
   "cell_type": "code",
   "execution_count": 178,
   "metadata": {},
   "outputs": [
    {
     "data": {
      "image/png": "[encoded data removed]",
      "text/plain": [
       "<Figure size 864x864 with 1 Axes>"
      ]
     },
     "metadata": {
      "needs_background": "light"
     },
     "output_type": "display_data"
    }
   ],
   "source": [
    "fig = domain_sto.plot.bar(x='domain', y='number_standard',figsize=(12, 12),title='Cluster#2 Metis. Number standrards by Domain.').get_figure()\n",
    "fig.savefig('Th:0.85(Cls#2.Metis).pdf')"
   ]
  },
  {
   "cell_type": "code",
   "execution_count": 190,
   "metadata": {},
   "outputs": [
    {
     "name": "stdout",
     "output_type": "stream",
     "text": [
      "157\n",
      "number standards without relatedTo:  128\n",
      "0.6\n",
      "number total relateTo:  55\n",
      "------\n",
      "165\n",
      "number standards without relatedTo:  136\n",
      "0.49206349206349204\n",
      "number total relateTo:  63\n",
      "------\n"
     ]
    }
   ],
   "source": [
    "from rdflib import Graph,URIRef, tools\n",
    "g = Graph()\n",
    "g.parse(\"sto/sto-enriched.nt\", format=\"nt\")\n",
    "#sto_endpoint=LocalEndpoint(g)\n",
    "\n",
    "#data = [cluster_0,cluster_1,cluster_2,cluster_3,cluster_4,cluster_5,cluster_6]\n",
    "data = [cluster_0,cluster_1]\n",
    "list_pd = {}\n",
    "\n",
    "for i in range(len(data)):\n",
    "    list_pd[i] = pd.DataFrame(columns=['o'])\n",
    "i=0\n",
    "for cls in data:\n",
    "    for standard in cls['o']:\n",
    "        qres = g.query(\n",
    "            \"\"\"PREFIX owl: <http://www.w3.org/2002/07/owl#>\n",
    "                   PREFIX rdf: <http://www.w3.org/1999/02/22-rdf-syntax-ns#>\n",
    "                   PREFIX sto: <https://w3id.org/i40/sto#>\n",
    "\n",
    "                select distinct ?o where {\n",
    "                        <\"\"\" +standard+ \"\"\"> sto:relatedTo ?o .\n",
    "                }\"\"\")\n",
    "        lst = pd.DataFrame(columns=['o'])\n",
    "        obj = []\n",
    "        for row in qres:\n",
    "            obj.append(str(\"%s\" %row))\n",
    "        lst.o=obj\n",
    "        if len(lst)>0:\n",
    "            list_pd[i] = pd.concat([list_pd[i], lst], ignore_index=True)\n",
    "        else:\n",
    "            count+=1\n",
    "    list_pd[i] = list_pd[i].drop_duplicates().reset_index(drop=True)\n",
    "    \n",
    "    intersected_df = pd.merge(list_pd[i], cls, how='inner', on='o')\n",
    "    difference = list_pd[i][~list_pd[i].apply(tuple,1).isin(intersected_df.apply(tuple,1))]\n",
    "    print(len(cls))\n",
    "    print('number standards without relatedTo: ',count)\n",
    "    #print(len(intersected_df))\n",
    "    #print(len(difference))\n",
    "    print(len(intersected_df)/len(list_pd[i]))\n",
    "    print('number total relateTo: ',len(list_pd[i]))\n",
    "    print('------')\n",
    "    count = 0\n",
    "    i+=1"
   ]
  },
  {
   "cell_type": "code",
   "execution_count": 188,
   "metadata": {},
   "outputs": [
    {
     "data": {
      "image/png": "[encoded data removed]",
      "text/plain": [
       "<Figure size 432x288 with 1 Axes>"
      ]
     },
     "metadata": {
      "needs_background": "light"
     },
     "output_type": "display_data"
    }
   ],
   "source": [
    "# libraries\n",
    "import numpy as np\n",
    "import matplotlib.pyplot as plt\n",
    " \n",
    "# set width of bar\n",
    "barWidth = 0.1\n",
    " \n",
    "# set height of bar\n",
    "bars1 = [0.6, 0.7, 0.54]\n",
    "bars2 = [0.49, 0.44, 0.54]\n",
    "\n",
    "\n",
    "\n",
    "# Set position of bar on X axis\n",
    "#r1 = np.arange(len(bars1))\n",
    "r1 = [0,0.4,0.8]\n",
    "r2 = [x + barWidth for x in r1]\n",
    "\n",
    " \n",
    "# Make the plot\n",
    "plt.bar(r1, bars1, color='#13505b', width=barWidth, edgecolor='white', label='Cluster 1')\n",
    "plt.bar(r2, bars2, color='#90bfc9', width=barWidth, edgecolor='white', label='Cluster 2')\n",
    "#plt.bar(r3, bars3, color='#2d7f5e', width=barWidth, edgecolor='white', label='N_relatedTo')\n",
    "\n",
    " \n",
    "# Add xticks on the middle of the group bars\n",
    "plt.xlabel('Communities', fontweight='bold')\n",
    "plt.xticks([0,0.4,0.8], ['Metis', 'SemEp', 'Kmeans'])\n",
    "plt.title('Percentage of related standards in each cluster')\n",
    "#plt.ylabel('Number of link prediction')\n",
    "# Create legend & Show graphic\n",
    "plt.legend()\n",
    "plt.savefig(\"Percent of related standards.pdf\", format='pdf', bbox_inches = 'tight')\n",
    "#plt.show()"
   ]
  },
  {
   "cell_type": "code",
   "execution_count": 189,
   "metadata": {},
   "outputs": [
    {
     "data": {
      "image/png": "[encoded data removed]",
      "text/plain": [
       "<Figure size 432x288 with 1 Axes>"
      ]
     },
     "metadata": {
      "needs_background": "light"
     },
     "output_type": "display_data"
    }
   ],
   "source": [
    "# libraries\n",
    "import numpy as np\n",
    "import matplotlib.pyplot as plt\n",
    " \n",
    "# set width of bar\n",
    "barWidth = 0.1\n",
    " \n",
    "# set height of bar\n",
    "bars1 = [169, 153]\n",
    "bars2 = [141, 123]\n",
    "bars3 = [30, 32]\n",
    "\n",
    "\n",
    "# Set position of bar on X axis\n",
    "#r1 = np.arange(len(bars1))\n",
    "r1 = [0,0.4]\n",
    "r2 = [x + barWidth for x in r1]\n",
    "r3 = [x + barWidth for x in r2]\n",
    " \n",
    "# Make the plot\n",
    "plt.bar(r1, bars1, color='#13505b', width=barWidth, edgecolor='white', label='N_standards')\n",
    "plt.bar(r2, bars2, color='#90bfc9', width=barWidth, edgecolor='white', label='N_standards without relatedTo')\n",
    "plt.bar(r3, bars3, color='#2d7f5e', width=barWidth, edgecolor='white', label='N_relatedTo')\n",
    "\n",
    " \n",
    "# Add xticks on the middle of the group bars\n",
    "plt.xlabel('Communities', fontweight='bold')\n",
    "plt.xticks([0.1,0.5], ['Cluster 1', 'Cluster 2'])\n",
    "plt.title('Cluster algorithm Kmeans with TransD')\n",
    "#plt.ylabel('Number of link prediction')\n",
    "# Create legend & Show graphic\n",
    "plt.legend()\n",
    "plt.savefig(\"Cluster algorithm Kmeans with TransD.pdf\", format='pdf', bbox_inches = 'tight')\n",
    "#plt.show()"
   ]
  },
  {
   "cell_type": "code",
   "execution_count": null,
   "metadata": {},
   "outputs": [],
   "source": []
  },
  {
   "cell_type": "code",
   "execution_count": 6,
   "metadata": {},
   "outputs": [
    {
     "name": "stdout",
     "output_type": "stream",
     "text": [
      "44\n",
      "n_link_pred 1892\n",
      "-------------------------------------------------\n",
      "46\n",
      "n_link_pred 2070\n",
      "-------------------------------------------------\n",
      "47\n",
      "n_link_pred 2162\n",
      "-------------------------------------------------\n",
      "47\n",
      "n_link_pred 2162\n",
      "-------------------------------------------------\n",
      "44\n",
      "n_link_pred 1892\n",
      "-------------------------------------------------\n",
      "47\n",
      "n_link_pred 2162\n",
      "-------------------------------------------------\n",
      "47\n",
      "n_link_pred 2162\n",
      "-------------------------------------------------\n"
     ]
    }
   ],
   "source": [
    "from rdflib import Graph,URIRef, tools\n",
    "from gastrodon import LocalEndpoint,one,QName\n",
    "g = Graph()\n",
    "g.parse(\"sto/sto-enriched.nt\", format=\"nt\")\n",
    "sto_endpoint=LocalEndpoint(g)\n",
    "i=0\n",
    "link_analysis = pd.DataFrame(columns=['link_prediction', 'link_found'])\n",
    "data = [cluster_0,cluster_1,cluster_2,cluster_3,cluster_4,cluster_5,cluster_6]\n",
    "#relation = pd.DataFrame(columns=['o'])\n",
    "for cls in data:\n",
    "    relation = pd.DataFrame(columns=['o'])\n",
    "    for standard in cls['o']:\n",
    "        qres = sto_endpoint.select(\n",
    "            \"\"\"PREFIX owl: <http://www.w3.org/2002/07/owl#>\n",
    "                   PREFIX rdf: <http://www.w3.org/1999/02/22-rdf-syntax-ns#>\n",
    "                   PREFIX sto: <https://w3id.org/i40/sto#>\n",
    "\n",
    "                select distinct ?o where {\n",
    "                        <\"\"\" +standard+ \"\"\"> sto:relatedTo ?o .\n",
    "                }\"\"\")\n",
    "        if len(qres)>0:\n",
    "            relation = pd.concat([relation, qres], ignore_index=True)\n",
    "            #print(standard)\n",
    "            i+=1\n",
    "    relation = relation.drop_duplicates()\n",
    "    intersected_df = pd.merge(cls, relation, how='inner')\n",
    "    print(cls.shape[0])\n",
    "    if intersected_df.shape[0]>0:\n",
    "        print('standard:', standard)\n",
    "        #print('link_found', intersected_df)\n",
    "    n_link_pred = ((cls.shape[0]*cls.shape[0])-cls.shape[0])-intersected_df.shape[0]\n",
    "    n_link_found = intersected_df.shape[0]\n",
    "    print('n_link_pred', n_link_pred)\n",
    "    new_row = {'link_prediction':n_link_pred, 'link_found':n_link_found}\n",
    "    link_analysis = link_analysis.append(new_row, ignore_index=True)\n",
    "    print('-------------------------------------------------')"
   ]
  },
  {
   "cell_type": "code",
   "execution_count": 7,
   "metadata": {},
   "outputs": [
    {
     "data": {
      "text/html": [
       "<div>\n",
       "<style scoped>\n",
       "    .dataframe tbody tr th:only-of-type {\n",
       "        vertical-align: middle;\n",
       "    }\n",
       "\n",
       "    .dataframe tbody tr th {\n",
       "        vertical-align: top;\n",
       "    }\n",
       "\n",
       "    .dataframe thead th {\n",
       "        text-align: right;\n",
       "    }\n",
       "</style>\n",
       "<table border=\"1\" class=\"dataframe\">\n",
       "  <thead>\n",
       "    <tr style=\"text-align: right;\">\n",
       "      <th></th>\n",
       "      <th>link_prediction</th>\n",
       "      <th>link_found</th>\n",
       "    </tr>\n",
       "  </thead>\n",
       "  <tbody>\n",
       "    <tr>\n",
       "      <th>0</th>\n",
       "      <td>1892</td>\n",
       "      <td>0</td>\n",
       "    </tr>\n",
       "    <tr>\n",
       "      <th>1</th>\n",
       "      <td>2070</td>\n",
       "      <td>0</td>\n",
       "    </tr>\n",
       "    <tr>\n",
       "      <th>2</th>\n",
       "      <td>2162</td>\n",
       "      <td>0</td>\n",
       "    </tr>\n",
       "    <tr>\n",
       "      <th>3</th>\n",
       "      <td>2162</td>\n",
       "      <td>0</td>\n",
       "    </tr>\n",
       "    <tr>\n",
       "      <th>4</th>\n",
       "      <td>1892</td>\n",
       "      <td>0</td>\n",
       "    </tr>\n",
       "    <tr>\n",
       "      <th>5</th>\n",
       "      <td>2162</td>\n",
       "      <td>0</td>\n",
       "    </tr>\n",
       "    <tr>\n",
       "      <th>6</th>\n",
       "      <td>2162</td>\n",
       "      <td>0</td>\n",
       "    </tr>\n",
       "  </tbody>\n",
       "</table>\n",
       "</div>"
      ],
      "text/plain": [
       "  link_prediction link_found\n",
       "0            1892          0\n",
       "1            2070          0\n",
       "2            2162          0\n",
       "3            2162          0\n",
       "4            1892          0\n",
       "5            2162          0\n",
       "6            2162          0"
      ]
     },
     "execution_count": 7,
     "metadata": {},
     "output_type": "execute_result"
    }
   ],
   "source": [
    "link_analysis"
   ]
  },
  {
   "cell_type": "code",
   "execution_count": 8,
   "metadata": {},
   "outputs": [
    {
     "data": {
      "text/html": [
       "<div>\n",
       "<style scoped>\n",
       "    .dataframe tbody tr th:only-of-type {\n",
       "        vertical-align: middle;\n",
       "    }\n",
       "\n",
       "    .dataframe tbody tr th {\n",
       "        vertical-align: top;\n",
       "    }\n",
       "\n",
       "    .dataframe thead th {\n",
       "        text-align: right;\n",
       "    }\n",
       "</style>\n",
       "<table border=\"1\" class=\"dataframe\">\n",
       "  <thead>\n",
       "    <tr style=\"text-align: right;\">\n",
       "      <th></th>\n",
       "      <th>link_prediction</th>\n",
       "      <th>link_found</th>\n",
       "    </tr>\n",
       "  </thead>\n",
       "  <tbody>\n",
       "    <tr>\n",
       "      <th>0</th>\n",
       "      <td>12</td>\n",
       "      <td>23</td>\n",
       "    </tr>\n",
       "    <tr>\n",
       "      <th>1</th>\n",
       "      <td>56</td>\n",
       "      <td>283</td>\n",
       "    </tr>\n",
       "    <tr>\n",
       "      <th>2</th>\n",
       "      <td>78</td>\n",
       "      <td>56785</td>\n",
       "    </tr>\n",
       "  </tbody>\n",
       "</table>\n",
       "</div>"
      ],
      "text/plain": [
       "  link_prediction link_found\n",
       "0              12         23\n",
       "1              56        283\n",
       "2              78      56785"
      ]
     },
     "execution_count": 8,
     "metadata": {},
     "output_type": "execute_result"
    }
   ],
   "source": [
    "link_analysis = pd.DataFrame(columns=['link_prediction', 'link_found'])\n",
    "new_row = {'link_prediction':12, 'link_found':23}\n",
    "link_analysis = link_analysis.append(new_row, ignore_index=True)\n",
    "new_row = {'link_prediction':56, 'link_found':283}\n",
    "link_analysis = link_analysis.append(new_row, ignore_index=True)\n",
    "new_row = {'link_prediction':78, 'link_found':56785}\n",
    "link_analysis = link_analysis.append(new_row, ignore_index=True)\n",
    "link_analysis"
   ]
  },
  {
   "cell_type": "code",
   "execution_count": 9,
   "metadata": {},
   "outputs": [
    {
     "data": {
      "text/html": [
       "<div>\n",
       "<style scoped>\n",
       "    .dataframe tbody tr th:only-of-type {\n",
       "        vertical-align: middle;\n",
       "    }\n",
       "\n",
       "    .dataframe tbody tr th {\n",
       "        vertical-align: top;\n",
       "    }\n",
       "\n",
       "    .dataframe thead th {\n",
       "        text-align: right;\n",
       "    }\n",
       "</style>\n",
       "<table border=\"1\" class=\"dataframe\">\n",
       "  <thead>\n",
       "    <tr style=\"text-align: right;\">\n",
       "      <th></th>\n",
       "      <th>link_prediction</th>\n",
       "      <th>link_found</th>\n",
       "    </tr>\n",
       "  </thead>\n",
       "  <tbody>\n",
       "    <tr>\n",
       "      <th>0</th>\n",
       "      <td>78</td>\n",
       "      <td>56785</td>\n",
       "    </tr>\n",
       "    <tr>\n",
       "      <th>1</th>\n",
       "      <td>56</td>\n",
       "      <td>283</td>\n",
       "    </tr>\n",
       "    <tr>\n",
       "      <th>2</th>\n",
       "      <td>9</td>\n",
       "      <td>13</td>\n",
       "    </tr>\n",
       "    <tr>\n",
       "      <th>3</th>\n",
       "      <td>56</td>\n",
       "      <td>283</td>\n",
       "    </tr>\n",
       "    <tr>\n",
       "      <th>4</th>\n",
       "      <td>9</td>\n",
       "      <td>13</td>\n",
       "    </tr>\n",
       "  </tbody>\n",
       "</table>\n",
       "</div>"
      ],
      "text/plain": [
       "  link_prediction link_found\n",
       "0              78      56785\n",
       "1              56        283\n",
       "2               9         13\n",
       "3              56        283\n",
       "4               9         13"
      ]
     },
     "execution_count": 9,
     "metadata": {},
     "output_type": "execute_result"
    }
   ],
   "source": [
    "link = pd.DataFrame(columns=['link_prediction', 'link_found'])\n",
    "new_row = {'link_prediction':78, 'link_found':56785}\n",
    "link = link.append(new_row, ignore_index=True)\n",
    "new_row = {'link_prediction':56, 'link_found':283}\n",
    "link = link.append(new_row, ignore_index=True)\n",
    "new_row = {'link_prediction':9, 'link_found':13}\n",
    "link = link.append(new_row, ignore_index=True)\n",
    "new_row = {'link_prediction':56, 'link_found':283}\n",
    "link = link.append(new_row, ignore_index=True)\n",
    "new_row = {'link_prediction':9, 'link_found':13}\n",
    "link = link.append(new_row, ignore_index=True)\n",
    "link"
   ]
  },
  {
   "cell_type": "code",
   "execution_count": 10,
   "metadata": {},
   "outputs": [
    {
     "data": {
      "text/html": [
       "<div>\n",
       "<style scoped>\n",
       "    .dataframe tbody tr th:only-of-type {\n",
       "        vertical-align: middle;\n",
       "    }\n",
       "\n",
       "    .dataframe tbody tr th {\n",
       "        vertical-align: top;\n",
       "    }\n",
       "\n",
       "    .dataframe thead th {\n",
       "        text-align: right;\n",
       "    }\n",
       "</style>\n",
       "<table border=\"1\" class=\"dataframe\">\n",
       "  <thead>\n",
       "    <tr style=\"text-align: right;\">\n",
       "      <th></th>\n",
       "      <th>link_prediction</th>\n",
       "      <th>link_found</th>\n",
       "    </tr>\n",
       "  </thead>\n",
       "  <tbody>\n",
       "    <tr>\n",
       "      <th>0</th>\n",
       "      <td>78</td>\n",
       "      <td>56785</td>\n",
       "    </tr>\n",
       "    <tr>\n",
       "      <th>1</th>\n",
       "      <td>56</td>\n",
       "      <td>283</td>\n",
       "    </tr>\n",
       "    <tr>\n",
       "      <th>2</th>\n",
       "      <td>9</td>\n",
       "      <td>13</td>\n",
       "    </tr>\n",
       "  </tbody>\n",
       "</table>\n",
       "</div>"
      ],
      "text/plain": [
       "  link_prediction link_found\n",
       "0              78      56785\n",
       "1              56        283\n",
       "2               9         13"
      ]
     },
     "execution_count": 10,
     "metadata": {},
     "output_type": "execute_result"
    }
   ],
   "source": [
    "link = link.drop_duplicates()\n",
    "link"
   ]
  },
  {
   "cell_type": "code",
   "execution_count": 11,
   "metadata": {},
   "outputs": [
    {
     "data": {
      "text/html": [
       "<div>\n",
       "<style scoped>\n",
       "    .dataframe tbody tr th:only-of-type {\n",
       "        vertical-align: middle;\n",
       "    }\n",
       "\n",
       "    .dataframe tbody tr th {\n",
       "        vertical-align: top;\n",
       "    }\n",
       "\n",
       "    .dataframe thead th {\n",
       "        text-align: right;\n",
       "    }\n",
       "</style>\n",
       "<table border=\"1\" class=\"dataframe\">\n",
       "  <thead>\n",
       "    <tr style=\"text-align: right;\">\n",
       "      <th></th>\n",
       "      <th>link_prediction</th>\n",
       "      <th>link_found</th>\n",
       "    </tr>\n",
       "  </thead>\n",
       "  <tbody>\n",
       "    <tr>\n",
       "      <th>0</th>\n",
       "      <td>56</td>\n",
       "      <td>283</td>\n",
       "    </tr>\n",
       "    <tr>\n",
       "      <th>1</th>\n",
       "      <td>78</td>\n",
       "      <td>56785</td>\n",
       "    </tr>\n",
       "  </tbody>\n",
       "</table>\n",
       "</div>"
      ],
      "text/plain": [
       "  link_prediction link_found\n",
       "0              56        283\n",
       "1              78      56785"
      ]
     },
     "execution_count": 11,
     "metadata": {},
     "output_type": "execute_result"
    }
   ],
   "source": [
    "intersected = pd.merge(link_analysis, link, how='inner')\n",
    "intersected"
   ]
  },
  {
   "cell_type": "code",
   "execution_count": 13,
   "metadata": {},
   "outputs": [
    {
     "data": {
      "image/png": "[encoded data removed]",
      "text/plain": [
       "<Figure size 432x288 with 1 Axes>"
      ]
     },
     "metadata": {
      "needs_background": "light"
     },
     "output_type": "display_data"
    }
   ],
   "source": [
    "# libraries\n",
    "import numpy as np\n",
    "import matplotlib.pyplot as plt\n",
    " \n",
    "# set width of bar\n",
    "barWidth = 0.15\n",
    " \n",
    "# set height of bar\n",
    "bars1 = [1722, 1406, 2162]\n",
    "bars2 = [1482, 1482, 1892]\n",
    "bars3 = [1980, 3192, 2162]\n",
    "bars4 = [1122, 2550, 1892]\n",
    "bars5 = [1722, 2162, 2162]\n",
    "bars6= [2450, 2162, 2162]\n",
    "bars7 = [4830, 1806, 2070]\n",
    "\n",
    "# Set position of bar on X axis\n",
    "#r1 = np.arange(len(bars1))\n",
    "r1 = [0,1.5,3]\n",
    "r2 = [x + barWidth for x in r1]\n",
    "r3 = [x + barWidth for x in r2]\n",
    "r4 = [x + barWidth for x in r3]\n",
    "r5 = [x + barWidth for x in r4]\n",
    "r6 = [x + barWidth for x in r5]\n",
    "r7 = [x + barWidth for x in r6]\n",
    " \n",
    "# Make the plot\n",
    "plt.bar(r1, bars1, color='#13505b', width=barWidth, edgecolor='white', label='cluster1')\n",
    "plt.bar(r2, bars2, color='#557f2d', width=barWidth, edgecolor='white', label='cluster2')\n",
    "plt.bar(r3, bars3, color='#2d7f5e', width=barWidth, edgecolor='white', label='cluster3')\n",
    "plt.bar(r4, bars4, color='#7f6d5f', width=barWidth, edgecolor='white', label='cluster4')\n",
    "plt.bar(r5, bars5, color='#10424b', width=barWidth, edgecolor='white', label='cluster5')\n",
    "plt.bar(r6, bars6, color='#0c3137', width=barWidth, edgecolor='white', label='cluster6')\n",
    "plt.bar(r7, bars7, color='#90bfc9', width=barWidth, edgecolor='white', label='cluster7')\n",
    " \n",
    "# Add xticks on the middle of the group bars\n",
    "plt.xlabel('Cluster Algorithms', fontweight='bold')\n",
    "plt.xticks([0.5,2,3.5], ['semEP', 'Kmeans', 'Metis'])\n",
    "plt.title('Cluster algorithm link prediction')\n",
    "plt.ylabel('Number of link prediction')\n",
    "# Create legend & Show graphic\n",
    "plt.legend()\n",
    "plt.savefig(\"Cluster_algorithm_link_prediction.pdf\", format='pdf', bbox_inches = 'tight')\n",
    "#plt.show()"
   ]
  },
  {
   "cell_type": "code",
   "execution_count": 139,
   "metadata": {},
   "outputs": [
    {
     "data": {
      "text/plain": [
       "array([0, 1, 2])"
      ]
     },
     "execution_count": 139,
     "metadata": {},
     "output_type": "execute_result"
    }
   ],
   "source": [
    "r1"
   ]
  },
  {
   "cell_type": "code",
   "execution_count": 130,
   "metadata": {},
   "outputs": [
    {
     "data": {
      "text/plain": [
       "(67, 1)"
      ]
     },
     "execution_count": 130,
     "metadata": {},
     "output_type": "execute_result"
    }
   ],
   "source": [
    "relation.shape"
   ]
  },
  {
   "cell_type": "code",
   "execution_count": 131,
   "metadata": {},
   "outputs": [
    {
     "data": {
      "text/plain": [
       "58"
      ]
     },
     "execution_count": 131,
     "metadata": {},
     "output_type": "execute_result"
    }
   ],
   "source": [
    "i"
   ]
  },
  {
   "cell_type": "code",
   "execution_count": null,
   "metadata": {},
   "outputs": [],
   "source": []
  }
 ],
 "metadata": {
  "kernelspec": {
   "display_name": "Python 3",
   "language": "python",
   "name": "python3"
  },
  "language_info": {
   "codemirror_mode": {
    "name": "ipython",
    "version": 3
   },
   "file_extension": ".py",
   "mimetype": "text/x-python",
   "name": "python",
   "nbconvert_exporter": "python",
   "pygments_lexer": "ipython3",
   "version": "3.7.3"
  }
 },
 "nbformat": 4,
 "nbformat_minor": 2
}
