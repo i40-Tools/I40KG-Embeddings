{
 "cells": [
  {
   "cell_type": "code",
   "execution_count": 25,
   "metadata": {},
   "outputs": [],
   "source": [
    "import numpy as np\n",
    "import pandas as pd\n",
    "from rdflib import Graph"
   ]
  },
  {
   "cell_type": "code",
   "execution_count": 279,
   "metadata": {},
   "outputs": [
    {
     "data": {
      "text/plain": [
       "13"
      ]
     },
     "execution_count": 279,
     "metadata": {},
     "output_type": "execute_result"
    }
   ],
   "source": [
    "output = 'Plot_Community_Analysis/'\n",
    "\n",
    "#input_path = 'result/TransR/metis/th_85/'\n",
    "#input_path = 'result/TransR/semep/th_85/'\n",
    "#input_path = 'result/TransR/Kmeans/th_85/'\n",
    "\n",
    "#input_path = 'result/TransH/metis/th_85/'\n",
    "#input_path = 'result/TransH/semep/th_85/'\n",
    "#input_path = 'result/TransH/Kmeans/th_85/'\n",
    "\n",
    "#input_path = 'result/TransE/metis/th_85/'\n",
    "#input_path = 'result/TransE/semep/th_85/'\n",
    "input_path = 'result/TransE/Kmeans/th_85/'\n",
    "\n",
    "#input_path = 'result/TransD/metis/th_85/'\n",
    "#input_path = 'result/TransD/semep/th_85/'\n",
    "#input_path = 'result/TransD/Kmeans/th_85/'\n",
    "\n",
    "\n",
    "\n",
    "cls_0 = input_path + \"cluster-0.txt\"\n",
    "cls_1 = input_path + \"cluster-1.txt\"\n",
    "cls_2 = input_path + \"cluster-2.txt\"\n",
    "cls_3 = input_path + \"cluster-3.txt\"\n",
    "cls_4 = input_path + \"cluster-4.txt\"\n",
    "cls_5 = input_path + \"cluster-5.txt\"\n",
    "cls_6 = input_path + \"cluster-6.txt\"\n",
    "cls_7 = input_path + \"cluster-7.txt\"\n",
    "cls_8 = input_path + \"cluster-8.txt\"\n",
    "cls_9 = input_path + \"cluster-9.txt\"\n",
    "cls_10 = input_path + \"cluster-10.txt\"\n",
    "cls_11 = input_path + \"cluster-11.txt\"\n",
    "cls_12 = input_path + \"cluster-12.txt\"\n",
    "\n",
    "cluster_0 = pd.read_csv(cls_0, delimiter=\",\", header=None)\n",
    "cluster_1 =pd.read_csv(cls_1, delimiter=\",\", header=None)\n",
    "cluster_2 =pd.read_csv(cls_2, delimiter=\",\", header=None)\n",
    "cluster_3 =pd.read_csv(cls_3, delimiter=\",\", header=None)\n",
    "cluster_4 =pd.read_csv(cls_4, delimiter=\",\", header=None)\n",
    "cluster_5 =pd.read_csv(cls_5, delimiter=\",\", header=None)\n",
    "cluster_6 =pd.read_csv(cls_6, delimiter=\",\", header=None)\n",
    "cluster_7 =pd.read_csv(cls_7, delimiter=\",\", header=None)\n",
    "cluster_8 =pd.read_csv(cls_8, delimiter=\",\", header=None)\n",
    "cluster_9 =pd.read_csv(cls_9, delimiter=\",\", header=None)\n",
    "cluster_10 =pd.read_csv(cls_10, delimiter=\",\", header=None)\n",
    "cluster_11 =pd.read_csv(cls_11, delimiter=\",\", header=None)\n",
    "cluster_12 =pd.read_csv(cls_12, delimiter=\",\", header=None)\n",
    "\n",
    "cluster_0.columns = ['o']\n",
    "cluster_1.columns = ['o']\n",
    "cluster_2.columns = ['o']\n",
    "cluster_3.columns = ['o']\n",
    "cluster_4.columns = ['o']\n",
    "cluster_5.columns = ['o']\n",
    "cluster_6.columns = ['o']\n",
    "cluster_7.columns = ['o']\n",
    "cluster_8.columns = ['o']\n",
    "cluster_9.columns = ['o']\n",
    "cluster_10.columns = ['o']\n",
    "cluster_11.columns = ['o']\n",
    "cluster_12.columns = ['o']\n",
    "\n",
    "cluster_0.shape[0]"
   ]
  },
  {
   "cell_type": "code",
   "execution_count": 280,
   "metadata": {},
   "outputs": [
    {
     "data": {
      "text/html": [
       "<div>\n",
       "<style scoped>\n",
       "    .dataframe tbody tr th:only-of-type {\n",
       "        vertical-align: middle;\n",
       "    }\n",
       "\n",
       "    .dataframe tbody tr th {\n",
       "        vertical-align: top;\n",
       "    }\n",
       "\n",
       "    .dataframe thead th {\n",
       "        text-align: right;\n",
       "    }\n",
       "</style>\n",
       "<table border=\"1\" class=\"dataframe\">\n",
       "  <thead>\n",
       "    <tr style=\"text-align: right;\">\n",
       "      <th></th>\n",
       "      <th>o</th>\n",
       "    </tr>\n",
       "  </thead>\n",
       "  <tbody>\n",
       "    <tr>\n",
       "      <th>0</th>\n",
       "      <td>https://w3id.org/i40/sto#RFC_6750</td>\n",
       "    </tr>\n",
       "    <tr>\n",
       "      <th>1</th>\n",
       "      <td>https://w3id.org/i40/sto#IEC_61850_P7_S1_E2</td>\n",
       "    </tr>\n",
       "    <tr>\n",
       "      <th>2</th>\n",
       "      <td>https://w3id.org/i40/sto#ODRL</td>\n",
       "    </tr>\n",
       "    <tr>\n",
       "      <th>3</th>\n",
       "      <td>https://w3id.org/i40/sto#IEC_60870_P5_S2_E1</td>\n",
       "    </tr>\n",
       "    <tr>\n",
       "      <th>4</th>\n",
       "      <td>https://w3id.org/i40/sto#IEC_62424</td>\n",
       "    </tr>\n",
       "  </tbody>\n",
       "</table>\n",
       "</div>"
      ],
      "text/plain": [
       "                                             o\n",
       "0            https://w3id.org/i40/sto#RFC_6750\n",
       "1  https://w3id.org/i40/sto#IEC_61850_P7_S1_E2\n",
       "2                https://w3id.org/i40/sto#ODRL\n",
       "3  https://w3id.org/i40/sto#IEC_60870_P5_S2_E1\n",
       "4           https://w3id.org/i40/sto#IEC_62424"
      ]
     },
     "execution_count": 280,
     "metadata": {},
     "output_type": "execute_result"
    }
   ],
   "source": [
    "cluster_0.head()"
   ]
  },
  {
   "cell_type": "code",
   "execution_count": 281,
   "metadata": {},
   "outputs": [
    {
     "name": "stdout",
     "output_type": "stream",
     "text": [
      "(880, 3)\n"
     ]
    },
    {
     "data": {
      "text/html": [
       "<div>\n",
       "<style scoped>\n",
       "    .dataframe tbody tr th:only-of-type {\n",
       "        vertical-align: middle;\n",
       "    }\n",
       "\n",
       "    .dataframe tbody tr th {\n",
       "        vertical-align: top;\n",
       "    }\n",
       "\n",
       "    .dataframe thead th {\n",
       "        text-align: right;\n",
       "    }\n",
       "</style>\n",
       "<table border=\"1\" class=\"dataframe\">\n",
       "  <thead>\n",
       "    <tr style=\"text-align: right;\">\n",
       "      <th></th>\n",
       "      <th>s</th>\n",
       "      <th>p</th>\n",
       "      <th>o</th>\n",
       "    </tr>\n",
       "  </thead>\n",
       "  <tbody>\n",
       "    <tr>\n",
       "      <th>0</th>\n",
       "      <td>https://w3id.org/i40/sto#ISO_27001</td>\n",
       "      <td>https://w3id.org/i40/sto#relatedTo</td>\n",
       "      <td>https://w3id.org/i40/sto#ISO_9594</td>\n",
       "    </tr>\n",
       "    <tr>\n",
       "      <th>1</th>\n",
       "      <td>https://w3id.org/i40/sto#NIST_800-146</td>\n",
       "      <td>https://w3id.org/i40/sto#relatedTo</td>\n",
       "      <td>https://w3id.org/i40/sto#ISO_13849</td>\n",
       "    </tr>\n",
       "    <tr>\n",
       "      <th>2</th>\n",
       "      <td>https://w3id.org/i40/sto#ISO_ASTM_52915</td>\n",
       "      <td>https://w3id.org/i40/sto#relatedTo</td>\n",
       "      <td>https://w3id.org/i40/sto#ISO_24760</td>\n",
       "    </tr>\n",
       "    <tr>\n",
       "      <th>3</th>\n",
       "      <td>https://w3id.org/i40/sto#IEC_62541</td>\n",
       "      <td>https://w3id.org/i40/sto#relatedTo</td>\n",
       "      <td>https://w3id.org/i40/sto#MathML</td>\n",
       "    </tr>\n",
       "    <tr>\n",
       "      <th>4</th>\n",
       "      <td>https://w3id.org/i40/sto#IEC_61512</td>\n",
       "      <td>https://w3id.org/i40/sto#relatedTo</td>\n",
       "      <td>https://w3id.org/i40/sto#IEC_62794</td>\n",
       "    </tr>\n",
       "  </tbody>\n",
       "</table>\n",
       "</div>"
      ],
      "text/plain": [
       "                                         s  \\\n",
       "0       https://w3id.org/i40/sto#ISO_27001   \n",
       "1    https://w3id.org/i40/sto#NIST_800-146   \n",
       "2  https://w3id.org/i40/sto#ISO_ASTM_52915   \n",
       "3       https://w3id.org/i40/sto#IEC_62541   \n",
       "4       https://w3id.org/i40/sto#IEC_61512   \n",
       "\n",
       "                                    p                                   o  \n",
       "0  https://w3id.org/i40/sto#relatedTo   https://w3id.org/i40/sto#ISO_9594  \n",
       "1  https://w3id.org/i40/sto#relatedTo  https://w3id.org/i40/sto#ISO_13849  \n",
       "2  https://w3id.org/i40/sto#relatedTo  https://w3id.org/i40/sto#ISO_24760  \n",
       "3  https://w3id.org/i40/sto#relatedTo     https://w3id.org/i40/sto#MathML  \n",
       "4  https://w3id.org/i40/sto#relatedTo  https://w3id.org/i40/sto#IEC_62794  "
      ]
     },
     "execution_count": 281,
     "metadata": {},
     "output_type": "execute_result"
    }
   ],
   "source": [
    "#hasClassification\n",
    "input_ = 'sto/relatedTo/'\n",
    "g = Graph()\n",
    "g.parse(input_+'test_set_relatedTo.nt', format=\"nt\")\n",
    "\n",
    "test_set = pd.DataFrame(columns=['s', 'p', 'o'])\n",
    "qres = g.query(\n",
    "    \"\"\"PREFIX owl: <http://www.w3.org/2002/07/owl#>\n",
    "        PREFIX rdf: <http://www.w3.org/1999/02/22-rdf-syntax-ns#>\n",
    "        PREFIX sto: <https://w3id.org/i40/sto#>\n",
    "        select distinct ?s ?p ?o where {\n",
    "            ?s ?p ?o .\n",
    "        }\"\"\")\n",
    "sub = []\n",
    "pre = []\n",
    "obj = []\n",
    "for row in qres:\n",
    "    sub.append(str(\"%s\" %row['s']))\n",
    "    pre.append(str(\"%s\" %row['p']))\n",
    "    obj.append(str(\"%s\" %row['o']))\n",
    "test_set.s=sub\n",
    "test_set.p=pre\n",
    "test_set.o=obj\n",
    "print(test_set.shape)\n",
    "test_set.head()"
   ]
  },
  {
   "cell_type": "code",
   "execution_count": 282,
   "metadata": {
    "scrolled": true
   },
   "outputs": [
    {
     "data": {
      "text/html": [
       "<div>\n",
       "<style scoped>\n",
       "    .dataframe tbody tr th:only-of-type {\n",
       "        vertical-align: middle;\n",
       "    }\n",
       "\n",
       "    .dataframe tbody tr th {\n",
       "        vertical-align: top;\n",
       "    }\n",
       "\n",
       "    .dataframe thead th {\n",
       "        text-align: right;\n",
       "    }\n",
       "</style>\n",
       "<table border=\"1\" class=\"dataframe\">\n",
       "  <thead>\n",
       "    <tr style=\"text-align: right;\">\n",
       "      <th></th>\n",
       "      <th>o</th>\n",
       "    </tr>\n",
       "  </thead>\n",
       "  <tbody>\n",
       "    <tr>\n",
       "      <th>0</th>\n",
       "      <td>https://w3id.org/i40/sto#ISO_27001</td>\n",
       "    </tr>\n",
       "    <tr>\n",
       "      <th>1</th>\n",
       "      <td>https://w3id.org/i40/sto#NIST_800-146</td>\n",
       "    </tr>\n",
       "    <tr>\n",
       "      <th>2</th>\n",
       "      <td>https://w3id.org/i40/sto#ISO_ASTM_52915</td>\n",
       "    </tr>\n",
       "    <tr>\n",
       "      <th>3</th>\n",
       "      <td>https://w3id.org/i40/sto#IEC_62541</td>\n",
       "    </tr>\n",
       "    <tr>\n",
       "      <th>4</th>\n",
       "      <td>https://w3id.org/i40/sto#IEC_61512</td>\n",
       "    </tr>\n",
       "  </tbody>\n",
       "</table>\n",
       "</div>"
      ],
      "text/plain": [
       "                                         o\n",
       "0       https://w3id.org/i40/sto#ISO_27001\n",
       "1    https://w3id.org/i40/sto#NIST_800-146\n",
       "2  https://w3id.org/i40/sto#ISO_ASTM_52915\n",
       "3       https://w3id.org/i40/sto#IEC_62541\n",
       "4       https://w3id.org/i40/sto#IEC_61512"
      ]
     },
     "execution_count": 282,
     "metadata": {},
     "output_type": "execute_result"
    }
   ],
   "source": [
    "sub=pd.DataFrame(test_set['s'])\n",
    "sub.columns = ['o']\n",
    "sub.head()"
   ]
  },
  {
   "cell_type": "code",
   "execution_count": 411,
   "metadata": {},
   "outputs": [],
   "source": [
    "cls = cluster_12"
   ]
  },
  {
   "cell_type": "code",
   "execution_count": 412,
   "metadata": {},
   "outputs": [
    {
     "data": {
      "text/plain": [
       "4"
      ]
     },
     "execution_count": 412,
     "metadata": {},
     "output_type": "execute_result"
    }
   ],
   "source": [
    "intersected_df = pd.merge(cls, sub, how='inner', on='o')\n",
    "intersected_df = intersected_df.drop_duplicates().reset_index(drop=True)\n",
    "intersected_df.shape[0]"
   ]
  },
  {
   "cell_type": "code",
   "execution_count": 413,
   "metadata": {},
   "outputs": [
    {
     "data": {
      "text/html": [
       "<div>\n",
       "<style scoped>\n",
       "    .dataframe tbody tr th:only-of-type {\n",
       "        vertical-align: middle;\n",
       "    }\n",
       "\n",
       "    .dataframe tbody tr th {\n",
       "        vertical-align: top;\n",
       "    }\n",
       "\n",
       "    .dataframe thead th {\n",
       "        text-align: right;\n",
       "    }\n",
       "</style>\n",
       "<table border=\"1\" class=\"dataframe\">\n",
       "  <thead>\n",
       "    <tr style=\"text-align: right;\">\n",
       "      <th></th>\n",
       "      <th>o</th>\n",
       "    </tr>\n",
       "  </thead>\n",
       "  <tbody>\n",
       "    <tr>\n",
       "      <th>0</th>\n",
       "      <td>https://w3id.org/i40/sto#IEC_61691_P6_E1</td>\n",
       "    </tr>\n",
       "    <tr>\n",
       "      <th>1</th>\n",
       "      <td>https://w3id.org/i40/sto#IEC_61850_P4_E1</td>\n",
       "    </tr>\n",
       "    <tr>\n",
       "      <th>2</th>\n",
       "      <td>https://w3id.org/i40/sto#ISO_14739-1</td>\n",
       "    </tr>\n",
       "    <tr>\n",
       "      <th>3</th>\n",
       "      <td>https://w3id.org/i40/sto#IEC_60870_P5_S6_E1</td>\n",
       "    </tr>\n",
       "  </tbody>\n",
       "</table>\n",
       "</div>"
      ],
      "text/plain": [
       "                                             o\n",
       "0     https://w3id.org/i40/sto#IEC_61691_P6_E1\n",
       "1     https://w3id.org/i40/sto#IEC_61850_P4_E1\n",
       "2         https://w3id.org/i40/sto#ISO_14739-1\n",
       "3  https://w3id.org/i40/sto#IEC_60870_P5_S6_E1"
      ]
     },
     "execution_count": 413,
     "metadata": {},
     "output_type": "execute_result"
    }
   ],
   "source": [
    "intersected_df.head()"
   ]
  },
  {
   "cell_type": "code",
   "execution_count": 414,
   "metadata": {},
   "outputs": [
    {
     "data": {
      "text/html": [
       "<div>\n",
       "<style scoped>\n",
       "    .dataframe tbody tr th:only-of-type {\n",
       "        vertical-align: middle;\n",
       "    }\n",
       "\n",
       "    .dataframe tbody tr th {\n",
       "        vertical-align: top;\n",
       "    }\n",
       "\n",
       "    .dataframe thead th {\n",
       "        text-align: right;\n",
       "    }\n",
       "</style>\n",
       "<table border=\"1\" class=\"dataframe\">\n",
       "  <thead>\n",
       "    <tr style=\"text-align: right;\">\n",
       "      <th></th>\n",
       "      <th>o</th>\n",
       "    </tr>\n",
       "  </thead>\n",
       "  <tbody>\n",
       "    <tr>\n",
       "      <th>0</th>\n",
       "      <td>https://w3id.org/i40/sto#IEC_61690_P1_E1</td>\n",
       "    </tr>\n",
       "    <tr>\n",
       "      <th>1</th>\n",
       "      <td>https://w3id.org/i40/sto#IEC_61850</td>\n",
       "    </tr>\n",
       "    <tr>\n",
       "      <th>2</th>\n",
       "      <td>https://w3id.org/i40/sto#ISO_14739-1</td>\n",
       "    </tr>\n",
       "    <tr>\n",
       "      <th>3</th>\n",
       "      <td>https://w3id.org/i40/sto#ISO_18629</td>\n",
       "    </tr>\n",
       "    <tr>\n",
       "      <th>4</th>\n",
       "      <td>https://w3id.org/i40/sto#IEC_60870_P2_S1_E2</td>\n",
       "    </tr>\n",
       "  </tbody>\n",
       "</table>\n",
       "</div>"
      ],
      "text/plain": [
       "                                             o\n",
       "0     https://w3id.org/i40/sto#IEC_61690_P1_E1\n",
       "1           https://w3id.org/i40/sto#IEC_61850\n",
       "2         https://w3id.org/i40/sto#ISO_14739-1\n",
       "3           https://w3id.org/i40/sto#ISO_18629\n",
       "4  https://w3id.org/i40/sto#IEC_60870_P2_S1_E2"
      ]
     },
     "execution_count": 414,
     "metadata": {},
     "output_type": "execute_result"
    }
   ],
   "source": [
    "relation = pd.DataFrame(columns=['s', 'p', 'o'])\n",
    "for i in range(intersected_df.shape[0]):\n",
    "    if intersected_df.o.iloc[i] in list(test_set.s):\n",
    "        index_0 = test_set[test_set.s == intersected_df.o.iloc[i]].index\n",
    "        lst = test_set.loc[index_0]\n",
    "        relation = pd.concat([relation, lst], ignore_index=True)\n",
    "relation = pd.DataFrame(relation['o'])\n",
    "relation.head()"
   ]
  },
  {
   "cell_type": "code",
   "execution_count": 415,
   "metadata": {},
   "outputs": [
    {
     "data": {
      "text/plain": [
       "5"
      ]
     },
     "execution_count": 415,
     "metadata": {},
     "output_type": "execute_result"
    }
   ],
   "source": [
    "relation.shape[0]"
   ]
  },
  {
   "cell_type": "code",
   "execution_count": 416,
   "metadata": {},
   "outputs": [
    {
     "data": {
      "text/plain": [
       "5"
      ]
     },
     "execution_count": 416,
     "metadata": {},
     "output_type": "execute_result"
    }
   ],
   "source": [
    "relation = relation.drop_duplicates().reset_index(drop=True)\n",
    "relation.shape[0]"
   ]
  },
  {
   "cell_type": "code",
   "execution_count": 417,
   "metadata": {},
   "outputs": [
    {
     "data": {
      "text/plain": [
       "1"
      ]
     },
     "execution_count": 417,
     "metadata": {},
     "output_type": "execute_result"
    }
   ],
   "source": [
    "intersected_relatedTo = pd.merge(cls, relation, how='inner', on='o')\n",
    "intersected_relatedTo = intersected_relatedTo.drop_duplicates().reset_index(drop=True)\n",
    "intersected_relatedTo.shape[0]"
   ]
  },
  {
   "cell_type": "code",
   "execution_count": 418,
   "metadata": {},
   "outputs": [
    {
     "data": {
      "text/plain": [
       "20"
      ]
     },
     "execution_count": 418,
     "metadata": {},
     "output_type": "execute_result"
    }
   ],
   "source": [
    "round(100*intersected_relatedTo.shape[0]/relation.shape[0])"
   ]
  },
  {
   "cell_type": "code",
   "execution_count": 436,
   "metadata": {},
   "outputs": [
    {
     "data": {
      "image/png": "[encoded data removed]",
      "text/plain": [
       "<Figure size 432x288 with 1 Axes>"
      ]
     },
     "metadata": {
      "needs_background": "light"
     },
     "output_type": "display_data"
    }
   ],
   "source": [
    "# libraries\n",
    "import numpy as np\n",
    "import matplotlib.pyplot as plt\n",
    " \n",
    "# set width of bar\n",
    "barWidth = 0.1\n",
    "\n",
    "# set height of bar (TransE_th85)\n",
    "bars1 = [22, 10, 14]\n",
    "bars2 = [12, 11, 9]\n",
    "bars3 = [0, 0, 29]\n",
    "bars4 = [22, 24, 18]\n",
    "bars5 = [7, 6, 32]\n",
    "bars6 = [0, 13, 18]\n",
    "bars7 = [30, 11, 18]\n",
    "bars8 = [14, 30, 38]\n",
    "bars9 = [46, 15, 9]\n",
    "bars10 = [8, 0, 30]\n",
    "bars11 = [12, 19, 58]\n",
    "bars12 = [26, 20, 29]\n",
    "bars13 = [28, 27, 20]\n",
    "\n",
    "# Set position of bar on X axis\n",
    "#r1 = np.arange(len(bars1))\n",
    "#r1 = [0,0.4,0.8]\n",
    "r1 = [0,1.5,3]\n",
    "r2 = [x + barWidth for x in r1]\n",
    "r3 = [x + barWidth for x in r2]\n",
    "r4 = [x + barWidth for x in r3]\n",
    "r5 = [x + barWidth for x in r4]\n",
    "r6 = [x + barWidth for x in r5]\n",
    "r7 = [x + barWidth for x in r6]\n",
    "r8 = [x + barWidth for x in r7]\n",
    "r9 = [x + barWidth for x in r8]\n",
    "r10 = [x + barWidth for x in r9]\n",
    "r11 = [x + barWidth for x in r10]\n",
    "r12 = [x + barWidth for x in r11]\n",
    "r13 = [x + barWidth for x in r12]\n",
    "\n",
    "# Make the plot\n",
    "plt.bar(r1, bars1, color='#13505b', width=barWidth, edgecolor='white', label='Cluster 1')\n",
    "plt.bar(r2, bars2, color='#90bfc9', width=barWidth, edgecolor='white', label='Cluster 2')\n",
    "plt.bar(r3, bars3, color='#D2B48C', width=barWidth, edgecolor='white', label='Cluster 3')\n",
    "plt.bar(r4, bars4, color='black', width=barWidth, edgecolor='white', label='Cluster 4')\n",
    "plt.bar(r5, bars5, color='#6059c0', width=barWidth, edgecolor='white', label='Cluster 5')\n",
    "plt.bar(r6, bars6, color='gray', width=barWidth, edgecolor='white', label='Cluster 6')\n",
    "plt.bar(r7, bars7, color='green', width=barWidth, edgecolor='white', label='Cluster 7')\n",
    "plt.bar(r8, bars8, color='#F5F5DC', width=barWidth, edgecolor='white', label='Cluster 8')\n",
    "plt.bar(r9, bars9, color='#9ACD32', width=barWidth, edgecolor='white', label='Cluster 9')\n",
    "plt.bar(r10, bars10, color='#FF7F50', width=barWidth, edgecolor='white', label='Cluster 10')\n",
    "plt.bar(r11, bars11, color='#A52A2A', width=barWidth, edgecolor='white', label='Cluster 11')\n",
    "plt.bar(r12, bars12, color='#00008B', width=barWidth, edgecolor='white', label='Cluster 12')\n",
    "plt.bar(r13, bars13, color='#C0C0C0', width=barWidth, edgecolor='white', label='Cluster 13')\n",
    "\n",
    "# Add xticks on the middle of the group bars\n",
    "#plt.xlabel('Communities', fontweight='bold')\n",
    "plt.ylim(0,100)\n",
    "plt.xticks([0.7,2.2,3.7], ['METIS', 'SemEP', 'KMeans'])\n",
    "#plt.title('Accuracy of related standards in each cluster')\n",
    "\n",
    "for i, v in enumerate(bars1):\n",
    "    plt.text(r1[i]-0.05, v+0.01, str(v), color='black', fontweight='bold', fontsize='x-small')\n",
    "for i, v in enumerate(bars2):\n",
    "    plt.text(r2[i]-0.05, v+0.01, str(v), color='black', fontweight='bold', fontsize='x-small')\n",
    "for i, v in enumerate(bars3):\n",
    "    plt.text(r3[i]-0.05, v+0.01, str(v), color='black', fontweight='bold', fontsize='x-small')\n",
    "for i, v in enumerate(bars4):\n",
    "    plt.text(r4[i]-0.05, v+0.01, str(v), color='black', fontweight='bold', fontsize='x-small')\n",
    "for i, v in enumerate(bars5):\n",
    "    plt.text(r5[i]-0.05, v+0.01, str(v), color='black', fontweight='bold', fontsize='x-small')\n",
    "for i, v in enumerate(bars6):\n",
    "    plt.text(r6[i]-0.05, v+0.01, str(v), color='black', fontweight='bold', fontsize='x-small')\n",
    "for i, v in enumerate(bars7):\n",
    "    #if v!=0:\n",
    "    plt.text(r7[i]-0.05, v+0.01, str(v), color='black', fontweight='bold', fontsize='x-small')\n",
    "for i, v in enumerate(bars8):\n",
    "    plt.text(r8[i]-0.05, v+0.01, str(v), color='black', fontweight='bold', fontsize='x-small')\n",
    "for i, v in enumerate(bars9):\n",
    "    plt.text(r9[i]-0.05, v+0.01, str(v), color='black', fontweight='bold', fontsize='x-small')\n",
    "for i, v in enumerate(bars10):\n",
    "    plt.text(r10[i]-0.05, v+0.01, str(v), color='black', fontweight='bold', fontsize='x-small')\n",
    "for i, v in enumerate(bars11):\n",
    "    plt.text(r11[i]-0.05, v+0.01, str(v), color='black', fontweight='bold', fontsize='x-small')\n",
    "for i, v in enumerate(bars12):\n",
    "    plt.text(r12[i]-0.05, v+0.01, str(v), color='black', fontweight='bold', fontsize='x-small')\n",
    "for i, v in enumerate(bars13):\n",
    "    plt.text(r13[i]-0.05, v+0.01, str(v), color='black', fontweight='bold', fontsize='x-small')\n",
    "#plt.ylabel('Number of link prediction')\n",
    "# Create legend & Show graphic\n",
    "legend = plt.legend(loc='upper left', shadow=False, fontsize='small', ncol=4)\n",
    "\n",
    "#plt.legend(loc='upper left')\n",
    "plt.savefig(output+\"Accuracy_of_related_standards(TransE_th85).pdf\", format='pdf', bbox_inches = 'tight')\n",
    "plt.show()"
   ]
  },
  {
   "cell_type": "code",
   "execution_count": 54,
   "metadata": {},
   "outputs": [
    {
     "data": {
      "image/png": "[encoded data removed]",
      "text/plain": [
       "<Figure size 432x288 with 1 Axes>"
      ]
     },
     "metadata": {
      "needs_background": "light"
     },
     "output_type": "display_data"
    }
   ],
   "source": [
    "# libraries\n",
    "import numpy as np\n",
    "import matplotlib.pyplot as plt\n",
    " \n",
    "# set width of bar\n",
    "barWidth = 0.1\n",
    " \n",
    "# set height of bar (TransD_th90)\n",
    "\"\"\"\n",
    "bars1 = [0.17, 0.00, 0.17]\n",
    "bars2 = [0.17, 0.17, 0.49]\n",
    "bars3 = [0.20, 0.24, 0.25]\n",
    "bars4 = [0.33, 0.26, 0.09]\n",
    "bars5 = [0.25, 0.21, 0.40]\n",
    "bars6 = [0.17, 0.39, 0.13]\n",
    "bars7 = [0.18, 0.20, 0.00]\n",
    "\"\"\"\n",
    "# set height of bar (TransH_th85)\n",
    "bars1 = [25, 11, 32]\n",
    "bars2 = [33, 20, 32]\n",
    "bars3 = [40, 30, 63]\n",
    "bars4 = [33, 31, 100]\n",
    "bars5 = [70, 43, 53]\n",
    "bars6 = [55, 8, 0]\n",
    "bars7 = [21, 46, 57]\n",
    "bars8 = [25, 17, 50]\n",
    "bars9 = [47, 17, 64]\n",
    "\n",
    "# Set position of bar on X axis\n",
    "#r1 = np.arange(len(bars1))\n",
    "#r1 = [0,0.4,0.8]\n",
    "r1 = [0,1,2]\n",
    "r2 = [x + barWidth for x in r1]\n",
    "r3 = [x + barWidth for x in r2]\n",
    "r4 = [x + barWidth for x in r3]\n",
    "r5 = [x + barWidth for x in r4]\n",
    "r6 = [x + barWidth for x in r5]\n",
    "r7 = [x + barWidth for x in r6]\n",
    "r8 = [x + barWidth for x in r7]\n",
    "r9 = [x + barWidth for x in r8]\n",
    "\n",
    "# Make the plot\n",
    "plt.bar(r1, bars1, color='#13505b', width=barWidth, edgecolor='white', label='Cluster 1')\n",
    "plt.bar(r2, bars2, color='#90bfc9', width=barWidth, edgecolor='white', label='Cluster 2')\n",
    "plt.bar(r3, bars3, color='#2d7f5e', width=barWidth, edgecolor='white', label='Cluster 3')\n",
    "plt.bar(r4, bars4, color='black', width=barWidth, edgecolor='white', label='Cluster 4')\n",
    "plt.bar(r5, bars5, color='#6059c0', width=barWidth, edgecolor='white', label='Cluster 5')\n",
    "plt.bar(r6, bars6, color='gray', width=barWidth, edgecolor='white', label='Cluster 6')\n",
    "plt.bar(r7, bars7, color='green', width=barWidth, edgecolor='white', label='Cluster 7')\n",
    "plt.bar(r8, bars8, color='#F5F5DC', width=barWidth, edgecolor='white', label='Cluster 8')\n",
    "plt.bar(r9, bars9, color='#9ACD32', width=barWidth, edgecolor='white', label='Cluster 9')\n",
    "#plt.bar(r3, bars3, color='#2d7f5e', width=barWidth, edgecolor='white', label='N_relatedTo')\n",
    "\n",
    "# Add xticks on the middle of the group bars\n",
    "#plt.xlabel('Communities', fontweight='bold')\n",
    "plt.ylim(0,110)\n",
    "plt.xticks([0.4,1.4,2.4], ['METIS', 'SemEP', 'KMeans'])\n",
    "#plt.title('Accuracy of related standards in each cluster')\n",
    "\n",
    "for i, v in enumerate(bars1):\n",
    "    plt.text(r1[i]-0.05, v+0.01, str(v), color='black', fontweight='bold', fontsize='x-small')\n",
    "for i, v in enumerate(bars2):\n",
    "    plt.text(r2[i]-0.05, v+0.01, str(v), color='black', fontweight='bold', fontsize='x-small')\n",
    "for i, v in enumerate(bars3):\n",
    "    plt.text(r3[i]-0.05, v+0.01, str(v), color='black', fontweight='bold', fontsize='x-small')\n",
    "for i, v in enumerate(bars4):\n",
    "    plt.text(r4[i]-0.05, v+0.01, str(v), color='black', fontweight='bold', fontsize='x-small')\n",
    "for i, v in enumerate(bars5):\n",
    "    plt.text(r5[i]-0.05, v+0.01, str(v), color='black', fontweight='bold', fontsize='x-small')\n",
    "for i, v in enumerate(bars6):\n",
    "    plt.text(r6[i]-0.05, v+0.01, str(v), color='black', fontweight='bold', fontsize='x-small')\n",
    "for i, v in enumerate(bars7):\n",
    "    #if v!=0:\n",
    "    plt.text(r7[i]-0.05, v+0.01, str(v), color='black', fontweight='bold', fontsize='x-small')\n",
    "for i, v in enumerate(bars8):\n",
    "    plt.text(r8[i]-0.05, v+0.01, str(v), color='black', fontweight='bold', fontsize='x-small')\n",
    "for i, v in enumerate(bars9):\n",
    "    plt.text(r9[i]-0.05, v+0.01, str(v), color='black', fontweight='bold', fontsize='x-small')\n",
    "#plt.ylabel('Number of link prediction')\n",
    "# Create legend & Show graphic\n",
    "legend = plt.legend(loc='upper left', shadow=False, fontsize='small', ncol=3)\n",
    "\n",
    "#plt.legend(loc='upper left')\n",
    "plt.savefig(output+\"Accuracy_of_related_standards(TransH_th85).pdf\", format='pdf', bbox_inches = 'tight')\n",
    "plt.show()"
   ]
  },
  {
   "cell_type": "code",
   "execution_count": 448,
   "metadata": {},
   "outputs": [
    {
     "name": "stdout",
     "output_type": "stream",
     "text": [
      "#9ACD32\n",
      "#FFFF00\n",
      "#FFFFFF\n",
      "#F5DEB3\n",
      "#EE82EE\n",
      "#40E0D0\n",
      "#FF6347\n",
      "#008080\n",
      "#D2B48C\n",
      "#C0C0C0\n",
      "#A0522D\n",
      "#FA8072\n",
      "#FF0000\n",
      "#800080\n",
      "#DDA0DD\n",
      "#FFC0CB\n",
      "#DA70D6\n",
      "#FF4500\n",
      "#FFA500\n",
      "#808000\n",
      "#000080\n",
      "#800000\n",
      "#FF00FF\n",
      "#00FF00\n",
      "#90EE90\n",
      "#ADD8E6\n",
      "#E6E6FA\n",
      "#F0E68C\n",
      "#FFFFF0\n",
      "#4B0082\n",
      "#808080\n",
      "#008000\n",
      "#DAA520\n",
      "#FFD700\n",
      "#FF00FF\n",
      "#006400\n",
      "#00008B\n",
      "#00FFFF\n",
      "#DC143C\n",
      "#FF7F50\n",
      "#D2691E\n",
      "#7FFF00\n",
      "#A52A2A\n",
      "#0000FF\n",
      "#000000\n",
      "#F5F5DC\n",
      "#F0FFFF\n",
      "#7FFFD4\n",
      "#00FFFF\n"
     ]
    },
    {
     "data": {
      "text/plain": [
       "(0.0, 3.0, 0.0, 50.0)"
      ]
     },
     "execution_count": 448,
     "metadata": {},
     "output_type": "execute_result"
    },
    {
     "data": {
      "image/png": "[encoded data removed]",
      "text/plain": [
       "<Figure size 300x300 with 1 Axes>"
      ]
     },
     "metadata": {},
     "output_type": "display_data"
    },
    {
     "data": {
      "image/png": "[encoded data removed]",
      "text/plain": [
       "<Figure size 300x300 with 1 Axes>"
      ]
     },
     "metadata": {},
     "output_type": "display_data"
    },
    {
     "data": {
      "image/png": "[encoded data removed]",
      "text/plain": [
       "<Figure size 480x1600 with 1 Axes>"
      ]
     },
     "metadata": {},
     "output_type": "display_data"
    }
   ],
   "source": [
    "\"\"\"\n",
    "*****************\n",
    "Specifying Colors\n",
    "*****************\n",
    "\n",
    "Matplotlib recognizes the following formats to specify a color:\n",
    "\n",
    "* an RGB or RGBA (red, green, blue, alpha) tuple of float values in ``[0, 1]``\n",
    "  (e.g., ``(0.1, 0.2, 0.5)`` or ``(0.1, 0.2, 0.5, 0.3)``);\n",
    "* a hex RGB or RGBA string (e.g., ``'#0f0f0f'`` or ``'#0f0f0f80'``;\n",
    "  case-insensitive);\n",
    "* a string representation of a float value in ``[0, 1]`` inclusive for gray\n",
    "  level (e.g., ``'0.5'``);\n",
    "* one of ``{'b', 'g', 'r', 'c', 'm', 'y', 'k', 'w'}``;\n",
    "* a X11/CSS4 color name (case-insensitive);\n",
    "* a name from the `xkcd color survey`_, prefixed with ``'xkcd:'`` (e.g.,\n",
    "  ``'xkcd:sky blue'``; case insensitive);\n",
    "* one of the Tableau Colors from the 'T10' categorical palette (the default\n",
    "  color cycle): ``{'tab:blue', 'tab:orange', 'tab:green', 'tab:red',\n",
    "  'tab:purple', 'tab:brown', 'tab:pink', 'tab:gray', 'tab:olive', 'tab:cyan'}``\n",
    "  (case-insensitive);\n",
    "* a \"CN\" color spec, i.e. `'C'` followed by a number, which is an index into\n",
    "  the default property cycle (``matplotlib.rcParams['axes.prop_cycle']``); the\n",
    "  indexing is intended to occur at rendering time, and defaults to black if the\n",
    "  cycle does not include color.\n",
    "\n",
    ".. _xkcd color survey: https://xkcd.com/color/rgb/\n",
    "\n",
    "\"Red\", \"Green\", and \"Blue\" are the intensities of those colors, the combination\n",
    "of which span the colorspace.\n",
    "\n",
    "How \"Alpha\" behaves depends on the ``zorder`` of the Artist.  Higher\n",
    "``zorder`` Artists are drawn on top of lower Artists, and \"Alpha\" determines\n",
    "whether the lower artist is covered by the higher.\n",
    "If the old RGB of a pixel is ``RGBold`` and the RGB of the\n",
    "pixel of the Artist being added is ``RGBnew`` with Alpha ``alpha``,\n",
    "then the RGB of the pixel is updated to:\n",
    "``RGB = RGBOld * (1 - Alpha) + RGBnew * Alpha``.  Alpha\n",
    "of 1 means the old color is completely covered by the new Artist, Alpha of 0\n",
    "means that pixel of the Artist is transparent.\n",
    "\n",
    "For more information on colors in matplotlib see\n",
    "\n",
    "* the :doc:`/gallery/color/color_demo` example;\n",
    "* the `matplotlib.colors` API;\n",
    "* the :doc:`/gallery/color/named_colors` example.\n",
    "\n",
    "\"CN\" color selection\n",
    "--------------------\n",
    "\n",
    "\"CN\" colors are converted to RGBA as soon as the artist is created.  For\n",
    "example,\n",
    "\"\"\"\n",
    "\n",
    "\n",
    "import numpy as np\n",
    "import matplotlib.pyplot as plt\n",
    "import matplotlib as mpl\n",
    "\n",
    "th = np.linspace(0, 2*np.pi, 128)\n",
    "\n",
    "\n",
    "def demo(sty):\n",
    "    mpl.style.use(sty)\n",
    "    fig, ax = plt.subplots(figsize=(3, 3))\n",
    "\n",
    "    ax.set_title('style: {!r}'.format(sty), color='C0')\n",
    "\n",
    "    ax.plot(th, np.cos(th), 'C1', label='C1')\n",
    "    ax.plot(th, np.sin(th), 'C2', label='C2')\n",
    "    ax.legend()\n",
    "\n",
    "demo('default')\n",
    "demo('seaborn')\n",
    "\n",
    "###############################################################################\n",
    "# will use the first color for the title and then plot using the second\n",
    "# and third colors of each style's ``mpl.rcParams['axes.prop_cycle']``.\n",
    "#\n",
    "#\n",
    "# .. _xkcd-colors:\n",
    "#\n",
    "# xkcd v X11/CSS4\n",
    "# ---------------\n",
    "#\n",
    "# The xkcd colors are derived from a user survey conducted by the\n",
    "# webcomic xkcd.  `Details of the survey are available on the xkcd blog\n",
    "# <https://blog.xkcd.com/2010/05/03/color-survey-results/>`__.\n",
    "#\n",
    "# Out of 148 colors in the CSS color list, there are 95 name collisions\n",
    "# between the X11/CSS4 names and the xkcd names, all but 3 of which have\n",
    "# different hex values.  For example ``'blue'`` maps to ``'#0000FF'``\n",
    "# where as ``'xkcd:blue'`` maps to ``'#0343DF'``.  Due to these name\n",
    "# collisions all of the xkcd colors have ``'xkcd:'`` prefixed.  As noted in\n",
    "# the blog post, while it might be interesting to re-define the X11/CSS4 names\n",
    "# based on such a survey, we do not do so unilaterally.\n",
    "#\n",
    "# The name collisions are shown in the table below; the color names\n",
    "# where the hex values agree are shown in bold.\n",
    "\n",
    "import matplotlib._color_data as mcd\n",
    "import matplotlib.patches as mpatch\n",
    "\n",
    "overlap = {name for name in mcd.CSS4_COLORS\n",
    "           if \"xkcd:\" + name in mcd.XKCD_COLORS}\n",
    "\n",
    "fig = plt.figure(figsize=[4.8, 16])\n",
    "ax = fig.add_axes([0, 0, 1, 1])\n",
    "\n",
    "for j, n in enumerate(sorted(overlap, reverse=True)):\n",
    "    weight = None\n",
    "    cn = mcd.CSS4_COLORS[n]\n",
    "    print(cn)\n",
    "    xkcd = mcd.XKCD_COLORS[\"xkcd:\" + n].upper()\n",
    "    if cn == xkcd:\n",
    "        weight = 'bold'\n",
    "\n",
    "    r1 = mpatch.Rectangle((0, j), 1, 1, color=cn)\n",
    "    r2 = mpatch.Rectangle((1, j), 1, 1, color=xkcd)\n",
    "    txt = ax.text(2, j+.5, '  ' + n, va='center', fontsize=10,\n",
    "                  weight=weight)\n",
    "    ax.add_patch(r1)\n",
    "    ax.add_patch(r2)\n",
    "    ax.axhline(j, color='k')\n",
    "\n",
    "ax.text(.5, j + 1.5, 'X11', ha='center', va='center')\n",
    "ax.text(1.5, j + 1.5, 'xkcd', ha='center', va='center')\n",
    "ax.set_xlim(0, 3)\n",
    "ax.set_ylim(0, j + 2)\n",
    "ax.axis('off')"
   ]
  },
  {
   "cell_type": "code",
   "execution_count": 40,
   "metadata": {},
   "outputs": [
    {
     "data": {
      "image/png": "[encoded data removed]",
      "text/plain": [
       "<Figure size 432x288 with 1 Axes>"
      ]
     },
     "metadata": {
      "needs_background": "light"
     },
     "output_type": "display_data"
    }
   ],
   "source": [
    "# libraries\n",
    "import numpy as np\n",
    "import matplotlib.pyplot as plt\n",
    " \n",
    "# set width of bar\n",
    "barWidth = 0.1\n",
    " \n",
    "# set height of bar (TransD_th85)\n",
    "bars1 = [52, 39, 21]\n",
    "bars2 = [50, 62, 84]\n",
    "\n",
    "# set height of bar (TransE_th85)\n",
    "#bars1 = [51.7, 38.8, 21.0]\n",
    "#bars2 = [50.4, 62.2, 83.5]\n",
    "\n",
    "# set height of bar (TransR_th85)\n",
    "#bars1 = [49.1, 56.6, 20.5]\n",
    "#bars2 = [55.2, 46.8, 82.8]\n",
    "\n",
    "# Set position of bar on X axis\n",
    "#r1 = np.arange(len(bars1))\n",
    "r1 = [0,0.3,0.6]\n",
    "#r1 = [0,0.9,1.9]\n",
    "r2 = [x + barWidth for x in r1]\n",
    "\n",
    "\n",
    "# Make the plot\n",
    "plt.bar(r1, bars1, color='#13505b', width=barWidth, edgecolor='white', label='Cluster 1')\n",
    "plt.bar(r2, bars2, color='#90bfc9', width=barWidth, edgecolor='white', label='Cluster 2')\n",
    "\n",
    "# Add xticks on the middle of the group bars\n",
    "#plt.xlabel('Communities', fontweight='bold')\n",
    "plt.ylim(0,100)\n",
    "plt.xticks([0.05,0.35,0.65], ['METIS', 'SemEP', 'KMeans'])\n",
    "#plt.xticks([0.3,1.3,2.2], ['Metis', 'SemEp', 'Kmeans'])\n",
    "#plt.title('Accuracy of related standards in each cluster')\n",
    "\n",
    "for i, v in enumerate(bars1):\n",
    "    plt.text(r1[i]-0.03, v+0.9, str(v), color='black', fontweight='bold', fontsize='small')\n",
    "for i, v in enumerate(bars2):\n",
    "    plt.text(r2[i]-0.03, v+0.9, str(v), color='black', fontweight='bold', fontsize='small')\n",
    "\n",
    "\n",
    "#plt.ylabel('Number of link prediction')\n",
    "# Create legend & Show graphic\n",
    "legend = plt.legend(loc='upper right', shadow=False, fontsize='small', ncol=2)\n",
    "\n",
    "plt.savefig(output+\"Accuracy_of_related_standards(TransD_th85).pdf\", format='pdf', bbox_inches = 'tight')\n",
    "plt.show()"
   ]
  },
  {
   "cell_type": "code",
   "execution_count": 129,
   "metadata": {},
   "outputs": [
    {
     "data": {
      "image/png": "[encoded data removed]",
      "text/plain": [
       "<Figure size 432x288 with 1 Axes>"
      ]
     },
     "metadata": {
      "needs_background": "light"
     },
     "output_type": "display_data"
    }
   ],
   "source": [
    "import numpy as np\n",
    "import matplotlib.pyplot as plt\n",
    "\n",
    "N = 5\n",
    "men_means = (20, 35, 30, 35, 27)\n",
    "\n",
    "ind = np.arange(N)  # the x locations for the groups\n",
    "width = 0.35       # the width of the bars\n",
    "\n",
    "fig, ax = plt.subplots()\n",
    "rects1 = ax.bar(ind, men_means, width, color='r')\n",
    "\n",
    "women_means = (25, 32, 34, 20, 25)\n",
    "rects2 = ax.bar(ind + width, women_means, width, color='y')\n",
    "\n",
    "# add some text for labels, title and axes ticks\n",
    "ax.set_ylabel('Scores')\n",
    "ax.set_title('Scores by group and gender')\n",
    "ax.set_xticks(ind + width / 2)\n",
    "ax.set_xticklabels(('G1', 'G2', 'G3', 'G4', 'G5'))\n",
    "\n",
    "ax.legend((rects1[0], rects2[0]), ('Men', 'Women'))\n",
    "\n",
    "\n",
    "def autolabel(rects):\n",
    "    \"\"\"\n",
    "    Attach a text label above each bar displaying its height\n",
    "    \"\"\"\n",
    "    for rect in rects:\n",
    "        height = rect.get_height()\n",
    "        ax.text(rect.get_x() + rect.get_width()/2., 1.05*height,\n",
    "                '%d' % int(height),\n",
    "                ha='center', va='bottom')\n",
    "\n",
    "autolabel(rects1)\n",
    "autolabel(rects2)\n",
    "\n",
    "plt.show()"
   ]
  },
  {
   "cell_type": "code",
   "execution_count": null,
   "metadata": {},
   "outputs": [],
   "source": []
  },
  {
   "cell_type": "code",
   "execution_count": null,
   "metadata": {},
   "outputs": [],
   "source": []
  },
  {
   "cell_type": "code",
   "execution_count": 183,
   "metadata": {},
   "outputs": [
    {
     "name": "stdout",
     "output_type": "stream",
     "text": [
      "61\n"
     ]
    }
   ],
   "source": [
    "from rdflib import Graph,URIRef, tools\n",
    "from gastrodon import LocalEndpoint,one,QName\n",
    "g = Graph()\n",
    "g.parse(\"sto/sto-enriched.nt\", format=\"nt\")\n",
    "sto_endpoint=LocalEndpoint(g)\n",
    "\n",
    "#data = [cluster_0,cluster_1,cluster_2,cluster_3,cluster_4,cluster_5,cluster_6]\n",
    "data = [cluster_0,cluster_1]\n",
    "list_pd = {}\n",
    "\n",
    "for i in range(len(data)):\n",
    "    list_pd[i] = pd.DataFrame(columns=['o'])\n",
    "i=0\n",
    "count = 0\n",
    "for cls in data:\n",
    "    for standard in cls['o']:\n",
    "        qres_tc = sto_endpoint.select(\n",
    "            \"\"\"PREFIX owl: <http://www.w3.org/2002/07/owl#>\n",
    "                   PREFIX rdf: <http://www.w3.org/1999/02/22-rdf-syntax-ns#>\n",
    "                   PREFIX tc: <https://w3id.org/i40/sto/iot#>\n",
    "\n",
    "                select distinct ?o where {\n",
    "                        <\"\"\" +standard+ \"\"\"> tc:hasTargetConcern ?o .\n",
    "                }\"\"\")\n",
    "        qres = sto_endpoint.select(\n",
    "            \"\"\"PREFIX owl: <http://www.w3.org/2002/07/owl#>\n",
    "                   PREFIX rdf: <http://www.w3.org/1999/02/22-rdf-syntax-ns#>\n",
    "                   PREFIX dom: <https://w3id.org/i40/sto#>\n",
    "\n",
    "                select distinct ?o where {\n",
    "                        <\"\"\" +standard+ \"\"\"> dom:hasDomain ?o .\n",
    "                }\"\"\")\n",
    "        if len(qres_tc)>0:\n",
    "            list_pd[i] = pd.concat([list_pd[i], qres_tc], ignore_index=True)\n",
    "        if len(qres)>0:\n",
    "            list_pd[i] = pd.concat([list_pd[i], qres], ignore_index=True)\n",
    "        count+=(len(qres_tc) + len(qres))\n",
    "    i+=1\n",
    "print(count)"
   ]
  },
  {
   "cell_type": "code",
   "execution_count": 150,
   "metadata": {},
   "outputs": [
    {
     "data": {
      "text/plain": [
       "61"
      ]
     },
     "execution_count": 150,
     "metadata": {},
     "output_type": "execute_result"
    }
   ],
   "source": [
    "#15+2+1+32+3+3+5\n",
    "#sum(domain_sto.number_standard)"
   ]
  },
  {
   "cell_type": "code",
   "execution_count": 177,
   "metadata": {},
   "outputs": [
    {
     "data": {
      "text/html": [
       "<div>\n",
       "<style scoped>\n",
       "    .dataframe tbody tr th:only-of-type {\n",
       "        vertical-align: middle;\n",
       "    }\n",
       "\n",
       "    .dataframe tbody tr th {\n",
       "        vertical-align: top;\n",
       "    }\n",
       "\n",
       "    .dataframe thead th {\n",
       "        text-align: right;\n",
       "    }\n",
       "</style>\n",
       "<table border=\"1\" class=\"dataframe\">\n",
       "  <thead>\n",
       "    <tr style=\"text-align: right;\">\n",
       "      <th></th>\n",
       "      <th>domain</th>\n",
       "      <th>number_standard</th>\n",
       "    </tr>\n",
       "  </thead>\n",
       "  <tbody>\n",
       "    <tr>\n",
       "      <th>7</th>\n",
       "      <td>https://w3id.org/i40/sto#IndustrialAutomation</td>\n",
       "      <td>5</td>\n",
       "    </tr>\n",
       "    <tr>\n",
       "      <th>8</th>\n",
       "      <td>https://w3id.org/i40/sto#ITSecurity</td>\n",
       "      <td>5</td>\n",
       "    </tr>\n",
       "    <tr>\n",
       "      <th>0</th>\n",
       "      <td>https://w3id.org/i40/sto#Safety</td>\n",
       "      <td>3</td>\n",
       "    </tr>\n",
       "    <tr>\n",
       "      <th>1</th>\n",
       "      <td>https://w3id.org/i40/sto#CloudComputing</td>\n",
       "      <td>2</td>\n",
       "    </tr>\n",
       "    <tr>\n",
       "      <th>2</th>\n",
       "      <td>https://w3id.org/i40/sto#IdentityManagement</td>\n",
       "      <td>2</td>\n",
       "    </tr>\n",
       "    <tr>\n",
       "      <th>4</th>\n",
       "      <td>https://w3id.org/i40/sto#QualityOfService</td>\n",
       "      <td>2</td>\n",
       "    </tr>\n",
       "    <tr>\n",
       "      <th>9</th>\n",
       "      <td>https://w3id.org/i40/sto#CAD</td>\n",
       "      <td>2</td>\n",
       "    </tr>\n",
       "    <tr>\n",
       "      <th>11</th>\n",
       "      <td>https://w3id.org/i40/sto#IndustrialProcessMeas...</td>\n",
       "      <td>2</td>\n",
       "    </tr>\n",
       "    <tr>\n",
       "      <th>3</th>\n",
       "      <td>https://w3id.org/i40/sto#Safety_Machinery</td>\n",
       "      <td>1</td>\n",
       "    </tr>\n",
       "    <tr>\n",
       "      <th>5</th>\n",
       "      <td>https://w3id.org/i40/sto#EnterpriseIntegration</td>\n",
       "      <td>1</td>\n",
       "    </tr>\n",
       "    <tr>\n",
       "      <th>6</th>\n",
       "      <td>https://w3id.org/i40/sto#Automatic_Id_Data_Cap...</td>\n",
       "      <td>1</td>\n",
       "    </tr>\n",
       "    <tr>\n",
       "      <th>10</th>\n",
       "      <td>https://w3id.org/i40/sto#Energy_management</td>\n",
       "      <td>1</td>\n",
       "    </tr>\n",
       "  </tbody>\n",
       "</table>\n",
       "</div>"
      ],
      "text/plain": [
       "                                               domain  number_standard\n",
       "7       https://w3id.org/i40/sto#IndustrialAutomation                5\n",
       "8                 https://w3id.org/i40/sto#ITSecurity                5\n",
       "0                     https://w3id.org/i40/sto#Safety                3\n",
       "1             https://w3id.org/i40/sto#CloudComputing                2\n",
       "2         https://w3id.org/i40/sto#IdentityManagement                2\n",
       "4           https://w3id.org/i40/sto#QualityOfService                2\n",
       "9                        https://w3id.org/i40/sto#CAD                2\n",
       "11  https://w3id.org/i40/sto#IndustrialProcessMeas...                2\n",
       "3           https://w3id.org/i40/sto#Safety_Machinery                1\n",
       "5      https://w3id.org/i40/sto#EnterpriseIntegration                1\n",
       "6   https://w3id.org/i40/sto#Automatic_Id_Data_Cap...                1\n",
       "10         https://w3id.org/i40/sto#Energy_management                1"
      ]
     },
     "execution_count": 177,
     "metadata": {},
     "output_type": "execute_result"
    }
   ],
   "source": [
    "j=1\n",
    "domain_sto = pd.DataFrame(columns=['domain',  'number_standard'])\n",
    "domain_sto.domain=list(pd.value_counts(list_pd[j]['o'].values, 0).index)\n",
    "domain_sto.number_standard = list(pd.value_counts(list_pd[j]['o'].values, 0))\n",
    "domain_sto = domain_sto.sort_values(by='number_standard', ascending=False)\n",
    "\n",
    "domain_sto"
   ]
  },
  {
   "cell_type": "code",
   "execution_count": 178,
   "metadata": {},
   "outputs": [
    {
     "data": {
      "image/png": "[encoded data removed]",
      "text/plain": [
       "<Figure size 864x864 with 1 Axes>"
      ]
     },
     "metadata": {
      "needs_background": "light"
     },
     "output_type": "display_data"
    }
   ],
   "source": [
    "fig = domain_sto.plot.bar(x='domain', y='number_standard',figsize=(12, 12),title='Cluster#2 Metis. Number standrards by Domain.').get_figure()\n",
    "fig.savefig('Th:0.85(Cls#2.Metis).pdf')"
   ]
  },
  {
   "cell_type": "code",
   "execution_count": 190,
   "metadata": {},
   "outputs": [
    {
     "name": "stdout",
     "output_type": "stream",
     "text": [
      "157\n",
      "number standards without relatedTo:  128\n",
      "0.6\n",
      "number total relateTo:  55\n",
      "------\n",
      "165\n",
      "number standards without relatedTo:  136\n",
      "0.49206349206349204\n",
      "number total relateTo:  63\n",
      "------\n"
     ]
    }
   ],
   "source": [
    "from rdflib import Graph,URIRef, tools\n",
    "g = Graph()\n",
    "g.parse(\"sto/sto-enriched.nt\", format=\"nt\")\n",
    "#sto_endpoint=LocalEndpoint(g)\n",
    "\n",
    "#data = [cluster_0,cluster_1,cluster_2,cluster_3,cluster_4,cluster_5,cluster_6]\n",
    "data = [cluster_0,cluster_1]\n",
    "list_pd = {}\n",
    "\n",
    "for i in range(len(data)):\n",
    "    list_pd[i] = pd.DataFrame(columns=['o'])\n",
    "i=0\n",
    "for cls in data:\n",
    "    for standard in cls['o']:\n",
    "        qres = g.query(\n",
    "            \"\"\"PREFIX owl: <http://www.w3.org/2002/07/owl#>\n",
    "                   PREFIX rdf: <http://www.w3.org/1999/02/22-rdf-syntax-ns#>\n",
    "                   PREFIX sto: <https://w3id.org/i40/sto#>\n",
    "\n",
    "                select distinct ?o where {\n",
    "                        <\"\"\" +standard+ \"\"\"> sto:relatedTo ?o .\n",
    "                }\"\"\")\n",
    "        lst = pd.DataFrame(columns=['o'])\n",
    "        obj = []\n",
    "        for row in qres:\n",
    "            obj.append(str(\"%s\" %row))\n",
    "        lst.o=obj\n",
    "        if len(lst)>0:\n",
    "            list_pd[i] = pd.concat([list_pd[i], lst], ignore_index=True)\n",
    "        else:\n",
    "            count+=1\n",
    "    list_pd[i] = list_pd[i].drop_duplicates().reset_index(drop=True)\n",
    "    \n",
    "    intersected_df = pd.merge(list_pd[i], cls, how='inner', on='o')\n",
    "    difference = list_pd[i][~list_pd[i].apply(tuple,1).isin(intersected_df.apply(tuple,1))]\n",
    "    print(len(cls))\n",
    "    print('number standards without relatedTo: ',count)\n",
    "    #print(len(intersected_df))\n",
    "    #print(len(difference))\n",
    "    print(len(intersected_df)/len(list_pd[i]))\n",
    "    print('number total relateTo: ',len(list_pd[i]))\n",
    "    print('------')\n",
    "    count = 0\n",
    "    i+=1"
   ]
  },
  {
   "cell_type": "code",
   "execution_count": 188,
   "metadata": {},
   "outputs": [
    {
     "data": {
      "image/png": "[encoded data removed]",
      "text/plain": [
       "<Figure size 432x288 with 1 Axes>"
      ]
     },
     "metadata": {
      "needs_background": "light"
     },
     "output_type": "display_data"
    }
   ],
   "source": [
    "# libraries\n",
    "import numpy as np\n",
    "import matplotlib.pyplot as plt\n",
    " \n",
    "# set width of bar\n",
    "barWidth = 0.1\n",
    " \n",
    "# set height of bar\n",
    "bars1 = [0.6, 0.7, 0.54]\n",
    "bars2 = [0.49, 0.44, 0.54]\n",
    "\n",
    "\n",
    "\n",
    "# Set position of bar on X axis\n",
    "#r1 = np.arange(len(bars1))\n",
    "r1 = [0,0.4,0.8]\n",
    "r2 = [x + barWidth for x in r1]\n",
    "\n",
    " \n",
    "# Make the plot\n",
    "plt.bar(r1, bars1, color='#13505b', width=barWidth, edgecolor='white', label='Cluster 1')\n",
    "plt.bar(r2, bars2, color='#90bfc9', width=barWidth, edgecolor='white', label='Cluster 2')\n",
    "#plt.bar(r3, bars3, color='#2d7f5e', width=barWidth, edgecolor='white', label='N_relatedTo')\n",
    "\n",
    " \n",
    "# Add xticks on the middle of the group bars\n",
    "plt.xlabel('Communities', fontweight='bold')\n",
    "plt.xticks([0,0.4,0.8], ['Metis', 'SemEp', 'Kmeans'])\n",
    "plt.title('Percentage of related standards in each cluster')\n",
    "#plt.ylabel('Number of link prediction')\n",
    "# Create legend & Show graphic\n",
    "plt.legend()\n",
    "plt.savefig(\"Percent of related standards.pdf\", format='pdf', bbox_inches = 'tight')\n",
    "#plt.show()"
   ]
  },
  {
   "cell_type": "code",
   "execution_count": 189,
   "metadata": {},
   "outputs": [
    {
     "data": {
      "image/png": "[encoded data removed]",
      "text/plain": [
       "<Figure size 432x288 with 1 Axes>"
      ]
     },
     "metadata": {
      "needs_background": "light"
     },
     "output_type": "display_data"
    }
   ],
   "source": [
    "# libraries\n",
    "import numpy as np\n",
    "import matplotlib.pyplot as plt\n",
    " \n",
    "# set width of bar\n",
    "barWidth = 0.1\n",
    " \n",
    "# set height of bar\n",
    "bars1 = [169, 153]\n",
    "bars2 = [141, 123]\n",
    "bars3 = [30, 32]\n",
    "\n",
    "\n",
    "# Set position of bar on X axis\n",
    "#r1 = np.arange(len(bars1))\n",
    "r1 = [0,0.4]\n",
    "r2 = [x + barWidth for x in r1]\n",
    "r3 = [x + barWidth for x in r2]\n",
    " \n",
    "# Make the plot\n",
    "plt.bar(r1, bars1, color='#13505b', width=barWidth, edgecolor='white', label='N_standards')\n",
    "plt.bar(r2, bars2, color='#90bfc9', width=barWidth, edgecolor='white', label='N_standards without relatedTo')\n",
    "plt.bar(r3, bars3, color='#2d7f5e', width=barWidth, edgecolor='white', label='N_relatedTo')\n",
    "\n",
    " \n",
    "# Add xticks on the middle of the group bars\n",
    "plt.xlabel('Communities', fontweight='bold')\n",
    "plt.xticks([0.1,0.5], ['Cluster 1', 'Cluster 2'])\n",
    "plt.title('Cluster algorithm Kmeans with TransD')\n",
    "#plt.ylabel('Number of link prediction')\n",
    "# Create legend & Show graphic\n",
    "plt.legend()\n",
    "plt.savefig(\"Cluster algorithm Kmeans with TransD.pdf\", format='pdf', bbox_inches = 'tight')\n",
    "#plt.show()"
   ]
  },
  {
   "cell_type": "code",
   "execution_count": null,
   "metadata": {},
   "outputs": [],
   "source": []
  },
  {
   "cell_type": "code",
   "execution_count": 6,
   "metadata": {},
   "outputs": [
    {
     "name": "stdout",
     "output_type": "stream",
     "text": [
      "44\n",
      "n_link_pred 1892\n",
      "-------------------------------------------------\n",
      "46\n",
      "n_link_pred 2070\n",
      "-------------------------------------------------\n",
      "47\n",
      "n_link_pred 2162\n",
      "-------------------------------------------------\n",
      "47\n",
      "n_link_pred 2162\n",
      "-------------------------------------------------\n",
      "44\n",
      "n_link_pred 1892\n",
      "-------------------------------------------------\n",
      "47\n",
      "n_link_pred 2162\n",
      "-------------------------------------------------\n",
      "47\n",
      "n_link_pred 2162\n",
      "-------------------------------------------------\n"
     ]
    }
   ],
   "source": [
    "from rdflib import Graph,URIRef, tools\n",
    "from gastrodon import LocalEndpoint,one,QName\n",
    "g = Graph()\n",
    "g.parse(\"sto/sto-enriched.nt\", format=\"nt\")\n",
    "sto_endpoint=LocalEndpoint(g)\n",
    "i=0\n",
    "link_analysis = pd.DataFrame(columns=['link_prediction', 'link_found'])\n",
    "data = [cluster_0,cluster_1,cluster_2,cluster_3,cluster_4,cluster_5,cluster_6]\n",
    "#relation = pd.DataFrame(columns=['o'])\n",
    "for cls in data:\n",
    "    relation = pd.DataFrame(columns=['o'])\n",
    "    for standard in cls['o']:\n",
    "        qres = sto_endpoint.select(\n",
    "            \"\"\"PREFIX owl: <http://www.w3.org/2002/07/owl#>\n",
    "                   PREFIX rdf: <http://www.w3.org/1999/02/22-rdf-syntax-ns#>\n",
    "                   PREFIX sto: <https://w3id.org/i40/sto#>\n",
    "\n",
    "                select distinct ?o where {\n",
    "                        <\"\"\" +standard+ \"\"\"> sto:relatedTo ?o .\n",
    "                }\"\"\")\n",
    "        if len(qres)>0:\n",
    "            relation = pd.concat([relation, qres], ignore_index=True)\n",
    "            #print(standard)\n",
    "            i+=1\n",
    "    relation = relation.drop_duplicates()\n",
    "    intersected_df = pd.merge(cls, relation, how='inner')\n",
    "    print(cls.shape[0])\n",
    "    if intersected_df.shape[0]>0:\n",
    "        print('standard:', standard)\n",
    "        #print('link_found', intersected_df)\n",
    "    n_link_pred = ((cls.shape[0]*cls.shape[0])-cls.shape[0])-intersected_df.shape[0]\n",
    "    n_link_found = intersected_df.shape[0]\n",
    "    print('n_link_pred', n_link_pred)\n",
    "    new_row = {'link_prediction':n_link_pred, 'link_found':n_link_found}\n",
    "    link_analysis = link_analysis.append(new_row, ignore_index=True)\n",
    "    print('-------------------------------------------------')"
   ]
  },
  {
   "cell_type": "code",
   "execution_count": 7,
   "metadata": {},
   "outputs": [
    {
     "data": {
      "text/html": [
       "<div>\n",
       "<style scoped>\n",
       "    .dataframe tbody tr th:only-of-type {\n",
       "        vertical-align: middle;\n",
       "    }\n",
       "\n",
       "    .dataframe tbody tr th {\n",
       "        vertical-align: top;\n",
       "    }\n",
       "\n",
       "    .dataframe thead th {\n",
       "        text-align: right;\n",
       "    }\n",
       "</style>\n",
       "<table border=\"1\" class=\"dataframe\">\n",
       "  <thead>\n",
       "    <tr style=\"text-align: right;\">\n",
       "      <th></th>\n",
       "      <th>link_prediction</th>\n",
       "      <th>link_found</th>\n",
       "    </tr>\n",
       "  </thead>\n",
       "  <tbody>\n",
       "    <tr>\n",
       "      <th>0</th>\n",
       "      <td>1892</td>\n",
       "      <td>0</td>\n",
       "    </tr>\n",
       "    <tr>\n",
       "      <th>1</th>\n",
       "      <td>2070</td>\n",
       "      <td>0</td>\n",
       "    </tr>\n",
       "    <tr>\n",
       "      <th>2</th>\n",
       "      <td>2162</td>\n",
       "      <td>0</td>\n",
       "    </tr>\n",
       "    <tr>\n",
       "      <th>3</th>\n",
       "      <td>2162</td>\n",
       "      <td>0</td>\n",
       "    </tr>\n",
       "    <tr>\n",
       "      <th>4</th>\n",
       "      <td>1892</td>\n",
       "      <td>0</td>\n",
       "    </tr>\n",
       "    <tr>\n",
       "      <th>5</th>\n",
       "      <td>2162</td>\n",
       "      <td>0</td>\n",
       "    </tr>\n",
       "    <tr>\n",
       "      <th>6</th>\n",
       "      <td>2162</td>\n",
       "      <td>0</td>\n",
       "    </tr>\n",
       "  </tbody>\n",
       "</table>\n",
       "</div>"
      ],
      "text/plain": [
       "  link_prediction link_found\n",
       "0            1892          0\n",
       "1            2070          0\n",
       "2            2162          0\n",
       "3            2162          0\n",
       "4            1892          0\n",
       "5            2162          0\n",
       "6            2162          0"
      ]
     },
     "execution_count": 7,
     "metadata": {},
     "output_type": "execute_result"
    }
   ],
   "source": [
    "link_analysis"
   ]
  },
  {
   "cell_type": "code",
   "execution_count": 8,
   "metadata": {},
   "outputs": [
    {
     "data": {
      "text/html": [
       "<div>\n",
       "<style scoped>\n",
       "    .dataframe tbody tr th:only-of-type {\n",
       "        vertical-align: middle;\n",
       "    }\n",
       "\n",
       "    .dataframe tbody tr th {\n",
       "        vertical-align: top;\n",
       "    }\n",
       "\n",
       "    .dataframe thead th {\n",
       "        text-align: right;\n",
       "    }\n",
       "</style>\n",
       "<table border=\"1\" class=\"dataframe\">\n",
       "  <thead>\n",
       "    <tr style=\"text-align: right;\">\n",
       "      <th></th>\n",
       "      <th>link_prediction</th>\n",
       "      <th>link_found</th>\n",
       "    </tr>\n",
       "  </thead>\n",
       "  <tbody>\n",
       "    <tr>\n",
       "      <th>0</th>\n",
       "      <td>12</td>\n",
       "      <td>23</td>\n",
       "    </tr>\n",
       "    <tr>\n",
       "      <th>1</th>\n",
       "      <td>56</td>\n",
       "      <td>283</td>\n",
       "    </tr>\n",
       "    <tr>\n",
       "      <th>2</th>\n",
       "      <td>78</td>\n",
       "      <td>56785</td>\n",
       "    </tr>\n",
       "  </tbody>\n",
       "</table>\n",
       "</div>"
      ],
      "text/plain": [
       "  link_prediction link_found\n",
       "0              12         23\n",
       "1              56        283\n",
       "2              78      56785"
      ]
     },
     "execution_count": 8,
     "metadata": {},
     "output_type": "execute_result"
    }
   ],
   "source": [
    "link_analysis = pd.DataFrame(columns=['link_prediction', 'link_found'])\n",
    "new_row = {'link_prediction':12, 'link_found':23}\n",
    "link_analysis = link_analysis.append(new_row, ignore_index=True)\n",
    "new_row = {'link_prediction':56, 'link_found':283}\n",
    "link_analysis = link_analysis.append(new_row, ignore_index=True)\n",
    "new_row = {'link_prediction':78, 'link_found':56785}\n",
    "link_analysis = link_analysis.append(new_row, ignore_index=True)\n",
    "link_analysis"
   ]
  },
  {
   "cell_type": "code",
   "execution_count": 9,
   "metadata": {},
   "outputs": [
    {
     "data": {
      "text/html": [
       "<div>\n",
       "<style scoped>\n",
       "    .dataframe tbody tr th:only-of-type {\n",
       "        vertical-align: middle;\n",
       "    }\n",
       "\n",
       "    .dataframe tbody tr th {\n",
       "        vertical-align: top;\n",
       "    }\n",
       "\n",
       "    .dataframe thead th {\n",
       "        text-align: right;\n",
       "    }\n",
       "</style>\n",
       "<table border=\"1\" class=\"dataframe\">\n",
       "  <thead>\n",
       "    <tr style=\"text-align: right;\">\n",
       "      <th></th>\n",
       "      <th>link_prediction</th>\n",
       "      <th>link_found</th>\n",
       "    </tr>\n",
       "  </thead>\n",
       "  <tbody>\n",
       "    <tr>\n",
       "      <th>0</th>\n",
       "      <td>78</td>\n",
       "      <td>56785</td>\n",
       "    </tr>\n",
       "    <tr>\n",
       "      <th>1</th>\n",
       "      <td>56</td>\n",
       "      <td>283</td>\n",
       "    </tr>\n",
       "    <tr>\n",
       "      <th>2</th>\n",
       "      <td>9</td>\n",
       "      <td>13</td>\n",
       "    </tr>\n",
       "    <tr>\n",
       "      <th>3</th>\n",
       "      <td>56</td>\n",
       "      <td>283</td>\n",
       "    </tr>\n",
       "    <tr>\n",
       "      <th>4</th>\n",
       "      <td>9</td>\n",
       "      <td>13</td>\n",
       "    </tr>\n",
       "  </tbody>\n",
       "</table>\n",
       "</div>"
      ],
      "text/plain": [
       "  link_prediction link_found\n",
       "0              78      56785\n",
       "1              56        283\n",
       "2               9         13\n",
       "3              56        283\n",
       "4               9         13"
      ]
     },
     "execution_count": 9,
     "metadata": {},
     "output_type": "execute_result"
    }
   ],
   "source": [
    "link = pd.DataFrame(columns=['link_prediction', 'link_found'])\n",
    "new_row = {'link_prediction':78, 'link_found':56785}\n",
    "link = link.append(new_row, ignore_index=True)\n",
    "new_row = {'link_prediction':56, 'link_found':283}\n",
    "link = link.append(new_row, ignore_index=True)\n",
    "new_row = {'link_prediction':9, 'link_found':13}\n",
    "link = link.append(new_row, ignore_index=True)\n",
    "new_row = {'link_prediction':56, 'link_found':283}\n",
    "link = link.append(new_row, ignore_index=True)\n",
    "new_row = {'link_prediction':9, 'link_found':13}\n",
    "link = link.append(new_row, ignore_index=True)\n",
    "link"
   ]
  },
  {
   "cell_type": "code",
   "execution_count": 10,
   "metadata": {},
   "outputs": [
    {
     "data": {
      "text/html": [
       "<div>\n",
       "<style scoped>\n",
       "    .dataframe tbody tr th:only-of-type {\n",
       "        vertical-align: middle;\n",
       "    }\n",
       "\n",
       "    .dataframe tbody tr th {\n",
       "        vertical-align: top;\n",
       "    }\n",
       "\n",
       "    .dataframe thead th {\n",
       "        text-align: right;\n",
       "    }\n",
       "</style>\n",
       "<table border=\"1\" class=\"dataframe\">\n",
       "  <thead>\n",
       "    <tr style=\"text-align: right;\">\n",
       "      <th></th>\n",
       "      <th>link_prediction</th>\n",
       "      <th>link_found</th>\n",
       "    </tr>\n",
       "  </thead>\n",
       "  <tbody>\n",
       "    <tr>\n",
       "      <th>0</th>\n",
       "      <td>78</td>\n",
       "      <td>56785</td>\n",
       "    </tr>\n",
       "    <tr>\n",
       "      <th>1</th>\n",
       "      <td>56</td>\n",
       "      <td>283</td>\n",
       "    </tr>\n",
       "    <tr>\n",
       "      <th>2</th>\n",
       "      <td>9</td>\n",
       "      <td>13</td>\n",
       "    </tr>\n",
       "  </tbody>\n",
       "</table>\n",
       "</div>"
      ],
      "text/plain": [
       "  link_prediction link_found\n",
       "0              78      56785\n",
       "1              56        283\n",
       "2               9         13"
      ]
     },
     "execution_count": 10,
     "metadata": {},
     "output_type": "execute_result"
    }
   ],
   "source": [
    "link = link.drop_duplicates()\n",
    "link"
   ]
  },
  {
   "cell_type": "code",
   "execution_count": 11,
   "metadata": {},
   "outputs": [
    {
     "data": {
      "text/html": [
       "<div>\n",
       "<style scoped>\n",
       "    .dataframe tbody tr th:only-of-type {\n",
       "        vertical-align: middle;\n",
       "    }\n",
       "\n",
       "    .dataframe tbody tr th {\n",
       "        vertical-align: top;\n",
       "    }\n",
       "\n",
       "    .dataframe thead th {\n",
       "        text-align: right;\n",
       "    }\n",
       "</style>\n",
       "<table border=\"1\" class=\"dataframe\">\n",
       "  <thead>\n",
       "    <tr style=\"text-align: right;\">\n",
       "      <th></th>\n",
       "      <th>link_prediction</th>\n",
       "      <th>link_found</th>\n",
       "    </tr>\n",
       "  </thead>\n",
       "  <tbody>\n",
       "    <tr>\n",
       "      <th>0</th>\n",
       "      <td>56</td>\n",
       "      <td>283</td>\n",
       "    </tr>\n",
       "    <tr>\n",
       "      <th>1</th>\n",
       "      <td>78</td>\n",
       "      <td>56785</td>\n",
       "    </tr>\n",
       "  </tbody>\n",
       "</table>\n",
       "</div>"
      ],
      "text/plain": [
       "  link_prediction link_found\n",
       "0              56        283\n",
       "1              78      56785"
      ]
     },
     "execution_count": 11,
     "metadata": {},
     "output_type": "execute_result"
    }
   ],
   "source": [
    "intersected = pd.merge(link_analysis, link, how='inner')\n",
    "intersected"
   ]
  },
  {
   "cell_type": "code",
   "execution_count": 13,
   "metadata": {},
   "outputs": [
    {
     "data": {
      "image/png": "[encoded data removed]",
      "text/plain": [
       "<Figure size 432x288 with 1 Axes>"
      ]
     },
     "metadata": {
      "needs_background": "light"
     },
     "output_type": "display_data"
    }
   ],
   "source": [
    "# libraries\n",
    "import numpy as np\n",
    "import matplotlib.pyplot as plt\n",
    " \n",
    "# set width of bar\n",
    "barWidth = 0.15\n",
    " \n",
    "# set height of bar\n",
    "bars1 = [1722, 1406, 2162]\n",
    "bars2 = [1482, 1482, 1892]\n",
    "bars3 = [1980, 3192, 2162]\n",
    "bars4 = [1122, 2550, 1892]\n",
    "bars5 = [1722, 2162, 2162]\n",
    "bars6= [2450, 2162, 2162]\n",
    "bars7 = [4830, 1806, 2070]\n",
    "\n",
    "# Set position of bar on X axis\n",
    "#r1 = np.arange(len(bars1))\n",
    "r1 = [0,1.5,3]\n",
    "r2 = [x + barWidth for x in r1]\n",
    "r3 = [x + barWidth for x in r2]\n",
    "r4 = [x + barWidth for x in r3]\n",
    "r5 = [x + barWidth for x in r4]\n",
    "r6 = [x + barWidth for x in r5]\n",
    "r7 = [x + barWidth for x in r6]\n",
    " \n",
    "# Make the plot\n",
    "plt.bar(r1, bars1, color='#13505b', width=barWidth, edgecolor='white', label='cluster1')\n",
    "plt.bar(r2, bars2, color='#557f2d', width=barWidth, edgecolor='white', label='cluster2')\n",
    "plt.bar(r3, bars3, color='#2d7f5e', width=barWidth, edgecolor='white', label='cluster3')\n",
    "plt.bar(r4, bars4, color='#7f6d5f', width=barWidth, edgecolor='white', label='cluster4')\n",
    "plt.bar(r5, bars5, color='#10424b', width=barWidth, edgecolor='white', label='cluster5')\n",
    "plt.bar(r6, bars6, color='#0c3137', width=barWidth, edgecolor='white', label='cluster6')\n",
    "plt.bar(r7, bars7, color='#90bfc9', width=barWidth, edgecolor='white', label='cluster7')\n",
    " \n",
    "# Add xticks on the middle of the group bars\n",
    "plt.xlabel('Cluster Algorithms', fontweight='bold')\n",
    "plt.xticks([0.5,2,3.5], ['semEP', 'Kmeans', 'Metis'])\n",
    "plt.title('Cluster algorithm link prediction')\n",
    "plt.ylabel('Number of link prediction')\n",
    "# Create legend & Show graphic\n",
    "plt.legend()\n",
    "plt.savefig(\"Cluster_algorithm_link_prediction.pdf\", format='pdf', bbox_inches = 'tight')\n",
    "#plt.show()"
   ]
  },
  {
   "cell_type": "code",
   "execution_count": 139,
   "metadata": {},
   "outputs": [
    {
     "data": {
      "text/plain": [
       "array([0, 1, 2])"
      ]
     },
     "execution_count": 139,
     "metadata": {},
     "output_type": "execute_result"
    }
   ],
   "source": [
    "r1"
   ]
  },
  {
   "cell_type": "code",
   "execution_count": 130,
   "metadata": {},
   "outputs": [
    {
     "data": {
      "text/plain": [
       "(67, 1)"
      ]
     },
     "execution_count": 130,
     "metadata": {},
     "output_type": "execute_result"
    }
   ],
   "source": [
    "relation.shape"
   ]
  },
  {
   "cell_type": "code",
   "execution_count": 131,
   "metadata": {},
   "outputs": [
    {
     "data": {
      "text/plain": [
       "58"
      ]
     },
     "execution_count": 131,
     "metadata": {},
     "output_type": "execute_result"
    }
   ],
   "source": [
    "i"
   ]
  },
  {
   "cell_type": "code",
   "execution_count": null,
   "metadata": {},
   "outputs": [],
   "source": []
  }
 ],
 "metadata": {
  "kernelspec": {
   "display_name": "Python 3",
   "language": "python",
   "name": "python3"
  },
  "language_info": {
   "codemirror_mode": {
    "name": "ipython",
    "version": 3
   },
   "file_extension": ".py",
   "mimetype": "text/x-python",
   "name": "python",
   "nbconvert_exporter": "python",
   "pygments_lexer": "ipython3",
   "version": "3.6.8"
  }
 },
 "nbformat": 4,
 "nbformat_minor": 2
}
