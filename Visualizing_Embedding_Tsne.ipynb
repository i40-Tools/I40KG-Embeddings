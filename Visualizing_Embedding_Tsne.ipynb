{
  "nbformat": 4,
  "nbformat_minor": 0,
  "metadata": {
    "colab": {
      "name": "Visualizing-Embedding-Tsne.ipynb",
      "version": "0.3.2",
      "provenance": [],
      "include_colab_link": true
    },
    "kernelspec": {
      "name": "python3",
      "display_name": "Python 3"
    }
  },
  "cells": [
    {
      "cell_type": "markdown",
      "metadata": {
        "id": "view-in-github",
        "colab_type": "text"
      },
      "source": [
        "<a href=\"https://colab.research.google.com/github/i40-Tools/I40KG-Embeddings/blob/master/Visualizing_Embedding_Tsne.ipynb\" target=\"_parent\"><img src=\"https://colab.research.google.com/assets/colab-badge.svg\" alt=\"Open In Colab\"/></a>"
      ]
    },
    {
      "cell_type": "code",
      "metadata": {
        "id": "YbuU8X_a8Ojy",
        "colab_type": "code",
        "outputId": "d4908b32-908a-4c3b-9ed7-48c423437d58",
        "colab": {
          "base_uri": "https://localhost:8080/",
          "height": 136
        }
      },
      "source": [
        "!git clone https://github.com/i40-Tools/I40KG-Embeddings.git"
      ],
      "execution_count": 1,
      "outputs": [
        {
          "output_type": "stream",
          "text": [
            "Cloning into 'I40KG-Embeddings'...\n",
            "remote: Enumerating objects: 115, done.\u001b[K\n",
            "remote: Counting objects: 100% (115/115), done.\u001b[K\n",
            "remote: Compressing objects: 100% (99/99), done.\u001b[K\n",
            "remote: Total 115 (delta 56), reused 37 (delta 9), pack-reused 0\u001b[K\n",
            "Receiving objects: 100% (115/115), 22.62 MiB | 17.62 MiB/s, done.\n",
            "Resolving deltas: 100% (56/56), done.\n"
          ],
          "name": "stdout"
        }
      ]
    },
    {
      "cell_type": "code",
      "metadata": {
        "id": "ejJC2uHM83ZB",
        "colab_type": "code",
        "outputId": "cc9a2f2f-9fcf-4f30-81ff-8f2d0036088f",
        "colab": {
          "base_uri": "https://localhost:8080/",
          "height": 207
        }
      },
      "source": [
        "!pip3 install rdflib"
      ],
      "execution_count": 2,
      "outputs": [
        {
          "output_type": "stream",
          "text": [
            "Collecting rdflib\n",
            "\u001b[?25l  Downloading https://files.pythonhosted.org/packages/3c/fe/630bacb652680f6d481b9febbb3e2c3869194a1a5fc3401a4a41195a2f8f/rdflib-4.2.2-py3-none-any.whl (344kB)\n",
            "\u001b[K     |████████████████████████████████| 348kB 10.0MB/s \n",
            "\u001b[?25hRequirement already satisfied: pyparsing in /usr/local/lib/python3.6/dist-packages (from rdflib) (2.4.0)\n",
            "Collecting isodate (from rdflib)\n",
            "\u001b[?25l  Downloading https://files.pythonhosted.org/packages/9b/9f/b36f7774ff5ea8e428fdcfc4bb332c39ee5b9362ddd3d40d9516a55221b2/isodate-0.6.0-py2.py3-none-any.whl (45kB)\n",
            "\u001b[K     |████████████████████████████████| 51kB 22.8MB/s \n",
            "\u001b[?25hRequirement already satisfied: six in /usr/local/lib/python3.6/dist-packages (from isodate->rdflib) (1.12.0)\n",
            "Installing collected packages: isodate, rdflib\n",
            "Successfully installed isodate-0.6.0 rdflib-4.2.2\n"
          ],
          "name": "stdout"
        }
      ]
    },
    {
      "cell_type": "code",
      "metadata": {
        "id": "TCNCy6F68Upu",
        "colab_type": "code",
        "outputId": "fb6318b6-f183-4bc6-e240-28489e72c267",
        "colab": {
          "base_uri": "https://localhost:8080/",
          "height": 34
        }
      },
      "source": [
        "%ls"
      ],
      "execution_count": 3,
      "outputs": [
        {
          "output_type": "stream",
          "text": [
            "\u001b[0m\u001b[01;34mI40KG-Embeddings\u001b[0m/  \u001b[01;34msample_data\u001b[0m/\n"
          ],
          "name": "stdout"
        }
      ]
    },
    {
      "cell_type": "code",
      "metadata": {
        "id": "IP6I6MpU8YWi",
        "colab_type": "code",
        "colab": {}
      },
      "source": [
        "import numpy as np\n",
        "from sklearn.manifold import TSNE\n",
        "import matplotlib.pyplot as plt\n",
        "import json\n",
        "from rdflib import Graph\n"
      ],
      "execution_count": 0,
      "outputs": []
    },
    {
      "cell_type": "code",
      "metadata": {
        "id": "z481Dowx_gDT",
        "colab_type": "code",
        "colab": {}
      },
      "source": [
        "def tsne_plot(labels, tokens):\n",
        "    \"Creates and TSNE model and plots it\"\n",
        "    #labels = []\n",
        "    #tokens = []\n",
        "\n",
        "    #for word in model.wv.vocab:\n",
        "    #    tokens.append(model[word])\n",
        "    #    labels.append(word)\n",
        "    \n",
        "    tsne_model = TSNE(perplexity=40, n_components=2, init='pca', n_iter=2500, random_state=23)\n",
        "    new_values = tsne_model.fit_transform(tokens)\n",
        "\n",
        "    x = []\n",
        "    y = []\n",
        "    for value in new_values:\n",
        "        x.append(value[0])\n",
        "        y.append(value[1])\n",
        "        \n",
        "    plt.figure(figsize=(16, 16)) \n",
        "    for i in range(len(x)):\n",
        "        plt.scatter(x[i],y[i])\n",
        "        plt.annotate(labels[i],\n",
        "                     xy=(x[i], y[i]),\n",
        "                     xytext=(5, 2),\n",
        "                     textcoords='offset points',\n",
        "                     ha='right',\n",
        "                     va='bottom')\n",
        "    plt.show()"
      ],
      "execution_count": 0,
      "outputs": []
    },
    {
      "cell_type": "code",
      "metadata": {
        "id": "2laCPdpTCiUQ",
        "colab_type": "code",
        "colab": {
          "base_uri": "https://localhost:8080/",
          "height": 938
        },
        "outputId": "74d0d9ec-06f8-4ad7-8a6c-fa260fb7f39c"
      },
      "source": [
        "g = Graph()\n",
        "g.parse(\"/content/I40KG-Embeddings/sto/sto.nt\", format=\"nt\")\n",
        "    \n",
        "len(g) # prints 2\n",
        " #check printing of the graph    \n",
        "'''for stmt in g:\n",
        "    pprint.pprint(stmt)'''\n",
        "\n",
        "#query to get the framework/standard from the sto.nt file\n",
        "#to get standards we have to replace sto:StandardizationFramework by sto:Standard in the query\n",
        "#we can get standards of the frameworks as well by just changing the query\n",
        "\n",
        "qres = g.query(\n",
        "    \"\"\"PREFIX owl: <http://www.w3.org/2002/07/owl#>\n",
        "       PREFIX rdf: <http://www.w3.org/1999/02/22-rdf-syntax-ns#>\n",
        "       PREFIX sto: <https://w3id.org/i40/sto#>\n",
        "    \n",
        "    select ?s where {\n",
        "            ?s rdf:type sto:StandardizationFramework .\n",
        "            } limit 1000\"\"\")\n",
        "    \n",
        "labels = []\n",
        "tokens = []\n",
        "  \n",
        "#to get the corresponding embeddings of the frameworks/standards from the json file \n",
        "with open(\"/content/I40KG-Embeddings/logs_sto/entities_to_embeddings.json\",'rb') as f:\n",
        "    array = json.load(f)\n",
        "for row in qres:\n",
        "    for key,value in array.items():\n",
        "        if key == \"%s\" % row:\n",
        "            labels.append(key.replace('https://w3id.org/i40/', ''))\n",
        "            tokens.append(array[key])\n",
        "            \n",
        "print(len(labels))\n",
        "\n",
        "tsne_plot(labels, tokens)\n"
      ],
      "execution_count": 8,
      "outputs": [
        {
          "output_type": "stream",
          "text": [
            "11\n"
          ],
          "name": "stdout"
        },
        {
          "output_type": "display_data",
          "data": {
            "image/png": "[encoded data removed]",
            "text/plain": [
              "<Figure size 1152x1152 with 1 Axes>"
            ]
          },
          "metadata": {
            "tags": []
          }
        }
      ]
    }
  ]
}